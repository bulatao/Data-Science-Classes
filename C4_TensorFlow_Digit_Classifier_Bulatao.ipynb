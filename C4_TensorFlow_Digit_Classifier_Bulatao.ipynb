{
 "cells": [
  {
   "cell_type": "markdown",
   "metadata": {},
   "source": [
    "# Images and Classifiers for Devanagari digits\n",
    "Check the following dataset:\n",
    "https://archive.ics.uci.edu/ml/datasets/Devanagari+Handwritten+Character+Datase"
   ]
  },
  {
   "cell_type": "markdown",
   "metadata": {},
   "source": [
    "# Read images from Train/digit_X; convert to gray-scale values; attach label"
   ]
  },
  {
   "cell_type": "code",
   "execution_count": 123,
   "metadata": {},
   "outputs": [],
   "source": [
    "#installing cv2\n",
    "#pip install opencv-python\n",
    "# this had to be done from the anaconda prompt\n",
    "# installed tensorflow through anaconda navigator"
   ]
  },
  {
   "cell_type": "code",
   "execution_count": 124,
   "metadata": {},
   "outputs": [
    {
     "data": {
      "image/png": "[encoded data removed]",
      "text/plain": [
       "<Figure size 432x288 with 1 Axes>"
      ]
     },
     "metadata": {
      "needs_background": "light"
     },
     "output_type": "display_data"
    }
   ],
   "source": [
    "# maybe use keras and tesnforflow\n",
    "# use tutorial for cats and dogs https://www.youtube.com/watch?v=j-3vuBynnOE\n",
    "import numpy as np\n",
    "import matplotlib.pyplot as plt\n",
    "import os\n",
    "import cv2\n",
    "from tqdm import tqdm\n",
    "\n",
    "DATADIR = \"C:/Users/bulatao/Documents/GitHub/Data-Science-Classes/DevanagariHandwrittenCharacterDataset/Train\"\n",
    "\n",
    "CATEGORIES = [\"digit_0\", \"digit_1\",\"digit_2\",\"digit_3\",\"digit_4\",\"digit_5\",\"digit_6\",\"digit_7\",\"digit_8\",\"digit_9\"]\n",
    "\n",
    "for category in CATEGORIES:  # 0 through 9\n",
    "    path = os.path.join(DATADIR,category)  # create path to folders with samples\n",
    "    for img in os.listdir(path):  # iterate over each image \n",
    "        img_array = cv2.imread(os.path.join(path,img) ,cv2.IMREAD_GRAYSCALE)  # convert to array\n",
    "        plt.imshow(img_array, cmap='gray')  # graph it\n",
    "        plt.show()  # display!\n",
    "\n",
    "        break  # we just want one for now so break\n",
    "    break  #...and one more!\n"
   ]
  },
  {
   "cell_type": "code",
   "execution_count": 125,
   "metadata": {},
   "outputs": [
    {
     "name": "stdout",
     "output_type": "stream",
     "text": [
      "[[0 0 0 ... 0 0 0]\n",
      " [0 0 0 ... 0 0 0]\n",
      " [0 0 0 ... 0 0 0]\n",
      " ...\n",
      " [0 0 0 ... 0 0 0]\n",
      " [0 0 0 ... 0 0 0]\n",
      " [0 0 0 ... 0 0 0]]\n"
     ]
    }
   ],
   "source": [
    "print(img_array)"
   ]
  },
  {
   "cell_type": "code",
   "execution_count": 126,
   "metadata": {},
   "outputs": [
    {
     "name": "stdout",
     "output_type": "stream",
     "text": [
      "(32, 32)\n"
     ]
    }
   ],
   "source": [
    "print(img_array.shape)\n"
   ]
  },
  {
   "cell_type": "code",
   "execution_count": 127,
   "metadata": {},
   "outputs": [],
   "source": []
  },
  {
   "cell_type": "code",
   "execution_count": 128,
   "metadata": {},
   "outputs": [
    {
     "name": "stderr",
     "output_type": "stream",
     "text": [
      "100%|█████████████████████████████████████████████████████████████████████████████| 1700/1700 [00:02<00:00, 785.25it/s]\n",
      "100%|█████████████████████████████████████████████████████████████████████████████| 1700/1700 [00:02<00:00, 828.72it/s]\n",
      "100%|█████████████████████████████████████████████████████████████████████████████| 1700/1700 [00:02<00:00, 845.64it/s]\n",
      "100%|█████████████████████████████████████████████████████████████████████████████| 1700/1700 [00:02<00:00, 822.39it/s]\n",
      "100%|█████████████████████████████████████████████████████████████████████████████| 1700/1700 [00:02<00:00, 823.23it/s]\n",
      "100%|█████████████████████████████████████████████████████████████████████████████| 1700/1700 [00:02<00:00, 822.29it/s]\n",
      "100%|█████████████████████████████████████████████████████████████████████████████| 1700/1700 [00:02<00:00, 818.95it/s]\n",
      "100%|█████████████████████████████████████████████████████████████████████████████| 1700/1700 [00:02<00:00, 827.74it/s]\n",
      "100%|█████████████████████████████████████████████████████████████████████████████| 1700/1700 [00:02<00:00, 841.20it/s]\n",
      "100%|█████████████████████████████████████████████████████████████████████████████| 1700/1700 [00:01<00:00, 863.06it/s]\n"
     ]
    },
    {
     "name": "stdout",
     "output_type": "stream",
     "text": [
      "17000\n"
     ]
    }
   ],
   "source": [
    "\n",
    "training_data = []\n",
    "\n",
    "IMG_SIZE = 32\n",
    "\n",
    "def create_training_data():\n",
    "    for category in CATEGORIES:  # for digits 0 to 9\n",
    "\n",
    "        path = os.path.join(DATADIR,category)  # create path to dogs and cats\n",
    "        class_num = CATEGORIES.index(category)  # get the classification  (0 or a 1). 0 = digit_0, 1 = digit_1\n",
    "\n",
    "        for img in tqdm(os.listdir(path)):  # iterate over each image per dogs and cats\n",
    "            try:\n",
    "                img_array = cv2.imread(os.path.join(path,img), cv2.IMREAD_GRAYSCALE)  # convert to array\n",
    "                new_array = cv2.resize(img_array, (IMG_SIZE, IMG_SIZE))  # resize to normalize data size\n",
    "                training_data.append([new_array, class_num])  # add this to our training_data\n",
    "            except Exception as e:  # in the interest in keeping the output clean...\n",
    "                pass\n",
    "            #except OSError as e:\n",
    "            #    print(\"OSErrroBad img most likely\", e, os.path.join(path,img))\n",
    "            #except Exception as e:\n",
    "            #    print(\"general exception\", e, os.path.join(path,img))\n",
    "\n",
    "create_training_data()\n",
    "\n",
    "print(len(training_data))"
   ]
  },
  {
   "cell_type": "code",
   "execution_count": 129,
   "metadata": {},
   "outputs": [
    {
     "data": {
      "text/plain": [
       "[array([[0, 0, 0, ..., 0, 0, 0],\n",
       "        [0, 0, 0, ..., 0, 0, 0],\n",
       "        [0, 0, 0, ..., 0, 0, 0],\n",
       "        ...,\n",
       "        [0, 0, 0, ..., 0, 0, 0],\n",
       "        [0, 0, 0, ..., 0, 0, 0],\n",
       "        [0, 0, 0, ..., 0, 0, 0]], dtype=uint8), 0]"
      ]
     },
     "execution_count": 129,
     "metadata": {},
     "output_type": "execute_result"
    }
   ],
   "source": [
    "training_data[1]"
   ]
  },
  {
   "cell_type": "code",
   "execution_count": 131,
   "metadata": {},
   "outputs": [
    {
     "name": "stdout",
     "output_type": "stream",
     "text": [
      "8\n",
      "9\n",
      "0\n",
      "8\n",
      "5\n",
      "6\n",
      "0\n",
      "2\n",
      "6\n",
      "4\n"
     ]
    }
   ],
   "source": [
    "import random # this didn't seem to affect accuracy too much, but was recommended\n",
    "\n",
    "random.shuffle(training_data)\n",
    "for sample in training_data[:10]:\n",
    "    print(sample[1])"
   ]
  },
  {
   "cell_type": "code",
   "execution_count": 132,
   "metadata": {},
   "outputs": [
    {
     "data": {
      "text/plain": [
       "array([[  0,   0,   0, ...,   0,   0,   0],\n",
       "       [  0,   0,   0, ...,   0,   0,   0],\n",
       "       [  0,   0,   0, ...,   0,   0,   0],\n",
       "       ...,\n",
       "       [  0,   0, 255, ...,   0,   0,   0],\n",
       "       [  0,   0,   0, ...,   0,   0,   0],\n",
       "       [  0,   0,   0, ...,   0,   0,   0]], dtype=uint8)"
      ]
     },
     "execution_count": 132,
     "metadata": {},
     "output_type": "execute_result"
    }
   ],
   "source": [
    "# Create Training Data and Labels\n",
    "X = []\n",
    "y = []\n",
    "\n",
    "for features,label in training_data:\n",
    "    X.append(features)\n",
    "    y.append(label)\n",
    "\n",
    "#print(X[0].reshape(-1, IMG_SIZE, IMG_SIZE, 1)) \n",
    "\n",
    "X = np.array(X)\n",
    "y = np.array(y)\n",
    "X[1]"
   ]
  },
  {
   "cell_type": "code",
   "execution_count": 133,
   "metadata": {},
   "outputs": [
    {
     "data": {
      "text/plain": [
       "(17000, 32, 32)"
      ]
     },
     "execution_count": 133,
     "metadata": {},
     "output_type": "execute_result"
    }
   ],
   "source": [
    "X.shape"
   ]
  },
  {
   "cell_type": "code",
   "execution_count": 134,
   "metadata": {},
   "outputs": [],
   "source": [
    "# need to create test data"
   ]
  },
  {
   "cell_type": "code",
   "execution_count": 135,
   "metadata": {},
   "outputs": [
    {
     "name": "stderr",
     "output_type": "stream",
     "text": [
      "100%|███████████████████████████████████████████████████████████████████████████████| 300/300 [00:00<00:00, 722.86it/s]\n",
      "100%|███████████████████████████████████████████████████████████████████████████████| 300/300 [00:00<00:00, 862.26it/s]\n",
      "100%|███████████████████████████████████████████████████████████████████████████████| 300/300 [00:00<00:00, 833.83it/s]\n",
      "100%|███████████████████████████████████████████████████████████████████████████████| 300/300 [00:00<00:00, 794.12it/s]\n",
      "100%|███████████████████████████████████████████████████████████████████████████████| 300/300 [00:00<00:00, 602.02it/s]\n",
      "100%|███████████████████████████████████████████████████████████████████████████████| 300/300 [00:00<00:00, 813.05it/s]\n",
      "100%|███████████████████████████████████████████████████████████████████████████████| 300/300 [00:00<00:00, 850.01it/s]\n",
      "100%|███████████████████████████████████████████████████████████████████████████████| 300/300 [00:00<00:00, 848.71it/s]\n",
      "100%|███████████████████████████████████████████████████████████████████████████████| 300/300 [00:00<00:00, 805.93it/s]\n",
      "100%|███████████████████████████████████████████████████████████████████████████████| 300/300 [00:00<00:00, 514.09it/s]\n"
     ]
    },
    {
     "name": "stdout",
     "output_type": "stream",
     "text": [
      "3000\n"
     ]
    }
   ],
   "source": [
    "test_data = []\n",
    "\n",
    "def create_test_data():\n",
    "    for category in CATEGORIES:  # for digits 0 to 9\n",
    "\n",
    "        path = os.path.join(\"C:/Users/bulatao/Documents/GitHub/Data-Science-Classes/DevanagariHandwrittenCharacterDataset/Test\",category)  # create path to dogs and cats\n",
    "        class_num = CATEGORIES.index(category)  # get the classification  (0 or a 1). 0 = digit_0, 1 = digit_1\n",
    "\n",
    "        for img in tqdm(os.listdir(path)):  # iterate over each image per dogs and cats\n",
    "            try:\n",
    "                img_array = cv2.imread(os.path.join(path,img) ,cv2.IMREAD_GRAYSCALE)  # convert to array\n",
    "                #new_array = cv2.resize(img_array, (IMG_SIZE, IMG_SIZE))  # resize to normalize data size\n",
    "                test_data.append([img_array, class_num])  # add this to our test_data\n",
    "            except Exception as e:  # in the interest in keeping the output clean...\n",
    "                pass\n",
    "            #except OSError as e:\n",
    "            #    print(\"OSErrroBad img most likely\", e, os.path.join(path,img))\n",
    "            #except Exception as e:\n",
    "            #    print(\"general exception\", e, os.path.join(path,img))\n",
    "\n",
    "create_test_data()\n",
    "\n",
    "print(len(test_data))"
   ]
  },
  {
   "cell_type": "code",
   "execution_count": 136,
   "metadata": {},
   "outputs": [
    {
     "name": "stdout",
     "output_type": "stream",
     "text": [
      "8\n",
      "8\n",
      "7\n",
      "1\n",
      "6\n",
      "6\n",
      "8\n",
      "6\n",
      "6\n",
      "9\n"
     ]
    }
   ],
   "source": [
    "# shuffle test data\n",
    "random.shuffle(test_data)\n",
    "for sample in test_data[:10]:\n",
    "    print(sample[1])"
   ]
  },
  {
   "cell_type": "code",
   "execution_count": 137,
   "metadata": {},
   "outputs": [],
   "source": [
    "# Create Test Data and Labels\n",
    "X_test = []\n",
    "y_test = []\n",
    "\n",
    "for features,label in test_data:\n",
    "    X_test.append(features)\n",
    "    y_test.append(label)\n",
    "\n",
    "#print(X_test[0].reshape(-1, IMG_SIZE, IMG_SIZE, 1)) \n",
    "\n",
    "X_test = np.array(X_test) # change from list to np array\n",
    "y_test = np.array(y_test)"
   ]
  },
  {
   "cell_type": "code",
   "execution_count": 138,
   "metadata": {},
   "outputs": [],
   "source": [
    "#X_test = tf.keras.utils.normalize(X_test, axis=1)"
   ]
  },
  {
   "cell_type": "code",
   "execution_count": 141,
   "metadata": {},
   "outputs": [
    {
     "data": {
      "text/plain": [
       "9"
      ]
     },
     "execution_count": 141,
     "metadata": {},
     "output_type": "execute_result"
    }
   ],
   "source": [
    "y[1]"
   ]
  },
  {
   "cell_type": "markdown",
   "metadata": {},
   "source": [
    "# Now we'll make a Tensorflow Classifier"
   ]
  },
  {
   "cell_type": "code",
   "execution_count": 142,
   "metadata": {},
   "outputs": [],
   "source": [
    "# https://pythonprogramming.net/convolutional-neural-network-deep-learning-python-tensorflow-keras/\n",
    "\n",
    "import tensorflow as tf\n",
    "from tensorflow.keras.datasets import cifar10\n",
    "from tensorflow.keras.preprocessing.image import ImageDataGenerator\n",
    "from tensorflow.keras.models import Sequential\n",
    "from tensorflow.keras.layers import Dense, Dropout, Activation, Flatten\n",
    "from tensorflow.keras.layers import Conv2D, MaxPooling2D\n"
   ]
  },
  {
   "cell_type": "code",
   "execution_count": 143,
   "metadata": {},
   "outputs": [],
   "source": [
    "# let's normalize the data\n",
    "# this portion here made a huge difference in accuracy\n",
    "X = tf.keras.utils.normalize(X, axis=1)\n",
    "X_test = tf.keras.utils.normalize(X_test, axis=1)"
   ]
  },
  {
   "cell_type": "code",
   "execution_count": 144,
   "metadata": {},
   "outputs": [
    {
     "data": {
      "text/plain": [
       "array([[0.        , 0.        , 0.        , ..., 0.        , 0.        ,\n",
       "        0.        ],\n",
       "       [0.        , 0.        , 0.        , ..., 0.        , 0.        ,\n",
       "        0.        ],\n",
       "       [0.        , 0.        , 0.        , ..., 0.        , 0.        ,\n",
       "        0.        ],\n",
       "       ...,\n",
       "       [0.        , 0.        , 0.88234766, ..., 0.        , 0.        ,\n",
       "        0.        ],\n",
       "       [0.        , 0.        , 0.        , ..., 0.        , 0.        ,\n",
       "        0.        ],\n",
       "       [0.        , 0.        , 0.        , ..., 0.        , 0.        ,\n",
       "        0.        ]])"
      ]
     },
     "execution_count": 144,
     "metadata": {},
     "output_type": "execute_result"
    }
   ],
   "source": [
    "X[1]"
   ]
  },
  {
   "cell_type": "code",
   "execution_count": 145,
   "metadata": {},
   "outputs": [
    {
     "name": "stdout",
     "output_type": "stream",
     "text": [
      "Epoch 1/3\n",
      "17000/17000 [==============================] - ETA: 2:54 - loss: 2.3498 - acc: 0.062 - ETA: 18s - loss: 2.1080 - acc: 0.329 - ETA: 9s - loss: 1.7872 - acc: 0.5000 - ETA: 7s - loss: 1.5164 - acc: 0.592 - ETA: 5s - loss: 1.3334 - acc: 0.636 - ETA: 5s - loss: 1.1866 - acc: 0.674 - ETA: 4s - loss: 1.0505 - acc: 0.706 - ETA: 4s - loss: 0.9709 - acc: 0.727 - ETA: 3s - loss: 0.9015 - acc: 0.743 - ETA: 3s - loss: 0.8407 - acc: 0.760 - ETA: 3s - loss: 0.7989 - acc: 0.770 - ETA: 3s - loss: 0.7533 - acc: 0.783 - ETA: 3s - loss: 0.7126 - acc: 0.795 - ETA: 3s - loss: 0.6854 - acc: 0.803 - ETA: 2s - loss: 0.6602 - acc: 0.809 - ETA: 2s - loss: 0.6372 - acc: 0.816 - ETA: 2s - loss: 0.6165 - acc: 0.823 - ETA: 2s - loss: 0.5993 - acc: 0.827 - ETA: 2s - loss: 0.5870 - acc: 0.830 - ETA: 2s - loss: 0.5692 - acc: 0.834 - ETA: 2s - loss: 0.5573 - acc: 0.837 - ETA: 2s - loss: 0.5468 - acc: 0.840 - ETA: 2s - loss: 0.5383 - acc: 0.843 - ETA: 2s - loss: 0.5310 - acc: 0.845 - ETA: 2s - loss: 0.5239 - acc: 0.846 - ETA: 2s - loss: 0.5195 - acc: 0.848 - ETA: 2s - loss: 0.5122 - acc: 0.849 - ETA: 2s - loss: 0.5010 - acc: 0.853 - ETA: 2s - loss: 0.4916 - acc: 0.856 - ETA: 1s - loss: 0.4788 - acc: 0.859 - ETA: 1s - loss: 0.4722 - acc: 0.861 - ETA: 1s - loss: 0.4641 - acc: 0.863 - ETA: 1s - loss: 0.4547 - acc: 0.866 - ETA: 1s - loss: 0.4470 - acc: 0.868 - ETA: 1s - loss: 0.4426 - acc: 0.869 - ETA: 1s - loss: 0.4336 - acc: 0.872 - ETA: 1s - loss: 0.4262 - acc: 0.874 - ETA: 1s - loss: 0.4187 - acc: 0.876 - ETA: 1s - loss: 0.4100 - acc: 0.879 - ETA: 1s - loss: 0.4035 - acc: 0.880 - ETA: 1s - loss: 0.3973 - acc: 0.882 - ETA: 1s - loss: 0.3915 - acc: 0.883 - ETA: 0s - loss: 0.3854 - acc: 0.885 - ETA: 0s - loss: 0.3795 - acc: 0.887 - ETA: 0s - loss: 0.3742 - acc: 0.888 - ETA: 0s - loss: 0.3683 - acc: 0.890 - ETA: 0s - loss: 0.3641 - acc: 0.891 - ETA: 0s - loss: 0.3588 - acc: 0.893 - ETA: 0s - loss: 0.3537 - acc: 0.894 - ETA: 0s - loss: 0.3501 - acc: 0.895 - ETA: 0s - loss: 0.3466 - acc: 0.897 - ETA: 0s - loss: 0.3441 - acc: 0.897 - ETA: 0s - loss: 0.3420 - acc: 0.898 - ETA: 0s - loss: 0.3404 - acc: 0.898 - ETA: 0s - loss: 0.3373 - acc: 0.899 - ETA: 0s - loss: 0.3345 - acc: 0.900 - ETA: 0s - loss: 0.3331 - acc: 0.900 - ETA: 0s - loss: 0.3312 - acc: 0.900 - ETA: 0s - loss: 0.3275 - acc: 0.901 - ETA: 0s - loss: 0.3245 - acc: 0.902 - ETA: 0s - loss: 0.3202 - acc: 0.903 - 3s 205us/sample - loss: 0.3189 - acc: 0.9039\n",
      "Epoch 2/3\n",
      "17000/17000 [==============================] - ETA: 3s - loss: 0.1113 - acc: 1.000 - ETA: 2s - loss: 0.1187 - acc: 0.959 - ETA: 2s - loss: 0.1236 - acc: 0.964 - ETA: 2s - loss: 0.1307 - acc: 0.960 - ETA: 2s - loss: 0.1271 - acc: 0.960 - ETA: 2s - loss: 0.1278 - acc: 0.961 - ETA: 2s - loss: 0.1221 - acc: 0.962 - ETA: 2s - loss: 0.1218 - acc: 0.963 - ETA: 2s - loss: 0.1188 - acc: 0.964 - ETA: 2s - loss: 0.1152 - acc: 0.966 - ETA: 2s - loss: 0.1146 - acc: 0.966 - ETA: 2s - loss: 0.1122 - acc: 0.967 - ETA: 2s - loss: 0.1176 - acc: 0.965 - ETA: 1s - loss: 0.1174 - acc: 0.965 - ETA: 1s - loss: 0.1159 - acc: 0.965 - ETA: 1s - loss: 0.1126 - acc: 0.967 - ETA: 1s - loss: 0.1108 - acc: 0.967 - ETA: 1s - loss: 0.1137 - acc: 0.967 - ETA: 1s - loss: 0.1131 - acc: 0.966 - ETA: 1s - loss: 0.1159 - acc: 0.965 - ETA: 1s - loss: 0.1151 - acc: 0.965 - ETA: 1s - loss: 0.1146 - acc: 0.965 - ETA: 1s - loss: 0.1118 - acc: 0.966 - ETA: 1s - loss: 0.1122 - acc: 0.966 - ETA: 1s - loss: 0.1116 - acc: 0.966 - ETA: 1s - loss: 0.1116 - acc: 0.965 - ETA: 1s - loss: 0.1104 - acc: 0.966 - ETA: 1s - loss: 0.1096 - acc: 0.966 - ETA: 1s - loss: 0.1091 - acc: 0.967 - ETA: 1s - loss: 0.1073 - acc: 0.967 - ETA: 1s - loss: 0.1064 - acc: 0.968 - ETA: 1s - loss: 0.1059 - acc: 0.968 - ETA: 1s - loss: 0.1045 - acc: 0.968 - ETA: 1s - loss: 0.1050 - acc: 0.968 - ETA: 1s - loss: 0.1050 - acc: 0.968 - ETA: 0s - loss: 0.1041 - acc: 0.968 - ETA: 0s - loss: 0.1039 - acc: 0.968 - ETA: 0s - loss: 0.1032 - acc: 0.968 - ETA: 0s - loss: 0.1032 - acc: 0.968 - ETA: 0s - loss: 0.1030 - acc: 0.968 - ETA: 0s - loss: 0.1029 - acc: 0.968 - ETA: 0s - loss: 0.1029 - acc: 0.968 - ETA: 0s - loss: 0.1026 - acc: 0.968 - ETA: 0s - loss: 0.1026 - acc: 0.968 - ETA: 0s - loss: 0.1022 - acc: 0.968 - ETA: 0s - loss: 0.1021 - acc: 0.968 - ETA: 0s - loss: 0.1022 - acc: 0.968 - ETA: 0s - loss: 0.1017 - acc: 0.968 - ETA: 0s - loss: 0.1018 - acc: 0.968 - ETA: 0s - loss: 0.1005 - acc: 0.969 - ETA: 0s - loss: 0.1000 - acc: 0.969 - ETA: 0s - loss: 0.0993 - acc: 0.969 - ETA: 0s - loss: 0.1002 - acc: 0.969 - ETA: 0s - loss: 0.1017 - acc: 0.969 - ETA: 0s - loss: 0.1009 - acc: 0.969 - ETA: 0s - loss: 0.1001 - acc: 0.969 - ETA: 0s - loss: 0.0988 - acc: 0.970 - 3s 175us/sample - loss: 0.0989 - acc: 0.9699\n",
      "Epoch 3/3\n",
      "17000/17000 [==============================] - ETA: 3s - loss: 0.0407 - acc: 0.968 - ETA: 2s - loss: 0.0539 - acc: 0.981 - ETA: 2s - loss: 0.0585 - acc: 0.980 - ETA: 2s - loss: 0.0598 - acc: 0.980 - ETA: 2s - loss: 0.0556 - acc: 0.981 - ETA: 2s - loss: 0.0562 - acc: 0.980 - ETA: 3s - loss: 0.0545 - acc: 0.982 - ETA: 3s - loss: 0.0567 - acc: 0.981 - ETA: 3s - loss: 0.0563 - acc: 0.982 - ETA: 3s - loss: 0.0582 - acc: 0.981 - ETA: 3s - loss: 0.0578 - acc: 0.981 - ETA: 3s - loss: 0.0665 - acc: 0.980 - ETA: 3s - loss: 0.0658 - acc: 0.981 - ETA: 3s - loss: 0.0658 - acc: 0.981 - ETA: 3s - loss: 0.0672 - acc: 0.981 - ETA: 3s - loss: 0.0677 - acc: 0.981 - ETA: 3s - loss: 0.0716 - acc: 0.980 - ETA: 3s - loss: 0.0743 - acc: 0.978 - ETA: 3s - loss: 0.0735 - acc: 0.979 - ETA: 3s - loss: 0.0739 - acc: 0.978 - ETA: 3s - loss: 0.0713 - acc: 0.978 - ETA: 2s - loss: 0.0705 - acc: 0.978 - ETA: 2s - loss: 0.0710 - acc: 0.978 - ETA: 2s - loss: 0.0694 - acc: 0.979 - ETA: 2s - loss: 0.0693 - acc: 0.979 - ETA: 2s - loss: 0.0687 - acc: 0.979 - ETA: 2s - loss: 0.0673 - acc: 0.979 - ETA: 2s - loss: 0.0655 - acc: 0.980 - ETA: 2s - loss: 0.0640 - acc: 0.980 - ETA: 2s - loss: 0.0646 - acc: 0.980 - ETA: 2s - loss: 0.0645 - acc: 0.980 - ETA: 1s - loss: 0.0639 - acc: 0.980 - ETA: 1s - loss: 0.0636 - acc: 0.980 - ETA: 1s - loss: 0.0657 - acc: 0.979 - ETA: 1s - loss: 0.0666 - acc: 0.979 - ETA: 1s - loss: 0.0665 - acc: 0.979 - ETA: 1s - loss: 0.0656 - acc: 0.980 - ETA: 1s - loss: 0.0648 - acc: 0.980 - ETA: 1s - loss: 0.0647 - acc: 0.980 - ETA: 1s - loss: 0.0652 - acc: 0.980 - ETA: 1s - loss: 0.0647 - acc: 0.980 - ETA: 1s - loss: 0.0644 - acc: 0.980 - ETA: 1s - loss: 0.0636 - acc: 0.980 - ETA: 1s - loss: 0.0629 - acc: 0.980 - ETA: 1s - loss: 0.0628 - acc: 0.980 - ETA: 0s - loss: 0.0637 - acc: 0.980 - ETA: 0s - loss: 0.0636 - acc: 0.980 - ETA: 0s - loss: 0.0638 - acc: 0.980 - ETA: 0s - loss: 0.0643 - acc: 0.980 - ETA: 0s - loss: 0.0643 - acc: 0.980 - ETA: 0s - loss: 0.0644 - acc: 0.979 - ETA: 0s - loss: 0.0647 - acc: 0.979 - ETA: 0s - loss: 0.0647 - acc: 0.979 - ETA: 0s - loss: 0.0643 - acc: 0.980 - ETA: 0s - loss: 0.0643 - acc: 0.980 - ETA: 0s - loss: 0.0635 - acc: 0.980 - ETA: 0s - loss: 0.0633 - acc: 0.980 - ETA: 0s - loss: 0.0628 - acc: 0.980 - ETA: 0s - loss: 0.0625 - acc: 0.980 - ETA: 0s - loss: 0.0623 - acc: 0.980 - ETA: 0s - loss: 0.0625 - acc: 0.980 - 3s 187us/sample - loss: 0.0625 - acc: 0.9805\n"
     ]
    },
    {
     "data": {
      "text/plain": [
       "<tensorflow.python.keras.callbacks.History at 0x28f9cdda160>"
      ]
     },
     "execution_count": 145,
     "metadata": {},
     "output_type": "execute_result"
    }
   ],
   "source": [
    "# build the model\n",
    "# reference here: https://pythonprogramming.net/introduction-deep-learning-python-tensorflow-keras/\n",
    "\n",
    "model = tf.keras.models.Sequential()\n",
    "model.add(tf.keras.layers.Flatten())\n",
    "model.add(tf.keras.layers.Dense(128, activation=tf.nn.relu))\n",
    "model.add(tf.keras.layers.Dense(128, activation=tf.nn.relu))\n",
    "model.add(tf.keras.layers.Dense(10, activation=tf.nn.softmax))\n",
    "\n",
    "model.compile(optimizer='adam',\n",
    "              loss='sparse_categorical_crossentropy',\n",
    "              metrics=['accuracy'])\n",
    "\n",
    "model.fit(X, y, epochs=3)"
   ]
  },
  {
   "cell_type": "code",
   "execution_count": null,
   "metadata": {},
   "outputs": [],
   "source": [
    "# Not too bad. 98.05% accuracy in 3 epochs"
   ]
  },
  {
   "cell_type": "markdown",
   "metadata": {},
   "source": [
    "# Try it with a Decision Tree Classifier"
   ]
  },
  {
   "cell_type": "code",
   "execution_count": 148,
   "metadata": {},
   "outputs": [
    {
     "data": {
      "text/plain": [
       "numpy.ndarray"
      ]
     },
     "execution_count": 148,
     "metadata": {},
     "output_type": "execute_result"
    }
   ],
   "source": [
    "type(y)"
   ]
  },
  {
   "cell_type": "code",
   "execution_count": 117,
   "metadata": {},
   "outputs": [
    {
     "data": {
      "text/plain": [
       "(17000, 32, 32)"
      ]
     },
     "execution_count": 117,
     "metadata": {},
     "output_type": "execute_result"
    }
   ],
   "source": [
    "X.shape"
   ]
  },
  {
   "cell_type": "code",
   "execution_count": 155,
   "metadata": {},
   "outputs": [],
   "source": [
    "X = X.reshape(X.shape[0],-1) # need to reshape since fitting with current shape throws errors\n"
   ]
  },
  {
   "cell_type": "code",
   "execution_count": 156,
   "metadata": {},
   "outputs": [
    {
     "data": {
      "text/plain": [
       "(17000, 1024)"
      ]
     },
     "execution_count": 156,
     "metadata": {},
     "output_type": "execute_result"
    }
   ],
   "source": [
    "X.shape"
   ]
  },
  {
   "cell_type": "code",
   "execution_count": 151,
   "metadata": {},
   "outputs": [
    {
     "data": {
      "text/plain": [
       "(3000, 1024)"
      ]
     },
     "execution_count": 151,
     "metadata": {},
     "output_type": "execute_result"
    }
   ],
   "source": [
    "X_test = X_test.reshape(X_test.shape[0],-1)\n",
    "X_test.shape"
   ]
  },
  {
   "cell_type": "code",
   "execution_count": 153,
   "metadata": {},
   "outputs": [],
   "source": [
    "import sklearn.metrics as metrics"
   ]
  },
  {
   "cell_type": "code",
   "execution_count": 154,
   "metadata": {},
   "outputs": [
    {
     "name": "stdout",
     "output_type": "stream",
     "text": [
      "DecisionTreeClassifier(class_weight=None, criterion='gini', max_depth=None,\n",
      "            max_features=None, max_leaf_nodes=None,\n",
      "            min_impurity_decrease=0.0, min_impurity_split=None,\n",
      "            min_samples_leaf=1, min_samples_split=2,\n",
      "            min_weight_fraction_leaf=0.0, presort=False, random_state=None,\n",
      "            splitter='best')\n",
      "              precision    recall  f1-score   support\n",
      "\n",
      "           0       0.93      0.94      0.93       300\n",
      "           1       0.93      0.91      0.92       300\n",
      "           2       0.79      0.82      0.80       300\n",
      "           3       0.78      0.75      0.77       300\n",
      "           4       0.94      0.90      0.92       300\n",
      "           5       0.86      0.80      0.83       300\n",
      "           6       0.78      0.81      0.80       300\n",
      "           7       0.87      0.89      0.88       300\n",
      "           8       0.90      0.93      0.91       300\n",
      "           9       0.91      0.93      0.92       300\n",
      "\n",
      "   micro avg       0.87      0.87      0.87      3000\n",
      "   macro avg       0.87      0.87      0.87      3000\n",
      "weighted avg       0.87      0.87      0.87      3000\n",
      "\n",
      "[[281   0   0   1   1   0   1  12   2   2]\n",
      " [  3 272   4   3   1   1  10   1   2   3]\n",
      " [  1   1 247  21   1   9  13   0   3   4]\n",
      " [  0   4  28 226   3  18   9   5   2   5]\n",
      " [  0   0   3   2 271   4   8   4   6   2]\n",
      " [  0   4  11  21   5 240   6   8   4   1]\n",
      " [  3   7  15   6   5   3 244   6   7   4]\n",
      " [ 11   1   0   2   1   2   9 268   3   3]\n",
      " [  2   2   4   1   1   0   6   2 278   4]\n",
      " [  1   3   2   5   0   1   6   3   1 278]]\n"
     ]
    }
   ],
   "source": [
    "# Decision Tree Classifier\n",
    "from sklearn.tree import DecisionTreeClassifier\n",
    "model = DecisionTreeClassifier()\n",
    "model.fit(X,y)\n",
    "print(model)\n",
    "# make predictions\n",
    "expected = y_test\n",
    "predicted = model.predict(X_test)\n",
    "# summarize the fit of the model\n",
    "print(metrics.classification_report(expected, predicted))\n",
    "cm = metrics.confusion_matrix(expected, predicted)\n",
    "print(cm)"
   ]
  },
  {
   "cell_type": "code",
   "execution_count": 158,
   "metadata": {},
   "outputs": [
    {
     "data": {
      "image/png": "[encoded data removed]",
      "text/plain": [
       "<Figure size 1440x288 with 5 Axes>"
      ]
     },
     "metadata": {
      "needs_background": "light"
     },
     "output_type": "display_data"
    }
   ],
   "source": [
    "plt.figure(figsize=(20,4)) # let's see what the images look like. quick sanity check\n",
    "for index, (image, label) in enumerate(zip(X_test[0:5], y_test[0:5])):\n",
    "    plt.subplot(1, 5, index + 1)\n",
    "    plt.imshow(np.reshape(image, (32,32)), cmap=plt.cm.gray)\n",
    "    plt.title('Test Img: %i\\n' % label, fontsize = 20)"
   ]
  },
  {
   "cell_type": "code",
   "execution_count": 159,
   "metadata": {},
   "outputs": [
    {
     "name": "stdout",
     "output_type": "stream",
     "text": [
      "GaussianNB(priors=None, var_smoothing=1e-09)\n",
      "              precision    recall  f1-score   support\n",
      "\n",
      "           0       0.94      0.93      0.93       300\n",
      "           1       0.92      0.93      0.92       300\n",
      "           2       0.67      0.85      0.75       300\n",
      "           3       0.79      0.61      0.69       300\n",
      "           4       0.93      0.90      0.92       300\n",
      "           5       0.86      0.81      0.83       300\n",
      "           6       0.84      0.84      0.84       300\n",
      "           7       0.85      0.82      0.83       300\n",
      "           8       0.95      0.95      0.95       300\n",
      "           9       0.86      0.93      0.90       300\n",
      "\n",
      "   micro avg       0.86      0.86      0.86      3000\n",
      "   macro avg       0.86      0.86      0.86      3000\n",
      "weighted avg       0.86      0.86      0.86      3000\n",
      "\n",
      "[[279   0   0   0   0   0   2   9   0  10]\n",
      " [  0 278   6   1   5   1   1   2   0   6]\n",
      " [  0   4 256  21   0   4   7   5   2   1]\n",
      " [  0   2  80 183   2  12   7   4   1   9]\n",
      " [  0   5   1   2 271   3   3   8   5   2]\n",
      " [  0   0  28  22   2 242   1   1   2   2]\n",
      " [  0   5  11   2   2  10 253  10   4   3]\n",
      " [ 17   0   0   0   2   5  20 245   1  10]\n",
      " [  1   0   1   1   3   6   2   0 285   1]\n",
      " [  0   9   0   1   3   0   5   3   0 279]]\n"
     ]
    }
   ],
   "source": [
    "## Naive Bayes Classification\n",
    "from sklearn.naive_bayes import GaussianNB\n",
    "model = GaussianNB()\n",
    "model.fit(X,y)\n",
    "print(model)\n",
    "# make predictions\n",
    "expected = y_test\n",
    "predicted = model.predict(X_test)\n",
    "# summarize the fit of the model\n",
    "print(metrics.classification_report(expected, predicted))\n",
    "print(metrics.confusion_matrix(expected, predicted))"
   ]
  },
  {
   "cell_type": "code",
   "execution_count": 160,
   "metadata": {},
   "outputs": [
    {
     "name": "stdout",
     "output_type": "stream",
     "text": [
      "KNeighborsClassifier(algorithm='auto', leaf_size=30, metric='minkowski',\n",
      "           metric_params=None, n_jobs=None, n_neighbors=5, p=2,\n",
      "           weights='uniform')\n",
      "              precision    recall  f1-score   support\n",
      "\n",
      "           0       1.00      0.99      0.99       300\n",
      "           1       0.98      0.99      0.98       300\n",
      "           2       0.92      0.97      0.95       300\n",
      "           3       0.97      0.93      0.95       300\n",
      "           4       0.99      1.00      0.99       300\n",
      "           5       0.97      0.96      0.97       300\n",
      "           6       0.99      0.97      0.98       300\n",
      "           7       0.99      0.99      0.99       300\n",
      "           8       0.99      1.00      0.99       300\n",
      "           9       0.99      0.98      0.98       300\n",
      "\n",
      "   micro avg       0.98      0.98      0.98      3000\n",
      "   macro avg       0.98      0.98      0.98      3000\n",
      "weighted avg       0.98      0.98      0.98      3000\n",
      "\n",
      "[[298   0   0   0   0   0   0   0   2   0]\n",
      " [  0 297   0   0   2   0   0   0   1   0]\n",
      " [  0   2 291   4   0   2   1   0   0   0]\n",
      " [  0   1  15 278   0   4   0   0   0   2]\n",
      " [  0   0   0   0 299   0   0   0   0   1]\n",
      " [  0   0   5   5   1 289   0   0   0   0]\n",
      " [  0   2   3   0   1   1 290   2   0   1]\n",
      " [  1   0   0   0   0   1   0 297   1   0]\n",
      " [  0   0   0   0   0   0   0   0 300   0]\n",
      " [  0   2   1   0   0   0   1   2   0 294]]\n"
     ]
    }
   ],
   "source": [
    "# Knn- classification\n",
    "# k-Nearest Neighbor Classification\n",
    "from sklearn.neighbors import KNeighborsClassifier\n",
    "model = KNeighborsClassifier()\n",
    "model.fit(X,y)\n",
    "print(model)\n",
    "# make predictions\n",
    "expected = y_test\n",
    "predicted = model.predict(X_test)\n",
    "# summarize the fit of the model\n",
    "print(metrics.classification_report(expected, predicted))\n",
    "print(metrics.confusion_matrix(expected, predicted))"
   ]
  },
  {
   "cell_type": "code",
   "execution_count": null,
   "metadata": {},
   "outputs": [],
   "source": []
  }
 ],
 "metadata": {
  "kernelspec": {
   "display_name": "Python 3",
   "language": "python",
   "name": "python3"
  },
  "language_info": {
   "codemirror_mode": {
    "name": "ipython",
    "version": 3
   },
   "file_extension": ".py",
   "mimetype": "text/x-python",
   "name": "python",
   "nbconvert_exporter": "python",
   "pygments_lexer": "ipython3",
   "version": "3.7.1"
  }
 },
 "nbformat": 4,
 "nbformat_minor": 2
}
