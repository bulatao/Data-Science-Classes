{
 "cells": [
  {
   "cell_type": "code",
   "execution_count": 1,
   "metadata": {},
   "outputs": [],
   "source": [
    "# What is knn clustering\n",
    "# https://www.youtube.com/watch?v=_aWzGGNrcic\n",
    "# How to find the optimal k\n",
    "# https://www.youtube.com/watch?v=xNfOheh-res"
   ]
  },
  {
   "cell_type": "code",
   "execution_count": 2,
   "metadata": {},
   "outputs": [],
   "source": [
    "# Function to read csv file\n",
    "def read_file(filename):\n",
    "    line_count = 0\n",
    "    file_open = open(filename,\"r\")\n",
    "    data_array = []\n",
    "    for line in iter(file_open):\n",
    "        line1 = line.rstrip()\n",
    "        line2 = line1.replace(\"Iris-setosa\",\"1\")\n",
    "        line3 = line2.replace(\"Iris-versicolor\",\"0\")\n",
    "        line4 = line3.replace(\"Iris-virginica\",\"2\")\n",
    "        line_split=line4.split(\",\")\n",
    "        data_array.append(line_split)\n",
    "    return data_array"
   ]
  },
  {
   "cell_type": "code",
   "execution_count": 3,
   "metadata": {},
   "outputs": [],
   "source": [
    "import numpy as np"
   ]
  },
  {
   "cell_type": "code",
   "execution_count": 4,
   "metadata": {},
   "outputs": [],
   "source": [
    "iris_data = read_file(\"iris_dataset.csv\")\n",
    "# Convert Iris data to numpy array\n",
    "dataset = np.array(iris_data)\n",
    "X2 = dataset[:,0:4]\n",
    "y2 = dataset[:,4]"
   ]
  },
  {
   "cell_type": "code",
   "execution_count": 8,
   "metadata": {},
   "outputs": [
    {
     "data": {
      "text/plain": [
       "array([['4.9', '3', '1.4', '0.2', '1'],\n",
       "       ['4.7', '3.2', '1.3', '0.2', '1'],\n",
       "       ['4.6', '3.1', '1.5', '0.2', '1'],\n",
       "       ['5', '3.6', '1.4', '0.2', '1']], dtype='<U3')"
      ]
     },
     "execution_count": 8,
     "metadata": {},
     "output_type": "execute_result"
    }
   ],
   "source": [
    "dataset[1:5]"
   ]
  },
  {
   "cell_type": "code",
   "execution_count": 9,
   "metadata": {},
   "outputs": [
    {
     "data": {
      "text/plain": [
       "numpy.ndarray"
      ]
     },
     "execution_count": 9,
     "metadata": {},
     "output_type": "execute_result"
    }
   ],
   "source": [
    "type(dataset)"
   ]
  },
  {
   "cell_type": "code",
   "execution_count": 6,
   "metadata": {},
   "outputs": [],
   "source": [
    "# Change string values to float numbers\n",
    "X = X2.astype(np.float)\n",
    "# Change target values to integers\n",
    "y = y2.astype(np.int)"
   ]
  },
  {
   "cell_type": "code",
   "execution_count": 20,
   "metadata": {},
   "outputs": [
    {
     "data": {
      "text/plain": [
       "'\\nDocumentation on k-means\\nhttp://scikit-learn.org/stable/modules/generated/sklearn.cluster.KMeans.html\\n'"
      ]
     },
     "execution_count": 20,
     "metadata": {},
     "output_type": "execute_result"
    }
   ],
   "source": [
    "\"\"\"\n",
    "Documentation on k-means\n",
    "http://scikit-learn.org/stable/modules/generated/sklearn.cluster.KMeans.html\n",
    "\"\"\""
   ]
  },
  {
   "cell_type": "code",
   "execution_count": 11,
   "metadata": {},
   "outputs": [
    {
     "name": "stdout",
     "output_type": "stream",
     "text": [
      "1 680.8244\n",
      "2 152.36870647733906\n",
      "3 78.94084142614602\n",
      "4 57.31787321428571\n",
      "5 46.56163015873016\n",
      "6 38.930963049671746\n",
      "7 34.19068792479662\n",
      "8 30.063874432733137\n",
      "9 27.84235606060606\n",
      "10 26.04820224804436\n"
     ]
    }
   ],
   "source": [
    "%matplotlib inline\n",
    "import matplotlib.pyplot as plt\n",
    "from sklearn.cluster import KMeans\n",
    "#Finding the optimum number of clusters for k-means classification\n",
    "# n_clusters = Number of centroids to generate\n",
    "# init = k-means++ = select convergence method\n",
    "# max_iter = Maximum number of iterations of the k-means algorithm for a single run.\n",
    "# n_init = 10 = Number of time the k-means algorithm will be run with different centroid seeds. \n",
    "# random_state = 0 = random number generator is the RandomState instance used by np.random\n",
    "# inertia = Sum of squared distances of samples to their closest cluster center\n",
    "# WCSS = Witchin cluster sum of squares\n",
    "wcss = []\n",
    "for i in range(1, 11):\n",
    "    kmeans = KMeans(n_clusters = i, init = 'k-means++', max_iter = 300, n_init = 10, random_state = 0)\n",
    "    kmeans.fit(X)\n",
    "    wcss.append(kmeans.inertia_)\n",
    "    print(i,kmeans.inertia_)"
   ]
  },
  {
   "cell_type": "code",
   "execution_count": 22,
   "metadata": {},
   "outputs": [
    {
     "data": {
      "image/png": "[encoded data removed]",
      "text/plain": [
       "<Figure size 432x288 with 1 Axes>"
      ]
     },
     "metadata": {
      "needs_background": "light"
     },
     "output_type": "display_data"
    }
   ],
   "source": [
    "#Plotting the results onto a line graph, allowing us to observe 'The elbow'\n",
    "plt.plot(range(1, 11), wcss)\n",
    "plt.title('The elbow method')\n",
    "plt.xlabel('Number of clusters')\n",
    "plt.ylabel('WCSS') #within cluster sum of squares\n",
    "plt.show()"
   ]
  },
  {
   "cell_type": "code",
   "execution_count": 23,
   "metadata": {},
   "outputs": [
    {
     "data": {
      "text/plain": [
       "'\\nPlot a line chart of the SSE for each value of k. If the line chart looks like an arm, \\nthen the \"elbow\" on the arm is the value of k that is the best. The idea is that we want a\\nsmall SSE, but that the SSE tends to decrease toward 0 as we increase k (the SSE is 0 when\\nk is equal to the number of data points in the dataset, because then each data point is its\\nown cluster, and there is no error between it and the center of its cluster). So our goal is\\nto choose a small value of k that still has a low SSE, and the elbow usually represents\\nwhere we start to have diminishing returns by increasing k.\\n'"
      ]
     },
     "execution_count": 23,
     "metadata": {},
     "output_type": "execute_result"
    }
   ],
   "source": [
    "\"\"\"\n",
    "Plot a line chart of the SSE for each value of k. If the line chart looks like an arm, \n",
    "then the \"elbow\" on the arm is the value of k that is the best. The idea is that we want a\n",
    "small SSE, but that the SSE tends to decrease toward 0 as we increase k (the SSE is 0 when\n",
    "k is equal to the number of data points in the dataset, because then each data point is its\n",
    "own cluster, and there is no error between it and the center of its cluster). So our goal is\n",
    "to choose a small value of k that still has a low SSE, and the elbow usually represents\n",
    "where we start to have diminishing returns by increasing k.\n",
    "\"\"\""
   ]
  },
  {
   "cell_type": "code",
   "execution_count": 24,
   "metadata": {},
   "outputs": [],
   "source": [
    "# After number of clusters = 3, WCSS does not decrease significantly.\n",
    "# k =3 is the optimal number of clusters in the data"
   ]
  },
  {
   "cell_type": "code",
   "execution_count": 12,
   "metadata": {},
   "outputs": [
    {
     "data": {
      "text/plain": [
       "KMeans(algorithm='auto', copy_x=True, init='k-means++', max_iter=300,\n",
       "    n_clusters=3, n_init=10, n_jobs=None, precompute_distances='auto',\n",
       "    random_state=0, tol=0.0001, verbose=0)"
      ]
     },
     "execution_count": 12,
     "metadata": {},
     "output_type": "execute_result"
    }
   ],
   "source": [
    "# best_n_clusters = 3\n",
    "kmeans = KMeans(n_clusters = 3, init = 'k-means++', max_iter = 300, n_init = 10, random_state = 0)\n",
    "kmeans.fit(X)"
   ]
  },
  {
   "cell_type": "code",
   "execution_count": 13,
   "metadata": {},
   "outputs": [
    {
     "name": "stdout",
     "output_type": "stream",
     "text": [
      "[[5.9016129  2.7483871  4.39354839 1.43387097]\n",
      " [5.006      3.418      1.464      0.244     ]\n",
      " [6.85       3.07368421 5.74210526 2.07105263]]\n"
     ]
    }
   ],
   "source": [
    "print(kmeans.cluster_centers_) # Centroid ccordinates"
   ]
  },
  {
   "cell_type": "code",
   "execution_count": 14,
   "metadata": {},
   "outputs": [
    {
     "name": "stdout",
     "output_type": "stream",
     "text": [
      "[1 1 1 1 1 1 1 1 1 1 1 1 1 1 1 1 1 1 1 1 1 1 1 1 1 1 1 1 1 1 1 1 1 1 1 1 1\n",
      " 1 1 1 1 1 1 1 1 1 1 1 1 1 0 0 2 0 0 0 0 0 0 0 0 0 0 0 0 0 0 0 0 0 0 0 0 0\n",
      " 0 0 0 2 0 0 0 0 0 0 0 0 0 0 0 0 0 0 0 0 0 0 0 0 0 0 2 0 2 2 2 2 0 2 2 2 2\n",
      " 2 2 0 0 2 2 2 2 0 2 0 2 0 2 2 0 0 2 2 2 2 2 0 2 2 2 2 0 2 2 2 0 2 2 2 0 2\n",
      " 2 0]\n"
     ]
    }
   ],
   "source": [
    "print(kmeans.labels_) # labels signifying similarity only"
   ]
  },
  {
   "cell_type": "code",
   "execution_count": 15,
   "metadata": {},
   "outputs": [
    {
     "name": "stdout",
     "output_type": "stream",
     "text": [
      "              precision    recall  f1-score   support\n",
      "\n",
      "           0       0.77      0.96      0.86        50\n",
      "           1       1.00      1.00      1.00        50\n",
      "           2       0.95      0.72      0.82        50\n",
      "\n",
      "   micro avg       0.89      0.89      0.89       150\n",
      "   macro avg       0.91      0.89      0.89       150\n",
      "weighted avg       0.91      0.89      0.89       150\n",
      "\n"
     ]
    }
   ],
   "source": [
    "from sklearn import metrics\n",
    "print(metrics.classification_report(y, kmeans.labels_))\n",
    "# 0 = Versicolor\n",
    "# 1 = Setosa\n",
    "# 2 = Virginica"
   ]
  },
  {
   "cell_type": "code",
   "execution_count": null,
   "metadata": {},
   "outputs": [],
   "source": []
  },
  {
   "cell_type": "code",
   "execution_count": null,
   "metadata": {},
   "outputs": [],
   "source": []
  }
 ],
 "metadata": {
  "kernelspec": {
   "display_name": "Python 3",
   "language": "python",
   "name": "python3"
  },
  "language_info": {
   "codemirror_mode": {
    "name": "ipython",
    "version": 3
   },
   "file_extension": ".py",
   "mimetype": "text/x-python",
   "name": "python",
   "nbconvert_exporter": "python",
   "pygments_lexer": "ipython3",
   "version": "3.7.1"
  }
 },
 "nbformat": 4,
 "nbformat_minor": 2
}
