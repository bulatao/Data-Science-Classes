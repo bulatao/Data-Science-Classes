{
 "cells": [
  {
   "cell_type": "markdown",
   "metadata": {},
   "source": [
    "## Class 1 -- HW1 -- Data Analysis with Home Prices\n",
    "### Data cleaning, function to calculate descriptive statistics\n",
    "### Data Visualization: scatter, histogram, boxplot"
   ]
  },
  {
   "cell_type": "code",
   "execution_count": 1,
   "metadata": {},
   "outputs": [],
   "source": [
    "HomePriceK = [1005, 1097, 934, 1196, 1024, 946, 1044, 1035, 1081, 803, 951, 1005, 10610, \n",
    "              1155, 1131, 987, 906, 1181, 1162, 1015, 916, 899, 1011, 818, 1060, 922, \n",
    "              1108, 858, 890, 858, 989, 806, 940, 1045, 949, 955, 897, 1156, 1147, \n",
    "              1086, 1103, 1134, 931, 1107, 929, 1118, 1110, 1134, 906, 1034, 987, \n",
    "              1038, 1161, 827, 1065, 999, 1129, 800, 1049, 1017, 1130, 920, 1198, \n",
    "              932, 848, 812, 1121, 1125, 1132, 1012, 954, 883, 1195, 946, 912, 1165, \n",
    "              952, 990, 989, 1008, 1186, 863, 1162, 863, 942, 837, 1075, 1025, 1197, \n",
    "              1122, 942, 930, 1086, 1076, 1076, 984, 1022, 1054, 1065, 841, 841, 10680, \n",
    "              961, 1009, 1159, 801, 1051, 1139, 1147, 967, 977, 932, 804, 1169, 842, \n",
    "              1179, 1197, 1152, 1190, 1145, 948, 1185, 1139, 1174, 1133, 1114, 944, \n",
    "              963, 1050, 1134, 1154, 853, 804, 876, 973, 1155, 1041, 1110, 1043, 11480, \n",
    "              884, 1072, 1181, 816, 1119, 972, 941, 935, 1192, 1160, 879, 821, 1054, \n",
    "              1123, 898, 969, 1077, 1189, 896, 1054, 875, 924, 802, 988, 812, 887, \n",
    "              1163, 911, 1160, 820, 801, 1155, 1034, 867, 986, 956, 851, 855, 1127, \n",
    "              915, 1064, 818, 893, 1187, 936, 1130, 894, 1183, 1028, 868, 891, 1139, \n",
    "              1030, 928, 993, 1192, 1149, 941, 1029, 1039, 824, 888, 1053, 1179, 11200, \n",
    "              813, 834, 1149, 852, 1137, 875, 1027, 1200, 1126, 906, 1155, 841, 1027, \n",
    "              909, 888, 956, 1161, 908, 816, 1120, 1062, 1153, 997, 1156, 1191, 1013, \n",
    "              1152, 1052, 1058, 1158, 939, 1190, 1125, 954, 884, 818, 937, 1071, 1069, \n",
    "              1132, 1137, 1036, 1155, 1085, 901, 895, 1161, 1196, 1094, 889, 1006, 921, \n",
    "              1015, 1047, 1174, 821, 1032, 928, 867, 912, 1082, 984, 897, 854, 1051, 931, \n",
    "              844, 1063, 1054, 1116, 1057, 812, 1052, 1006, 942, 966, 926, 1126, 992, 8900, \n",
    "              955, 1039, 856, 1170, 1093, 950, 894, 858, 1083, 1154, 987, 1192, 1150, 970, \n",
    "              942, 873, 990, 801, 873, 863, 1007, 1143, 1063, 1063, 975, 1064, 1100, 1103, \n",
    "              1002, 844, 1171, 1042, 895, 829, 978, 917, 1071, 1149, 950, 1091, 875, 839,\n",
    "              1170, 910, 810, 1184, 957, 864, 966, 878, 869, 1131, 1006, 1017, 823, 1054, \n",
    "              1134, 821, 929, 1032, 859, 907, 1073, 900, 875, 1192, 1049, 1163, 1151, 943, \n",
    "              1198, 1081, 971, 1136, 1024, 816, 1195, 1069, 853, 1142, 1124, 962, 975, \n",
    "              1058, 860, 996, 1148, 1016, 828, 895, 986, 840, 904, 871, 1083, 806, 948, \n",
    "              1060, 958, 1036, 1197, 816, 1048, 928, 1095, 1058, 1110, 967, 816, 1017, \n",
    "              915, 1133, 957, 883, 1182, 1062, 980, 807, 895, 1131, 970, 1138, 837, \n",
    "              907, 1104, 916, 1174, 1121, 1187, 1054, 1147, 1094, 834, 1025, 1059, 895, \n",
    "              1093, 830, 912, 1102, 1186, 838, 999, 1086, 913, 807, 999, 857, 1012, 1060, \n",
    "              1007, 1074, 1097, 1094, 1124, 1040, 957, 1176, 1194, 1174, 984, 1023, 871, \n",
    "              1038, 947, 1192, 893, 1129, 888, 1067, 922, 913, 836, 975, 1195, 812, 1138, \n",
    "              1047, 897, 845, 1159, 922, 943, 1066, 933, 930, 1186, 913, 989, 1131, 1093, \n",
    "              1014, 906, 1136, 1140, 1167, 1090, 1163, 957, 934, 987, 924, 969, 809, 845, \n",
    "              1094, 1039, 1178, 1124, 801, 884, 813, 1072, 1042, 1030, 1140, 850, 823, 938, \n",
    "              1051, 886, 938, 883, 1026, 949, 1147, 912, 838, 894, 973, 940, 937, 1128, 963, \n",
    "              1098, 880, 1060, 928, 1024, 1100, 1143, 932, 805, 914, 1185, 911, 993, 1067, \n",
    "              920, 805, 1152, 822, 968, 955, 1042, 879, 981, 808, 925, 1086, 1023, 1117, \n",
    "              980, 831, 1088, 1171, 946, 927, 902, 828, 821, 1175, 1051, 1051, 1047, 908, \n",
    "              844, 832, 806, 1145, 1113, 1069, 960, 957, 1115, 861, 1189, 1156, 919, 1170, \n",
    "              977, 909, 913, 1005, 1116, 954, 1054, 852, 1030, 1147, 1118, 1113, 974, 956, \n",
    "              1000, 1105, 1055, 1066, 1147, 893, 1186, 1074, 1143, 853, 1038, 989, 980, \n",
    "              1200, 1103, 954, 916, 1141, 1010, 1041, 1015, 933, 935, 1030, 1120, 801, \n",
    "              976, 892, 1087, 1168, 819, 870, 879, 1076, 1068, 968, 909, 846, 931, 1112, \n",
    "              927, 1158, 1160, 909, 880, 848, 985, 847, 973, 845, 1125, 986, 1036, 1195, \n",
    "              1037, 996, 838, 1117, 943, 836, 1071, 1007, 1027, 1070, 821, 1094, 831, 1041, \n",
    "              986, 840, 961, 1180, 994, 1003, 930, 1152, 894, 1026, 1192, 1007, 831, 962, \n",
    "              1052, 1031, 1053, 852, 848, 1086, 1116, 916, 1111, 843, 1016, 1044, 841, 882, \n",
    "              806, 1014, 1011, 1122, 938, 1052, 1150, 849, 927, 1011, 1191, 1186, 1058, \n",
    "              1200, 830, 918, 1124, 1142, 961, 1113, 1064, 1195, 831, 1142, 1045, 899, 1189, \n",
    "              844, 1136, 869, 1077, 856, 1151, 1046, 855, 1020, 829, 834, 1030, 894, 835, \n",
    "              993, 1196, 1195, 1191, 1013, 1149, 879, 1074, 1046, 959, 954, 808, 976, 929, \n",
    "              1107, 878, 1124, 806, 1180, 1121, 1194, 995, 1135, 910, 1126, 1088, 1184, 1175, \n",
    "              1080, 857, 925, 888, 886, 1171, 862, 842, 1143, 969, 1111, 930, 935, 1181, \n",
    "              1168, 1177, 883, 864, 814, 1150, 950, 987, 944, 854, 1085, 1159, 1100, 1083, \n",
    "              822, 815, 1067, 1133, 913, 915, 849, 1200, 983, 1129, 880, 995, 1137, 1072, \n",
    "              1190, 901, 1094, 859, 831, 1004, 1119, 998, 1135, 1016, 881, 1186, 1034, 986, \n",
    "              1136, 1187, 879, 1182, 938, 1140, 1066, 1071, 1027, 1176, 862, 1194, 1023, \n",
    "              986, 938, 843, 990, 1196, 932, 1122, 990, 1089, 1175, 1050, 1163, 1019, 900, \n",
    "              1085, 1074, 926, 1115, 825, 842, 1159, 1146, 873, 928, 945, 815, 1165, 856, \n",
    "              1072, 1088, 1182, 1073, 1013, 1004, 976, 954, 979, 1019, 1181, 1193, 1016, \n",
    "              1183, 819, 1154, 880, 1015, 1162, 881, 1013, 851, 999, 1096, 1002, 1140, 809, \n",
    "              838, 809, 858, 1131, 1041, 875, 1034, 1142, 903, 1031, 956, 1057, 962, 924, \n",
    "              898, 959, 1083, 867, 826, 859, 825, 1100, 927, 844, 846, 832, 1045, 874, 820, \n",
    "              980, 1079, 1000, 895, 895, 1041, 807, 1154, 975, 1027, 1062, 802, 1084, 837, \n",
    "              1095, 837, 952, 1030, 807, 860, 1133, 1059, 915, 1101, 1153, 1012, 1000, \n",
    "              1087, 1083, 1165, 1142, 1108, 981, 1163, 1182, 960, 931, 975, 1053, 963, \n",
    "              1037, 1198, 1080, 899, 885, 944, 1073, 946, 810, 1108, 836, 1001, 812, 1127, \n",
    "              808, 1187, 978, 854, 901, 835, 1136, 1150, 977, 843, 980, 834, 1132, 945, \n",
    "              1010, 1044, 999, 982, 1178, 963, 1057, 1111, 1093, 855, 939, 822, 989, 847, \n",
    "              911, 1110, 1181, 808, 1172, 1170, 996, 1185, 1046, 973, 816]"
   ]
  },
  {
   "cell_type": "markdown",
   "metadata": {},
   "source": [
    "### HW1 -- Find the number of entries in the list HomePriceK"
   ]
  },
  {
   "cell_type": "code",
   "execution_count": 2,
   "metadata": {},
   "outputs": [
    {
     "data": {
      "text/plain": [
       "1000"
      ]
     },
     "execution_count": 2,
     "metadata": {},
     "output_type": "execute_result"
    }
   ],
   "source": [
    "# Your code here ...\n",
    "len(HomePriceK)"
   ]
  },
  {
   "cell_type": "markdown",
   "metadata": {},
   "source": [
    "### HW2 -- Prices are in the range 800k to 1200k; delete all prices outside the range\n",
    "#### Print number of entries which got deleted."
   ]
  },
  {
   "cell_type": "code",
   "execution_count": 3,
   "metadata": {},
   "outputs": [
    {
     "name": "stdout",
     "output_type": "stream",
     "text": [
      "over 1200 10610\n",
      "over 1200 10680\n",
      "over 1200 11480\n",
      "over 1200 11200\n",
      "over 1200 8900\n"
     ]
    },
    {
     "data": {
      "text/plain": [
       "995"
      ]
     },
     "execution_count": 3,
     "metadata": {},
     "output_type": "execute_result"
    }
   ],
   "source": [
    "# Your code here ...\n",
    "for price in HomePriceK:\n",
    "    if price > 1200:\n",
    "        print(\"over 1200\", price)\n",
    "        HomePriceK.remove(price)\n",
    "    if price < 800:\n",
    "        print(\"under 800\", price)\n",
    "        HomePriceK.remove(price)\n",
    "        \n",
    "len(HomePriceK)\n"
   ]
  },
  {
   "cell_type": "markdown",
   "metadata": {},
   "source": [
    "### HW3 -- Write a function to calculate descriptive statistics: mean, median, and range\n",
    "### Call the function: def calculate_stats\n",
    "### The input to the funciton should be a list. The function should return mean, median, and range.\n",
    "#### a) Find and print descriptive stats for homes in range 800 to 899\n",
    "#### b) Find and print descriptive stats for homes in range 900 to 999\n",
    "#### c) Find the print descriptive stats for homes in range 1000 to 1099\n",
    "#### d) Find the print descriptive stats for homes in range 1100 to 1200"
   ]
  },
  {
   "cell_type": "code",
   "execution_count": 4,
   "metadata": {},
   "outputs": [
    {
     "name": "stdout",
     "output_type": "stream",
     "text": [
      "Mean of prices between  800 and 899 is 847.9873949579832\n",
      "Median is 845.5\n",
      "Numbers range from  801 to 898\n",
      "Mean of prices between  900 and 999 is 949.1\n",
      "Median is 948.0\n",
      "Numbers range from  901 to 998\n",
      "Mean of prices between  1000 and 1099 is 1049.5316455696202\n",
      "Median is 1051\n",
      "Numbers range from  1001 to 1098\n",
      "Mean of prices between  1100 and 1200 is 1152.7286821705427\n",
      "Median is 1152.0\n",
      "Numbers range from  1101 to 1198\n"
     ]
    }
   ],
   "source": [
    "# Your code here ...\n",
    "# write the function and reuse that funciton\n",
    "# use any li brary\n",
    "import statistics\n",
    "\n",
    "def desc_stats_for(x,y,list):\n",
    "    temp_list = []\n",
    "    for price in (list):\n",
    "        if price > x:\n",
    "            if price < y:\n",
    "                temp_list.append(price)\n",
    "    print('Mean of prices between ',x, 'and',y,'is', statistics.mean(temp_list))\n",
    "    print('Median is', statistics.median(temp_list))\n",
    "    print('Numbers range from ', min(temp_list), 'to', max(temp_list))\n",
    "    \n",
    "def calculate_stats(list):\n",
    "    desc_stats_for(800,899,list)\n",
    "    desc_stats_for(900,999,list)\n",
    "    desc_stats_for(1000,1099,list)\n",
    "    desc_stats_for(1100,1200,list)\n",
    "    \n",
    "calculate_stats(HomePriceK)\n"
   ]
  },
  {
   "cell_type": "markdown",
   "metadata": {},
   "source": [
    "### HW4 -- Create scatter plot for data in HomePriceK \n",
    "#### Include axes labels and title for the plot "
   ]
  },
  {
   "cell_type": "code",
   "execution_count": 58,
   "metadata": {
    "scrolled": false
   },
   "outputs": [
    {
     "data": {
      "image/png": "[encoded data removed]",
      "text/plain": [
       "<Figure size 432x288 with 1 Axes>"
      ]
     },
     "metadata": {
      "needs_background": "light"
     },
     "output_type": "display_data"
    }
   ],
   "source": [
    "# Your code here ...\n",
    "# univariate plot\n",
    "import pandas as pd\n",
    "import matplotlib.pyplot as plt\n",
    "%matplotlib inline\n",
    "\n",
    "# create a dataframe and give it two columns: price and range\n",
    "df = pd.DataFrame({'price':[],'range':[]})\n",
    "\n",
    "# iterate through list\n",
    "# for every entry add price value to price, then determine which group and create\n",
    "i = 0\n",
    "\n",
    "for price in HomePriceK:\n",
    "    if price >= 800:\n",
    "        if price <= 899:\n",
    "            range = 800\n",
    "    if price >= 900:\n",
    "        if price <= 999:\n",
    "            range = 900\n",
    "    if price >= 1000:\n",
    "        if price <= 1099:\n",
    "            range = 1000\n",
    "    if price >= 1100:\n",
    "        if price <= 1200:\n",
    "            range = 1100\n",
    "    #print(price,range)\n",
    "    df.loc[i]=(price,range)\n",
    "    i = i + 1\n",
    "\n",
    "# plot\n",
    "plt.title(\"Price and Ranges\")\n",
    "plt.xlabel(\"Index Position\")\n",
    "plt.ylabel(\"Price\")\n",
    "plt.scatter(df.index,df['price']) # wound finding out how to use index as my x axis, so no need for ranges\n",
    "plt.show()"
   ]
  },
  {
   "cell_type": "markdown",
   "metadata": {},
   "source": [
    "### HW5 -- Sort HomePriceK; Create scatter plot with sorted list \n",
    "#### Include axes labels and title for the plot "
   ]
  },
  {
   "cell_type": "code",
   "execution_count": 73,
   "metadata": {},
   "outputs": [
    {
     "data": {
      "image/png": "[encoded data removed]",
      "text/plain": [
       "<Figure size 432x288 with 1 Axes>"
      ]
     },
     "metadata": {
      "needs_background": "light"
     },
     "output_type": "display_data"
    },
    {
     "data": {
      "text/html": [
       "<div>\n",
       "<style scoped>\n",
       "    .dataframe tbody tr th:only-of-type {\n",
       "        vertical-align: middle;\n",
       "    }\n",
       "\n",
       "    .dataframe tbody tr th {\n",
       "        vertical-align: top;\n",
       "    }\n",
       "\n",
       "    .dataframe thead th {\n",
       "        text-align: right;\n",
       "    }\n",
       "</style>\n",
       "<table border=\"1\" class=\"dataframe\">\n",
       "  <thead>\n",
       "    <tr style=\"text-align: right;\">\n",
       "      <th></th>\n",
       "      <th>price</th>\n",
       "      <th>range</th>\n",
       "    </tr>\n",
       "  </thead>\n",
       "  <tbody>\n",
       "    <tr>\n",
       "      <th>0</th>\n",
       "      <td>800.0</td>\n",
       "      <td>800.0</td>\n",
       "    </tr>\n",
       "    <tr>\n",
       "      <th>1</th>\n",
       "      <td>801.0</td>\n",
       "      <td>800.0</td>\n",
       "    </tr>\n",
       "    <tr>\n",
       "      <th>2</th>\n",
       "      <td>801.0</td>\n",
       "      <td>800.0</td>\n",
       "    </tr>\n",
       "    <tr>\n",
       "      <th>3</th>\n",
       "      <td>801.0</td>\n",
       "      <td>800.0</td>\n",
       "    </tr>\n",
       "    <tr>\n",
       "      <th>4</th>\n",
       "      <td>801.0</td>\n",
       "      <td>800.0</td>\n",
       "    </tr>\n",
       "  </tbody>\n",
       "</table>\n",
       "</div>"
      ],
      "text/plain": [
       "   price  range\n",
       "0  800.0  800.0\n",
       "1  801.0  800.0\n",
       "2  801.0  800.0\n",
       "3  801.0  800.0\n",
       "4  801.0  800.0"
      ]
     },
     "execution_count": 73,
     "metadata": {},
     "output_type": "execute_result"
    }
   ],
   "source": [
    "# sort prices\n",
    "dfs = df.sort_values(by='price')\n",
    "dfs.reset_index(drop=True, inplace=True)\n",
    "\n",
    "\n",
    "plt.title('Sorted Scatter Plot of Price and Range')\n",
    "plt.xlabel('Range')\n",
    "plt.ylabel('Price')\n",
    "plt.scatter(dfs.index,dfs['price'])\n",
    "plt.show()\n",
    "\n",
    "\n",
    "dfs.head()"
   ]
  },
  {
   "cell_type": "markdown",
   "metadata": {},
   "source": [
    "### HW6 -- Create histogram for data in HomePriceK\n",
    "#### Include axes labels and title for the plot"
   ]
  },
  {
   "cell_type": "code",
   "execution_count": 28,
   "metadata": {},
   "outputs": [
    {
     "data": {
      "image/png": "[encoded data removed]",
      "text/plain": [
       "<Figure size 432x288 with 1 Axes>"
      ]
     },
     "metadata": {
      "needs_background": "light"
     },
     "output_type": "display_data"
    }
   ],
   "source": [
    "# Your code here ...\n",
    "# previous class\n",
    "# matplotlib. see class 5\n",
    "# can cut and paste\n",
    "plt.title(\"Price\")\n",
    "plt.ylabel(\"Qty\")\n",
    "plt.hist(df['price'])\n",
    "plt.show()"
   ]
  },
  {
   "cell_type": "markdown",
   "metadata": {},
   "source": [
    "### HW7 -- Create boxplot for data in HomePriceK"
   ]
  },
  {
   "cell_type": "code",
   "execution_count": 9,
   "metadata": {},
   "outputs": [
    {
     "data": {
      "image/png": "[encoded data removed]",
      "text/plain": [
       "<Figure size 432x288 with 1 Axes>"
      ]
     },
     "metadata": {
      "needs_background": "light"
     },
     "output_type": "display_data"
    }
   ],
   "source": [
    "# Your code here ...\n",
    "\n",
    "plt.title(\"Price\")\n",
    "plt.ylabel(\"Qty\")\n",
    "plt.boxplot(df['price'])\n",
    "plt.show()"
   ]
  },
  {
   "cell_type": "code",
   "execution_count": 55,
   "metadata": {},
   "outputs": [],
   "source": [
    "#create 4 dataframes of ranges\n",
    "\n",
    "df1 = df.drop(df[df['range'] !=800].index)\n",
    "df2 = df.drop(df[df['range'] !=900].index)\n",
    "df3 = df.drop(df[df['range'] !=1000].index)\n",
    "df4 = df.drop(df[df['range'] !=1100].index)\n",
    "\n"
   ]
  },
  {
   "cell_type": "markdown",
   "metadata": {},
   "source": [
    "### HW8 -- Create boxplots for 4 price ranges (800-899), (900,999), (1000,1099), (1100,1200)\n",
    "### Use subplot to create 2x2 visual to see all 4 plots in the same visual"
   ]
  },
  {
   "cell_type": "code",
   "execution_count": 53,
   "metadata": {},
   "outputs": [
    {
     "data": {
      "image/png": "[encoded data removed]",
      "text/plain": [
       "<Figure size 360x360 with 4 Axes>"
      ]
     },
     "metadata": {
      "needs_background": "light"
     },
     "output_type": "display_data"
    }
   ],
   "source": [
    "# Your code here ...\n",
    "# from matplot lib notebook\n",
    "# plots and subplots \n",
    "# for visualization and side by side comparison\n",
    "'''from C5 Matplot\n",
    "fig, axs = plt.subplots(2, 2, figsize=(5, 5))\n",
    "axs[0, 0].hist(df['price']) # in the top right corner, locationwise\n",
    "axs[1, 0].scatter(df['price'], df['range'])\n",
    "axs[0, 1].plot(df['price'], df['range'])\n",
    "axs[1, 1].hist2d(df['price'], df['range'])\n",
    "\n",
    "plt.show()\n",
    "\n",
    "should also create 4 separate dataframes\n",
    "df1,2,3,and 4\n",
    "\n",
    "'''\n",
    "fig, axs = plt.subplots(2, 2, figsize=(5, 5))\n",
    "axs[0, 0].boxplot(df1['price'] )  # in the top right corner, locationwise\n",
    "axs[1, 0].boxplot(df2['price'])\n",
    "axs[0, 1].boxplot(df3['price'])\n",
    "axs[1, 1].boxplot(df4['price'])\n",
    "\n",
    "plt.show()"
   ]
  },
  {
   "cell_type": "code",
   "execution_count": null,
   "metadata": {},
   "outputs": [],
   "source": []
  }
 ],
 "metadata": {
  "kernelspec": {
   "display_name": "Python 3",
   "language": "python",
   "name": "python3"
  },
  "language_info": {
   "codemirror_mode": {
    "name": "ipython",
    "version": 3
   },
   "file_extension": ".py",
   "mimetype": "text/x-python",
   "name": "python",
   "nbconvert_exporter": "python",
   "pygments_lexer": "ipython3",
   "version": "3.7.1"
  }
 },
 "nbformat": 4,
 "nbformat_minor": 2
}
