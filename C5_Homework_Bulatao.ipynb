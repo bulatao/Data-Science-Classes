{
 "cells": [
  {
   "cell_type": "markdown",
   "metadata": {},
   "source": [
    "# Week 5 Assignment"
   ]
  },
  {
   "cell_type": "code",
   "execution_count": 3,
   "metadata": {},
   "outputs": [
    {
     "data": {
      "text/plain": [
       "'Submit one Py notebook with the following:\\n1) Select new dataset\\n2) Read csv/txt with Pandas\\n3) Perform EDA (Early Data Exploration) (descriptive statistics, histograms)\\n4) Use groupby, correlations to understand the dataset\\n5) Plot data with Matplotlib for visualizing the dataset\\n6) Identify target and factors\\n7) Explain your dataset with high-level analysis\\n\\nDataset repositories:\\nhttps://archive.ics.uci.edu/ml/datasets.html\\nhttps://www.kaggle.com/datasets'"
      ]
     },
     "execution_count": 3,
     "metadata": {},
     "output_type": "execute_result"
    }
   ],
   "source": [
    "# get a dataset from Kaggle\n",
    "# do EDA\n",
    "# https://www.kaggle.com/szamil/who-suicide-statistics/version/1\n",
    "'''Submit one Py notebook with the following:\n",
    "1) Select new dataset\n",
    "2) Read csv/txt with Pandas\n",
    "3) Perform EDA (Early Data Exploration) (descriptive statistics, histograms)\n",
    "4) Use groupby, correlations to understand the dataset\n",
    "5) Plot data with Matplotlib for visualizing the dataset\n",
    "6) Identify target and factors\n",
    "7) Explain your dataset with high-level analysis\n",
    "\n",
    "Dataset repositories:\n",
    "https://archive.ics.uci.edu/ml/datasets.html\n",
    "https://www.kaggle.com/datasets'''"
   ]
  },
  {
   "cell_type": "code",
   "execution_count": 2,
   "metadata": {},
   "outputs": [],
   "source": [
    "import pandas as pd\n",
    "import matplotlib.pyplot as plt\n",
    "%matplotlib inline"
   ]
  },
  {
   "cell_type": "code",
   "execution_count": 3,
   "metadata": {},
   "outputs": [],
   "source": [
    "df = pd.read_csv(\"who_suicide_statistics.csv\")"
   ]
  },
  {
   "cell_type": "code",
   "execution_count": 4,
   "metadata": {},
   "outputs": [
    {
     "name": "stdout",
     "output_type": "stream",
     "text": [
      "                    country  year     sex          age  suicides_no  \\\n",
      "0                   Albania  1985  female  15-24 years          NaN   \n",
      "1                   Albania  1985  female  25-34 years          NaN   \n",
      "2                   Albania  1985  female  35-54 years          NaN   \n",
      "3                   Albania  1985  female   5-14 years          NaN   \n",
      "4                   Albania  1985  female  55-74 years          NaN   \n",
      "5                   Albania  1985  female    75+ years          NaN   \n",
      "6                   Albania  1985    male  15-24 years          NaN   \n",
      "7                   Albania  1985    male  25-34 years          NaN   \n",
      "8                   Albania  1985    male  35-54 years          NaN   \n",
      "9                   Albania  1985    male   5-14 years          NaN   \n",
      "10                  Albania  1985    male  55-74 years          NaN   \n",
      "11                  Albania  1985    male    75+ years          NaN   \n",
      "12                  Albania  1986  female  15-24 years          NaN   \n",
      "13                  Albania  1986  female  25-34 years          NaN   \n",
      "14                  Albania  1986  female  35-54 years          NaN   \n",
      "15                  Albania  1986  female   5-14 years          NaN   \n",
      "16                  Albania  1986  female  55-74 years          NaN   \n",
      "17                  Albania  1986  female    75+ years          NaN   \n",
      "18                  Albania  1986    male  15-24 years          NaN   \n",
      "19                  Albania  1986    male  25-34 years          NaN   \n",
      "20                  Albania  1986    male  35-54 years          NaN   \n",
      "21                  Albania  1986    male   5-14 years          NaN   \n",
      "22                  Albania  1986    male  55-74 years          NaN   \n",
      "23                  Albania  1986    male    75+ years          NaN   \n",
      "24                  Albania  1987  female  15-24 years         14.0   \n",
      "25                  Albania  1987  female  25-34 years          4.0   \n",
      "26                  Albania  1987  female  35-54 years          6.0   \n",
      "27                  Albania  1987  female   5-14 years          0.0   \n",
      "28                  Albania  1987  female  55-74 years          0.0   \n",
      "29                  Albania  1987  female    75+ years          1.0   \n",
      "...                     ...   ...     ...          ...          ...   \n",
      "43746  Virgin Islands (USA)  2012    male  15-24 years          2.0   \n",
      "43747  Virgin Islands (USA)  2012    male  25-34 years          2.0   \n",
      "43748  Virgin Islands (USA)  2012    male  35-54 years          2.0   \n",
      "43749  Virgin Islands (USA)  2012    male   5-14 years          0.0   \n",
      "43750  Virgin Islands (USA)  2012    male  55-74 years          0.0   \n",
      "43751  Virgin Islands (USA)  2012    male    75+ years          0.0   \n",
      "43752  Virgin Islands (USA)  2015  female  15-24 years          0.0   \n",
      "43753  Virgin Islands (USA)  2015  female  25-34 years          0.0   \n",
      "43754  Virgin Islands (USA)  2015  female  35-54 years          0.0   \n",
      "43755  Virgin Islands (USA)  2015  female   5-14 years          0.0   \n",
      "43756  Virgin Islands (USA)  2015  female  55-74 years          0.0   \n",
      "43757  Virgin Islands (USA)  2015  female    75+ years          0.0   \n",
      "43758  Virgin Islands (USA)  2015    male  15-24 years          0.0   \n",
      "43759  Virgin Islands (USA)  2015    male  25-34 years          2.0   \n",
      "43760  Virgin Islands (USA)  2015    male  35-54 years          1.0   \n",
      "43761  Virgin Islands (USA)  2015    male   5-14 years          0.0   \n",
      "43762  Virgin Islands (USA)  2015    male  55-74 years          0.0   \n",
      "43763  Virgin Islands (USA)  2015    male    75+ years          0.0   \n",
      "43764              Zimbabwe  1990  female  15-24 years        124.0   \n",
      "43765              Zimbabwe  1990  female  25-34 years         59.0   \n",
      "43766              Zimbabwe  1990  female  35-54 years         45.0   \n",
      "43767              Zimbabwe  1990  female   5-14 years          6.0   \n",
      "43768              Zimbabwe  1990  female  55-74 years         20.0   \n",
      "43769              Zimbabwe  1990  female    75+ years          3.0   \n",
      "43770              Zimbabwe  1990    male  15-24 years        132.0   \n",
      "43771              Zimbabwe  1990    male  25-34 years        150.0   \n",
      "43772              Zimbabwe  1990    male  35-54 years        132.0   \n",
      "43773              Zimbabwe  1990    male   5-14 years          6.0   \n",
      "43774              Zimbabwe  1990    male  55-74 years         74.0   \n",
      "43775              Zimbabwe  1990    male    75+ years         13.0   \n",
      "\n",
      "       population  \n",
      "0        277900.0  \n",
      "1        246800.0  \n",
      "2        267500.0  \n",
      "3        298300.0  \n",
      "4        138700.0  \n",
      "5         34200.0  \n",
      "6        301400.0  \n",
      "7        264200.0  \n",
      "8        296700.0  \n",
      "9        325800.0  \n",
      "10       132500.0  \n",
      "11        21100.0  \n",
      "12       283900.0  \n",
      "13       252100.0  \n",
      "14       273200.0  \n",
      "15       304700.0  \n",
      "16       141700.0  \n",
      "17        34900.0  \n",
      "18       306700.0  \n",
      "19       269000.0  \n",
      "20       302000.0  \n",
      "21       331600.0  \n",
      "22       134800.0  \n",
      "23        21400.0  \n",
      "24       289700.0  \n",
      "25       257200.0  \n",
      "26       278800.0  \n",
      "27       311000.0  \n",
      "28       144600.0  \n",
      "29        35600.0  \n",
      "...           ...  \n",
      "43746      6663.0  \n",
      "43747      5061.0  \n",
      "43748     13542.0  \n",
      "43749      7334.0  \n",
      "43750     11957.0  \n",
      "43751      2135.0  \n",
      "43752      6675.0  \n",
      "43753      5662.0  \n",
      "43754     14278.0  \n",
      "43755      7099.0  \n",
      "43756     14269.0  \n",
      "43757      3508.0  \n",
      "43758      6933.0  \n",
      "43759      4609.0  \n",
      "43760     12516.0  \n",
      "43761      7291.0  \n",
      "43762     12615.0  \n",
      "43763      2496.0  \n",
      "43764         NaN  \n",
      "43765         NaN  \n",
      "43766         NaN  \n",
      "43767         NaN  \n",
      "43768         NaN  \n",
      "43769         NaN  \n",
      "43770         NaN  \n",
      "43771         NaN  \n",
      "43772         NaN  \n",
      "43773         NaN  \n",
      "43774         NaN  \n",
      "43775         NaN  \n",
      "\n",
      "[43776 rows x 6 columns]\n"
     ]
    }
   ],
   "source": [
    "print(df)"
   ]
  },
  {
   "cell_type": "code",
   "execution_count": 7,
   "metadata": {},
   "outputs": [
    {
     "data": {
      "text/html": [
       "<div>\n",
       "<style scoped>\n",
       "    .dataframe tbody tr th:only-of-type {\n",
       "        vertical-align: middle;\n",
       "    }\n",
       "\n",
       "    .dataframe tbody tr th {\n",
       "        vertical-align: top;\n",
       "    }\n",
       "\n",
       "    .dataframe thead th {\n",
       "        text-align: right;\n",
       "    }\n",
       "</style>\n",
       "<table border=\"1\" class=\"dataframe\">\n",
       "  <thead>\n",
       "    <tr style=\"text-align: right;\">\n",
       "      <th></th>\n",
       "      <th>year</th>\n",
       "      <th>suicides_no</th>\n",
       "      <th>population</th>\n",
       "    </tr>\n",
       "  </thead>\n",
       "  <tbody>\n",
       "    <tr>\n",
       "      <th>count</th>\n",
       "      <td>43776.000000</td>\n",
       "      <td>41520.000000</td>\n",
       "      <td>3.831600e+04</td>\n",
       "    </tr>\n",
       "    <tr>\n",
       "      <th>mean</th>\n",
       "      <td>1998.502467</td>\n",
       "      <td>193.315390</td>\n",
       "      <td>1.664091e+06</td>\n",
       "    </tr>\n",
       "    <tr>\n",
       "      <th>std</th>\n",
       "      <td>10.338711</td>\n",
       "      <td>800.589926</td>\n",
       "      <td>3.647231e+06</td>\n",
       "    </tr>\n",
       "    <tr>\n",
       "      <th>min</th>\n",
       "      <td>1979.000000</td>\n",
       "      <td>0.000000</td>\n",
       "      <td>2.590000e+02</td>\n",
       "    </tr>\n",
       "    <tr>\n",
       "      <th>25%</th>\n",
       "      <td>1990.000000</td>\n",
       "      <td>1.000000</td>\n",
       "      <td>8.511275e+04</td>\n",
       "    </tr>\n",
       "    <tr>\n",
       "      <th>50%</th>\n",
       "      <td>1999.000000</td>\n",
       "      <td>14.000000</td>\n",
       "      <td>3.806550e+05</td>\n",
       "    </tr>\n",
       "    <tr>\n",
       "      <th>75%</th>\n",
       "      <td>2007.000000</td>\n",
       "      <td>91.000000</td>\n",
       "      <td>1.305698e+06</td>\n",
       "    </tr>\n",
       "    <tr>\n",
       "      <th>max</th>\n",
       "      <td>2016.000000</td>\n",
       "      <td>22338.000000</td>\n",
       "      <td>4.380521e+07</td>\n",
       "    </tr>\n",
       "  </tbody>\n",
       "</table>\n",
       "</div>"
      ],
      "text/plain": [
       "               year   suicides_no    population\n",
       "count  43776.000000  41520.000000  3.831600e+04\n",
       "mean    1998.502467    193.315390  1.664091e+06\n",
       "std       10.338711    800.589926  3.647231e+06\n",
       "min     1979.000000      0.000000  2.590000e+02\n",
       "25%     1990.000000      1.000000  8.511275e+04\n",
       "50%     1999.000000     14.000000  3.806550e+05\n",
       "75%     2007.000000     91.000000  1.305698e+06\n",
       "max     2016.000000  22338.000000  4.380521e+07"
      ]
     },
     "execution_count": 7,
     "metadata": {},
     "output_type": "execute_result"
    }
   ],
   "source": [
    "df.describe()"
   ]
  },
  {
   "cell_type": "code",
   "execution_count": 8,
   "metadata": {},
   "outputs": [
    {
     "data": {
      "image/png": "[encoded data removed]",
      "text/plain": [
       "<Figure size 432x288 with 1 Axes>"
      ]
     },
     "metadata": {
      "needs_background": "light"
     },
     "output_type": "display_data"
    }
   ],
   "source": [
    "# let's plot year and no of suicides\n",
    "plt.title(\"year and number of suicicdes\")\n",
    "plt.xlabel(\"Year\")\n",
    "plt.ylabel(\"No of Suicides\")\n",
    "plt.scatter(df['year'],df['suicides_no'])\n",
    "plt.show()"
   ]
  },
  {
   "cell_type": "code",
   "execution_count": 5,
   "metadata": {},
   "outputs": [
    {
     "data": {
      "text/html": [
       "<div>\n",
       "<style scoped>\n",
       "    .dataframe tbody tr th:only-of-type {\n",
       "        vertical-align: middle;\n",
       "    }\n",
       "\n",
       "    .dataframe tbody tr th {\n",
       "        vertical-align: top;\n",
       "    }\n",
       "\n",
       "    .dataframe thead th {\n",
       "        text-align: right;\n",
       "    }\n",
       "</style>\n",
       "<table border=\"1\" class=\"dataframe\">\n",
       "  <thead>\n",
       "    <tr style=\"text-align: right;\">\n",
       "      <th></th>\n",
       "      <th>year</th>\n",
       "      <th>suicides_no</th>\n",
       "      <th>population</th>\n",
       "    </tr>\n",
       "  </thead>\n",
       "  <tbody>\n",
       "    <tr>\n",
       "      <th>year</th>\n",
       "      <td>1.000000</td>\n",
       "      <td>-0.011985</td>\n",
       "      <td>0.027016</td>\n",
       "    </tr>\n",
       "    <tr>\n",
       "      <th>suicides_no</th>\n",
       "      <td>-0.011985</td>\n",
       "      <td>1.000000</td>\n",
       "      <td>0.611406</td>\n",
       "    </tr>\n",
       "    <tr>\n",
       "      <th>population</th>\n",
       "      <td>0.027016</td>\n",
       "      <td>0.611406</td>\n",
       "      <td>1.000000</td>\n",
       "    </tr>\n",
       "  </tbody>\n",
       "</table>\n",
       "</div>"
      ],
      "text/plain": [
       "                 year  suicides_no  population\n",
       "year         1.000000    -0.011985    0.027016\n",
       "suicides_no -0.011985     1.000000    0.611406\n",
       "population   0.027016     0.611406    1.000000"
      ]
     },
     "execution_count": 5,
     "metadata": {},
     "output_type": "execute_result"
    }
   ],
   "source": [
    "# check for correlations\n",
    "df.corr()"
   ]
  },
  {
   "cell_type": "code",
   "execution_count": 6,
   "metadata": {},
   "outputs": [
    {
     "data": {
      "image/png": "[encoded data removed]",
      "text/plain": [
       "<Figure size 432x288 with 1 Axes>"
      ]
     },
     "metadata": {
      "needs_background": "light"
     },
     "output_type": "display_data"
    }
   ],
   "source": [
    "plt.title(\"suicicdes_no and population\") \n",
    "plt.xlabel(\"suicides_no\") \n",
    "plt.ylabel(\"population\") \n",
    "plt.scatter(df['suicides_no'],df['population'])\n",
    "plt.show()"
   ]
  },
  {
   "cell_type": "code",
   "execution_count": 8,
   "metadata": {},
   "outputs": [
    {
     "data": {
      "image/png": "[encoded data removed]",
      "text/plain": [
       "<Figure size 432x288 with 1 Axes>"
      ]
     },
     "metadata": {
      "needs_background": "light"
     },
     "output_type": "display_data"
    }
   ],
   "source": [
    "# ugly chart earlier. let's reverse it\n",
    "plt.title(\"population and suicides_no\") \n",
    "plt.xlabel(\"population\") \n",
    "plt.ylabel(\"suicicdes_no\") \n",
    "plt.scatter(df['population'],df['suicides_no'])\n",
    "plt.show()"
   ]
  },
  {
   "cell_type": "code",
   "execution_count": 10,
   "metadata": {},
   "outputs": [
    {
     "name": "stdout",
     "output_type": "stream",
     "text": [
      "                                    count         mean        std     min  \\\n",
      "country                                                                     \n",
      "Albania                             372.0  2000.000000   8.956318  1985.0   \n",
      "Anguilla                            348.0  1999.517241  10.511815  1983.0   \n",
      "Antigua and Barbuda                 336.0  1998.892857   9.441753  1983.0   \n",
      "Argentina                           444.0  1997.000000  10.689122  1979.0   \n",
      "Armenia                             420.0  1998.914286  10.250434  1981.0   \n",
      "Aruba                               240.0  2004.550000   7.502134  1987.0   \n",
      "Australia                           444.0  1997.000000  10.689122  1979.0   \n",
      "Austria                             456.0  1997.500000  10.977900  1979.0   \n",
      "Azerbaijan                          300.0  1993.920000   7.479309  1981.0   \n",
      "Bahamas                             348.0  1997.517241  10.382719  1979.0   \n",
      "Bahrain                             252.0  2002.809524   8.184831  1985.0   \n",
      "Barbados                            372.0  1995.806452  10.722934  1979.0   \n",
      "Belarus                             408.0  1998.411765   9.965398  1981.0   \n",
      "Belgium                             444.0  1997.000000  10.689122  1979.0   \n",
      "Belize                              408.0  1997.764706  10.789181  1979.0   \n",
      "Bermuda                             432.0  1997.500000  10.400339  1980.0   \n",
      "Bolivia                              48.0  2001.500000   1.129865  2000.0   \n",
      "Bosnia and Herzegovina              132.0  1996.636364  11.614201  1985.0   \n",
      "Brazil                              444.0  1997.000000  10.689122  1979.0   \n",
      "British Virgin Islands              336.0  1994.750000   8.483698  1981.0   \n",
      "Brunei Darussalam                   252.0  2005.000000   6.067351  1995.0   \n",
      "Bulgaria                            432.0  1996.500000  10.400339  1979.0   \n",
      "Cabo Verde                           12.0  2011.000000   0.000000  2011.0   \n",
      "Canada                              420.0  1996.000000  10.111550  1979.0   \n",
      "Cayman Islands                      372.0  1996.064516   9.070917  1981.0   \n",
      "Chile                               444.0  1997.000000  10.689122  1979.0   \n",
      "Colombia                            384.0  1999.500000   9.245138  1984.0   \n",
      "Costa Rica                          432.0  1996.500000  10.400339  1979.0   \n",
      "Croatia                             384.0  2000.500000   9.245138  1985.0   \n",
      "Cuba                                444.0  1997.000000  10.689122  1979.0   \n",
      "...                                   ...          ...        ...     ...   \n",
      "Saudi Arabia                         24.0  2010.500000   1.532262  2009.0   \n",
      "Serbia                              216.0  2006.500000   5.200179  1998.0   \n",
      "Seychelles                          216.0  2004.333333   9.125482  1985.0   \n",
      "Singapore                           444.0  1997.000000  10.689122  1979.0   \n",
      "Slovakia                            372.0  1999.000000   8.956318  1984.0   \n",
      "Slovenia                            372.0  2000.000000   8.956318  1985.0   \n",
      "South Africa                        240.0  2005.500000   5.778332  1996.0   \n",
      "Spain                               444.0  1997.000000  10.689122  1979.0   \n",
      "Sri Lanka                           192.0  1992.687500   8.951659  1980.0   \n",
      "Suriname                            396.0  1997.090909  10.562979  1979.0   \n",
      "Sweden                              456.0  1997.500000  10.977900  1979.0   \n",
      "Switzerland                         444.0  1997.000000  10.689122  1979.0   \n",
      "Syrian Arab Republic                204.0  1998.941176   9.764542  1980.0   \n",
      "TFYR Macedonia                      288.0  2002.500000   6.934236  1991.0   \n",
      "Tajikistan                          288.0  1994.750000   8.113739  1981.0   \n",
      "Thailand                            408.0  1998.058824  11.343052  1979.0   \n",
      "Trinidad and Tobago                 396.0  1995.000000   9.533950  1979.0   \n",
      "Tunisia                              24.0  2011.000000   2.043016  2009.0   \n",
      "Turkey                               84.0  2012.000000   2.012012  2009.0   \n",
      "Turkmenistan                        408.0  1998.411765   9.965398  1981.0   \n",
      "Turks and Caicos Islands            360.0  1996.566667   9.238469  1980.0   \n",
      "Ukraine                             396.0  1997.969697   9.780844  1981.0   \n",
      "United Arab Emirates                 72.0  2007.500000   1.719810  2005.0   \n",
      "United Kingdom                      456.0  1997.500000  10.977900  1979.0   \n",
      "United States of America            456.0  1997.500000  10.977900  1979.0   \n",
      "Uruguay                             408.0  1996.911765  10.806407  1979.0   \n",
      "Uzbekistan                          360.0  1997.000000   9.691624  1981.0   \n",
      "Venezuela (Bolivarian Republic of)  384.0  1996.562500  10.305832  1979.0   \n",
      "Virgin Islands (USA)                240.0  2001.500000   9.841420  1980.0   \n",
      "Zimbabwe                             12.0  1990.000000   0.000000  1990.0   \n",
      "\n",
      "                                        25%     50%      75%     max  \n",
      "country                                                               \n",
      "Albania                             1992.00  2000.0  2008.00  2015.0  \n",
      "Anguilla                            1990.00  2001.0  2009.00  2016.0  \n",
      "Antigua and Barbuda                 1990.75  1999.5  2006.25  2015.0  \n",
      "Argentina                           1988.00  1997.0  2006.00  2015.0  \n",
      "Armenia                             1990.00  1999.0  2008.00  2016.0  \n",
      "Aruba                               2000.75  2005.5  2010.25  2015.0  \n",
      "Australia                           1988.00  1997.0  2006.00  2015.0  \n",
      "Austria                             1988.00  1997.5  2007.00  2016.0  \n",
      "Azerbaijan                          1988.00  1994.0  2000.00  2007.0  \n",
      "Bahamas                             1987.00  1999.0  2006.00  2013.0  \n",
      "Bahrain                             1999.00  2004.0  2009.00  2014.0  \n",
      "Barbados                            1986.00  1994.0  2006.00  2013.0  \n",
      "Belarus                             1990.00  1998.5  2007.00  2015.0  \n",
      "Belgium                             1988.00  1997.0  2006.00  2015.0  \n",
      "Belize                              1989.00  1998.5  2007.00  2015.0  \n",
      "Bermuda                             1988.75  1997.5  2006.25  2015.0  \n",
      "Bolivia                             2000.75  2001.5  2002.25  2003.0  \n",
      "Bosnia and Herzegovina              1987.00  1990.0  2011.00  2014.0  \n",
      "Brazil                              1988.00  1997.0  2006.00  2015.0  \n",
      "British Virgin Islands              1987.75  1994.5  2001.25  2010.0  \n",
      "Brunei Darussalam                   2000.00  2005.0  2010.00  2015.0  \n",
      "Bulgaria                            1987.75  1996.5  2005.25  2014.0  \n",
      "Cabo Verde                          2011.00  2011.0  2011.00  2011.0  \n",
      "Canada                              1987.00  1996.0  2005.00  2013.0  \n",
      "Cayman Islands                      1988.00  1996.0  2004.00  2013.0  \n",
      "Chile                               1988.00  1997.0  2006.00  2015.0  \n",
      "Colombia                            1991.75  1999.5  2007.25  2015.0  \n",
      "Costa Rica                          1987.75  1996.5  2005.25  2014.0  \n",
      "Croatia                             1992.75  2000.5  2008.25  2016.0  \n",
      "Cuba                                1988.00  1997.0  2006.00  2015.0  \n",
      "...                                     ...     ...      ...     ...  \n",
      "Saudi Arabia                        2009.00  2010.5  2012.00  2012.0  \n",
      "Serbia                              2002.00  2006.5  2011.00  2015.0  \n",
      "Seychelles                          2002.00  2006.5  2011.00  2015.0  \n",
      "Singapore                           1988.00  1997.0  2006.00  2015.0  \n",
      "Slovakia                            1991.00  1999.0  2007.00  2014.0  \n",
      "Slovenia                            1992.00  2000.0  2008.00  2015.0  \n",
      "South Africa                        2000.75  2005.5  2010.25  2015.0  \n",
      "Spain                               1988.00  1997.0  2006.00  2015.0  \n",
      "Sri Lanka                           1983.75  1996.5  2000.25  2006.0  \n",
      "Suriname                            1988.00  1998.0  2006.00  2014.0  \n",
      "Sweden                              1988.00  1997.5  2007.00  2016.0  \n",
      "Switzerland                         1988.00  1997.0  2006.00  2015.0  \n",
      "Syrian Arab Republic                1998.00  2002.0  2006.00  2010.0  \n",
      "TFYR Macedonia                      1996.75  2002.5  2008.25  2014.0  \n",
      "Tajikistan                          1988.75  1994.5  2000.25  2016.0  \n",
      "Thailand                            1987.00  1998.5  2008.00  2016.0  \n",
      "Trinidad and Tobago                 1987.00  1995.0  2003.00  2011.0  \n",
      "Tunisia                             2009.00  2011.0  2013.00  2013.0  \n",
      "Turkey                              2010.00  2012.0  2014.00  2015.0  \n",
      "Turkmenistan                        1990.00  1998.5  2007.00  2015.0  \n",
      "Turks and Caicos Islands            1989.00  1996.5  2004.00  2014.0  \n",
      "Ukraine                             1990.00  1998.0  2006.00  2015.0  \n",
      "United Arab Emirates                2006.00  2007.5  2009.00  2010.0  \n",
      "United Kingdom                      1988.00  1997.5  2007.00  2016.0  \n",
      "United States of America            1988.00  1997.5  2007.00  2016.0  \n",
      "Uruguay                             1987.00  1997.5  2006.00  2015.0  \n",
      "Uzbekistan                          1989.00  1996.5  2004.00  2014.0  \n",
      "Venezuela (Bolivarian Republic of)  1987.75  1997.5  2005.25  2013.0  \n",
      "Virgin Islands (USA)                1998.75  2003.5  2008.25  2015.0  \n",
      "Zimbabwe                            1990.00  1990.0  1990.00  1990.0  \n",
      "\n",
      "[141 rows x 8 columns]\n"
     ]
    }
   ],
   "source": [
    "# let's group by country\n",
    "df1 = df.groupby(\"country\").year.describe()\n",
    "print(df1)"
   ]
  },
  {
   "cell_type": "code",
   "execution_count": 23,
   "metadata": {},
   "outputs": [
    {
     "data": {
      "text/plain": [
       "pandas.core.frame.DataFrame"
      ]
     },
     "execution_count": 23,
     "metadata": {},
     "output_type": "execute_result"
    }
   ],
   "source": [
    "df2 = df.groupby(\"year\", as_index = False)[\"suicides_no\"].sum()\n",
    "\n",
    "type(df2)"
   ]
  },
  {
   "cell_type": "code",
   "execution_count": 24,
   "metadata": {},
   "outputs": [
    {
     "name": "stdout",
     "output_type": "stream",
     "text": [
      "    year  suicides_no\n",
      "0   1979      92790.0\n",
      "1   1980     153548.0\n",
      "2   1981     178014.0\n",
      "3   1982     182893.0\n",
      "4   1983     122430.0\n",
      "5   1984     124427.0\n",
      "6   1985     197533.0\n",
      "7   1986     189225.0\n",
      "8   1987     186364.0\n",
      "9   1988     181416.0\n",
      "10  1989     186043.0\n",
      "11  1990     205507.0\n",
      "12  1991     204756.0\n",
      "13  1992     219100.0\n",
      "14  1993     229243.0\n",
      "15  1994     240628.0\n",
      "16  1995     245915.0\n",
      "17  1996     250353.0\n",
      "18  1997     244322.0\n",
      "19  1998     253279.0\n",
      "20  1999     259984.0\n",
      "21  2000     259905.0\n",
      "22  2001     255071.0\n",
      "23  2002     260401.0\n",
      "24  2003     260429.0\n",
      "25  2004     245249.0\n",
      "26  2005     238622.0\n",
      "27  2006     237200.0\n",
      "28  2007     237211.0\n",
      "29  2008     239368.0\n",
      "30  2009     247324.0\n",
      "31  2010     242243.0\n",
      "32  2011     239972.0\n",
      "33  2012     234085.0\n",
      "34  2013     229421.0\n",
      "35  2014     227793.0\n",
      "36  2015     207908.0\n",
      "37  2016      16483.0\n"
     ]
    }
   ],
   "source": [
    "#get list of column names\n",
    "print(df2)"
   ]
  },
  {
   "cell_type": "code",
   "execution_count": 33,
   "metadata": {},
   "outputs": [
    {
     "data": {
      "text/html": [
       "<div>\n",
       "<style scoped>\n",
       "    .dataframe tbody tr th:only-of-type {\n",
       "        vertical-align: middle;\n",
       "    }\n",
       "\n",
       "    .dataframe tbody tr th {\n",
       "        vertical-align: top;\n",
       "    }\n",
       "\n",
       "    .dataframe thead th {\n",
       "        text-align: right;\n",
       "    }\n",
       "</style>\n",
       "<table border=\"1\" class=\"dataframe\">\n",
       "  <thead>\n",
       "    <tr style=\"text-align: right;\">\n",
       "      <th></th>\n",
       "      <th>year</th>\n",
       "      <th>suicides_no</th>\n",
       "    </tr>\n",
       "  </thead>\n",
       "  <tbody>\n",
       "    <tr>\n",
       "      <th>0</th>\n",
       "      <td>1979</td>\n",
       "      <td>92790</td>\n",
       "    </tr>\n",
       "    <tr>\n",
       "      <th>1</th>\n",
       "      <td>1980</td>\n",
       "      <td>153548</td>\n",
       "    </tr>\n",
       "    <tr>\n",
       "      <th>2</th>\n",
       "      <td>1981</td>\n",
       "      <td>178014</td>\n",
       "    </tr>\n",
       "    <tr>\n",
       "      <th>3</th>\n",
       "      <td>1982</td>\n",
       "      <td>182893</td>\n",
       "    </tr>\n",
       "    <tr>\n",
       "      <th>4</th>\n",
       "      <td>1983</td>\n",
       "      <td>122430</td>\n",
       "    </tr>\n",
       "    <tr>\n",
       "      <th>5</th>\n",
       "      <td>1984</td>\n",
       "      <td>124427</td>\n",
       "    </tr>\n",
       "    <tr>\n",
       "      <th>6</th>\n",
       "      <td>1985</td>\n",
       "      <td>197533</td>\n",
       "    </tr>\n",
       "    <tr>\n",
       "      <th>7</th>\n",
       "      <td>1986</td>\n",
       "      <td>189225</td>\n",
       "    </tr>\n",
       "    <tr>\n",
       "      <th>8</th>\n",
       "      <td>1987</td>\n",
       "      <td>186364</td>\n",
       "    </tr>\n",
       "    <tr>\n",
       "      <th>9</th>\n",
       "      <td>1988</td>\n",
       "      <td>181416</td>\n",
       "    </tr>\n",
       "    <tr>\n",
       "      <th>10</th>\n",
       "      <td>1989</td>\n",
       "      <td>186043</td>\n",
       "    </tr>\n",
       "    <tr>\n",
       "      <th>11</th>\n",
       "      <td>1990</td>\n",
       "      <td>205507</td>\n",
       "    </tr>\n",
       "    <tr>\n",
       "      <th>12</th>\n",
       "      <td>1991</td>\n",
       "      <td>204756</td>\n",
       "    </tr>\n",
       "    <tr>\n",
       "      <th>13</th>\n",
       "      <td>1992</td>\n",
       "      <td>219100</td>\n",
       "    </tr>\n",
       "    <tr>\n",
       "      <th>14</th>\n",
       "      <td>1993</td>\n",
       "      <td>229243</td>\n",
       "    </tr>\n",
       "    <tr>\n",
       "      <th>15</th>\n",
       "      <td>1994</td>\n",
       "      <td>240628</td>\n",
       "    </tr>\n",
       "    <tr>\n",
       "      <th>16</th>\n",
       "      <td>1995</td>\n",
       "      <td>245915</td>\n",
       "    </tr>\n",
       "    <tr>\n",
       "      <th>17</th>\n",
       "      <td>1996</td>\n",
       "      <td>250353</td>\n",
       "    </tr>\n",
       "    <tr>\n",
       "      <th>18</th>\n",
       "      <td>1997</td>\n",
       "      <td>244322</td>\n",
       "    </tr>\n",
       "    <tr>\n",
       "      <th>19</th>\n",
       "      <td>1998</td>\n",
       "      <td>253279</td>\n",
       "    </tr>\n",
       "    <tr>\n",
       "      <th>20</th>\n",
       "      <td>1999</td>\n",
       "      <td>259984</td>\n",
       "    </tr>\n",
       "    <tr>\n",
       "      <th>21</th>\n",
       "      <td>2000</td>\n",
       "      <td>259905</td>\n",
       "    </tr>\n",
       "    <tr>\n",
       "      <th>22</th>\n",
       "      <td>2001</td>\n",
       "      <td>255071</td>\n",
       "    </tr>\n",
       "    <tr>\n",
       "      <th>23</th>\n",
       "      <td>2002</td>\n",
       "      <td>260401</td>\n",
       "    </tr>\n",
       "    <tr>\n",
       "      <th>24</th>\n",
       "      <td>2003</td>\n",
       "      <td>260429</td>\n",
       "    </tr>\n",
       "    <tr>\n",
       "      <th>25</th>\n",
       "      <td>2004</td>\n",
       "      <td>245249</td>\n",
       "    </tr>\n",
       "    <tr>\n",
       "      <th>26</th>\n",
       "      <td>2005</td>\n",
       "      <td>238622</td>\n",
       "    </tr>\n",
       "    <tr>\n",
       "      <th>27</th>\n",
       "      <td>2006</td>\n",
       "      <td>237200</td>\n",
       "    </tr>\n",
       "    <tr>\n",
       "      <th>28</th>\n",
       "      <td>2007</td>\n",
       "      <td>237211</td>\n",
       "    </tr>\n",
       "    <tr>\n",
       "      <th>29</th>\n",
       "      <td>2008</td>\n",
       "      <td>239368</td>\n",
       "    </tr>\n",
       "    <tr>\n",
       "      <th>30</th>\n",
       "      <td>2009</td>\n",
       "      <td>247324</td>\n",
       "    </tr>\n",
       "    <tr>\n",
       "      <th>31</th>\n",
       "      <td>2010</td>\n",
       "      <td>242243</td>\n",
       "    </tr>\n",
       "    <tr>\n",
       "      <th>32</th>\n",
       "      <td>2011</td>\n",
       "      <td>239972</td>\n",
       "    </tr>\n",
       "    <tr>\n",
       "      <th>33</th>\n",
       "      <td>2012</td>\n",
       "      <td>234085</td>\n",
       "    </tr>\n",
       "    <tr>\n",
       "      <th>34</th>\n",
       "      <td>2013</td>\n",
       "      <td>229421</td>\n",
       "    </tr>\n",
       "    <tr>\n",
       "      <th>35</th>\n",
       "      <td>2014</td>\n",
       "      <td>227793</td>\n",
       "    </tr>\n",
       "    <tr>\n",
       "      <th>36</th>\n",
       "      <td>2015</td>\n",
       "      <td>207908</td>\n",
       "    </tr>\n",
       "    <tr>\n",
       "      <th>37</th>\n",
       "      <td>2016</td>\n",
       "      <td>16483</td>\n",
       "    </tr>\n",
       "  </tbody>\n",
       "</table>\n",
       "</div>"
      ],
      "text/plain": [
       "    year  suicides_no\n",
       "0   1979        92790\n",
       "1   1980       153548\n",
       "2   1981       178014\n",
       "3   1982       182893\n",
       "4   1983       122430\n",
       "5   1984       124427\n",
       "6   1985       197533\n",
       "7   1986       189225\n",
       "8   1987       186364\n",
       "9   1988       181416\n",
       "10  1989       186043\n",
       "11  1990       205507\n",
       "12  1991       204756\n",
       "13  1992       219100\n",
       "14  1993       229243\n",
       "15  1994       240628\n",
       "16  1995       245915\n",
       "17  1996       250353\n",
       "18  1997       244322\n",
       "19  1998       253279\n",
       "20  1999       259984\n",
       "21  2000       259905\n",
       "22  2001       255071\n",
       "23  2002       260401\n",
       "24  2003       260429\n",
       "25  2004       245249\n",
       "26  2005       238622\n",
       "27  2006       237200\n",
       "28  2007       237211\n",
       "29  2008       239368\n",
       "30  2009       247324\n",
       "31  2010       242243\n",
       "32  2011       239972\n",
       "33  2012       234085\n",
       "34  2013       229421\n",
       "35  2014       227793\n",
       "36  2015       207908\n",
       "37  2016        16483"
      ]
     },
     "execution_count": 33,
     "metadata": {},
     "output_type": "execute_result"
    }
   ],
   "source": [
    "# convert to integers so that we can graph\n",
    "df2.astype(dtype='int32', copy=True, errors='raise')"
   ]
  },
  {
   "cell_type": "code",
   "execution_count": 35,
   "metadata": {},
   "outputs": [
    {
     "data": {
      "image/png": "[encoded data removed]",
      "text/plain": [
       "<Figure size 432x288 with 1 Axes>"
      ]
     },
     "metadata": {
      "needs_background": "light"
     },
     "output_type": "display_data"
    }
   ],
   "source": [
    "#plot years against suicide numbers\n",
    "plt.title(\"suicides_no and year\") \n",
    "plt.xlabel(\"year\") \n",
    "plt.ylabel(\"suicides_no\") \n",
    "plt.scatter(df2['year'],df2['suicides_no'])\n",
    "plt.show()"
   ]
  },
  {
   "cell_type": "code",
   "execution_count": 11,
   "metadata": {},
   "outputs": [],
   "source": [
    "import seaborn as sns\n",
    "sns.set(style=\"darkgrid\")\n",
    "current_palette = sns.color_palette(\"bright\")\n",
    "# sns.palplot(\"bright\")"
   ]
  },
  {
   "cell_type": "code",
   "execution_count": 12,
   "metadata": {},
   "outputs": [
    {
     "ename": "KeyError",
     "evalue": "'year'",
     "output_type": "error",
     "traceback": [
      "\u001b[1;31m---------------------------------------------------------------------------\u001b[0m",
      "\u001b[1;31mTypeError\u001b[0m                                 Traceback (most recent call last)",
      "\u001b[1;32mpandas\\_libs\\index.pyx\u001b[0m in \u001b[0;36mpandas._libs.index.IndexEngine.get_loc\u001b[1;34m()\u001b[0m\n",
      "\u001b[1;32mpandas\\_libs\\hashtable_class_helper.pxi\u001b[0m in \u001b[0;36mpandas._libs.hashtable.Int64HashTable.get_item\u001b[1;34m()\u001b[0m\n",
      "\u001b[1;31mTypeError\u001b[0m: an integer is required",
      "\nDuring handling of the above exception, another exception occurred:\n",
      "\u001b[1;31mKeyError\u001b[0m                                  Traceback (most recent call last)",
      "\u001b[1;32m<ipython-input-12-5909b4be3e79>\u001b[0m in \u001b[0;36m<module>\u001b[1;34m\u001b[0m\n\u001b[1;32m----> 1\u001b[1;33m \u001b[0msns\u001b[0m\u001b[1;33m.\u001b[0m\u001b[0mregplot\u001b[0m\u001b[1;33m(\u001b[0m\u001b[0mx\u001b[0m\u001b[1;33m=\u001b[0m\u001b[1;34m\"year\"\u001b[0m\u001b[1;33m,\u001b[0m\u001b[0my\u001b[0m\u001b[1;33m=\u001b[0m\u001b[1;34m\"suicides_no\"\u001b[0m\u001b[1;33m,\u001b[0m\u001b[0mdata\u001b[0m\u001b[1;33m=\u001b[0m\u001b[0mdf2\u001b[0m\u001b[1;33m)\u001b[0m\u001b[1;33m\u001b[0m\u001b[1;33m\u001b[0m\u001b[0m\n\u001b[0m",
      "\u001b[1;32mC:\\ProgramData\\Anaconda3\\lib\\site-packages\\seaborn\\regression.py\u001b[0m in \u001b[0;36mregplot\u001b[1;34m(x, y, data, x_estimator, x_bins, x_ci, scatter, fit_reg, ci, n_boot, units, order, logistic, lowess, robust, logx, x_partial, y_partial, truncate, dropna, x_jitter, y_jitter, label, color, marker, scatter_kws, line_kws, ax)\u001b[0m\n\u001b[0;32m    779\u001b[0m                                  \u001b[0morder\u001b[0m\u001b[1;33m,\u001b[0m \u001b[0mlogistic\u001b[0m\u001b[1;33m,\u001b[0m \u001b[0mlowess\u001b[0m\u001b[1;33m,\u001b[0m \u001b[0mrobust\u001b[0m\u001b[1;33m,\u001b[0m \u001b[0mlogx\u001b[0m\u001b[1;33m,\u001b[0m\u001b[1;33m\u001b[0m\u001b[1;33m\u001b[0m\u001b[0m\n\u001b[0;32m    780\u001b[0m                                  \u001b[0mx_partial\u001b[0m\u001b[1;33m,\u001b[0m \u001b[0my_partial\u001b[0m\u001b[1;33m,\u001b[0m \u001b[0mtruncate\u001b[0m\u001b[1;33m,\u001b[0m \u001b[0mdropna\u001b[0m\u001b[1;33m,\u001b[0m\u001b[1;33m\u001b[0m\u001b[1;33m\u001b[0m\u001b[0m\n\u001b[1;32m--> 781\u001b[1;33m                                  x_jitter, y_jitter, color, label)\n\u001b[0m\u001b[0;32m    782\u001b[0m \u001b[1;33m\u001b[0m\u001b[0m\n\u001b[0;32m    783\u001b[0m     \u001b[1;32mif\u001b[0m \u001b[0max\u001b[0m \u001b[1;32mis\u001b[0m \u001b[1;32mNone\u001b[0m\u001b[1;33m:\u001b[0m\u001b[1;33m\u001b[0m\u001b[1;33m\u001b[0m\u001b[0m\n",
      "\u001b[1;32mC:\\ProgramData\\Anaconda3\\lib\\site-packages\\seaborn\\regression.py\u001b[0m in \u001b[0;36m__init__\u001b[1;34m(self, x, y, data, x_estimator, x_bins, x_ci, scatter, fit_reg, ci, n_boot, units, order, logistic, lowess, robust, logx, x_partial, y_partial, truncate, dropna, x_jitter, y_jitter, color, label)\u001b[0m\n\u001b[0;32m    103\u001b[0m         \u001b[1;31m# Extract the data vals from the arguments or passed dataframe\u001b[0m\u001b[1;33m\u001b[0m\u001b[1;33m\u001b[0m\u001b[1;33m\u001b[0m\u001b[0m\n\u001b[0;32m    104\u001b[0m         self.establish_variables(data, x=x, y=y, units=units,\n\u001b[1;32m--> 105\u001b[1;33m                                  x_partial=x_partial, y_partial=y_partial)\n\u001b[0m\u001b[0;32m    106\u001b[0m \u001b[1;33m\u001b[0m\u001b[0m\n\u001b[0;32m    107\u001b[0m         \u001b[1;31m# Drop null observations\u001b[0m\u001b[1;33m\u001b[0m\u001b[1;33m\u001b[0m\u001b[1;33m\u001b[0m\u001b[0m\n",
      "\u001b[1;32mC:\\ProgramData\\Anaconda3\\lib\\site-packages\\seaborn\\regression.py\u001b[0m in \u001b[0;36mestablish_variables\u001b[1;34m(self, data, **kws)\u001b[0m\n\u001b[0;32m     46\u001b[0m         \u001b[1;32mfor\u001b[0m \u001b[0mvar\u001b[0m\u001b[1;33m,\u001b[0m \u001b[0mval\u001b[0m \u001b[1;32min\u001b[0m \u001b[0mkws\u001b[0m\u001b[1;33m.\u001b[0m\u001b[0mitems\u001b[0m\u001b[1;33m(\u001b[0m\u001b[1;33m)\u001b[0m\u001b[1;33m:\u001b[0m\u001b[1;33m\u001b[0m\u001b[1;33m\u001b[0m\u001b[0m\n\u001b[0;32m     47\u001b[0m             \u001b[1;32mif\u001b[0m \u001b[0misinstance\u001b[0m\u001b[1;33m(\u001b[0m\u001b[0mval\u001b[0m\u001b[1;33m,\u001b[0m \u001b[0mstring_types\u001b[0m\u001b[1;33m)\u001b[0m\u001b[1;33m:\u001b[0m\u001b[1;33m\u001b[0m\u001b[1;33m\u001b[0m\u001b[0m\n\u001b[1;32m---> 48\u001b[1;33m                 \u001b[0msetattr\u001b[0m\u001b[1;33m(\u001b[0m\u001b[0mself\u001b[0m\u001b[1;33m,\u001b[0m \u001b[0mvar\u001b[0m\u001b[1;33m,\u001b[0m \u001b[0mdata\u001b[0m\u001b[1;33m[\u001b[0m\u001b[0mval\u001b[0m\u001b[1;33m]\u001b[0m\u001b[1;33m)\u001b[0m\u001b[1;33m\u001b[0m\u001b[1;33m\u001b[0m\u001b[0m\n\u001b[0m\u001b[0;32m     49\u001b[0m             \u001b[1;32melif\u001b[0m \u001b[0misinstance\u001b[0m\u001b[1;33m(\u001b[0m\u001b[0mval\u001b[0m\u001b[1;33m,\u001b[0m \u001b[0mlist\u001b[0m\u001b[1;33m)\u001b[0m\u001b[1;33m:\u001b[0m\u001b[1;33m\u001b[0m\u001b[1;33m\u001b[0m\u001b[0m\n\u001b[0;32m     50\u001b[0m                 \u001b[0msetattr\u001b[0m\u001b[1;33m(\u001b[0m\u001b[0mself\u001b[0m\u001b[1;33m,\u001b[0m \u001b[0mvar\u001b[0m\u001b[1;33m,\u001b[0m \u001b[0mnp\u001b[0m\u001b[1;33m.\u001b[0m\u001b[0masarray\u001b[0m\u001b[1;33m(\u001b[0m\u001b[0mval\u001b[0m\u001b[1;33m)\u001b[0m\u001b[1;33m)\u001b[0m\u001b[1;33m\u001b[0m\u001b[1;33m\u001b[0m\u001b[0m\n",
      "\u001b[1;32mC:\\ProgramData\\Anaconda3\\lib\\site-packages\\pandas\\core\\series.py\u001b[0m in \u001b[0;36m__getitem__\u001b[1;34m(self, key)\u001b[0m\n\u001b[0;32m    765\u001b[0m         \u001b[0mkey\u001b[0m \u001b[1;33m=\u001b[0m \u001b[0mcom\u001b[0m\u001b[1;33m.\u001b[0m\u001b[0m_apply_if_callable\u001b[0m\u001b[1;33m(\u001b[0m\u001b[0mkey\u001b[0m\u001b[1;33m,\u001b[0m \u001b[0mself\u001b[0m\u001b[1;33m)\u001b[0m\u001b[1;33m\u001b[0m\u001b[1;33m\u001b[0m\u001b[0m\n\u001b[0;32m    766\u001b[0m         \u001b[1;32mtry\u001b[0m\u001b[1;33m:\u001b[0m\u001b[1;33m\u001b[0m\u001b[1;33m\u001b[0m\u001b[0m\n\u001b[1;32m--> 767\u001b[1;33m             \u001b[0mresult\u001b[0m \u001b[1;33m=\u001b[0m \u001b[0mself\u001b[0m\u001b[1;33m.\u001b[0m\u001b[0mindex\u001b[0m\u001b[1;33m.\u001b[0m\u001b[0mget_value\u001b[0m\u001b[1;33m(\u001b[0m\u001b[0mself\u001b[0m\u001b[1;33m,\u001b[0m \u001b[0mkey\u001b[0m\u001b[1;33m)\u001b[0m\u001b[1;33m\u001b[0m\u001b[1;33m\u001b[0m\u001b[0m\n\u001b[0m\u001b[0;32m    768\u001b[0m \u001b[1;33m\u001b[0m\u001b[0m\n\u001b[0;32m    769\u001b[0m             \u001b[1;32mif\u001b[0m \u001b[1;32mnot\u001b[0m \u001b[0mis_scalar\u001b[0m\u001b[1;33m(\u001b[0m\u001b[0mresult\u001b[0m\u001b[1;33m)\u001b[0m\u001b[1;33m:\u001b[0m\u001b[1;33m\u001b[0m\u001b[1;33m\u001b[0m\u001b[0m\n",
      "\u001b[1;32mC:\\ProgramData\\Anaconda3\\lib\\site-packages\\pandas\\core\\indexes\\base.py\u001b[0m in \u001b[0;36mget_value\u001b[1;34m(self, series, key)\u001b[0m\n\u001b[0;32m   3116\u001b[0m         \u001b[1;32mtry\u001b[0m\u001b[1;33m:\u001b[0m\u001b[1;33m\u001b[0m\u001b[1;33m\u001b[0m\u001b[0m\n\u001b[0;32m   3117\u001b[0m             return self._engine.get_value(s, k,\n\u001b[1;32m-> 3118\u001b[1;33m                                           tz=getattr(series.dtype, 'tz', None))\n\u001b[0m\u001b[0;32m   3119\u001b[0m         \u001b[1;32mexcept\u001b[0m \u001b[0mKeyError\u001b[0m \u001b[1;32mas\u001b[0m \u001b[0me1\u001b[0m\u001b[1;33m:\u001b[0m\u001b[1;33m\u001b[0m\u001b[1;33m\u001b[0m\u001b[0m\n\u001b[0;32m   3120\u001b[0m             \u001b[1;32mif\u001b[0m \u001b[0mlen\u001b[0m\u001b[1;33m(\u001b[0m\u001b[0mself\u001b[0m\u001b[1;33m)\u001b[0m \u001b[1;33m>\u001b[0m \u001b[1;36m0\u001b[0m \u001b[1;32mand\u001b[0m \u001b[0mself\u001b[0m\u001b[1;33m.\u001b[0m\u001b[0minferred_type\u001b[0m \u001b[1;32min\u001b[0m \u001b[1;33m[\u001b[0m\u001b[1;34m'integer'\u001b[0m\u001b[1;33m,\u001b[0m \u001b[1;34m'boolean'\u001b[0m\u001b[1;33m]\u001b[0m\u001b[1;33m:\u001b[0m\u001b[1;33m\u001b[0m\u001b[1;33m\u001b[0m\u001b[0m\n",
      "\u001b[1;32mpandas\\_libs\\index.pyx\u001b[0m in \u001b[0;36mpandas._libs.index.IndexEngine.get_value\u001b[1;34m()\u001b[0m\n",
      "\u001b[1;32mpandas\\_libs\\index.pyx\u001b[0m in \u001b[0;36mpandas._libs.index.IndexEngine.get_value\u001b[1;34m()\u001b[0m\n",
      "\u001b[1;32mpandas\\_libs\\index.pyx\u001b[0m in \u001b[0;36mpandas._libs.index.IndexEngine.get_loc\u001b[1;34m()\u001b[0m\n",
      "\u001b[1;31mKeyError\u001b[0m: 'year'"
     ]
    }
   ],
   "source": [
    "sns.regplot(x=\"year\",y=\"suicides_no\",data=df2)"
   ]
  },
  {
   "cell_type": "code",
   "execution_count": 10,
   "metadata": {},
   "outputs": [
    {
     "ename": "NameError",
     "evalue": "name 'df2' is not defined",
     "output_type": "error",
     "traceback": [
      "\u001b[1;31m---------------------------------------------------------------------------\u001b[0m",
      "\u001b[1;31mNameError\u001b[0m                                 Traceback (most recent call last)",
      "\u001b[1;32m<ipython-input-10-68302b2f4bd0>\u001b[0m in \u001b[0;36m<module>\u001b[1;34m\u001b[0m\n\u001b[1;32m----> 1\u001b[1;33m \u001b[0mdf2\u001b[0m\u001b[1;33m.\u001b[0m\u001b[0mhead\u001b[0m\u001b[1;33m(\u001b[0m\u001b[1;33m)\u001b[0m\u001b[1;33m\u001b[0m\u001b[1;33m\u001b[0m\u001b[0m\n\u001b[0m",
      "\u001b[1;31mNameError\u001b[0m: name 'df2' is not defined"
     ]
    }
   ],
   "source": [
    "df2.head()"
   ]
  },
  {
   "cell_type": "code",
   "execution_count": 17,
   "metadata": {},
   "outputs": [
    {
     "data": {
      "text/plain": [
       "count     1092.631579\n",
       "mean       192.701193\n",
       "std        775.377767\n",
       "min          0.000000\n",
       "25%          0.980263\n",
       "50%         14.236842\n",
       "75%         93.611842\n",
       "max      14469.184211\n",
       "dtype: float64"
      ]
     },
     "execution_count": 17,
     "metadata": {},
     "output_type": "execute_result"
    }
   ],
   "source": [
    "df2.mean()"
   ]
  },
  {
   "cell_type": "code",
   "execution_count": 18,
   "metadata": {},
   "outputs": [
    {
     "ename": "KeyError",
     "evalue": "'year'",
     "output_type": "error",
     "traceback": [
      "\u001b[1;31m---------------------------------------------------------------------------\u001b[0m",
      "\u001b[1;31mKeyError\u001b[0m                                  Traceback (most recent call last)",
      "\u001b[1;32mC:\\ProgramData\\Anaconda3\\lib\\site-packages\\pandas\\core\\indexes\\base.py\u001b[0m in \u001b[0;36mget_loc\u001b[1;34m(self, key, method, tolerance)\u001b[0m\n\u001b[0;32m   3077\u001b[0m             \u001b[1;32mtry\u001b[0m\u001b[1;33m:\u001b[0m\u001b[1;33m\u001b[0m\u001b[1;33m\u001b[0m\u001b[0m\n\u001b[1;32m-> 3078\u001b[1;33m                 \u001b[1;32mreturn\u001b[0m \u001b[0mself\u001b[0m\u001b[1;33m.\u001b[0m\u001b[0m_engine\u001b[0m\u001b[1;33m.\u001b[0m\u001b[0mget_loc\u001b[0m\u001b[1;33m(\u001b[0m\u001b[0mkey\u001b[0m\u001b[1;33m)\u001b[0m\u001b[1;33m\u001b[0m\u001b[1;33m\u001b[0m\u001b[0m\n\u001b[0m\u001b[0;32m   3079\u001b[0m             \u001b[1;32mexcept\u001b[0m \u001b[0mKeyError\u001b[0m\u001b[1;33m:\u001b[0m\u001b[1;33m\u001b[0m\u001b[1;33m\u001b[0m\u001b[0m\n",
      "\u001b[1;32mpandas\\_libs\\index.pyx\u001b[0m in \u001b[0;36mpandas._libs.index.IndexEngine.get_loc\u001b[1;34m()\u001b[0m\n",
      "\u001b[1;32mpandas\\_libs\\index.pyx\u001b[0m in \u001b[0;36mpandas._libs.index.IndexEngine.get_loc\u001b[1;34m()\u001b[0m\n",
      "\u001b[1;32mpandas\\_libs\\hashtable_class_helper.pxi\u001b[0m in \u001b[0;36mpandas._libs.hashtable.PyObjectHashTable.get_item\u001b[1;34m()\u001b[0m\n",
      "\u001b[1;32mpandas\\_libs\\hashtable_class_helper.pxi\u001b[0m in \u001b[0;36mpandas._libs.hashtable.PyObjectHashTable.get_item\u001b[1;34m()\u001b[0m\n",
      "\u001b[1;31mKeyError\u001b[0m: 'year'",
      "\nDuring handling of the above exception, another exception occurred:\n",
      "\u001b[1;31mKeyError\u001b[0m                                  Traceback (most recent call last)",
      "\u001b[1;32m<ipython-input-18-3ea50ab7468a>\u001b[0m in \u001b[0;36m<module>\u001b[1;34m\u001b[0m\n\u001b[0;32m      3\u001b[0m \u001b[0mplt\u001b[0m\u001b[1;33m.\u001b[0m\u001b[0mxlabel\u001b[0m\u001b[1;33m(\u001b[0m\u001b[1;34m\"Year\"\u001b[0m\u001b[1;33m)\u001b[0m\u001b[1;33m\u001b[0m\u001b[1;33m\u001b[0m\u001b[0m\n\u001b[0;32m      4\u001b[0m \u001b[0mplt\u001b[0m\u001b[1;33m.\u001b[0m\u001b[0mylabel\u001b[0m\u001b[1;33m(\u001b[0m\u001b[1;34m\"mean\"\u001b[0m\u001b[1;33m)\u001b[0m\u001b[1;33m\u001b[0m\u001b[1;33m\u001b[0m\u001b[0m\n\u001b[1;32m----> 5\u001b[1;33m \u001b[0mplt\u001b[0m\u001b[1;33m.\u001b[0m\u001b[0mscatter\u001b[0m\u001b[1;33m(\u001b[0m\u001b[0mdf2\u001b[0m\u001b[1;33m[\u001b[0m\u001b[1;34m'year'\u001b[0m\u001b[1;33m]\u001b[0m\u001b[1;33m,\u001b[0m\u001b[0mdf2\u001b[0m\u001b[1;33m[\u001b[0m\u001b[1;34m'mean'\u001b[0m\u001b[1;33m]\u001b[0m\u001b[1;33m)\u001b[0m\u001b[1;33m\u001b[0m\u001b[1;33m\u001b[0m\u001b[0m\n\u001b[0m\u001b[0;32m      6\u001b[0m \u001b[0mplt\u001b[0m\u001b[1;33m.\u001b[0m\u001b[0mshow\u001b[0m\u001b[1;33m(\u001b[0m\u001b[1;33m)\u001b[0m\u001b[1;33m\u001b[0m\u001b[1;33m\u001b[0m\u001b[0m\n",
      "\u001b[1;32mC:\\ProgramData\\Anaconda3\\lib\\site-packages\\pandas\\core\\frame.py\u001b[0m in \u001b[0;36m__getitem__\u001b[1;34m(self, key)\u001b[0m\n\u001b[0;32m   2686\u001b[0m             \u001b[1;32mreturn\u001b[0m \u001b[0mself\u001b[0m\u001b[1;33m.\u001b[0m\u001b[0m_getitem_multilevel\u001b[0m\u001b[1;33m(\u001b[0m\u001b[0mkey\u001b[0m\u001b[1;33m)\u001b[0m\u001b[1;33m\u001b[0m\u001b[1;33m\u001b[0m\u001b[0m\n\u001b[0;32m   2687\u001b[0m         \u001b[1;32melse\u001b[0m\u001b[1;33m:\u001b[0m\u001b[1;33m\u001b[0m\u001b[1;33m\u001b[0m\u001b[0m\n\u001b[1;32m-> 2688\u001b[1;33m             \u001b[1;32mreturn\u001b[0m \u001b[0mself\u001b[0m\u001b[1;33m.\u001b[0m\u001b[0m_getitem_column\u001b[0m\u001b[1;33m(\u001b[0m\u001b[0mkey\u001b[0m\u001b[1;33m)\u001b[0m\u001b[1;33m\u001b[0m\u001b[1;33m\u001b[0m\u001b[0m\n\u001b[0m\u001b[0;32m   2689\u001b[0m \u001b[1;33m\u001b[0m\u001b[0m\n\u001b[0;32m   2690\u001b[0m     \u001b[1;32mdef\u001b[0m \u001b[0m_getitem_column\u001b[0m\u001b[1;33m(\u001b[0m\u001b[0mself\u001b[0m\u001b[1;33m,\u001b[0m \u001b[0mkey\u001b[0m\u001b[1;33m)\u001b[0m\u001b[1;33m:\u001b[0m\u001b[1;33m\u001b[0m\u001b[1;33m\u001b[0m\u001b[0m\n",
      "\u001b[1;32mC:\\ProgramData\\Anaconda3\\lib\\site-packages\\pandas\\core\\frame.py\u001b[0m in \u001b[0;36m_getitem_column\u001b[1;34m(self, key)\u001b[0m\n\u001b[0;32m   2693\u001b[0m         \u001b[1;31m# get column\u001b[0m\u001b[1;33m\u001b[0m\u001b[1;33m\u001b[0m\u001b[1;33m\u001b[0m\u001b[0m\n\u001b[0;32m   2694\u001b[0m         \u001b[1;32mif\u001b[0m \u001b[0mself\u001b[0m\u001b[1;33m.\u001b[0m\u001b[0mcolumns\u001b[0m\u001b[1;33m.\u001b[0m\u001b[0mis_unique\u001b[0m\u001b[1;33m:\u001b[0m\u001b[1;33m\u001b[0m\u001b[1;33m\u001b[0m\u001b[0m\n\u001b[1;32m-> 2695\u001b[1;33m             \u001b[1;32mreturn\u001b[0m \u001b[0mself\u001b[0m\u001b[1;33m.\u001b[0m\u001b[0m_get_item_cache\u001b[0m\u001b[1;33m(\u001b[0m\u001b[0mkey\u001b[0m\u001b[1;33m)\u001b[0m\u001b[1;33m\u001b[0m\u001b[1;33m\u001b[0m\u001b[0m\n\u001b[0m\u001b[0;32m   2696\u001b[0m \u001b[1;33m\u001b[0m\u001b[0m\n\u001b[0;32m   2697\u001b[0m         \u001b[1;31m# duplicate columns & possible reduce dimensionality\u001b[0m\u001b[1;33m\u001b[0m\u001b[1;33m\u001b[0m\u001b[1;33m\u001b[0m\u001b[0m\n",
      "\u001b[1;32mC:\\ProgramData\\Anaconda3\\lib\\site-packages\\pandas\\core\\generic.py\u001b[0m in \u001b[0;36m_get_item_cache\u001b[1;34m(self, item)\u001b[0m\n\u001b[0;32m   2487\u001b[0m         \u001b[0mres\u001b[0m \u001b[1;33m=\u001b[0m \u001b[0mcache\u001b[0m\u001b[1;33m.\u001b[0m\u001b[0mget\u001b[0m\u001b[1;33m(\u001b[0m\u001b[0mitem\u001b[0m\u001b[1;33m)\u001b[0m\u001b[1;33m\u001b[0m\u001b[1;33m\u001b[0m\u001b[0m\n\u001b[0;32m   2488\u001b[0m         \u001b[1;32mif\u001b[0m \u001b[0mres\u001b[0m \u001b[1;32mis\u001b[0m \u001b[1;32mNone\u001b[0m\u001b[1;33m:\u001b[0m\u001b[1;33m\u001b[0m\u001b[1;33m\u001b[0m\u001b[0m\n\u001b[1;32m-> 2489\u001b[1;33m             \u001b[0mvalues\u001b[0m \u001b[1;33m=\u001b[0m \u001b[0mself\u001b[0m\u001b[1;33m.\u001b[0m\u001b[0m_data\u001b[0m\u001b[1;33m.\u001b[0m\u001b[0mget\u001b[0m\u001b[1;33m(\u001b[0m\u001b[0mitem\u001b[0m\u001b[1;33m)\u001b[0m\u001b[1;33m\u001b[0m\u001b[1;33m\u001b[0m\u001b[0m\n\u001b[0m\u001b[0;32m   2490\u001b[0m             \u001b[0mres\u001b[0m \u001b[1;33m=\u001b[0m \u001b[0mself\u001b[0m\u001b[1;33m.\u001b[0m\u001b[0m_box_item_values\u001b[0m\u001b[1;33m(\u001b[0m\u001b[0mitem\u001b[0m\u001b[1;33m,\u001b[0m \u001b[0mvalues\u001b[0m\u001b[1;33m)\u001b[0m\u001b[1;33m\u001b[0m\u001b[1;33m\u001b[0m\u001b[0m\n\u001b[0;32m   2491\u001b[0m             \u001b[0mcache\u001b[0m\u001b[1;33m[\u001b[0m\u001b[0mitem\u001b[0m\u001b[1;33m]\u001b[0m \u001b[1;33m=\u001b[0m \u001b[0mres\u001b[0m\u001b[1;33m\u001b[0m\u001b[1;33m\u001b[0m\u001b[0m\n",
      "\u001b[1;32mC:\\ProgramData\\Anaconda3\\lib\\site-packages\\pandas\\core\\internals.py\u001b[0m in \u001b[0;36mget\u001b[1;34m(self, item, fastpath)\u001b[0m\n\u001b[0;32m   4113\u001b[0m \u001b[1;33m\u001b[0m\u001b[0m\n\u001b[0;32m   4114\u001b[0m             \u001b[1;32mif\u001b[0m \u001b[1;32mnot\u001b[0m \u001b[0misna\u001b[0m\u001b[1;33m(\u001b[0m\u001b[0mitem\u001b[0m\u001b[1;33m)\u001b[0m\u001b[1;33m:\u001b[0m\u001b[1;33m\u001b[0m\u001b[1;33m\u001b[0m\u001b[0m\n\u001b[1;32m-> 4115\u001b[1;33m                 \u001b[0mloc\u001b[0m \u001b[1;33m=\u001b[0m \u001b[0mself\u001b[0m\u001b[1;33m.\u001b[0m\u001b[0mitems\u001b[0m\u001b[1;33m.\u001b[0m\u001b[0mget_loc\u001b[0m\u001b[1;33m(\u001b[0m\u001b[0mitem\u001b[0m\u001b[1;33m)\u001b[0m\u001b[1;33m\u001b[0m\u001b[1;33m\u001b[0m\u001b[0m\n\u001b[0m\u001b[0;32m   4116\u001b[0m             \u001b[1;32melse\u001b[0m\u001b[1;33m:\u001b[0m\u001b[1;33m\u001b[0m\u001b[1;33m\u001b[0m\u001b[0m\n\u001b[0;32m   4117\u001b[0m                 \u001b[0mindexer\u001b[0m \u001b[1;33m=\u001b[0m \u001b[0mnp\u001b[0m\u001b[1;33m.\u001b[0m\u001b[0marange\u001b[0m\u001b[1;33m(\u001b[0m\u001b[0mlen\u001b[0m\u001b[1;33m(\u001b[0m\u001b[0mself\u001b[0m\u001b[1;33m.\u001b[0m\u001b[0mitems\u001b[0m\u001b[1;33m)\u001b[0m\u001b[1;33m)\u001b[0m\u001b[1;33m[\u001b[0m\u001b[0misna\u001b[0m\u001b[1;33m(\u001b[0m\u001b[0mself\u001b[0m\u001b[1;33m.\u001b[0m\u001b[0mitems\u001b[0m\u001b[1;33m)\u001b[0m\u001b[1;33m]\u001b[0m\u001b[1;33m\u001b[0m\u001b[1;33m\u001b[0m\u001b[0m\n",
      "\u001b[1;32mC:\\ProgramData\\Anaconda3\\lib\\site-packages\\pandas\\core\\indexes\\base.py\u001b[0m in \u001b[0;36mget_loc\u001b[1;34m(self, key, method, tolerance)\u001b[0m\n\u001b[0;32m   3078\u001b[0m                 \u001b[1;32mreturn\u001b[0m \u001b[0mself\u001b[0m\u001b[1;33m.\u001b[0m\u001b[0m_engine\u001b[0m\u001b[1;33m.\u001b[0m\u001b[0mget_loc\u001b[0m\u001b[1;33m(\u001b[0m\u001b[0mkey\u001b[0m\u001b[1;33m)\u001b[0m\u001b[1;33m\u001b[0m\u001b[1;33m\u001b[0m\u001b[0m\n\u001b[0;32m   3079\u001b[0m             \u001b[1;32mexcept\u001b[0m \u001b[0mKeyError\u001b[0m\u001b[1;33m:\u001b[0m\u001b[1;33m\u001b[0m\u001b[1;33m\u001b[0m\u001b[0m\n\u001b[1;32m-> 3080\u001b[1;33m                 \u001b[1;32mreturn\u001b[0m \u001b[0mself\u001b[0m\u001b[1;33m.\u001b[0m\u001b[0m_engine\u001b[0m\u001b[1;33m.\u001b[0m\u001b[0mget_loc\u001b[0m\u001b[1;33m(\u001b[0m\u001b[0mself\u001b[0m\u001b[1;33m.\u001b[0m\u001b[0m_maybe_cast_indexer\u001b[0m\u001b[1;33m(\u001b[0m\u001b[0mkey\u001b[0m\u001b[1;33m)\u001b[0m\u001b[1;33m)\u001b[0m\u001b[1;33m\u001b[0m\u001b[1;33m\u001b[0m\u001b[0m\n\u001b[0m\u001b[0;32m   3081\u001b[0m \u001b[1;33m\u001b[0m\u001b[0m\n\u001b[0;32m   3082\u001b[0m         \u001b[0mindexer\u001b[0m \u001b[1;33m=\u001b[0m \u001b[0mself\u001b[0m\u001b[1;33m.\u001b[0m\u001b[0mget_indexer\u001b[0m\u001b[1;33m(\u001b[0m\u001b[1;33m[\u001b[0m\u001b[0mkey\u001b[0m\u001b[1;33m]\u001b[0m\u001b[1;33m,\u001b[0m \u001b[0mmethod\u001b[0m\u001b[1;33m=\u001b[0m\u001b[0mmethod\u001b[0m\u001b[1;33m,\u001b[0m \u001b[0mtolerance\u001b[0m\u001b[1;33m=\u001b[0m\u001b[0mtolerance\u001b[0m\u001b[1;33m)\u001b[0m\u001b[1;33m\u001b[0m\u001b[1;33m\u001b[0m\u001b[0m\n",
      "\u001b[1;32mpandas\\_libs\\index.pyx\u001b[0m in \u001b[0;36mpandas._libs.index.IndexEngine.get_loc\u001b[1;34m()\u001b[0m\n",
      "\u001b[1;32mpandas\\_libs\\index.pyx\u001b[0m in \u001b[0;36mpandas._libs.index.IndexEngine.get_loc\u001b[1;34m()\u001b[0m\n",
      "\u001b[1;32mpandas\\_libs\\hashtable_class_helper.pxi\u001b[0m in \u001b[0;36mpandas._libs.hashtable.PyObjectHashTable.get_item\u001b[1;34m()\u001b[0m\n",
      "\u001b[1;32mpandas\\_libs\\hashtable_class_helper.pxi\u001b[0m in \u001b[0;36mpandas._libs.hashtable.PyObjectHashTable.get_item\u001b[1;34m()\u001b[0m\n",
      "\u001b[1;31mKeyError\u001b[0m: 'year'"
     ]
    },
    {
     "data": {
      "image/png": "[encoded data removed]",
      "text/plain": [
       "<Figure size 432x288 with 1 Axes>"
      ]
     },
     "metadata": {
      "needs_background": "light"
     },
     "output_type": "display_data"
    }
   ],
   "source": [
    "# let's plot year and no of suicides\n",
    "plt.title(\"year and mean\")\n",
    "plt.xlabel(\"Year\")\n",
    "plt.ylabel(\"mean\")\n",
    "plt.scatter(df2['year'],df2['mean'])\n",
    "plt.show()"
   ]
  },
  {
   "cell_type": "code",
   "execution_count": null,
   "metadata": {},
   "outputs": [],
   "source": [
    "# that didn't work. maybe we group by year and sum up"
   ]
  }
 ],
 "metadata": {
  "kernelspec": {
   "display_name": "Python 3",
   "language": "python",
   "name": "python3"
  },
  "language_info": {
   "codemirror_mode": {
    "name": "ipython",
    "version": 3
   },
   "file_extension": ".py",
   "mimetype": "text/x-python",
   "name": "python",
   "nbconvert_exporter": "python",
   "pygments_lexer": "ipython3",
   "version": "3.7.1"
  }
 },
 "nbformat": 4,
 "nbformat_minor": 2
}
