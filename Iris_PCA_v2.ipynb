{
 "cells": [
  {
   "cell_type": "code",
   "execution_count": 1,
   "metadata": {},
   "outputs": [],
   "source": [
    "import pandas as pd\n",
    "# url = \"https://archive.ics.uci.edu/ml/machine-learning-databases/iris/iris.data\"\n",
    "# load dataset into Pandas DataFrame\n",
    "# df = pd.read_csv(url, names=['sepal length','sepal width','petal length','petal width','target'])"
   ]
  },
  {
   "cell_type": "code",
   "execution_count": 2,
   "metadata": {},
   "outputs": [
    {
     "data": {
      "text/plain": [
       "'\\nhttps://www.youtube.com/watch?v=FgakZw6K1QQ\\nhttps://www.youtube.com/watch?v=kw9R0nD69OU\\nhttps://www.youtube.com/watch?v=T-B8muDvzu0\\nhttps://www.youtube.com/watch?v=fKivxsVlycs\\n'"
      ]
     },
     "execution_count": 2,
     "metadata": {},
     "output_type": "execute_result"
    }
   ],
   "source": [
    "\"\"\"\n",
    "https://www.youtube.com/watch?v=FgakZw6K1QQ\n",
    "https://www.youtube.com/watch?v=kw9R0nD69OU\n",
    "https://www.youtube.com/watch?v=T-B8muDvzu0\n",
    "https://www.youtube.com/watch?v=fKivxsVlycs\n",
    "\"\"\""
   ]
  },
  {
   "cell_type": "code",
   "execution_count": 3,
   "metadata": {},
   "outputs": [],
   "source": [
    "# Function to read csv file\n",
    "def read_file(filename):\n",
    "    line_count = 0\n",
    "    file_open = open(filename,\"r\")\n",
    "    data_array = []\n",
    "    for line in iter(file_open):\n",
    "        line1 = line.rstrip()\n",
    "        line2 = line1.replace(\"Iris-setosa\",\"0\")\n",
    "        line3 = line2.replace(\"Iris-versicolor\",\"1\")\n",
    "        line4 = line3.replace(\"Iris-virginica\",\"2\")\n",
    "        line_split=line4.split(\",\")\n",
    "        data_array.append(line_split)\n",
    "    return data_array"
   ]
  },
  {
   "cell_type": "code",
   "execution_count": 4,
   "metadata": {},
   "outputs": [],
   "source": [
    "# URL Iris dataset from (UCI Machine Learning Repository)\n",
    "# url = \"https://archive.ics.uci.edu/ml/machine-learning-databases/iris/iris.data\"\n",
    "# Read Iris csv file\n",
    "iris_data = read_file(\"iris_dataset.csv\")"
   ]
  },
  {
   "cell_type": "code",
   "execution_count": 5,
   "metadata": {},
   "outputs": [],
   "source": [
    "import numpy as np\n",
    "# Convert Iris data to numpy array\n",
    "dataset = np.array(iris_data)\n",
    "X2 = dataset[:,0:4]\n",
    "y2 = dataset[:,4]"
   ]
  },
  {
   "cell_type": "code",
   "execution_count": 6,
   "metadata": {},
   "outputs": [],
   "source": [
    "# Change string values to float numbers\n",
    "X = X2.astype(np.float)\n",
    "# Change target values to integers\n",
    "# y = y2.astype(np.int)"
   ]
  },
  {
   "cell_type": "code",
   "execution_count": 7,
   "metadata": {},
   "outputs": [],
   "source": [
    "X_header=[\"Sepal_Length\",\"Sepal_Width\",\"Petal_Length\",\"Petal_Width\"]\n",
    "df = pd.DataFrame(X,columns=X_header) # Get all X data\n",
    "df[\"Species\"] = y2 # Add species column"
   ]
  },
  {
   "cell_type": "code",
   "execution_count": 8,
   "metadata": {},
   "outputs": [
    {
     "name": "stdout",
     "output_type": "stream",
     "text": [
      "   Sepal_Length  Sepal_Width  Petal_Length  Petal_Width Species\n",
      "0           5.1          3.5           1.4          0.2       0\n",
      "1           4.9          3.0           1.4          0.2       0\n",
      "2           4.7          3.2           1.3          0.2       0\n",
      "3           4.6          3.1           1.5          0.2       0\n",
      "4           5.0          3.6           1.4          0.2       0\n",
      "     Sepal_Length  Sepal_Width  Petal_Length  Petal_Width Species\n",
      "145           6.7          3.0           5.2          2.3       2\n",
      "146           6.3          2.5           5.0          1.9       2\n",
      "147           6.5          3.0           5.2          2.0       2\n",
      "148           6.2          3.4           5.4          2.3       2\n",
      "149           5.9          3.0           5.1          1.8       2\n"
     ]
    }
   ],
   "source": [
    "print(df.head())\n",
    "print(df.tail())"
   ]
  },
  {
   "cell_type": "code",
   "execution_count": 9,
   "metadata": {},
   "outputs": [
    {
     "name": "stdout",
     "output_type": "stream",
     "text": [
      "[[ 0.68569351 -0.03926846  1.27368233  0.5169038 ]\n",
      " [-0.03926846  0.18800403 -0.32171275 -0.11798121]\n",
      " [ 1.27368233 -0.32171275  3.11317942  1.29638747]\n",
      " [ 0.5169038  -0.11798121  1.29638747  0.58241432]]\n"
     ]
    }
   ],
   "source": [
    "import numpy as np\n",
    "covariant_matrix = np.cov(X.T)\n",
    "print(covariant_matrix)"
   ]
  },
  {
   "cell_type": "code",
   "execution_count": 10,
   "metadata": {},
   "outputs": [],
   "source": [
    "eigen_values,eigen_vectors = np.linalg.eig(covariant_matrix)"
   ]
  },
  {
   "cell_type": "code",
   "execution_count": 11,
   "metadata": {},
   "outputs": [
    {
     "name": "stdout",
     "output_type": "stream",
     "text": [
      "[[ 0.36158968 -0.65653988 -0.58099728  0.31725455]\n",
      " [-0.08226889 -0.72971237  0.59641809 -0.32409435]\n",
      " [ 0.85657211  0.1757674   0.07252408 -0.47971899]\n",
      " [ 0.35884393  0.07470647  0.54906091  0.75112056]]\n"
     ]
    }
   ],
   "source": [
    "print(eigen_vectors)"
   ]
  },
  {
   "cell_type": "code",
   "execution_count": 12,
   "metadata": {},
   "outputs": [
    {
     "name": "stdout",
     "output_type": "stream",
     "text": [
      "[4.22484077 0.24224357 0.07852391 0.02368303]\n"
     ]
    }
   ],
   "source": [
    "print(eigen_values)"
   ]
  },
  {
   "cell_type": "code",
   "execution_count": 13,
   "metadata": {},
   "outputs": [
    {
     "name": "stdout",
     "output_type": "stream",
     "text": [
      "4\n",
      "[0.9246162071742686, 0.053015567850534955, 0.017185139525006814, 0.005183085450189793]\n"
     ]
    },
    {
     "data": {
      "image/png": "[encoded data removed]",
      "text/plain": [
       "<Figure size 432x288 with 1 Axes>"
      ]
     },
     "metadata": {
      "needs_background": "light"
     },
     "output_type": "display_data"
    }
   ],
   "source": [
    "import matplotlib.pyplot as plt\n",
    "%matplotlib inline\n",
    "tot = sum(eigen_values)\n",
    "var_exp = [(i/tot) for i in sorted(eigen_values,reverse=True)]\n",
    "print(len(var_exp))\n",
    "print(var_exp)\n",
    "cum_var_exp = np.cumsum(var_exp)\n",
    "\n",
    "plt.bar(range(1,5),var_exp,alpha=0.5,align='center',\n",
    "         label='individual explained variance')\n",
    "plt.step(range(1,5),cum_var_exp,where='mid',\n",
    "    label='cumulative explained variance')\n",
    "plt.ylabel('Explained variance ratio')\n",
    "plt.xlabel('Principal components')\n",
    "plt.legend(loc='best')\n",
    "plt.show()"
   ]
  },
  {
   "cell_type": "code",
   "execution_count": 14,
   "metadata": {},
   "outputs": [],
   "source": [
    "from sklearn.decomposition import PCA\n",
    "pca = PCA(n_components=2)\n",
    "principalComponents = pca.fit_transform(X)\n",
    "principalDf = pd.DataFrame(data = principalComponents, \\\n",
    "                           columns = ['principal component 1', 'principal component 2'])"
   ]
  },
  {
   "cell_type": "code",
   "execution_count": 15,
   "metadata": {},
   "outputs": [
    {
     "name": "stdout",
     "output_type": "stream",
     "text": [
      "[0.92461621 0.05301557]\n"
     ]
    }
   ],
   "source": [
    "print(pca.explained_variance_ratio_)"
   ]
  },
  {
   "cell_type": "code",
   "execution_count": 16,
   "metadata": {},
   "outputs": [
    {
     "name": "stdout",
     "output_type": "stream",
     "text": [
      "[[ 0.36158968 -0.08226889  0.85657211  0.35884393]\n",
      " [ 0.65653988  0.72971237 -0.1757674  -0.07470647]]\n"
     ]
    }
   ],
   "source": [
    "print(pca.components_)"
   ]
  },
  {
   "cell_type": "code",
   "execution_count": 17,
   "metadata": {},
   "outputs": [
    {
     "name": "stdout",
     "output_type": "stream",
     "text": [
      "   principal component 1  principal component 2\n",
      "0              -2.684207               0.326607\n",
      "1              -2.715391              -0.169557\n",
      "2              -2.889820              -0.137346\n",
      "3              -2.746437              -0.311124\n",
      "4              -2.728593               0.333925\n",
      "     principal component 1  principal component 2\n",
      "145               1.944017               0.187415\n",
      "146               1.525664              -0.375021\n",
      "147               1.764046               0.078519\n",
      "148               1.901629               0.115877\n",
      "149               1.389666              -0.282887\n"
     ]
    }
   ],
   "source": [
    "# PC1 = (0.36*SL)-(0.08*SW)+(0.85*PL)+(0.35*PW)\n",
    "# PC2 = (0.65*SL)+(0.72*SW)-(0.17*PL)-(0.07*PW)\n",
    "print(principalDf.head())\n",
    "print(principalDf.tail())"
   ]
  },
  {
   "cell_type": "code",
   "execution_count": 18,
   "metadata": {},
   "outputs": [],
   "source": [
    "finalDf = pd.concat([principalDf, df[['Species']]], axis = 1)"
   ]
  },
  {
   "cell_type": "code",
   "execution_count": 19,
   "metadata": {},
   "outputs": [
    {
     "name": "stdout",
     "output_type": "stream",
     "text": [
      "   principal component 1  principal component 2 Species\n",
      "0              -2.684207               0.326607       0\n",
      "1              -2.715391              -0.169557       0\n",
      "2              -2.889820              -0.137346       0\n",
      "3              -2.746437              -0.311124       0\n",
      "4              -2.728593               0.333925       0\n",
      "     principal component 1  principal component 2 Species\n",
      "145               1.944017               0.187415       2\n",
      "146               1.525664              -0.375021       2\n",
      "147               1.764046               0.078519       2\n",
      "148               1.901629               0.115877       2\n",
      "149               1.389666              -0.282887       2\n"
     ]
    }
   ],
   "source": [
    "print(finalDf.head())\n",
    "print(finalDf.tail())"
   ]
  },
  {
   "cell_type": "code",
   "execution_count": 20,
   "metadata": {},
   "outputs": [
    {
     "data": {
      "image/png": "[encoded data removed]",
      "text/plain": [
       "<Figure size 576x576 with 1 Axes>"
      ]
     },
     "metadata": {
      "needs_background": "light"
     },
     "output_type": "display_data"
    }
   ],
   "source": [
    "%matplotlib inline\n",
    "import matplotlib.pyplot as plt\n",
    "fig = plt.figure(figsize = (8,8))\n",
    "ax = fig.add_subplot(1,1,1) \n",
    "ax.set_xlabel('Principal Component 1', fontsize = 15)\n",
    "ax.set_ylabel('Principal Component 2', fontsize = 15)\n",
    "ax.set_title('2 component PCA', fontsize = 20)\n",
    "targets = ['0', '1', '2']\n",
    "colors = ['r', 'g', 'b']\n",
    "for target, color in zip(targets,colors):\n",
    "    indicesToKeep = finalDf['Species'] == target\n",
    "    ax.scatter(finalDf.loc[indicesToKeep, 'principal component 1']\n",
    "               , finalDf.loc[indicesToKeep, 'principal component 2']\n",
    "               , c = color\n",
    "               , s = 50)\n",
    "ax.legend(targets)\n",
    "ax.grid()"
   ]
  },
  {
   "cell_type": "code",
   "execution_count": null,
   "metadata": {},
   "outputs": [],
   "source": []
  },
  {
   "cell_type": "code",
   "execution_count": 21,
   "metadata": {},
   "outputs": [],
   "source": [
    "# PCA with 2 Principal Components = 97.5% of data variance"
   ]
  },
  {
   "cell_type": "code",
   "execution_count": 22,
   "metadata": {},
   "outputs": [],
   "source": [
    "X_pca2 = finalDf.loc[:,'principal component 1':'principal component 2']\n",
    "y_pca2 = finalDf['Species']"
   ]
  },
  {
   "cell_type": "code",
   "execution_count": 23,
   "metadata": {},
   "outputs": [
    {
     "name": "stdout",
     "output_type": "stream",
     "text": [
      "DecisionTreeClassifier(class_weight=None, criterion='gini', max_depth=None,\n",
      "            max_features=None, max_leaf_nodes=None,\n",
      "            min_impurity_decrease=0.0, min_impurity_split=None,\n",
      "            min_samples_leaf=1, min_samples_split=2,\n",
      "            min_weight_fraction_leaf=0.0, presort=False, random_state=None,\n",
      "            splitter='best')\n",
      "              precision    recall  f1-score   support\n",
      "\n",
      "           0       1.00      1.00      1.00        50\n",
      "           1       1.00      1.00      1.00        50\n",
      "           2       1.00      1.00      1.00        50\n",
      "\n",
      "   micro avg       1.00      1.00      1.00       150\n",
      "   macro avg       1.00      1.00      1.00       150\n",
      "weighted avg       1.00      1.00      1.00       150\n",
      "\n",
      "[[50  0  0]\n",
      " [ 0 50  0]\n",
      " [ 0  0 50]]\n"
     ]
    }
   ],
   "source": [
    "# Decision Tree Classifier\n",
    "from sklearn.tree import DecisionTreeClassifier\n",
    "from sklearn import metrics\n",
    "model = DecisionTreeClassifier()\n",
    "model.fit(X_pca2,y_pca2)\n",
    "print(model)\n",
    "# make predictions\n",
    "expected = y_pca2\n",
    "predicted = model.predict(X_pca2)\n",
    "# summarize the fit of the model\n",
    "print(metrics.classification_report(expected, predicted))\n",
    "print(metrics.confusion_matrix(expected, predicted))\n",
    "cm = metrics.confusion_matrix(expected, predicted)"
   ]
  },
  {
   "cell_type": "code",
   "execution_count": 24,
   "metadata": {},
   "outputs": [],
   "source": [
    "# save the model to disk\n",
    "import pickle\n",
    "filename = 'iris_pca.pkl'\n",
    "pickle.dump(pca, open(filename, 'wb'))"
   ]
  },
  {
   "cell_type": "code",
   "execution_count": null,
   "metadata": {},
   "outputs": [],
   "source": []
  },
  {
   "cell_type": "code",
   "execution_count": null,
   "metadata": {},
   "outputs": [],
   "source": []
  }
 ],
 "metadata": {
  "kernelspec": {
   "display_name": "Python 3",
   "language": "python",
   "name": "python3"
  },
  "language_info": {
   "codemirror_mode": {
    "name": "ipython",
    "version": 3
   },
   "file_extension": ".py",
   "mimetype": "text/x-python",
   "name": "python",
   "nbconvert_exporter": "python",
   "pygments_lexer": "ipython3",
   "version": "3.7.1"
  }
 },
 "nbformat": 4,
 "nbformat_minor": 2
}
