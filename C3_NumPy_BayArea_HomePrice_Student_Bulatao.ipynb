{
 "cells": [
  {
   "cell_type": "markdown",
   "metadata": {},
   "source": [
    "<img src = \"https://img.betapage.co/images/77640967-77641456.png\" height=50% width = 50%>"
   ]
  },
  {
   "cell_type": "code",
   "execution_count": 2,
   "metadata": {},
   "outputs": [],
   "source": [
    "import numpy as np"
   ]
  },
  {
   "cell_type": "markdown",
   "metadata": {},
   "source": [
    "# Introduction to NumPy\n",
    "\n",
    "\"Numpy is the core library for scientific computing in Python. It provides a high-performance multidimensional array object, and tools for working with these arrays. This library provides you with an array data structure that holds some benefits over Python lists, such as: being more compact, faster access in reading and writing items, being more convenient and more efficient.\"\n"
   ]
  },
  {
   "cell_type": "markdown",
   "metadata": {},
   "source": [
    "# What is a NumPy array?\n",
    "\n",
    "\"The central feature of NumPy is the array object class. Arrays are similar to lists in Python, except that every element of an array must be of the same type, typically a numeric type like float or int. Arrays make operations with large amounts of numeric data very fast and are generally much more efficient than lists.\"\n",
    "\n",
    "LINK: https://engineering.ucsb.edu/~shell/che210d/numpy.pdf"
   ]
  },
  {
   "cell_type": "markdown",
   "metadata": {},
   "source": [
    "<img src = \"http://community.datacamp.com.s3.amazonaws.com/community/production/ckeditor_assets/pictures/332/content_arrays-axes.png\">"
   ]
  },
  {
   "cell_type": "markdown",
   "metadata": {},
   "source": [
    "# NumPy Array Syntax\n",
    "The function array takes two arguments: the list to be converted into the array and the type of each member of the list. "
   ]
  },
  {
   "cell_type": "code",
   "execution_count": 3,
   "metadata": {},
   "outputs": [
    {
     "data": {
      "text/plain": [
       "array([1, 2, 3, 4, 5, 6, 7, 8, 9])"
      ]
     },
     "execution_count": 3,
     "metadata": {},
     "output_type": "execute_result"
    }
   ],
   "source": [
    "#List to be converted\n",
    "lst = [1,2,3,4,5,6,7,8,9]\n",
    "\n",
    "arr = np.array(lst)\n",
    "arr"
   ]
  },
  {
   "cell_type": "markdown",
   "metadata": {},
   "source": [
    "Array elements are accessed, sliced, and manipulated just like lists."
   ]
  },
  {
   "cell_type": "code",
   "execution_count": 4,
   "metadata": {},
   "outputs": [
    {
     "data": {
      "text/plain": [
       "array([3, 4, 5, 6, 7, 8, 9])"
      ]
     },
     "execution_count": 4,
     "metadata": {},
     "output_type": "execute_result"
    }
   ],
   "source": [
    "#Index from the 2nd index on\n",
    "arr[2:]"
   ]
  },
  {
   "cell_type": "code",
   "execution_count": 5,
   "metadata": {},
   "outputs": [
    {
     "data": {
      "text/plain": [
       "array([10,  2,  3,  4,  5,  6,  7,  8,  9])"
      ]
     },
     "execution_count": 5,
     "metadata": {},
     "output_type": "execute_result"
    }
   ],
   "source": [
    "#manipulate item at index 0\n",
    "arr[0] = 10\n",
    "arr"
   ]
  },
  {
   "cell_type": "markdown",
   "metadata": {},
   "source": [
    "\n",
    "<b>* Why can't we simply use a python list for these scientific computations?<b>"
   ]
  },
  {
   "cell_type": "markdown",
   "metadata": {},
   "source": [
    "# Python List VS NumPy Array\n",
    "\n",
    "\"Arrays and lists are both used in Python to store data, but they don't serve exactly the same purposes. They both can be used to store any data type (real numbers, strings, etc), and they both can be indexed and iterated through, but the similarities between the two don't go much further. The main difference between a list and an array is the functions that you can perform to them. For example, you can divide an array by 3, and each number in the array will be divided by 3 and the result will be printed if you request it. If you try to divide a list by 3, Python will tell you that it can't be done, and an error will be thrown.\"\n"
   ]
  },
  {
   "cell_type": "code",
   "execution_count": 6,
   "metadata": {},
   "outputs": [
    {
     "ename": "TypeError",
     "evalue": "unsupported operand type(s) for /: 'list' and 'int'",
     "output_type": "error",
     "traceback": [
      "\u001b[1;31m---------------------------------------------------------------------------\u001b[0m",
      "\u001b[1;31mTypeError\u001b[0m                                 Traceback (most recent call last)",
      "\u001b[1;32m<ipython-input-6-f77ccc9ee967>\u001b[0m in \u001b[0;36m<module>\u001b[1;34m()\u001b[0m\n\u001b[0;32m      1\u001b[0m \u001b[0mlst\u001b[0m \u001b[1;33m=\u001b[0m \u001b[1;33m[\u001b[0m\u001b[1;36m3\u001b[0m\u001b[1;33m,\u001b[0m\u001b[1;36m6\u001b[0m\u001b[1;33m,\u001b[0m\u001b[1;36m9\u001b[0m\u001b[1;33m,\u001b[0m\u001b[1;36m12\u001b[0m\u001b[1;33m,\u001b[0m\u001b[1;36m15\u001b[0m\u001b[1;33m,\u001b[0m\u001b[1;36m18\u001b[0m\u001b[1;33m,\u001b[0m\u001b[1;36m12\u001b[0m\u001b[1;33m]\u001b[0m\u001b[1;33m\u001b[0m\u001b[0m\n\u001b[1;32m----> 2\u001b[1;33m \u001b[0mlst\u001b[0m\u001b[1;33m/\u001b[0m\u001b[1;36m3\u001b[0m\u001b[1;33m\u001b[0m\u001b[0m\n\u001b[0m",
      "\u001b[1;31mTypeError\u001b[0m: unsupported operand type(s) for /: 'list' and 'int'"
     ]
    }
   ],
   "source": [
    "lst = [3,6,9,12,15,18,12]\n",
    "lst/3"
   ]
  },
  {
   "cell_type": "code",
   "execution_count": 7,
   "metadata": {},
   "outputs": [
    {
     "name": "stdout",
     "output_type": "stream",
     "text": [
      "[12 24 36 48 60 72 48]\n",
      "[ 3  6  9 12 15 18 12]\n"
     ]
    }
   ],
   "source": [
    "arr = np.array([3,6,9,12,15,18,12])\n",
    "print(arr * 4)\n",
    "print(arr)\n",
    "# note how it can multipy each element easily\n",
    "# note that it will not change the original array"
   ]
  },
  {
   "cell_type": "markdown",
   "metadata": {},
   "source": [
    "Arrays can be multidimensional. Unlike lists, different axes are accessed using commas inside bracket notation. Here is an example with a two-dimensional array (e.g., a matrix)"
   ]
  },
  {
   "cell_type": "code",
   "execution_count": 8,
   "metadata": {},
   "outputs": [
    {
     "data": {
      "text/plain": [
       "array([[5, 6, 7, 8, 9],\n",
       "       [1, 2, 3, 4, 5]])"
      ]
     },
     "execution_count": 8,
     "metadata": {},
     "output_type": "execute_result"
    }
   ],
   "source": [
    "lst1 = [1,2,3,4,5]\n",
    "lst2 = [5,6,7,8,9]\n",
    "arr = np.array([lst2,lst1])\n",
    "arr\n",
    "# concatinationg"
   ]
  },
  {
   "cell_type": "code",
   "execution_count": 9,
   "metadata": {},
   "outputs": [
    {
     "data": {
      "text/plain": [
       "array([[1.66666667, 2.        , 2.33333333, 2.66666667, 3.        ],\n",
       "       [0.33333333, 0.66666667, 1.        , 1.33333333, 1.66666667]])"
      ]
     },
     "execution_count": 9,
     "metadata": {},
     "output_type": "execute_result"
    }
   ],
   "source": [
    "(arr/3)\n",
    "# you can only do this with NumPy"
   ]
  },
  {
   "cell_type": "code",
   "execution_count": 10,
   "metadata": {},
   "outputs": [
    {
     "data": {
      "text/plain": [
       "[[1, 2, 3, 4, 5], [5, 6, 7, 8, 9]]"
      ]
     },
     "execution_count": 10,
     "metadata": {},
     "output_type": "execute_result"
    }
   ],
   "source": [
    "lst_lst = [lst1,lst2]\n",
    "lst_lst\n",
    "# you can concatenate two lists in python"
   ]
  },
  {
   "cell_type": "code",
   "execution_count": 11,
   "metadata": {},
   "outputs": [
    {
     "ename": "TypeError",
     "evalue": "unsupported operand type(s) for /: 'list' and 'int'",
     "output_type": "error",
     "traceback": [
      "\u001b[1;31m---------------------------------------------------------------------------\u001b[0m",
      "\u001b[1;31mTypeError\u001b[0m                                 Traceback (most recent call last)",
      "\u001b[1;32m<ipython-input-11-4927542b23a4>\u001b[0m in \u001b[0;36m<module>\u001b[1;34m()\u001b[0m\n\u001b[1;32m----> 1\u001b[1;33m \u001b[0mlst_lst\u001b[0m\u001b[1;33m/\u001b[0m\u001b[1;36m3\u001b[0m\u001b[1;33m\u001b[0m\u001b[0m\n\u001b[0m\u001b[0;32m      2\u001b[0m \u001b[1;31m#just can't divide like numpy\u001b[0m\u001b[1;33m\u001b[0m\u001b[1;33m\u001b[0m\u001b[0m\n",
      "\u001b[1;31mTypeError\u001b[0m: unsupported operand type(s) for /: 'list' and 'int'"
     ]
    }
   ],
   "source": [
    "lst_lst/3\n",
    "#just can't divide like numpy"
   ]
  },
  {
   "cell_type": "markdown",
   "metadata": {},
   "source": [
    "# Indexing Arrays VS Lists"
   ]
  },
  {
   "cell_type": "code",
   "execution_count": null,
   "metadata": {},
   "outputs": [],
   "source": [
    "arr"
   ]
  },
  {
   "cell_type": "code",
   "execution_count": null,
   "metadata": {},
   "outputs": [],
   "source": [
    "arr[0][1]"
   ]
  },
  {
   "cell_type": "code",
   "execution_count": null,
   "metadata": {},
   "outputs": [],
   "source": [
    "lst_lst"
   ]
  },
  {
   "cell_type": "code",
   "execution_count": null,
   "metadata": {
    "scrolled": true
   },
   "outputs": [],
   "source": [
    "lst_lst[0,1]"
   ]
  },
  {
   "cell_type": "code",
   "execution_count": null,
   "metadata": {},
   "outputs": [],
   "source": [
    "lst_lst[0][1]"
   ]
  },
  {
   "cell_type": "code",
   "execution_count": null,
   "metadata": {},
   "outputs": [],
   "source": [
    "arr[-1]"
   ]
  },
  {
   "cell_type": "code",
   "execution_count": null,
   "metadata": {},
   "outputs": [],
   "source": [
    "lst_lst[-1]"
   ]
  },
  {
   "cell_type": "code",
   "execution_count": null,
   "metadata": {},
   "outputs": [],
   "source": [
    "arr"
   ]
  },
  {
   "cell_type": "markdown",
   "metadata": {},
   "source": [
    "<h3> How to index a multidemsional array? </h3><br>\n",
    "The individual elements of arrays can be accessed in the same way as for lists.\n",
    "\n",
    "<img src = \"http://www.scipy-lectures.org/_images/numpy_indexing.png\" height = 60% width = 60%>"
   ]
  },
  {
   "cell_type": "code",
   "execution_count": 94,
   "metadata": {},
   "outputs": [],
   "source": [
    "list_2d = [[0,1,2,3,4,5],\n",
    "           [10,11,12,13,14,15],\n",
    "           [20,21,22,23,24,25],\n",
    "           [30,31,32,33,34,35],\n",
    "           [40,41,42,43,44,45],\n",
    "           [50,51,52,53,54,55]]"
   ]
  },
  {
   "cell_type": "code",
   "execution_count": 95,
   "metadata": {},
   "outputs": [
    {
     "name": "stdout",
     "output_type": "stream",
     "text": [
      "[1, 2, 3]\n"
     ]
    }
   ],
   "source": [
    "myList = [1,2,3]\n",
    "print(myList)"
   ]
  },
  {
   "cell_type": "code",
   "execution_count": 96,
   "metadata": {},
   "outputs": [
    {
     "name": "stdout",
     "output_type": "stream",
     "text": [
      "[[ 0  1  2  3  4  5]\n",
      " [10 11 12 13 14 15]\n",
      " [20 21 22 23 24 25]\n",
      " [30 31 32 33 34 35]\n",
      " [40 41 42 43 44 45]\n",
      " [50 51 52 53 54 55]]\n"
     ]
    },
    {
     "data": {
      "text/plain": [
       "(6, 6)"
      ]
     },
     "execution_count": 96,
     "metadata": {},
     "output_type": "execute_result"
    }
   ],
   "source": [
    "array_2d = np.array(list_2d)\n",
    "print(array_2d)\n",
    "array_2d.shape"
   ]
  },
  {
   "cell_type": "code",
   "execution_count": 97,
   "metadata": {},
   "outputs": [
    {
     "name": "stdout",
     "output_type": "stream",
     "text": [
      "[3 4]\n"
     ]
    }
   ],
   "source": [
    "print(array_2d[0,3:5])"
   ]
  },
  {
   "cell_type": "code",
   "execution_count": 98,
   "metadata": {},
   "outputs": [
    {
     "name": "stdout",
     "output_type": "stream",
     "text": [
      "[[44 45]\n",
      " [54 55]]\n"
     ]
    }
   ],
   "source": [
    "print(array_2d[4:,4:])"
   ]
  },
  {
   "cell_type": "code",
   "execution_count": 99,
   "metadata": {},
   "outputs": [
    {
     "name": "stdout",
     "output_type": "stream",
     "text": [
      "[ 2 12 22 32 42 52]\n"
     ]
    }
   ],
   "source": [
    "print(array_2d[:,2])"
   ]
  },
  {
   "cell_type": "code",
   "execution_count": 100,
   "metadata": {},
   "outputs": [
    {
     "name": "stdout",
     "output_type": "stream",
     "text": [
      "[[23 25]\n",
      " [43 45]]\n"
     ]
    }
   ],
   "source": [
    "print(array_2d[2:5:2,3::2]) # step by 2"
   ]
  },
  {
   "cell_type": "code",
   "execution_count": 101,
   "metadata": {},
   "outputs": [],
   "source": [
    "# adding new column to numpy array"
   ]
  },
  {
   "cell_type": "code",
   "execution_count": 102,
   "metadata": {},
   "outputs": [
    {
     "name": "stdout",
     "output_type": "stream",
     "text": [
      "[ 5.25 15.75 26.25 36.75 47.25 57.75]\n"
     ]
    }
   ],
   "source": [
    "calc = array_2d[:,5] * 1.05\n",
    "# new_column = np.array(calc)\n",
    "print(calc)"
   ]
  },
  {
   "cell_type": "code",
   "execution_count": 103,
   "metadata": {},
   "outputs": [
    {
     "name": "stdout",
     "output_type": "stream",
     "text": [
      "[[ 0.    1.    2.    3.    4.    5.    5.25]\n",
      " [10.   11.   12.   13.   14.   15.   15.75]\n",
      " [20.   21.   22.   23.   24.   25.   26.25]\n",
      " [30.   31.   32.   33.   34.   35.   36.75]\n",
      " [40.   41.   42.   43.   44.   45.   47.25]\n",
      " [50.   51.   52.   53.   54.   55.   57.75]]\n"
     ]
    }
   ],
   "source": [
    "new_array_2d = np.column_stack((array_2d,calc))\n",
    "print(new_array_2d)"
   ]
  },
  {
   "cell_type": "markdown",
   "metadata": {},
   "source": [
    "# Changing Array to different DataType"
   ]
  },
  {
   "cell_type": "code",
   "execution_count": null,
   "metadata": {},
   "outputs": [],
   "source": [
    "arr = arr.tolist()\n",
    "arr"
   ]
  },
  {
   "cell_type": "code",
   "execution_count": null,
   "metadata": {},
   "outputs": [],
   "source": [
    "type(arr)"
   ]
  },
  {
   "cell_type": "code",
   "execution_count": null,
   "metadata": {},
   "outputs": [],
   "source": [
    "arr = np.array(arr)\n",
    "arr"
   ]
  },
  {
   "cell_type": "code",
   "execution_count": null,
   "metadata": {},
   "outputs": [],
   "source": [
    "type(arr)"
   ]
  },
  {
   "cell_type": "code",
   "execution_count": null,
   "metadata": {},
   "outputs": [],
   "source": [
    "arr.shape"
   ]
  },
  {
   "cell_type": "markdown",
   "metadata": {},
   "source": [
    "# Change Array Shape\n",
    "\n",
    "<img src = \"https://www.safaribooksonline.com/library/view/python-for-data/9781449323592/httpatomoreillycomsourceoreillyimages1346880.png\" height = 50% width = 30% style = display.left> "
   ]
  },
  {
   "cell_type": "markdown",
   "metadata": {},
   "source": [
    "Transposed versions of arrays can also be generated, which will create a new array with the final two axes switched:"
   ]
  },
  {
   "cell_type": "code",
   "execution_count": null,
   "metadata": {},
   "outputs": [],
   "source": [
    "arr"
   ]
  },
  {
   "cell_type": "code",
   "execution_count": null,
   "metadata": {},
   "outputs": [],
   "source": [
    "arr.shape"
   ]
  },
  {
   "cell_type": "code",
   "execution_count": null,
   "metadata": {},
   "outputs": [],
   "source": [
    "arr.transpose()"
   ]
  },
  {
   "cell_type": "code",
   "execution_count": null,
   "metadata": {},
   "outputs": [],
   "source": [
    "arr.transpose().shape"
   ]
  },
  {
   "cell_type": "markdown",
   "metadata": {},
   "source": [
    "Make multidimensional array into one-dimensional array"
   ]
  },
  {
   "cell_type": "code",
   "execution_count": null,
   "metadata": {},
   "outputs": [],
   "source": [
    "arr.shape"
   ]
  },
  {
   "cell_type": "code",
   "execution_count": null,
   "metadata": {},
   "outputs": [],
   "source": [
    "arr.flatten()"
   ]
  },
  {
   "cell_type": "code",
   "execution_count": null,
   "metadata": {},
   "outputs": [],
   "source": [
    "arr.flatten().shape"
   ]
  },
  {
   "cell_type": "markdown",
   "metadata": {},
   "source": [
    "# Create New Array (Specific)\n",
    "\n",
    "Numpy also provides many functions to create arrays."
   ]
  },
  {
   "cell_type": "markdown",
   "metadata": {},
   "source": [
    "Creates an array of all zeros with a specified shape."
   ]
  },
  {
   "cell_type": "code",
   "execution_count": null,
   "metadata": {},
   "outputs": [],
   "source": [
    "#1-Dimensional\n",
    "np.zeros(10)"
   ]
  },
  {
   "cell_type": "code",
   "execution_count": null,
   "metadata": {},
   "outputs": [],
   "source": [
    "#2-Dimensional\n",
    "np.zeros((2,2), int)"
   ]
  },
  {
   "cell_type": "markdown",
   "metadata": {},
   "source": [
    "Creates an array of all ones with a specified shape."
   ]
  },
  {
   "cell_type": "code",
   "execution_count": null,
   "metadata": {},
   "outputs": [],
   "source": [
    "#1-Dimensional\n",
    "np.ones(10, int)"
   ]
  },
  {
   "cell_type": "code",
   "execution_count": null,
   "metadata": {},
   "outputs": [],
   "source": [
    "#2-Dimensional\n",
    "np.ones((2,2))"
   ]
  },
  {
   "cell_type": "markdown",
   "metadata": {},
   "source": [
    "Creates a constant array (specified number) with a specified shape."
   ]
  },
  {
   "cell_type": "code",
   "execution_count": null,
   "metadata": {},
   "outputs": [],
   "source": [
    "#1-Dimensional\n",
    "np.full(10,7)"
   ]
  },
  {
   "cell_type": "code",
   "execution_count": null,
   "metadata": {},
   "outputs": [],
   "source": [
    "#2-Dimensional\n",
    "np.full((2, 2), 7)"
   ]
  },
  {
   "cell_type": "markdown",
   "metadata": {},
   "source": [
    "Created an array of a specified shape with random values."
   ]
  },
  {
   "cell_type": "code",
   "execution_count": null,
   "metadata": {},
   "outputs": [],
   "source": [
    "#1-Dimensional\n",
    "np.random.random(10)"
   ]
  },
  {
   "cell_type": "code",
   "execution_count": null,
   "metadata": {},
   "outputs": [],
   "source": [
    "#2-Dimensional\n",
    "np.random.random((2,2))"
   ]
  },
  {
   "cell_type": "markdown",
   "metadata": {},
   "source": [
    "Create an array of a specified length with evenly spaced values."
   ]
  },
  {
   "cell_type": "code",
   "execution_count": null,
   "metadata": {},
   "outputs": [],
   "source": [
    "#1-Dimensional\n",
    "np.arange(10)"
   ]
  },
  {
   "cell_type": "markdown",
   "metadata": {},
   "source": [
    "Create an array with a specified \"start\", \"stop\", and number of values, evenly spaced."
   ]
  },
  {
   "cell_type": "code",
   "execution_count": null,
   "metadata": {},
   "outputs": [],
   "source": [
    "#1-Dimensional\n",
    "np.linspace(1, 10, num = 20)"
   ]
  },
  {
   "cell_type": "markdown",
   "metadata": {},
   "source": [
    "Creates a 2x2 identity matrix (array).\n",
    "\n",
    "An identity matrix is a square matrix having 1s on the main diagonal, and 0s everywhere else. These are called identity matrices because, when you multiply them with a compatible matrix , you get back the same matrix.\n",
    "http://www.sparknotes.com/math/algebra2/matrices/section3.rhtml"
   ]
  },
  {
   "cell_type": "code",
   "execution_count": null,
   "metadata": {},
   "outputs": [],
   "source": [
    "#2-Dimensional\n",
    "np.eye(10)"
   ]
  },
  {
   "cell_type": "markdown",
   "metadata": {},
   "source": [
    "OR"
   ]
  },
  {
   "cell_type": "code",
   "execution_count": null,
   "metadata": {},
   "outputs": [],
   "source": [
    "#2-Dimensional\n",
    "np.identity(10)"
   ]
  },
  {
   "cell_type": "markdown",
   "metadata": {},
   "source": [
    "# Math Functions using NumPy\n",
    "\n",
    "\"As such, it probably won’t surprise you that you can just use +, -, *, / or % to add, subtract, multiply, divide or calculate the remainder of two (or more) arrays. However, a big part of why NumPy is so handy, is because it also has functions to do this. The equivalent functions of the operations that you have seen just now are, respectively, np.add(), np.subtract(), np.multiply(), np.divide() and np.remainder().\"\n",
    "\n",
    "https://www.datacamp.com/community/tutorials/python-numpy-tutorial"
   ]
  },
  {
   "cell_type": "code",
   "execution_count": null,
   "metadata": {
    "scrolled": true
   },
   "outputs": [],
   "source": [
    "arr = np.ones((10,10))\n",
    "arr"
   ]
  },
  {
   "cell_type": "code",
   "execution_count": null,
   "metadata": {},
   "outputs": [],
   "source": [
    "np.add(arr,2)"
   ]
  },
  {
   "cell_type": "code",
   "execution_count": null,
   "metadata": {},
   "outputs": [],
   "source": [
    "#OR\n",
    "arr + 2"
   ]
  },
  {
   "cell_type": "code",
   "execution_count": null,
   "metadata": {},
   "outputs": [],
   "source": [
    "np.multiply(arr,2)"
   ]
  },
  {
   "cell_type": "code",
   "execution_count": null,
   "metadata": {},
   "outputs": [],
   "source": [
    "#OR\n",
    "arr*2"
   ]
  },
  {
   "cell_type": "code",
   "execution_count": null,
   "metadata": {},
   "outputs": [],
   "source": [
    "np.subtract(arr,1)"
   ]
  },
  {
   "cell_type": "code",
   "execution_count": null,
   "metadata": {},
   "outputs": [],
   "source": [
    "#OR\n",
    "arr -1 "
   ]
  },
  {
   "cell_type": "code",
   "execution_count": null,
   "metadata": {},
   "outputs": [],
   "source": [
    "np.divide(arr,2)"
   ]
  },
  {
   "cell_type": "code",
   "execution_count": null,
   "metadata": {},
   "outputs": [],
   "source": [
    "#OR\n",
    "arr/2"
   ]
  },
  {
   "cell_type": "code",
   "execution_count": null,
   "metadata": {},
   "outputs": [],
   "source": [
    "np.remainder(arr,1)"
   ]
  },
  {
   "cell_type": "code",
   "execution_count": null,
   "metadata": {},
   "outputs": [],
   "source": [
    "#OR\n",
    "arr % 1"
   ]
  },
  {
   "cell_type": "code",
   "execution_count": null,
   "metadata": {},
   "outputs": [],
   "source": [
    "arr.sum()"
   ]
  },
  {
   "cell_type": "code",
   "execution_count": null,
   "metadata": {},
   "outputs": [],
   "source": [
    "arr.min()"
   ]
  },
  {
   "cell_type": "code",
   "execution_count": null,
   "metadata": {},
   "outputs": [],
   "source": [
    "arr.max()"
   ]
  },
  {
   "cell_type": "code",
   "execution_count": null,
   "metadata": {},
   "outputs": [],
   "source": [
    "arr.mean()"
   ]
  },
  {
   "cell_type": "markdown",
   "metadata": {},
   "source": [
    "# <font color = magenta> NumPy Problem 1 </font>\n",
    "<font color = magenta>\n",
    "Create the three arrays displayed in the image, below.\n",
    "\n",
    "<img src = \"https://i.stack.imgur.com/ojnFF.jpg\">"
   ]
  },
  {
   "cell_type": "code",
   "execution_count": 12,
   "metadata": {},
   "outputs": [
    {
     "name": "stdout",
     "output_type": "stream",
     "text": [
      "[[4 6 4]\n",
      " [1 1 8]\n",
      " [0 7 5]\n",
      " [5 3 3]\n",
      " [8 9 5]]\n"
     ]
    }
   ],
   "source": [
    "#Array 1\n",
    "Array1 = np.zeros((5,3), int)\n",
    "Array1[0] = 4,6,4\n",
    "Array1[1] = 1,1,8\n",
    "Array1[2] = 0,7,5\n",
    "Array1[3] = 5,3,3\n",
    "Array1[4] = 8,9,5\n",
    "print(Array1)"
   ]
  },
  {
   "cell_type": "code",
   "execution_count": 13,
   "metadata": {},
   "outputs": [
    {
     "name": "stdout",
     "output_type": "stream",
     "text": [
      "[[8 8 4]\n",
      " [3 4 4]\n",
      " [0 0 9]\n",
      " [3 7 3]\n",
      " [3 4 7]]\n"
     ]
    }
   ],
   "source": [
    "#Array 2\n",
    "Array2 = np.zeros((5,3), int)\n",
    "Array2[0] = 8,8,4\n",
    "Array2[1] = 3,4,4\n",
    "Array2[2] = 0,0,9\n",
    "Array2[3] = 3,7,3\n",
    "Array2[4] = 3,4,7\n",
    "print(Array2)\n"
   ]
  },
  {
   "cell_type": "code",
   "execution_count": 14,
   "metadata": {},
   "outputs": [
    {
     "name": "stdout",
     "output_type": "stream",
     "text": [
      "[[9 5 4]\n",
      " [7 7 3]\n",
      " [9 5 9]\n",
      " [8 7 8]\n",
      " [5 8 8]]\n"
     ]
    }
   ],
   "source": [
    "#Array 3\n",
    "Array3 = np.zeros((5,3),int)\n",
    "Array3[0] = 9,5,4\n",
    "Array3[1] = 7,7,3\n",
    "Array3[2] = 9,5,9\n",
    "Array3[3] = 8,7,8\n",
    "Array3[4] = 5,8,8\n",
    "print(Array3)"
   ]
  },
  {
   "cell_type": "markdown",
   "metadata": {},
   "source": [
    "# <font color = magenta> NumPy Problem 2 </font>\n",
    "<font color = magenta>\n",
    "Create a multidimensional array of your dimension choice and fill it random values(not filled manually)."
   ]
  },
  {
   "cell_type": "code",
   "execution_count": 15,
   "metadata": {},
   "outputs": [
    {
     "name": "stdout",
     "output_type": "stream",
     "text": [
      "[[0.68296348 0.53088351 0.36826716 0.31891897]\n",
      " [0.03554209 0.91068764 0.67623526 0.52203413]\n",
      " [0.26881316 0.43481653 0.19349477 0.69491807]\n",
      " [0.91953088 0.44590251 0.0466788  0.4350942 ]\n",
      " [0.36268347 0.14484379 0.77058789 0.26872117]]\n"
     ]
    }
   ],
   "source": [
    "array_random = np.random.random((5,4))\n",
    "print(array_random)"
   ]
  },
  {
   "cell_type": "markdown",
   "metadata": {},
   "source": [
    "Find the min and max values of your array."
   ]
  },
  {
   "cell_type": "code",
   "execution_count": 16,
   "metadata": {},
   "outputs": [
    {
     "data": {
      "text/plain": [
       "0.035542090169800034"
      ]
     },
     "execution_count": 16,
     "metadata": {},
     "output_type": "execute_result"
    }
   ],
   "source": [
    "flat_array_random = array_random.flatten()\n",
    "min(flat_array_random)"
   ]
  },
  {
   "cell_type": "markdown",
   "metadata": {},
   "source": [
    "# <font color = magenta> NumPy Problem 3 </font>\n",
    "<font color = magenta>\n",
    "Create another multidimensional array of your dimension choice and fill it random values(not filled manually). Find the max value of your new array and replace it with your min value. Find the min value and replace it in your array with the max value."
   ]
  },
  {
   "cell_type": "code",
   "execution_count": 36,
   "metadata": {},
   "outputs": [
    {
     "name": "stdout",
     "output_type": "stream",
     "text": [
      "Shape is  (6, 7)\n",
      "flattened shape is  (42,)\n",
      "max value is  0.9851556640137878\n",
      "index  (array([24], dtype=int64),)  is where max value  0.9851556640137878  is.\n",
      "index  (array([20], dtype=int64),)  is where min value  0.012677136754995821  is.\n",
      "position  (array([20], dtype=int64),)  is now  [0.98515566]\n",
      "position  (array([24], dtype=int64),)  is now  [0.01267714]\n",
      "reshaped array is  (6, 7)\n"
     ]
    }
   ],
   "source": [
    "# create array\n",
    "array_random_2 = np.random.random((6,7))\n",
    "print(\"Shape is \", array_random_2.shape)\n",
    "# find the max value\n",
    "# flatten\n",
    "flat_array_random_2 = array_random_2.flatten()\n",
    "print(\"flattened shape is \", flat_array_random_2.shape)\n",
    "max_value = max(flat_array_random_2)\n",
    "print(\"max value is \", max_value)\n",
    "# find location of value\n",
    "max_location = np.where(flat_array_random_2==max_value)\n",
    "# find min value\n",
    "print(\"index \", max_location, \" is where max value \", max_value, \" is.\")\n",
    "# find min value\n",
    "min_value = min(flat_array_random_2)\n",
    "# find location of min value\n",
    "min_location = np.where(flat_array_random_2==min_value)\n",
    "print(\"index \", min_location, \" is where min value \", min_value, \" is.\")\n",
    "\n",
    "# replace max value with min value\n",
    "# set min location with max value\n",
    "flat_array_random_2[min_location] = max_value\n",
    "# set max location with min value\n",
    "flat_array_random_2[max_location] = min_value\n",
    "print(\"position \", min_location, \" is now \", flat_array_random_2[min_location])\n",
    "print(\"position \", max_location, \" is now \", flat_array_random_2[max_location])\n",
    "# put back in original shape\n",
    "array_random_3 = np.reshape(array_random_2,(6,7))\n",
    "print(\"reshaped array is \", array_random_3.shape)\n"
   ]
  },
  {
   "cell_type": "markdown",
   "metadata": {},
   "source": [
    "# <font color = magenta> NumPy Problem 4 </font>\n",
    "\n",
    "Create a random vector of size 10 and sort it."
   ]
  },
  {
   "cell_type": "code",
   "execution_count": 44,
   "metadata": {},
   "outputs": [
    {
     "name": "stdout",
     "output_type": "stream",
     "text": [
      "[0.45203274 0.51295155 0.93883144 0.82171982 0.16017315 0.76688061\n",
      " 0.48932709 0.3220696  0.04836073 0.55929395]\n",
      "[0.04836073 0.16017315 0.3220696  0.45203274 0.48932709 0.51295155\n",
      " 0.55929395 0.76688061 0.82171982 0.93883144]\n"
     ]
    }
   ],
   "source": [
    "# create random vector of size 10\n",
    "random_vector = np.random.random(10,)\n",
    "print(random_vector)\n",
    "# sort it\n",
    "sorted_random_vector = np.sort(random_vector)\n",
    "print(sorted_random_vector)"
   ]
  },
  {
   "cell_type": "markdown",
   "metadata": {},
   "source": [
    "# <font color = magenta> NumPy Problem 5 </font>\n",
    "\n",
    "<font color = magenta>\n",
    "How to swap two rows of an array?"
   ]
  },
  {
   "cell_type": "code",
   "execution_count": null,
   "metadata": {},
   "outputs": [],
   "source": []
  },
  {
   "cell_type": "markdown",
   "metadata": {
    "collapsed": true
   },
   "source": [
    "# Numpy with Bay Area housing data set"
   ]
  },
  {
   "cell_type": "code",
   "execution_count": null,
   "metadata": {},
   "outputs": [],
   "source": [
    "def read_file_housing(filename):\n",
    "    file_open = open(filename,\"r\")\n",
    "    fixed_file = open(\"fixed-housing-data.csv\",\"w\")\n",
    "    line_count = 0\n",
    "    for line in iter(file_open):\n",
    "        line_count += 1\n",
    "        if \"HomeID\" in line:\n",
    "            continue\n",
    "        line_no_newline = line.rstrip()\n",
    "        line1 = line_no_newline.replace(\"84085\",\"94085\") #Ex9\n",
    "        line2 = line1.replace(\"84087\",\"94087\") #Ex9\n",
    "        line3 = line2.replace(\"85014\",\"95014\") #Ex9\n",
    "        line4 = line3.replace(\"85051\",\"95051\") #Ex9\n",
    "        line5 = line4.replace(\"l\",\"1\") #Ex11 -- Car_Garage\n",
    "        line_split = line5.split(\",\")\n",
    "        if (int(line_split[5]) < 100): #Ex10 -- School_API\n",
    "            line_split[5] = int(line_split[5]) * 10\n",
    "        else:\n",
    "            line_split[5] = int(line_split[5])\n",
    "        line_split = [str(x) for x in line_split]\n",
    "        myString = \",\".join(line_split) + \"\\n\"\n",
    "        fixed_file.write(myString)\n",
    "    return"
   ]
  },
  {
   "cell_type": "code",
   "execution_count": null,
   "metadata": {},
   "outputs": [],
   "source": [
    "read_file_housing(\"bayarea_home_prices.csv\")"
   ]
  },
  {
   "cell_type": "code",
   "execution_count": 45,
   "metadata": {},
   "outputs": [],
   "source": [
    "import numpy as np"
   ]
  },
  {
   "cell_type": "code",
   "execution_count": 46,
   "metadata": {},
   "outputs": [
    {
     "data": {
      "text/plain": [
       "'\\n0 = HomeID\\n1 = HomeAge\\n2 = HomeSqft\\n3 = LotSize\\n4 = BedRooms\\n5 = HighSchoolAPI\\n6 = ProxFwy\\n7 = CarGarage\\n8 = ZipCode\\n9 = HomePriceK\\n'"
      ]
     },
     "execution_count": 46,
     "metadata": {},
     "output_type": "execute_result"
    }
   ],
   "source": [
    "\"\"\"\n",
    "0 = HomeID\n",
    "1 = HomeAge\n",
    "2 = HomeSqft\n",
    "3 = LotSize\n",
    "4 = BedRooms\n",
    "5 = HighSchoolAPI\n",
    "6 = ProxFwy\n",
    "7 = CarGarage\n",
    "8 = ZipCode\n",
    "9 = HomePriceK\n",
    "\"\"\""
   ]
  },
  {
   "cell_type": "code",
   "execution_count": 47,
   "metadata": {},
   "outputs": [],
   "source": [
    "housing = np.loadtxt(\"fixed-housing-data.csv\",\n",
    "                          dtype=int,\n",
    "                          delimiter=\",\")"
   ]
  },
  {
   "cell_type": "code",
   "execution_count": 85,
   "metadata": {},
   "outputs": [
    {
     "name": "stdout",
     "output_type": "stream",
     "text": [
      "[[    1    24  1757  6056     2   899     3     3 94085   894]\n",
      " [    2    10  1563  6085     2   959     4     3 94085   861]]\n"
     ]
    }
   ],
   "source": [
    "print(housing[0:2])"
   ]
  },
  {
   "cell_type": "code",
   "execution_count": 51,
   "metadata": {},
   "outputs": [
    {
     "name": "stdout",
     "output_type": "stream",
     "text": [
      "(100, 10)\n"
     ]
    }
   ],
   "source": [
    "print(housing.shape)"
   ]
  },
  {
   "cell_type": "code",
   "execution_count": 52,
   "metadata": {},
   "outputs": [
    {
     "name": "stdout",
     "output_type": "stream",
     "text": [
      "[ 894  861  831  809  890  867  843  820  874  885  903  912  933  865\n",
      "  918  950  882  896  942  859  904  912  916  972  908  934  914  949\n",
      "  919  953  991 1049 1042  994 1030 1019 1044 1038 1024  976 1115 1128\n",
      " 1071 1059 1000 1185 1015 1114 1138 1068 1068 1097 1074 1114 1075 1130\n",
      " 1116 1103 1080 1150 1177 1149 1163 1132 1138 1199 1179 1173 1128 1165\n",
      " 1233 1180 1240 1242 1184 1173 1194 1181 1190 1182 1221 1288 1275 1300\n",
      " 1272 1294 1219 1282 1256 1205 1252 1294 1269 1335 1267 1307 1336 1284\n",
      " 1269 1250]\n"
     ]
    }
   ],
   "source": [
    "# home prices\n",
    "print(housing[:,9])"
   ]
  },
  {
   "cell_type": "code",
   "execution_count": 53,
   "metadata": {},
   "outputs": [
    {
     "name": "stdout",
     "output_type": "stream",
     "text": [
      "[ 904  871  841  819  900  877  853  830  884  895  913  922  943  875\n",
      "  928  960  892  906  952  869  914  922  926  982  918  944  924  959\n",
      "  929  963 1001 1059 1052 1004 1040 1029 1054 1048 1034  986 1125 1138\n",
      " 1081 1069 1010 1195 1025 1124 1148 1078 1078 1107 1084 1124 1085 1140\n",
      " 1126 1113 1090 1160 1187 1159 1173 1142 1148 1209 1189 1183 1138 1175\n",
      " 1243 1190 1250 1252 1194 1183 1204 1191 1200 1192 1231 1298 1285 1310\n",
      " 1282 1304 1229 1292 1266 1215 1262 1304 1279 1345 1277 1317 1346 1294\n",
      " 1279 1260]\n"
     ]
    }
   ],
   "source": [
    "print(housing[:,9] + 10)"
   ]
  },
  {
   "cell_type": "code",
   "execution_count": 54,
   "metadata": {},
   "outputs": [
    {
     "name": "stdout",
     "output_type": "stream",
     "text": [
      "[   5050    1720  161528  784050     271   90443     310     152 9455925\n",
      "  108099]\n"
     ]
    }
   ],
   "source": [
    "print(housing.sum(axis=0)) # sum by columns"
   ]
  },
  {
   "cell_type": "code",
   "execution_count": 55,
   "metadata": {},
   "outputs": [
    {
     "name": "stdout",
     "output_type": "stream",
     "text": [
      "[103724 103574 103240 103224 103896 103638 104044 103869 103609 104170\n",
      " 104094 103592 103978 104376 104062 105595 104218 104335 104940 104012\n",
      " 104075 104583 104684 105583 104958 104446 104876 105593 104503 106006\n",
      " 105990 106058 106256 105929 106298 105629 106320 106196 106023 106261\n",
      " 105369 105445 106369 105987 105936 105549 106606 105320 105358 106782\n",
      " 106365 106479 106225 105461 106713 105795 106138 105594 106827 105847\n",
      " 105796 106180 105869 105800 106169 107018 106669 106315 106430 106551\n",
      " 107465 106524 107181 107608 106533 107139 107961 106805 106554 106595\n",
      " 107843 107864 108077 107983 108182 108227 107735 107879 108478 108106\n",
      " 107902 108487 107956 108654 108172 108678 108406 108111 108617 108407]\n"
     ]
    }
   ],
   "source": [
    "print(housing.sum(axis=1)) # sum by rows"
   ]
  },
  {
   "cell_type": "code",
   "execution_count": 56,
   "metadata": {},
   "outputs": [],
   "source": [
    "homes_94085 = (housing[:,8] == 94085) # grabs all homes in zip 94085 and puts them in homes_94085 - it's true or false values"
   ]
  },
  {
   "cell_type": "code",
   "execution_count": 57,
   "metadata": {},
   "outputs": [
    {
     "name": "stdout",
     "output_type": "stream",
     "text": [
      "[ True  True  True  True  True  True  True  True  True  True  True  True\n",
      "  True  True  True False  True  True False  True  True  True  True False\n",
      "  True  True  True False  True False False False False False False False\n",
      " False False False False False False False False False False False False\n",
      " False False False False False False False False False False False False\n",
      " False False False False False False False False False False False False\n",
      " False False False False False False False False False False False False\n",
      " False False False False False False False False False False False False\n",
      " False False False False]\n"
     ]
    }
   ],
   "source": [
    "print(homes_94085)"
   ]
  },
  {
   "cell_type": "code",
   "execution_count": 58,
   "metadata": {
    "scrolled": true
   },
   "outputs": [
    {
     "name": "stdout",
     "output_type": "stream",
     "text": [
      "[[    1    24  1757  6056     2   899     3     3 94085   894]\n",
      " [    2    10  1563  6085     2   959     4     3 94085   861]\n",
      " [    3    14  1344  6089     2   865     4     3 94085   831]\n",
      " [    4    14  1215  6129     3   959     4     2 94085   809]\n",
      " [    5    24  1866  6141     3   877     4     1 94085   890]\n",
      " [    6    18  1589  6148     2   920     3     0 94085   867]\n",
      " [    7    13  1947  6183     3   959     3     1 94085   843]\n",
      " [    8    19  1839  6186     3   905     4     0 94085   820]\n",
      " [    9    17  1501  6233     2   884     3     1 94085   874]\n",
      " [   10    24  1933  6276     2   950     4     1 94085   885]\n",
      " [   11    12  1798  6346     3   931     3     2 94085   903]\n",
      " [   12    22  1221  6430     3   904     2     1 94085   912]\n",
      " [   13    15  1541  6514     2   872     2     1 94085   933]\n",
      " [   14    25  1974  6547     2   857     4     3 94085   865]\n",
      " [   15    10  1510  6633     2   884     3     2 94085   918]\n",
      " [   17    23  1464  6773     3   965     4     2 94085   882]\n",
      " [   18    16  1572  6809     2   935     2     0 94085   896]\n",
      " [   20    13  1358  6819     2   851     3     2 94085   859]\n",
      " [   21    17  1246  6870     3   922     4     3 94085   904]\n",
      " [   22    10  1752  6892     3   904     3     0 94085   912]\n",
      " [   23    15  1828  6956     3   851     4     3 94085   916]\n",
      " [   25    21  1991  7022     2   900     3     1 94085   908]\n",
      " [   26    12  1500  7025     2   856     4     2 94085   934]\n",
      " [   27    13  1836  7027     2   966     3     3 94085   914]\n",
      " [   29    17  1446  7098     2   900     4     3 94085   919]]\n"
     ]
    }
   ],
   "source": [
    "data_94085 = housing[homes_94085,][:,:]\n",
    "print(data_94085)"
   ]
  },
  {
   "cell_type": "code",
   "execution_count": 59,
   "metadata": {},
   "outputs": [],
   "source": [
    "sum_price_94085 = data_94085[:,9].sum()"
   ]
  },
  {
   "cell_type": "code",
   "execution_count": 60,
   "metadata": {},
   "outputs": [
    {
     "name": "stdout",
     "output_type": "stream",
     "text": [
      "25\n"
     ]
    }
   ],
   "source": [
    "print(len(data_94085))"
   ]
  },
  {
   "cell_type": "code",
   "execution_count": 61,
   "metadata": {},
   "outputs": [
    {
     "name": "stdout",
     "output_type": "stream",
     "text": [
      "25\n"
     ]
    }
   ],
   "source": [
    "print(data_94085.shape[0]) # shape[0] is rows"
   ]
  },
  {
   "cell_type": "code",
   "execution_count": 62,
   "metadata": {},
   "outputs": [
    {
     "name": "stdout",
     "output_type": "stream",
     "text": [
      "10\n"
     ]
    }
   ],
   "source": [
    "print(data_94085.shape[1]) # shope[1] is columns"
   ]
  },
  {
   "cell_type": "code",
   "execution_count": 63,
   "metadata": {},
   "outputs": [
    {
     "data": {
      "text/plain": [
       "['ALLOW_THREADS',\n",
       " 'AxisError',\n",
       " 'BUFSIZE',\n",
       " 'CLIP',\n",
       " 'ComplexWarning',\n",
       " 'DataSource',\n",
       " 'ERR_CALL',\n",
       " 'ERR_DEFAULT',\n",
       " 'ERR_IGNORE',\n",
       " 'ERR_LOG',\n",
       " 'ERR_PRINT',\n",
       " 'ERR_RAISE',\n",
       " 'ERR_WARN',\n",
       " 'FLOATING_POINT_SUPPORT',\n",
       " 'FPE_DIVIDEBYZERO',\n",
       " 'FPE_INVALID',\n",
       " 'FPE_OVERFLOW',\n",
       " 'FPE_UNDERFLOW',\n",
       " 'False_',\n",
       " 'Inf',\n",
       " 'Infinity',\n",
       " 'MAXDIMS',\n",
       " 'MAY_SHARE_BOUNDS',\n",
       " 'MAY_SHARE_EXACT',\n",
       " 'MachAr',\n",
       " 'ModuleDeprecationWarning',\n",
       " 'NAN',\n",
       " 'NINF',\n",
       " 'NZERO',\n",
       " 'NaN',\n",
       " 'PINF',\n",
       " 'PZERO',\n",
       " 'PackageLoader',\n",
       " 'RAISE',\n",
       " 'RankWarning',\n",
       " 'SHIFT_DIVIDEBYZERO',\n",
       " 'SHIFT_INVALID',\n",
       " 'SHIFT_OVERFLOW',\n",
       " 'SHIFT_UNDERFLOW',\n",
       " 'ScalarType',\n",
       " 'Tester',\n",
       " 'TooHardError',\n",
       " 'True_',\n",
       " 'UFUNC_BUFSIZE_DEFAULT',\n",
       " 'UFUNC_PYVALS_NAME',\n",
       " 'VisibleDeprecationWarning',\n",
       " 'WRAP',\n",
       " '_NoValue',\n",
       " '__NUMPY_SETUP__',\n",
       " '__all__',\n",
       " '__builtins__',\n",
       " '__cached__',\n",
       " '__config__',\n",
       " '__doc__',\n",
       " '__file__',\n",
       " '__git_revision__',\n",
       " '__loader__',\n",
       " '__mkl_version__',\n",
       " '__name__',\n",
       " '__package__',\n",
       " '__path__',\n",
       " '__spec__',\n",
       " '__version__',\n",
       " '_distributor_init',\n",
       " '_globals',\n",
       " '_import_tools',\n",
       " '_mat',\n",
       " '_mklinit',\n",
       " '_numpy_tester',\n",
       " 'abs',\n",
       " 'absolute',\n",
       " 'absolute_import',\n",
       " 'add',\n",
       " 'add_docstring',\n",
       " 'add_newdoc',\n",
       " 'add_newdoc_ufunc',\n",
       " 'add_newdocs',\n",
       " 'alen',\n",
       " 'all',\n",
       " 'allclose',\n",
       " 'alltrue',\n",
       " 'amax',\n",
       " 'amin',\n",
       " 'angle',\n",
       " 'any',\n",
       " 'append',\n",
       " 'apply_along_axis',\n",
       " 'apply_over_axes',\n",
       " 'arange',\n",
       " 'arccos',\n",
       " 'arccosh',\n",
       " 'arcsin',\n",
       " 'arcsinh',\n",
       " 'arctan',\n",
       " 'arctan2',\n",
       " 'arctanh',\n",
       " 'argmax',\n",
       " 'argmin',\n",
       " 'argpartition',\n",
       " 'argsort',\n",
       " 'argwhere',\n",
       " 'around',\n",
       " 'array',\n",
       " 'array2string',\n",
       " 'array_equal',\n",
       " 'array_equiv',\n",
       " 'array_repr',\n",
       " 'array_split',\n",
       " 'array_str',\n",
       " 'asanyarray',\n",
       " 'asarray',\n",
       " 'asarray_chkfinite',\n",
       " 'ascontiguousarray',\n",
       " 'asfarray',\n",
       " 'asfortranarray',\n",
       " 'asmatrix',\n",
       " 'asscalar',\n",
       " 'atleast_1d',\n",
       " 'atleast_2d',\n",
       " 'atleast_3d',\n",
       " 'average',\n",
       " 'bartlett',\n",
       " 'base_repr',\n",
       " 'bench',\n",
       " 'binary_repr',\n",
       " 'bincount',\n",
       " 'bitwise_and',\n",
       " 'bitwise_not',\n",
       " 'bitwise_or',\n",
       " 'bitwise_xor',\n",
       " 'blackman',\n",
       " 'block',\n",
       " 'bmat',\n",
       " 'bool',\n",
       " 'bool8',\n",
       " 'bool_',\n",
       " 'broadcast',\n",
       " 'broadcast_arrays',\n",
       " 'broadcast_to',\n",
       " 'busday_count',\n",
       " 'busday_offset',\n",
       " 'busdaycalendar',\n",
       " 'byte',\n",
       " 'byte_bounds',\n",
       " 'bytes0',\n",
       " 'bytes_',\n",
       " 'c_',\n",
       " 'can_cast',\n",
       " 'cast',\n",
       " 'cbrt',\n",
       " 'cdouble',\n",
       " 'ceil',\n",
       " 'cfloat',\n",
       " 'char',\n",
       " 'character',\n",
       " 'chararray',\n",
       " 'choose',\n",
       " 'clip',\n",
       " 'clongdouble',\n",
       " 'clongfloat',\n",
       " 'column_stack',\n",
       " 'common_type',\n",
       " 'compare_chararrays',\n",
       " 'compat',\n",
       " 'complex',\n",
       " 'complex128',\n",
       " 'complex64',\n",
       " 'complex_',\n",
       " 'complexfloating',\n",
       " 'compress',\n",
       " 'concatenate',\n",
       " 'conj',\n",
       " 'conjugate',\n",
       " 'convolve',\n",
       " 'copy',\n",
       " 'copysign',\n",
       " 'copyto',\n",
       " 'core',\n",
       " 'corrcoef',\n",
       " 'correlate',\n",
       " 'cos',\n",
       " 'cosh',\n",
       " 'count_nonzero',\n",
       " 'cov',\n",
       " 'cross',\n",
       " 'csingle',\n",
       " 'ctypeslib',\n",
       " 'cumprod',\n",
       " 'cumproduct',\n",
       " 'cumsum',\n",
       " 'datetime64',\n",
       " 'datetime_as_string',\n",
       " 'datetime_data',\n",
       " 'deg2rad',\n",
       " 'degrees',\n",
       " 'delete',\n",
       " 'deprecate',\n",
       " 'deprecate_with_doc',\n",
       " 'diag',\n",
       " 'diag_indices',\n",
       " 'diag_indices_from',\n",
       " 'diagflat',\n",
       " 'diagonal',\n",
       " 'diff',\n",
       " 'digitize',\n",
       " 'disp',\n",
       " 'divide',\n",
       " 'division',\n",
       " 'divmod',\n",
       " 'dot',\n",
       " 'double',\n",
       " 'dsplit',\n",
       " 'dstack',\n",
       " 'dtype',\n",
       " 'e',\n",
       " 'ediff1d',\n",
       " 'einsum',\n",
       " 'einsum_path',\n",
       " 'emath',\n",
       " 'empty',\n",
       " 'empty_like',\n",
       " 'equal',\n",
       " 'erf',\n",
       " 'errstate',\n",
       " 'euler_gamma',\n",
       " 'exp',\n",
       " 'exp2',\n",
       " 'expand_dims',\n",
       " 'expm1',\n",
       " 'extendkey',\n",
       " 'extract',\n",
       " 'eye',\n",
       " 'fabs',\n",
       " 'fastCopyAndTranspose',\n",
       " 'fft',\n",
       " 'fill_diagonal',\n",
       " 'find_common_type',\n",
       " 'finfo',\n",
       " 'fix',\n",
       " 'flatiter',\n",
       " 'flatnonzero',\n",
       " 'flexible',\n",
       " 'flip',\n",
       " 'fliplr',\n",
       " 'flipud',\n",
       " 'float',\n",
       " 'float16',\n",
       " 'float32',\n",
       " 'float64',\n",
       " 'float_',\n",
       " 'float_power',\n",
       " 'floating',\n",
       " 'floor',\n",
       " 'floor_divide',\n",
       " 'fmax',\n",
       " 'fmin',\n",
       " 'fmod',\n",
       " 'format_float_positional',\n",
       " 'format_float_scientific',\n",
       " 'format_parser',\n",
       " 'frexp',\n",
       " 'frombuffer',\n",
       " 'fromfile',\n",
       " 'fromfunction',\n",
       " 'fromiter',\n",
       " 'frompyfunc',\n",
       " 'fromregex',\n",
       " 'fromstring',\n",
       " 'full',\n",
       " 'full_like',\n",
       " 'fv',\n",
       " 'generic',\n",
       " 'genfromtxt',\n",
       " 'geomspace',\n",
       " 'get_array_wrap',\n",
       " 'get_include',\n",
       " 'get_printoptions',\n",
       " 'getbufsize',\n",
       " 'geterr',\n",
       " 'geterrcall',\n",
       " 'geterrobj',\n",
       " 'gradient',\n",
       " 'greater',\n",
       " 'greater_equal',\n",
       " 'half',\n",
       " 'hamming',\n",
       " 'hanning',\n",
       " 'heaviside',\n",
       " 'histogram',\n",
       " 'histogram2d',\n",
       " 'histogramdd',\n",
       " 'hsplit',\n",
       " 'hstack',\n",
       " 'hypot',\n",
       " 'i0',\n",
       " 'identity',\n",
       " 'iinfo',\n",
       " 'imag',\n",
       " 'in1d',\n",
       " 'index_exp',\n",
       " 'indices',\n",
       " 'inexact',\n",
       " 'inf',\n",
       " 'info',\n",
       " 'infty',\n",
       " 'inner',\n",
       " 'insert',\n",
       " 'int',\n",
       " 'int0',\n",
       " 'int16',\n",
       " 'int32',\n",
       " 'int64',\n",
       " 'int8',\n",
       " 'int_',\n",
       " 'int_asbuffer',\n",
       " 'intc',\n",
       " 'integer',\n",
       " 'interp',\n",
       " 'intersect1d',\n",
       " 'intp',\n",
       " 'invert',\n",
       " 'ipmt',\n",
       " 'irr',\n",
       " 'is_busday',\n",
       " 'isclose',\n",
       " 'iscomplex',\n",
       " 'iscomplexobj',\n",
       " 'isfinite',\n",
       " 'isfortran',\n",
       " 'isin',\n",
       " 'isinf',\n",
       " 'isnan',\n",
       " 'isnat',\n",
       " 'isneginf',\n",
       " 'isposinf',\n",
       " 'isreal',\n",
       " 'isrealobj',\n",
       " 'isscalar',\n",
       " 'issctype',\n",
       " 'issubclass_',\n",
       " 'issubdtype',\n",
       " 'issubsctype',\n",
       " 'iterable',\n",
       " 'ix_',\n",
       " 'kaiser',\n",
       " 'kron',\n",
       " 'ldexp',\n",
       " 'left_shift',\n",
       " 'less',\n",
       " 'less_equal',\n",
       " 'lexsort',\n",
       " 'lib',\n",
       " 'linalg',\n",
       " 'linspace',\n",
       " 'little_endian',\n",
       " 'load',\n",
       " 'loads',\n",
       " 'loadtxt',\n",
       " 'log',\n",
       " 'log10',\n",
       " 'log1p',\n",
       " 'log2',\n",
       " 'logaddexp',\n",
       " 'logaddexp2',\n",
       " 'logical_and',\n",
       " 'logical_not',\n",
       " 'logical_or',\n",
       " 'logical_xor',\n",
       " 'logspace',\n",
       " 'long',\n",
       " 'longcomplex',\n",
       " 'longdouble',\n",
       " 'longfloat',\n",
       " 'longlong',\n",
       " 'lookfor',\n",
       " 'ma',\n",
       " 'mafromtxt',\n",
       " 'mask_indices',\n",
       " 'mat',\n",
       " 'math',\n",
       " 'matmul',\n",
       " 'matrix',\n",
       " 'matrixlib',\n",
       " 'max',\n",
       " 'maximum',\n",
       " 'maximum_sctype',\n",
       " 'may_share_memory',\n",
       " 'mean',\n",
       " 'median',\n",
       " 'memmap',\n",
       " 'meshgrid',\n",
       " 'mgrid',\n",
       " 'min',\n",
       " 'min_scalar_type',\n",
       " 'minimum',\n",
       " 'mintypecode',\n",
       " 'mirr',\n",
       " 'mod',\n",
       " 'modf',\n",
       " 'moveaxis',\n",
       " 'msort',\n",
       " 'multiply',\n",
       " 'nan',\n",
       " 'nan_to_num',\n",
       " 'nanargmax',\n",
       " 'nanargmin',\n",
       " 'nancumprod',\n",
       " 'nancumsum',\n",
       " 'nanmax',\n",
       " 'nanmean',\n",
       " 'nanmedian',\n",
       " 'nanmin',\n",
       " 'nanpercentile',\n",
       " 'nanprod',\n",
       " 'nanstd',\n",
       " 'nansum',\n",
       " 'nanvar',\n",
       " 'nbytes',\n",
       " 'ndarray',\n",
       " 'ndenumerate',\n",
       " 'ndfromtxt',\n",
       " 'ndim',\n",
       " 'ndindex',\n",
       " 'nditer',\n",
       " 'negative',\n",
       " 'nested_iters',\n",
       " 'newaxis',\n",
       " 'nextafter',\n",
       " 'nonzero',\n",
       " 'not_equal',\n",
       " 'nper',\n",
       " 'npv',\n",
       " 'numarray',\n",
       " 'number',\n",
       " 'obj2sctype',\n",
       " 'object',\n",
       " 'object0',\n",
       " 'object_',\n",
       " 'ogrid',\n",
       " 'oldnumeric',\n",
       " 'ones',\n",
       " 'ones_like',\n",
       " 'os',\n",
       " 'outer',\n",
       " 'packbits',\n",
       " 'pad',\n",
       " 'partition',\n",
       " 'percentile',\n",
       " 'pi',\n",
       " 'piecewise',\n",
       " 'pkgload',\n",
       " 'place',\n",
       " 'pmt',\n",
       " 'poly',\n",
       " 'poly1d',\n",
       " 'polyadd',\n",
       " 'polyder',\n",
       " 'polydiv',\n",
       " 'polyfit',\n",
       " 'polyint',\n",
       " 'polymul',\n",
       " 'polynomial',\n",
       " 'polysub',\n",
       " 'polyval',\n",
       " 'positive',\n",
       " 'power',\n",
       " 'ppmt',\n",
       " 'print_function',\n",
       " 'prod',\n",
       " 'product',\n",
       " 'promote_types',\n",
       " 'ptp',\n",
       " 'put',\n",
       " 'putmask',\n",
       " 'pv',\n",
       " 'r_',\n",
       " 'rad2deg',\n",
       " 'radians',\n",
       " 'random',\n",
       " 'rank',\n",
       " 'rate',\n",
       " 'ravel',\n",
       " 'ravel_multi_index',\n",
       " 'real',\n",
       " 'real_if_close',\n",
       " 'rec',\n",
       " 'recarray',\n",
       " 'recfromcsv',\n",
       " 'recfromtxt',\n",
       " 'reciprocal',\n",
       " 'record',\n",
       " 'redist',\n",
       " 'redist_dir',\n",
       " 'remainder',\n",
       " 'repeat',\n",
       " 'require',\n",
       " 'reshape',\n",
       " 'resize',\n",
       " 'result_type',\n",
       " 'right_shift',\n",
       " 'rint',\n",
       " 'roll',\n",
       " 'rollaxis',\n",
       " 'roots',\n",
       " 'rot90',\n",
       " 'round',\n",
       " 'round_',\n",
       " 'row_stack',\n",
       " 's_',\n",
       " 'safe_eval',\n",
       " 'save',\n",
       " 'savetxt',\n",
       " 'savez',\n",
       " 'savez_compressed',\n",
       " 'sctype2char',\n",
       " 'sctypeDict',\n",
       " 'sctypeNA',\n",
       " 'sctypes',\n",
       " 'searchsorted',\n",
       " 'select',\n",
       " 'set_numeric_ops',\n",
       " 'set_printoptions',\n",
       " 'set_string_function',\n",
       " 'setbufsize',\n",
       " 'setdiff1d',\n",
       " 'seterr',\n",
       " 'seterrcall',\n",
       " 'seterrobj',\n",
       " 'setxor1d',\n",
       " 'shape',\n",
       " 'shares_memory',\n",
       " 'short',\n",
       " 'show_config',\n",
       " 'sign',\n",
       " 'signbit',\n",
       " 'signedinteger',\n",
       " 'sin',\n",
       " 'sinc',\n",
       " 'single',\n",
       " 'singlecomplex',\n",
       " 'sinh',\n",
       " 'size',\n",
       " 'sometrue',\n",
       " 'sort',\n",
       " 'sort_complex',\n",
       " 'source',\n",
       " 'spacing',\n",
       " 'split',\n",
       " 'sqrt',\n",
       " 'square',\n",
       " 'squeeze',\n",
       " 'stack',\n",
       " 'std',\n",
       " 'str',\n",
       " 'str0',\n",
       " 'str_',\n",
       " 'string_',\n",
       " 'subtract',\n",
       " 'sum',\n",
       " 'swapaxes',\n",
       " 'sys',\n",
       " 'take',\n",
       " 'tan',\n",
       " 'tanh',\n",
       " 'tensordot',\n",
       " 'test',\n",
       " 'testing',\n",
       " 'tile',\n",
       " 'timedelta64',\n",
       " 'trace',\n",
       " 'tracemalloc_domain',\n",
       " 'transpose',\n",
       " 'trapz',\n",
       " 'tri',\n",
       " 'tril',\n",
       " 'tril_indices',\n",
       " 'tril_indices_from',\n",
       " 'trim_zeros',\n",
       " 'triu',\n",
       " 'triu_indices',\n",
       " 'triu_indices_from',\n",
       " 'true_divide',\n",
       " 'trunc',\n",
       " 'typeDict',\n",
       " 'typeNA',\n",
       " 'typecodes',\n",
       " 'typename',\n",
       " 'ubyte',\n",
       " 'ufunc',\n",
       " 'uint',\n",
       " 'uint0',\n",
       " 'uint16',\n",
       " 'uint32',\n",
       " 'uint64',\n",
       " 'uint8',\n",
       " 'uintc',\n",
       " 'uintp',\n",
       " 'ulonglong',\n",
       " 'unicode',\n",
       " 'unicode_',\n",
       " 'union1d',\n",
       " 'unique',\n",
       " 'unpackbits',\n",
       " 'unravel_index',\n",
       " 'unsignedinteger',\n",
       " 'unwrap',\n",
       " 'ushort',\n",
       " 'vander',\n",
       " 'var',\n",
       " 'vdot',\n",
       " 'vectorize',\n",
       " 'version',\n",
       " 'void',\n",
       " 'void0',\n",
       " 'vsplit',\n",
       " 'vstack',\n",
       " 'warnings',\n",
       " 'where',\n",
       " 'who',\n",
       " 'zeros',\n",
       " 'zeros_like']"
      ]
     },
     "execution_count": 63,
     "metadata": {},
     "output_type": "execute_result"
    }
   ],
   "source": [
    "dir(np)"
   ]
  },
  {
   "cell_type": "code",
   "execution_count": 64,
   "metadata": {},
   "outputs": [
    {
     "name": "stdout",
     "output_type": "stream",
     "text": [
      "885.96\n"
     ]
    }
   ],
   "source": [
    "average_94085 = sum_price_94085/25\n",
    "print(average_94085)"
   ]
  },
  {
   "cell_type": "markdown",
   "metadata": {},
   "source": [
    "# NumPy Problem 6\n",
    "### Calculate average price in each zip code: 94085, 94087, 95014, 95051\n",
    "### Calculate minimum and max price in each zip code: 94085, 94087, 95014, 95051\n",
    "### Calculate standard deviation of price in each zip code: 94085, 94087, 95014, 95051"
   ]
  },
  {
   "cell_type": "code",
   "execution_count": 79,
   "metadata": {},
   "outputs": [
    {
     "name": "stdout",
     "output_type": "stream",
     "text": [
      "The average price of zip 94085 is  885.96\n"
     ]
    }
   ],
   "source": [
    "# Your code here\n",
    "# create a array for boolean values of 94085\n",
    "homes_94085 = (housing[:,8] == 94085) # grabs all homes in zip 94085 and puts them in homes_94085 - it's true or false values\n",
    "# create an array of housing data for 94085\n",
    "data_94085 = housing[homes_94085,][:,:]\n",
    "# find sum of column 9 which is house pricing\n",
    "sum_price_94085 = data_94085[:,9].sum()\n",
    "# find average by dividing by number of rows\n",
    "avg_price_94085 = sum_price_94085/(data_94085.shape[0])\n",
    "print(\"The average price of zip 94085 is \", avg_price_94085)"
   ]
  },
  {
   "cell_type": "code",
   "execution_count": 80,
   "metadata": {},
   "outputs": [
    {
     "name": "stdout",
     "output_type": "stream",
     "text": [
      "[[   65    14  1617  8394     2   850     2     0 94087  1138]\n",
      " [   73    25  1302  8668     3   850     4     2 95014  1240]\n",
      " [   23    15  1828  6956     3   851     4     3 94085   916]\n",
      " [   20    13  1358  6819     2   851     3     2 94085   859]\n",
      " [   79    17  1373  8953     2   851     2     0 94087  1190]\n",
      " [   77    17  1881  8921     3   852     2     0 95014  1194]\n",
      " [   19    10  1246  6810     2   853     4     3 95051   942]\n",
      " [   32    18  1866  7181     2   854     2     3 95051  1049]\n",
      " [   95    13  1582  9339     3   856     3     0 95014  1267]\n",
      " [   26    12  1500  7025     2   856     4     2 94085   934]\n",
      " [   99    19  1880  9470     3   857     3     3 95014  1269]\n",
      " [   53    23  1289  7873     2   857     3     0 95051  1074]\n",
      " [   67    24  1947  8502     2   857     4     0 94087  1179]\n",
      " [  100    11  1691  9476     4   857     4     0 95014  1250]\n",
      " [   14    25  1974  6547     2   857     4     3 94085   865]\n",
      " [   44    11  1415  7541     3   859     4     0 95051  1059]\n",
      " [   85    22  1757  9163     3   861     2     3 95014  1272]\n",
      " [   94    21  1983  9337     4   862     2     2 95014  1335]\n",
      " [    3    14  1344  6089     2   865     4     3 94085   831]\n",
      " [   52    25  1535  7847     2   867     3     0 95051  1097]\n",
      " [   42    21  1836  7458     2   867     4     0 94087  1128]\n",
      " [   64    12  1249  8378     3   868     4     3 94087  1132]\n",
      " [   62    19  1672  8318     3   868     2     0 94087  1149]\n",
      " [   13    15  1541  6514     2   872     2     1 94085   933]\n",
      " [   74    17  1680  8698     2   875     3     3 95014  1242]\n",
      " [   56    11  1669  7958     3   876     4     1 94087  1130]\n",
      " [   82    19  1480  9095     4   877     4     1 95014  1288]\n",
      " [    5    24  1866  6141     3   877     4     1 94085   890]\n",
      " [   90    14  1652  9245     4   879     3     0 95014  1205]\n",
      " [   87    18  1314  9195     4   881     3     0 95014  1219]\n",
      " [   70    16  1739  8585     2   881     3     3 94087  1165]\n",
      " [   89    21  1994  9215     4   881     4     0 95014  1256]\n",
      " [   58    19  1382  8054     2   883     4     2 94087  1103]\n",
      " [   80    11  1370  8974     2   883     3     3 94087  1182]\n",
      " [   15    10  1510  6633     2   884     3     2 94085   918]\n",
      " [    9    17  1501  6233     2   884     3     1 94085   874]\n",
      " [   54    12  1401  7897     3   888     4     1 94087  1114]\n",
      " [   71    19  1615  8617     3   889     2     2 95014  1233]\n",
      " [   49    12  1385  7793     2   889     3     0 94087  1138]\n",
      " [   55    10  1721  7902     3   890     3     3 95051  1075]\n",
      " [   48    22  1420  7733     3   890     2     1 94087  1114]\n",
      " [   40    15  1883  7396     2   891     4     3 95051   976]\n",
      " [   28    10  1581  7073     3   892     4     2 95051   949]\n",
      " [   72    24  1643  8619     2   893     3     1 94087  1180]\n",
      " [   81    18  1524  9081     4   894     3     3 95014  1221]\n",
      " [   16    20  1979  6680     2   894     3     0 95051   950]\n",
      " [    1    24  1757  6056     2   899     3     3 94085   894]\n",
      " [   25    21  1991  7022     2   900     3     1 94085   908]\n",
      " [   29    17  1446  7098     2   900     4     3 94085   919]\n",
      " [   61    13  1432  8121     2   900     3     0 94087  1177]\n",
      " [   47    21  1871  7693     2   901     2     3 95051  1015]\n",
      " [   66    25  1358  8446     3   902     2     3 95014  1199]\n",
      " [   60    19  1522  8098     2   903     4     2 94087  1150]\n",
      " [   22    10  1752  6892     3   904     3     0 94085   912]\n",
      " [   12    22  1221  6430     3   904     2     1 94085   912]\n",
      " [    8    19  1839  6186     3   905     4     0 94085   820]\n",
      " [   24    10  1598  7011     2   911     3     1 95051   972]\n",
      " [   96    11  1981  9350     4   912     2     1 95014  1307]\n",
      " [   43    17  1773  7495     2   913     3     1 95051  1071]\n",
      " [   98    21  1312  9456     4   915     4     3 95014  1284]\n",
      " [   46    11  1639  7660     2   916     2     1 94087  1185]\n",
      " [   41    23  1754  7426     3   917     2     1 94087  1115]\n",
      " [   31    10  1843  7136     3   918     4     3 95051   991]\n",
      " [   92    18  1846  9292     4   920     4     3 95014  1294]\n",
      " [    6    18  1589  6148     2   920     3     0 94085   867]\n",
      " [   21    17  1246  6870     3   922     4     3 94085   904]\n",
      " [   86    19  1704  9179     4   924     3     0 95014  1294]\n",
      " [   36    14  1276  7303     2   925     3     0 95051  1019]\n",
      " [   78    25  1558  8942     3   927     4     0 94087  1181]\n",
      " [   63    25  1250  8348     2   928     3     0 94087  1163]\n",
      " [   88    22  1324  9211     4   929     2     3 95014  1282]\n",
      " [   84    25  1499  9122     4   931     4     0 95014  1300]\n",
      " [   11    12  1798  6346     3   931     3     2 94085   903]\n",
      " [   30    24  1893  7115     3   933     4     0 95051   953]\n",
      " [   18    16  1572  6809     2   935     2     0 94085   896]\n",
      " [   34    19  1659  7226     3   939     2     2 95051   994]\n",
      " [   75    14  1401  8825     3   940     2     2 94087  1184]\n",
      " [   68    12  1514  8512     3   940     3     3 94087  1173]\n",
      " [   91    16  1289  9289     4   941     3     3 95014  1252]\n",
      " [   83    24  1625  9106     3   941     3     3 95014  1275]\n",
      " [   93    25  1298  9309     3   942     3     0 95014  1269]\n",
      " [   97    10  1645  9352     4   942     3     3 95014  1336]\n",
      " [   39    22  1551  7388     2   942     2     2 95051  1024]\n",
      " [   51    19  1382  7841     2   948     3     0 95051  1068]\n",
      " [   50    19  1836  7803     3   949     3     0 95051  1068]\n",
      " [   10    24  1933  6276     2   950     4     1 94085   885]\n",
      " [   57    11  1927  7983     3   950     3     1 94087  1116]\n",
      " [   59    22  1559  8096     2   953     2     3 95051  1080]\n",
      " [   76    12  1947  8882     3   954     3     2 94087  1173]\n",
      " [    7    13  1947  6183     3   959     3     1 94085   843]\n",
      " [   33    11  1953  7199     3   959     3     2 95051  1042]\n",
      " [    4    14  1215  6129     3   959     4     2 94085   809]\n",
      " [    2    10  1563  6085     2   959     4     3 94085   861]\n",
      " [   45    15  1249  7609     3   960     2     2 95051  1000]\n",
      " [   37    13  1874  7333     3   960     3     2 95051  1044]\n",
      " [   69    21  1575  8579     2   962     4     3 94087  1128]\n",
      " [   17    23  1464  6773     3   965     4     2 94085   882]\n",
      " [   27    13  1836  7027     2   966     3     3 94085   914]\n",
      " [   35    12  1943  7249     2   974     2     0 95051  1030]\n",
      " [   38    22  1724  7339     3   975     3     3 95051  1038]]\n"
     ]
    }
   ],
   "source": [
    "h1 = housing[housing[:,5].argsort()] # by school_api ascending\n",
    "print(h1)"
   ]
  },
  {
   "cell_type": "code",
   "execution_count": 81,
   "metadata": {},
   "outputs": [
    {
     "name": "stdout",
     "output_type": "stream",
     "text": [
      "[[   38    22  1724  7339     3   975     3     3 95051  1038]\n",
      " [   35    12  1943  7249     2   974     2     0 95051  1030]\n",
      " [   27    13  1836  7027     2   966     3     3 94085   914]\n",
      " [   17    23  1464  6773     3   965     4     2 94085   882]\n",
      " [   69    21  1575  8579     2   962     4     3 94087  1128]\n",
      " [   37    13  1874  7333     3   960     3     2 95051  1044]\n",
      " [   45    15  1249  7609     3   960     2     2 95051  1000]\n",
      " [    2    10  1563  6085     2   959     4     3 94085   861]\n",
      " [    4    14  1215  6129     3   959     4     2 94085   809]\n",
      " [   33    11  1953  7199     3   959     3     2 95051  1042]\n",
      " [    7    13  1947  6183     3   959     3     1 94085   843]\n",
      " [   76    12  1947  8882     3   954     3     2 94087  1173]\n",
      " [   59    22  1559  8096     2   953     2     3 95051  1080]\n",
      " [   57    11  1927  7983     3   950     3     1 94087  1116]\n",
      " [   10    24  1933  6276     2   950     4     1 94085   885]\n",
      " [   50    19  1836  7803     3   949     3     0 95051  1068]\n",
      " [   51    19  1382  7841     2   948     3     0 95051  1068]\n",
      " [   39    22  1551  7388     2   942     2     2 95051  1024]\n",
      " [   97    10  1645  9352     4   942     3     3 95014  1336]\n",
      " [   93    25  1298  9309     3   942     3     0 95014  1269]\n",
      " [   83    24  1625  9106     3   941     3     3 95014  1275]\n",
      " [   91    16  1289  9289     4   941     3     3 95014  1252]\n",
      " [   68    12  1514  8512     3   940     3     3 94087  1173]\n",
      " [   75    14  1401  8825     3   940     2     2 94087  1184]\n",
      " [   34    19  1659  7226     3   939     2     2 95051   994]\n",
      " [   18    16  1572  6809     2   935     2     0 94085   896]\n",
      " [   30    24  1893  7115     3   933     4     0 95051   953]\n",
      " [   11    12  1798  6346     3   931     3     2 94085   903]\n",
      " [   84    25  1499  9122     4   931     4     0 95014  1300]\n",
      " [   88    22  1324  9211     4   929     2     3 95014  1282]\n",
      " [   63    25  1250  8348     2   928     3     0 94087  1163]\n",
      " [   78    25  1558  8942     3   927     4     0 94087  1181]\n",
      " [   36    14  1276  7303     2   925     3     0 95051  1019]\n",
      " [   86    19  1704  9179     4   924     3     0 95014  1294]\n",
      " [   21    17  1246  6870     3   922     4     3 94085   904]\n",
      " [    6    18  1589  6148     2   920     3     0 94085   867]\n",
      " [   92    18  1846  9292     4   920     4     3 95014  1294]\n",
      " [   31    10  1843  7136     3   918     4     3 95051   991]\n",
      " [   41    23  1754  7426     3   917     2     1 94087  1115]\n",
      " [   46    11  1639  7660     2   916     2     1 94087  1185]\n",
      " [   98    21  1312  9456     4   915     4     3 95014  1284]\n",
      " [   43    17  1773  7495     2   913     3     1 95051  1071]\n",
      " [   96    11  1981  9350     4   912     2     1 95014  1307]\n",
      " [   24    10  1598  7011     2   911     3     1 95051   972]\n",
      " [    8    19  1839  6186     3   905     4     0 94085   820]\n",
      " [   12    22  1221  6430     3   904     2     1 94085   912]\n",
      " [   22    10  1752  6892     3   904     3     0 94085   912]\n",
      " [   60    19  1522  8098     2   903     4     2 94087  1150]\n",
      " [   66    25  1358  8446     3   902     2     3 95014  1199]\n",
      " [   47    21  1871  7693     2   901     2     3 95051  1015]\n",
      " [   61    13  1432  8121     2   900     3     0 94087  1177]\n",
      " [   29    17  1446  7098     2   900     4     3 94085   919]\n",
      " [   25    21  1991  7022     2   900     3     1 94085   908]\n",
      " [    1    24  1757  6056     2   899     3     3 94085   894]\n",
      " [   16    20  1979  6680     2   894     3     0 95051   950]\n",
      " [   81    18  1524  9081     4   894     3     3 95014  1221]\n",
      " [   72    24  1643  8619     2   893     3     1 94087  1180]\n",
      " [   28    10  1581  7073     3   892     4     2 95051   949]\n",
      " [   40    15  1883  7396     2   891     4     3 95051   976]\n",
      " [   48    22  1420  7733     3   890     2     1 94087  1114]\n",
      " [   55    10  1721  7902     3   890     3     3 95051  1075]\n",
      " [   49    12  1385  7793     2   889     3     0 94087  1138]\n",
      " [   71    19  1615  8617     3   889     2     2 95014  1233]\n",
      " [   54    12  1401  7897     3   888     4     1 94087  1114]\n",
      " [    9    17  1501  6233     2   884     3     1 94085   874]\n",
      " [   15    10  1510  6633     2   884     3     2 94085   918]\n",
      " [   80    11  1370  8974     2   883     3     3 94087  1182]\n",
      " [   58    19  1382  8054     2   883     4     2 94087  1103]\n",
      " [   89    21  1994  9215     4   881     4     0 95014  1256]\n",
      " [   70    16  1739  8585     2   881     3     3 94087  1165]\n",
      " [   87    18  1314  9195     4   881     3     0 95014  1219]\n",
      " [   90    14  1652  9245     4   879     3     0 95014  1205]\n",
      " [    5    24  1866  6141     3   877     4     1 94085   890]\n",
      " [   82    19  1480  9095     4   877     4     1 95014  1288]\n",
      " [   56    11  1669  7958     3   876     4     1 94087  1130]\n",
      " [   74    17  1680  8698     2   875     3     3 95014  1242]\n",
      " [   13    15  1541  6514     2   872     2     1 94085   933]\n",
      " [   62    19  1672  8318     3   868     2     0 94087  1149]\n",
      " [   64    12  1249  8378     3   868     4     3 94087  1132]\n",
      " [   42    21  1836  7458     2   867     4     0 94087  1128]\n",
      " [   52    25  1535  7847     2   867     3     0 95051  1097]\n",
      " [    3    14  1344  6089     2   865     4     3 94085   831]\n",
      " [   94    21  1983  9337     4   862     2     2 95014  1335]\n",
      " [   85    22  1757  9163     3   861     2     3 95014  1272]\n",
      " [   44    11  1415  7541     3   859     4     0 95051  1059]\n",
      " [   14    25  1974  6547     2   857     4     3 94085   865]\n",
      " [  100    11  1691  9476     4   857     4     0 95014  1250]\n",
      " [   67    24  1947  8502     2   857     4     0 94087  1179]\n",
      " [   53    23  1289  7873     2   857     3     0 95051  1074]\n",
      " [   99    19  1880  9470     3   857     3     3 95014  1269]\n",
      " [   26    12  1500  7025     2   856     4     2 94085   934]\n",
      " [   95    13  1582  9339     3   856     3     0 95014  1267]\n",
      " [   32    18  1866  7181     2   854     2     3 95051  1049]\n",
      " [   19    10  1246  6810     2   853     4     3 95051   942]\n",
      " [   77    17  1881  8921     3   852     2     0 95014  1194]\n",
      " [   79    17  1373  8953     2   851     2     0 94087  1190]\n",
      " [   20    13  1358  6819     2   851     3     2 94085   859]\n",
      " [   23    15  1828  6956     3   851     4     3 94085   916]\n",
      " [   73    25  1302  8668     3   850     4     2 95014  1240]\n",
      " [   65    14  1617  8394     2   850     2     0 94087  1138]]\n"
     ]
    }
   ],
   "source": [
    "h2 = housing[housing[:,5].argsort()[::-1]] # by school_api descending\n",
    "print(h2)"
   ]
  },
  {
   "cell_type": "markdown",
   "metadata": {},
   "source": [
    "# NumPy Problem 7\n",
    "### Find top-2 listings by School API for all zipcodes"
   ]
  },
  {
   "cell_type": "code",
   "execution_count": 86,
   "metadata": {},
   "outputs": [
    {
     "name": "stdout",
     "output_type": "stream",
     "text": [
      "[[   38    22  1724  7339     3   975     3     3 95051  1038]\n",
      " [   35    12  1943  7249     2   974     2     0 95051  1030]]\n"
     ]
    }
   ],
   "source": [
    "# Your code here\n",
    "# use h2 that has it in decending order\n",
    "# display index 0 and 1\n",
    "print(h2[0:2])"
   ]
  },
  {
   "cell_type": "markdown",
   "metadata": {},
   "source": [
    "# NumPy Problem 8\n",
    "### Prices are expected to go up by 4% next year.\n",
    "### Add another column with predicted prices"
   ]
  },
  {
   "cell_type": "code",
   "execution_count": 135,
   "metadata": {},
   "outputs": [
    {
     "name": "stdout",
     "output_type": "stream",
     "text": [
      "[[1.00000e+00 2.40000e+01 1.75700e+03 ... 9.40850e+04 8.94000e+02\n",
      "  9.29760e+02]\n",
      " [2.00000e+00 1.00000e+01 1.56300e+03 ... 9.40850e+04 8.61000e+02\n",
      "  8.95440e+02]\n",
      " [3.00000e+00 1.40000e+01 1.34400e+03 ... 9.40850e+04 8.31000e+02\n",
      "  8.64240e+02]\n",
      " ...\n",
      " [9.80000e+01 2.10000e+01 1.31200e+03 ... 9.50140e+04 1.28400e+03\n",
      "  1.33536e+03]\n",
      " [9.90000e+01 1.90000e+01 1.88000e+03 ... 9.50140e+04 1.26900e+03\n",
      "  1.31976e+03]\n",
      " [1.00000e+02 1.10000e+01 1.69100e+03 ... 9.50140e+04 1.25000e+03\n",
      "  1.30000e+03]]\n"
     ]
    }
   ],
   "source": [
    "# Your code here\n",
    "# use housing data\n",
    "# print(housing[:,9])\n",
    "# create an array of increased housing value\n",
    "next_year_price = housing[:,9]*1.04\n",
    "#print(next_year_price[1])\n",
    "#h4 = housing\n",
    "# put both arrays together housing and next_year_price\n",
    "# sample\n",
    "h4 = np.column_stack((housing,next_year_price))\n",
    "print(h4) # not sure why the format looks weird"
   ]
  },
  {
   "cell_type": "markdown",
   "metadata": {},
   "source": [
    "# NumPy Problem 9\n",
    "### Sort the matrix based on home prices. Save the updated numpy matrix with added column in Problem 8 to a file."
   ]
  },
  {
   "cell_type": "code",
   "execution_count": 136,
   "metadata": {},
   "outputs": [
    {
     "name": "stdout",
     "output_type": "stream",
     "text": [
      "[[4.00000e+00 1.40000e+01 1.21500e+03 ... 9.40850e+04 8.09000e+02\n",
      "  8.41360e+02]\n",
      " [8.00000e+00 1.90000e+01 1.83900e+03 ... 9.40850e+04 8.20000e+02\n",
      "  8.52800e+02]\n",
      " [3.00000e+00 1.40000e+01 1.34400e+03 ... 9.40850e+04 8.31000e+02\n",
      "  8.64240e+02]\n",
      " ...\n",
      " [9.60000e+01 1.10000e+01 1.98100e+03 ... 9.50140e+04 1.30700e+03\n",
      "  1.35928e+03]\n",
      " [9.40000e+01 2.10000e+01 1.98300e+03 ... 9.50140e+04 1.33500e+03\n",
      "  1.38840e+03]\n",
      " [9.70000e+01 1.00000e+01 1.64500e+03 ... 9.50140e+04 1.33600e+03\n",
      "  1.38944e+03]]\n"
     ]
    }
   ],
   "source": [
    "# Your code here\n",
    "h5 = h4[h4[:,9].argsort()] # by school_api ascending\n",
    "print(h5)"
   ]
  },
  {
   "cell_type": "markdown",
   "metadata": {},
   "source": [
    "# <font color = magenta> NumPy Problem 10 </font>\n",
    "\n",
    "Write a function that takes a long string containing multiple words. Print the same string, except with the words in backwards order. \n",
    "\n",
    "<i>HINT: Use <b>YOUR_STRING<code>.split()</code></b> function<br></i>"
   ]
  },
  {
   "cell_type": "code",
   "execution_count": 121,
   "metadata": {},
   "outputs": [
    {
     "name": "stdout",
     "output_type": "stream",
     "text": [
      "['Python', 'for', 'Data', 'Science', 'class', 'is', 'on', 'Saturdays', 'for', 'seven', 'weeks.']\n",
      "['weeks.', 'seven', 'for', 'Saturdays', 'on', 'is', 'class', 'Science', 'Data', 'for', 'Python']\n"
     ]
    }
   ],
   "source": [
    "myString = \"Python for Data Science class is on Saturdays for seven weeks.\" # use split, join, reverse - these are used frequently\n",
    "mySplitString = myString.split()\n",
    "print(mySplitString)\n",
    "type(mySplitString)\n",
    "# create an empty list\n",
    "myReverseList = []\n",
    "for i in reversed(mySplitString):\n",
    "    myReverseList.append(i)\n",
    "print(myReverseList)"
   ]
  },
  {
   "cell_type": "code",
   "execution_count": null,
   "metadata": {},
   "outputs": [],
   "source": []
  }
 ],
 "metadata": {
  "kernelspec": {
   "display_name": "Python 3",
   "language": "python",
   "name": "python3"
  },
  "language_info": {
   "codemirror_mode": {
    "name": "ipython",
    "version": 3
   },
   "file_extension": ".py",
   "mimetype": "text/x-python",
   "name": "python",
   "nbconvert_exporter": "python",
   "pygments_lexer": "ipython3",
   "version": "3.6.5"
  }
 },
 "nbformat": 4,
 "nbformat_minor": 2
}
