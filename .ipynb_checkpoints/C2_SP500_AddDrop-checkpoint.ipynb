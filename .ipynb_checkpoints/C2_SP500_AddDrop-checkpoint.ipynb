{
 "cells": [
  {
   "cell_type": "markdown",
   "metadata": {},
   "source": [
    "# C2 HW -- Stock market -- Financial analysis"
   ]
  },
  {
   "cell_type": "code",
   "execution_count": 13,
   "metadata": {},
   "outputs": [
    {
     "data": {
      "text/plain": [
       "'\\nDataset:\\nhttps://www.kaggle.com/camnugent/sandp500\\n'"
      ]
     },
     "execution_count": 13,
     "metadata": {},
     "output_type": "execute_result"
    }
   ],
   "source": [
    "\"\"\"\n",
    "Dataset:\n",
    "https://www.kaggle.com/camnugent/sandp500\n",
    "\"\"\""
   ]
  },
  {
   "cell_type": "code",
   "execution_count": 14,
   "metadata": {},
   "outputs": [
    {
     "data": {
      "text/html": [
       "<div>\n",
       "<style scoped>\n",
       "    .dataframe tbody tr th:only-of-type {\n",
       "        vertical-align: middle;\n",
       "    }\n",
       "\n",
       "    .dataframe tbody tr th {\n",
       "        vertical-align: top;\n",
       "    }\n",
       "\n",
       "    .dataframe thead th {\n",
       "        text-align: right;\n",
       "    }\n",
       "</style>\n",
       "<table border=\"1\" class=\"dataframe\">\n",
       "  <thead>\n",
       "    <tr style=\"text-align: right;\">\n",
       "      <th></th>\n",
       "      <th>date</th>\n",
       "      <th>open</th>\n",
       "      <th>high</th>\n",
       "      <th>low</th>\n",
       "      <th>close</th>\n",
       "      <th>volume</th>\n",
       "      <th>Name</th>\n",
       "    </tr>\n",
       "  </thead>\n",
       "  <tbody>\n",
       "    <tr>\n",
       "      <th>0</th>\n",
       "      <td>2013-02-08</td>\n",
       "      <td>15.07</td>\n",
       "      <td>15.12</td>\n",
       "      <td>14.63</td>\n",
       "      <td>14.75</td>\n",
       "      <td>8407500</td>\n",
       "      <td>AAL</td>\n",
       "    </tr>\n",
       "    <tr>\n",
       "      <th>1</th>\n",
       "      <td>2013-02-11</td>\n",
       "      <td>14.89</td>\n",
       "      <td>15.01</td>\n",
       "      <td>14.26</td>\n",
       "      <td>14.46</td>\n",
       "      <td>8882000</td>\n",
       "      <td>AAL</td>\n",
       "    </tr>\n",
       "    <tr>\n",
       "      <th>2</th>\n",
       "      <td>2013-02-12</td>\n",
       "      <td>14.45</td>\n",
       "      <td>14.51</td>\n",
       "      <td>14.10</td>\n",
       "      <td>14.27</td>\n",
       "      <td>8126000</td>\n",
       "      <td>AAL</td>\n",
       "    </tr>\n",
       "    <tr>\n",
       "      <th>3</th>\n",
       "      <td>2013-02-13</td>\n",
       "      <td>14.30</td>\n",
       "      <td>14.94</td>\n",
       "      <td>14.25</td>\n",
       "      <td>14.66</td>\n",
       "      <td>10259500</td>\n",
       "      <td>AAL</td>\n",
       "    </tr>\n",
       "    <tr>\n",
       "      <th>4</th>\n",
       "      <td>2013-02-14</td>\n",
       "      <td>14.94</td>\n",
       "      <td>14.96</td>\n",
       "      <td>13.16</td>\n",
       "      <td>13.99</td>\n",
       "      <td>31879900</td>\n",
       "      <td>AAL</td>\n",
       "    </tr>\n",
       "  </tbody>\n",
       "</table>\n",
       "</div>"
      ],
      "text/plain": [
       "         date   open   high    low  close    volume Name\n",
       "0  2013-02-08  15.07  15.12  14.63  14.75   8407500  AAL\n",
       "1  2013-02-11  14.89  15.01  14.26  14.46   8882000  AAL\n",
       "2  2013-02-12  14.45  14.51  14.10  14.27   8126000  AAL\n",
       "3  2013-02-13  14.30  14.94  14.25  14.66  10259500  AAL\n",
       "4  2013-02-14  14.94  14.96  13.16  13.99  31879900  AAL"
      ]
     },
     "execution_count": 14,
     "metadata": {},
     "output_type": "execute_result"
    }
   ],
   "source": [
    "\"\"\"\n",
    "Dataset details:\n",
    "Dataset has S&P 500 ticker prices for 5 years. \n",
    "date,open,high,low,close,volume,ticker\n",
    "619041 lines in all_stocks_5yr.csv\n",
    "bgn_date: 2013-02-08\n",
    "end_date: 2018-02-07\n",
    "\"\"\"\n",
    "\n",
    "import pandas as pd\n",
    "df = pd.read_csv('all_stocks_5yr.csv')\n",
    "df.head()"
   ]
  },
  {
   "cell_type": "code",
   "execution_count": 15,
   "metadata": {},
   "outputs": [
    {
     "data": {
      "text/html": [
       "<div>\n",
       "<style scoped>\n",
       "    .dataframe tbody tr th:only-of-type {\n",
       "        vertical-align: middle;\n",
       "    }\n",
       "\n",
       "    .dataframe tbody tr th {\n",
       "        vertical-align: top;\n",
       "    }\n",
       "\n",
       "    .dataframe thead th {\n",
       "        text-align: right;\n",
       "    }\n",
       "</style>\n",
       "<table border=\"1\" class=\"dataframe\">\n",
       "  <thead>\n",
       "    <tr style=\"text-align: right;\">\n",
       "      <th></th>\n",
       "      <th>open</th>\n",
       "      <th>high</th>\n",
       "      <th>low</th>\n",
       "      <th>close</th>\n",
       "      <th>volume</th>\n",
       "    </tr>\n",
       "  </thead>\n",
       "  <tbody>\n",
       "    <tr>\n",
       "      <th>count</th>\n",
       "      <td>619029.000000</td>\n",
       "      <td>619032.000000</td>\n",
       "      <td>619032.000000</td>\n",
       "      <td>619040.000000</td>\n",
       "      <td>6.190400e+05</td>\n",
       "    </tr>\n",
       "    <tr>\n",
       "      <th>mean</th>\n",
       "      <td>83.023334</td>\n",
       "      <td>83.778311</td>\n",
       "      <td>82.256096</td>\n",
       "      <td>83.043763</td>\n",
       "      <td>4.321823e+06</td>\n",
       "    </tr>\n",
       "    <tr>\n",
       "      <th>std</th>\n",
       "      <td>97.378769</td>\n",
       "      <td>98.207519</td>\n",
       "      <td>96.507421</td>\n",
       "      <td>97.389748</td>\n",
       "      <td>8.693610e+06</td>\n",
       "    </tr>\n",
       "    <tr>\n",
       "      <th>min</th>\n",
       "      <td>1.620000</td>\n",
       "      <td>1.690000</td>\n",
       "      <td>1.500000</td>\n",
       "      <td>1.590000</td>\n",
       "      <td>0.000000e+00</td>\n",
       "    </tr>\n",
       "    <tr>\n",
       "      <th>25%</th>\n",
       "      <td>40.220000</td>\n",
       "      <td>40.620000</td>\n",
       "      <td>39.830000</td>\n",
       "      <td>40.245000</td>\n",
       "      <td>1.070320e+06</td>\n",
       "    </tr>\n",
       "    <tr>\n",
       "      <th>50%</th>\n",
       "      <td>62.590000</td>\n",
       "      <td>63.150000</td>\n",
       "      <td>62.020000</td>\n",
       "      <td>62.620000</td>\n",
       "      <td>2.082094e+06</td>\n",
       "    </tr>\n",
       "    <tr>\n",
       "      <th>75%</th>\n",
       "      <td>94.370000</td>\n",
       "      <td>95.180000</td>\n",
       "      <td>93.540000</td>\n",
       "      <td>94.410000</td>\n",
       "      <td>4.284509e+06</td>\n",
       "    </tr>\n",
       "    <tr>\n",
       "      <th>max</th>\n",
       "      <td>2044.000000</td>\n",
       "      <td>2067.990000</td>\n",
       "      <td>2035.110000</td>\n",
       "      <td>2049.000000</td>\n",
       "      <td>6.182376e+08</td>\n",
       "    </tr>\n",
       "  </tbody>\n",
       "</table>\n",
       "</div>"
      ],
      "text/plain": [
       "                open           high            low          close  \\\n",
       "count  619029.000000  619032.000000  619032.000000  619040.000000   \n",
       "mean       83.023334      83.778311      82.256096      83.043763   \n",
       "std        97.378769      98.207519      96.507421      97.389748   \n",
       "min         1.620000       1.690000       1.500000       1.590000   \n",
       "25%        40.220000      40.620000      39.830000      40.245000   \n",
       "50%        62.590000      63.150000      62.020000      62.620000   \n",
       "75%        94.370000      95.180000      93.540000      94.410000   \n",
       "max      2044.000000    2067.990000    2035.110000    2049.000000   \n",
       "\n",
       "             volume  \n",
       "count  6.190400e+05  \n",
       "mean   4.321823e+06  \n",
       "std    8.693610e+06  \n",
       "min    0.000000e+00  \n",
       "25%    1.070320e+06  \n",
       "50%    2.082094e+06  \n",
       "75%    4.284509e+06  \n",
       "max    6.182376e+08  "
      ]
     },
     "execution_count": 15,
     "metadata": {},
     "output_type": "execute_result"
    }
   ],
   "source": [
    "df.describe()"
   ]
  },
  {
   "cell_type": "code",
   "execution_count": 16,
   "metadata": {},
   "outputs": [
    {
     "data": {
      "text/html": [
       "<div>\n",
       "<style scoped>\n",
       "    .dataframe tbody tr th:only-of-type {\n",
       "        vertical-align: middle;\n",
       "    }\n",
       "\n",
       "    .dataframe tbody tr th {\n",
       "        vertical-align: top;\n",
       "    }\n",
       "\n",
       "    .dataframe thead th {\n",
       "        text-align: right;\n",
       "    }\n",
       "</style>\n",
       "<table border=\"1\" class=\"dataframe\">\n",
       "  <thead>\n",
       "    <tr style=\"text-align: right;\">\n",
       "      <th></th>\n",
       "      <th>date</th>\n",
       "      <th>open</th>\n",
       "      <th>high</th>\n",
       "      <th>low</th>\n",
       "      <th>close</th>\n",
       "      <th>volume</th>\n",
       "      <th>Name</th>\n",
       "    </tr>\n",
       "  </thead>\n",
       "  <tbody>\n",
       "    <tr>\n",
       "      <th>619035</th>\n",
       "      <td>2018-02-01</td>\n",
       "      <td>76.84</td>\n",
       "      <td>78.27</td>\n",
       "      <td>76.69</td>\n",
       "      <td>77.82</td>\n",
       "      <td>2982259</td>\n",
       "      <td>ZTS</td>\n",
       "    </tr>\n",
       "    <tr>\n",
       "      <th>619036</th>\n",
       "      <td>2018-02-02</td>\n",
       "      <td>77.53</td>\n",
       "      <td>78.12</td>\n",
       "      <td>76.73</td>\n",
       "      <td>76.78</td>\n",
       "      <td>2595187</td>\n",
       "      <td>ZTS</td>\n",
       "    </tr>\n",
       "    <tr>\n",
       "      <th>619037</th>\n",
       "      <td>2018-02-05</td>\n",
       "      <td>76.64</td>\n",
       "      <td>76.92</td>\n",
       "      <td>73.18</td>\n",
       "      <td>73.83</td>\n",
       "      <td>2962031</td>\n",
       "      <td>ZTS</td>\n",
       "    </tr>\n",
       "    <tr>\n",
       "      <th>619038</th>\n",
       "      <td>2018-02-06</td>\n",
       "      <td>72.74</td>\n",
       "      <td>74.56</td>\n",
       "      <td>72.13</td>\n",
       "      <td>73.27</td>\n",
       "      <td>4924323</td>\n",
       "      <td>ZTS</td>\n",
       "    </tr>\n",
       "    <tr>\n",
       "      <th>619039</th>\n",
       "      <td>2018-02-07</td>\n",
       "      <td>72.70</td>\n",
       "      <td>75.00</td>\n",
       "      <td>72.69</td>\n",
       "      <td>73.86</td>\n",
       "      <td>4534912</td>\n",
       "      <td>ZTS</td>\n",
       "    </tr>\n",
       "  </tbody>\n",
       "</table>\n",
       "</div>"
      ],
      "text/plain": [
       "              date   open   high    low  close   volume Name\n",
       "619035  2018-02-01  76.84  78.27  76.69  77.82  2982259  ZTS\n",
       "619036  2018-02-02  77.53  78.12  76.73  76.78  2595187  ZTS\n",
       "619037  2018-02-05  76.64  76.92  73.18  73.83  2962031  ZTS\n",
       "619038  2018-02-06  72.74  74.56  72.13  73.27  4924323  ZTS\n",
       "619039  2018-02-07  72.70  75.00  72.69  73.86  4534912  ZTS"
      ]
     },
     "execution_count": 16,
     "metadata": {},
     "output_type": "execute_result"
    }
   ],
   "source": [
    "df.tail()"
   ]
  },
  {
   "cell_type": "code",
   "execution_count": 17,
   "metadata": {},
   "outputs": [
    {
     "data": {
      "text/plain": [
       "date       object\n",
       "open      float64\n",
       "high      float64\n",
       "low       float64\n",
       "close     float64\n",
       "volume      int64\n",
       "Name       object\n",
       "dtype: object"
      ]
     },
     "execution_count": 17,
     "metadata": {},
     "output_type": "execute_result"
    }
   ],
   "source": [
    "df.dtypes"
   ]
  },
  {
   "cell_type": "code",
   "execution_count": 18,
   "metadata": {},
   "outputs": [
    {
     "data": {
      "text/plain": [
       "date      datetime64[ns]\n",
       "open             float64\n",
       "high             float64\n",
       "low              float64\n",
       "close            float64\n",
       "volume             int64\n",
       "Name              object\n",
       "dtype: object"
      ]
     },
     "execution_count": 18,
     "metadata": {},
     "output_type": "execute_result"
    }
   ],
   "source": [
    "# convert date objects to date\n",
    "df['date'] = df['date'].astype('datetime64[ns]')\n",
    "df.dtypes"
   ]
  },
  {
   "cell_type": "code",
   "execution_count": 19,
   "metadata": {},
   "outputs": [
    {
     "data": {
      "text/html": [
       "<div>\n",
       "<style scoped>\n",
       "    .dataframe tbody tr th:only-of-type {\n",
       "        vertical-align: middle;\n",
       "    }\n",
       "\n",
       "    .dataframe tbody tr th {\n",
       "        vertical-align: top;\n",
       "    }\n",
       "\n",
       "    .dataframe thead th {\n",
       "        text-align: right;\n",
       "    }\n",
       "</style>\n",
       "<table border=\"1\" class=\"dataframe\">\n",
       "  <thead>\n",
       "    <tr style=\"text-align: right;\">\n",
       "      <th></th>\n",
       "      <th>date</th>\n",
       "      <th>open</th>\n",
       "      <th>high</th>\n",
       "      <th>low</th>\n",
       "      <th>close</th>\n",
       "      <th>volume</th>\n",
       "      <th>Name</th>\n",
       "    </tr>\n",
       "  </thead>\n",
       "  <tbody>\n",
       "    <tr>\n",
       "      <th>0</th>\n",
       "      <td>2013-02-08</td>\n",
       "      <td>15.07</td>\n",
       "      <td>15.12</td>\n",
       "      <td>14.63</td>\n",
       "      <td>14.75</td>\n",
       "      <td>8407500</td>\n",
       "      <td>AAL</td>\n",
       "    </tr>\n",
       "    <tr>\n",
       "      <th>1</th>\n",
       "      <td>2013-02-11</td>\n",
       "      <td>14.89</td>\n",
       "      <td>15.01</td>\n",
       "      <td>14.26</td>\n",
       "      <td>14.46</td>\n",
       "      <td>8882000</td>\n",
       "      <td>AAL</td>\n",
       "    </tr>\n",
       "    <tr>\n",
       "      <th>2</th>\n",
       "      <td>2013-02-12</td>\n",
       "      <td>14.45</td>\n",
       "      <td>14.51</td>\n",
       "      <td>14.10</td>\n",
       "      <td>14.27</td>\n",
       "      <td>8126000</td>\n",
       "      <td>AAL</td>\n",
       "    </tr>\n",
       "    <tr>\n",
       "      <th>3</th>\n",
       "      <td>2013-02-13</td>\n",
       "      <td>14.30</td>\n",
       "      <td>14.94</td>\n",
       "      <td>14.25</td>\n",
       "      <td>14.66</td>\n",
       "      <td>10259500</td>\n",
       "      <td>AAL</td>\n",
       "    </tr>\n",
       "    <tr>\n",
       "      <th>4</th>\n",
       "      <td>2013-02-14</td>\n",
       "      <td>14.94</td>\n",
       "      <td>14.96</td>\n",
       "      <td>13.16</td>\n",
       "      <td>13.99</td>\n",
       "      <td>31879900</td>\n",
       "      <td>AAL</td>\n",
       "    </tr>\n",
       "  </tbody>\n",
       "</table>\n",
       "</div>"
      ],
      "text/plain": [
       "        date   open   high    low  close    volume Name\n",
       "0 2013-02-08  15.07  15.12  14.63  14.75   8407500  AAL\n",
       "1 2013-02-11  14.89  15.01  14.26  14.46   8882000  AAL\n",
       "2 2013-02-12  14.45  14.51  14.10  14.27   8126000  AAL\n",
       "3 2013-02-13  14.30  14.94  14.25  14.66  10259500  AAL\n",
       "4 2013-02-14  14.94  14.96  13.16  13.99  31879900  AAL"
      ]
     },
     "execution_count": 19,
     "metadata": {},
     "output_type": "execute_result"
    }
   ],
   "source": [
    "df.head()"
   ]
  },
  {
   "cell_type": "code",
   "execution_count": 20,
   "metadata": {},
   "outputs": [
    {
     "data": {
      "text/plain": [
       "(array([ 82949,  82949,  82949, 165734, 165857, 165857, 165857, 205076,\n",
       "        239832, 239832, 239832, 434379, 434502, 434502, 434502, 478594,\n",
       "        478594, 478594, 558213, 558213, 558213, 581906, 581906, 581906,\n",
       "        598236, 598236, 598236], dtype=int64),\n",
       " array([1, 2, 3, 1, 1, 2, 3, 1, 1, 2, 3, 1, 1, 2, 3, 1, 2, 3, 1, 2, 3, 1,\n",
       "        2, 3, 1, 2, 3], dtype=int64))"
      ]
     },
     "execution_count": 20,
     "metadata": {},
     "output_type": "execute_result"
    }
   ],
   "source": [
    "# errors - find blanks df[~df['date'].isin([pd.Timestamp('2016'),pd.Timestamp('2017')])\n",
    "import numpy as np\n",
    "np.where(pd.isnull(df))"
   ]
  },
  {
   "cell_type": "code",
   "execution_count": 21,
   "metadata": {},
   "outputs": [
    {
     "data": {
      "text/html": [
       "<div>\n",
       "<style scoped>\n",
       "    .dataframe tbody tr th:only-of-type {\n",
       "        vertical-align: middle;\n",
       "    }\n",
       "\n",
       "    .dataframe tbody tr th {\n",
       "        vertical-align: top;\n",
       "    }\n",
       "\n",
       "    .dataframe thead th {\n",
       "        text-align: right;\n",
       "    }\n",
       "</style>\n",
       "<table border=\"1\" class=\"dataframe\">\n",
       "  <thead>\n",
       "    <tr style=\"text-align: right;\">\n",
       "      <th></th>\n",
       "      <th>open</th>\n",
       "      <th>high</th>\n",
       "      <th>low</th>\n",
       "      <th>close</th>\n",
       "      <th>volume</th>\n",
       "    </tr>\n",
       "  </thead>\n",
       "  <tbody>\n",
       "    <tr>\n",
       "      <th>count</th>\n",
       "      <td>619029.000000</td>\n",
       "      <td>619029.000000</td>\n",
       "      <td>619029.000000</td>\n",
       "      <td>619029.000000</td>\n",
       "      <td>6.190290e+05</td>\n",
       "    </tr>\n",
       "    <tr>\n",
       "      <th>mean</th>\n",
       "      <td>83.023334</td>\n",
       "      <td>83.778419</td>\n",
       "      <td>82.256200</td>\n",
       "      <td>83.043305</td>\n",
       "      <td>4.321892e+06</td>\n",
       "    </tr>\n",
       "    <tr>\n",
       "      <th>std</th>\n",
       "      <td>97.378769</td>\n",
       "      <td>98.207735</td>\n",
       "      <td>96.507634</td>\n",
       "      <td>97.388913</td>\n",
       "      <td>8.693671e+06</td>\n",
       "    </tr>\n",
       "    <tr>\n",
       "      <th>min</th>\n",
       "      <td>1.620000</td>\n",
       "      <td>1.690000</td>\n",
       "      <td>1.500000</td>\n",
       "      <td>1.590000</td>\n",
       "      <td>1.010000e+02</td>\n",
       "    </tr>\n",
       "    <tr>\n",
       "      <th>25%</th>\n",
       "      <td>40.220000</td>\n",
       "      <td>40.620000</td>\n",
       "      <td>39.830000</td>\n",
       "      <td>40.240800</td>\n",
       "      <td>1.070351e+06</td>\n",
       "    </tr>\n",
       "    <tr>\n",
       "      <th>50%</th>\n",
       "      <td>62.590000</td>\n",
       "      <td>63.150000</td>\n",
       "      <td>62.020000</td>\n",
       "      <td>62.620000</td>\n",
       "      <td>2.082165e+06</td>\n",
       "    </tr>\n",
       "    <tr>\n",
       "      <th>75%</th>\n",
       "      <td>94.370000</td>\n",
       "      <td>95.180000</td>\n",
       "      <td>93.540000</td>\n",
       "      <td>94.410000</td>\n",
       "      <td>4.284550e+06</td>\n",
       "    </tr>\n",
       "    <tr>\n",
       "      <th>max</th>\n",
       "      <td>2044.000000</td>\n",
       "      <td>2067.990000</td>\n",
       "      <td>2035.110000</td>\n",
       "      <td>2049.000000</td>\n",
       "      <td>6.182376e+08</td>\n",
       "    </tr>\n",
       "  </tbody>\n",
       "</table>\n",
       "</div>"
      ],
      "text/plain": [
       "                open           high            low          close  \\\n",
       "count  619029.000000  619029.000000  619029.000000  619029.000000   \n",
       "mean       83.023334      83.778419      82.256200      83.043305   \n",
       "std        97.378769      98.207735      96.507634      97.388913   \n",
       "min         1.620000       1.690000       1.500000       1.590000   \n",
       "25%        40.220000      40.620000      39.830000      40.240800   \n",
       "50%        62.590000      63.150000      62.020000      62.620000   \n",
       "75%        94.370000      95.180000      93.540000      94.410000   \n",
       "max      2044.000000    2067.990000    2035.110000    2049.000000   \n",
       "\n",
       "             volume  \n",
       "count  6.190290e+05  \n",
       "mean   4.321892e+06  \n",
       "std    8.693671e+06  \n",
       "min    1.010000e+02  \n",
       "25%    1.070351e+06  \n",
       "50%    2.082165e+06  \n",
       "75%    4.284550e+06  \n",
       "max    6.182376e+08  "
      ]
     },
     "execution_count": 21,
     "metadata": {},
     "output_type": "execute_result"
    }
   ],
   "source": [
    "# drop rows with missing values\n",
    "df.dropna(inplace=True)\n",
    "df.describe()"
   ]
  },
  {
   "cell_type": "code",
   "execution_count": 22,
   "metadata": {},
   "outputs": [
    {
     "data": {
      "text/plain": [
       "982    AAL\n",
       "983    AAL\n",
       "984    AAL\n",
       "985    AAL\n",
       "986    AAL\n",
       "Name: Name, dtype: object"
      ]
     },
     "execution_count": 22,
     "metadata": {},
     "output_type": "execute_result"
    }
   ],
   "source": [
    "#drop everything but years for 2016 and 2017\n",
    "#df[~df['date'].isin([pd.Timestamp('2016'),pd.Timestamp('2017')])\n",
    "# example game_df = game_df[(game_df['Date'].dt.month != 2) & (game_df['Date'].dt.month != 3) & (game_df['Date'].dt.month != 4)\\\n",
    "#                     & (game_df['Date'].dt.month != 5)]\n",
    "#df2 = df[df['date'].dt.year == 2016] or df[df['date'].dt.year == 2017]\n",
    "df2 = df[df['date'].dt.year == 2016]\n",
    "df2016 = df2['Name']\n",
    "df3 = df[df['date'].dt.year == 2017]\n",
    "df2017 = df3['Name']\n",
    "df2017.head()"
   ]
  },
  {
   "cell_type": "code",
   "execution_count": 23,
   "metadata": {},
   "outputs": [
    {
     "name": "stderr",
     "output_type": "stream",
     "text": [
      "C:\\ProgramData\\Anaconda3\\lib\\site-packages\\pandas\\core\\base.py:1241: SettingWithCopyWarning: \n",
      "A value is trying to be set on a copy of a slice from a DataFrame\n",
      "\n",
      "See the caveats in the documentation: http://pandas.pydata.org/pandas-docs/stable/indexing.html#indexing-view-versus-copy\n",
      "  return self._update_inplace(result)\n"
     ]
    }
   ],
   "source": [
    "# find unique values\n",
    "df2016.drop_duplicates(keep='first',inplace=True)\n",
    "df2017.drop_duplicates(keep='first',inplace=True)"
   ]
  },
  {
   "cell_type": "code",
   "execution_count": 24,
   "metadata": {},
   "outputs": [
    {
     "data": {
      "text/plain": [
       "dtype('O')"
      ]
     },
     "execution_count": 24,
     "metadata": {},
     "output_type": "execute_result"
    }
   ],
   "source": [
    "df2017.describe()\n",
    "df2017.dtypes"
   ]
  },
  {
   "cell_type": "markdown",
   "metadata": {},
   "source": [
    "## Homework: Companies which get added/dropped to S&P 500 index create profit making opportunities."
   ]
  },
  {
   "cell_type": "markdown",
   "metadata": {},
   "source": [
    "## HW1) Going from 2016 to 2017, a) print the number of tickers dropped and b) print list of tickers which were dropped"
   ]
  },
  {
   "cell_type": "code",
   "execution_count": 25,
   "metadata": {},
   "outputs": [
    {
     "data": {
      "text/plain": [
       "count     499\n",
       "unique    499\n",
       "top       OMC\n",
       "freq        1\n",
       "Name: Name, dtype: object"
      ]
     },
     "execution_count": 25,
     "metadata": {},
     "output_type": "execute_result"
    }
   ],
   "source": [
    "# Your code here ...\n",
    "# count of df2016 and df2017\n",
    "df2016.describe()"
   ]
  },
  {
   "cell_type": "code",
   "execution_count": 26,
   "metadata": {},
   "outputs": [
    {
     "data": {
      "text/plain": [
       "count     505\n",
       "unique    505\n",
       "top       OMC\n",
       "freq        1\n",
       "Name: Name, dtype: object"
      ]
     },
     "execution_count": 26,
     "metadata": {},
     "output_type": "execute_result"
    }
   ],
   "source": [
    "df2017.describe()"
   ]
  },
  {
   "cell_type": "code",
   "execution_count": 80,
   "metadata": {},
   "outputs": [
    {
     "name": "stdout",
     "output_type": "stream",
     "text": [
      "No tickers dropped from 2016 to 2017. It increased by: 6\n"
     ]
    }
   ],
   "source": [
    "print('No tickers dropped from 2016 to 2017. It increased by:',(505-499))"
   ]
  },
  {
   "cell_type": "code",
   "execution_count": 44,
   "metadata": {},
   "outputs": [],
   "source": [
    "#add both and drop duplicates with False flag\n",
    "dfTickersDropped = pd.concat([df2016, df2017])"
   ]
  },
  {
   "cell_type": "code",
   "execution_count": 45,
   "metadata": {},
   "outputs": [
    {
     "data": {
      "text/plain": [
       "730      AAL\n",
       "1989    AAPL\n",
       "3248     AAP\n",
       "4507    ABBV\n",
       "5766     ABC\n",
       "Name: Name, dtype: object"
      ]
     },
     "execution_count": 45,
     "metadata": {},
     "output_type": "execute_result"
    }
   ],
   "source": [
    "dfTickersDropped.head()"
   ]
  },
  {
   "cell_type": "code",
   "execution_count": 46,
   "metadata": {},
   "outputs": [
    {
     "data": {
      "text/plain": [
       "count     1004\n",
       "unique     505\n",
       "top        OMC\n",
       "freq         2\n",
       "Name: Name, dtype: object"
      ]
     },
     "execution_count": 46,
     "metadata": {},
     "output_type": "execute_result"
    }
   ],
   "source": [
    "dfTickersDropped.describe()"
   ]
  },
  {
   "cell_type": "code",
   "execution_count": 47,
   "metadata": {},
   "outputs": [
    {
     "data": {
      "text/plain": [
       "58977     APTV\n",
       "82942      BHF\n",
       "83085     BHGE\n",
       "184005    DWDP\n",
       "184114     DXC\n",
       "275204     HLT\n",
       "Name: Name, dtype: object"
      ]
     },
     "execution_count": 47,
     "metadata": {},
     "output_type": "execute_result"
    }
   ],
   "source": [
    "dfTickersDropped.drop_duplicates(False, inplace=True)\n",
    "dfTickersDropped\n",
    "#low index range means that they were in the df2016 and not in df2017\n",
    "#high index range means that they were in the df2017 adn not in df2016"
   ]
  },
  {
   "cell_type": "code",
   "execution_count": 81,
   "metadata": {},
   "outputs": [
    {
     "data": {
      "text/plain": [
       "'DWDP'"
      ]
     },
     "execution_count": 81,
     "metadata": {},
     "output_type": "execute_result"
    }
   ],
   "source": [
    "df2017.loc[184005] # validate which df tickers are in by index"
   ]
  },
  {
   "cell_type": "markdown",
   "metadata": {},
   "source": [
    "# Hw2) Going from 2016 to 2017, a) print the number of tickers added and 2) print list of tickers which were added"
   ]
  },
  {
   "cell_type": "code",
   "execution_count": 78,
   "metadata": {},
   "outputs": [
    {
     "name": "stdout",
     "output_type": "stream",
     "text": [
      "The following 5 tickers were in 2017, but not in 2016\n",
      "APTV, BHF, BHGE, DWDP, DXC and HLT\n"
     ]
    }
   ],
   "source": [
    "# Your code here ...\n",
    "print('The following 5 tickers were in 2017, but not in 2016')\n",
    "print('APTV, BHF, BHGE, DWDP, DXC and HLT')"
   ]
  },
  {
   "cell_type": "code",
   "execution_count": null,
   "metadata": {},
   "outputs": [],
   "source": []
  }
 ],
 "metadata": {
  "kernelspec": {
   "display_name": "Python 3",
   "language": "python",
   "name": "python3"
  },
  "language_info": {
   "codemirror_mode": {
    "name": "ipython",
    "version": 3
   },
   "file_extension": ".py",
   "mimetype": "text/x-python",
   "name": "python",
   "nbconvert_exporter": "python",
   "pygments_lexer": "ipython3",
   "version": "3.7.1"
  }
 },
 "nbformat": 4,
 "nbformat_minor": 2
}
