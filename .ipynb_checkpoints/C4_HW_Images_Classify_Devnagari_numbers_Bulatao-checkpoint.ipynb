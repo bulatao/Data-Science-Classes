{
 "cells": [
  {
   "cell_type": "markdown",
   "metadata": {},
   "source": [
    "# Images and Classifiers for Devanagari digits"
   ]
  },
  {
   "cell_type": "markdown",
   "metadata": {},
   "source": [
    "# Check the following dataset:\n",
    "# https://archive.ics.uci.edu/ml/datasets/Devanagari+Handwritten+Character+Dataset"
   ]
  },
  {
   "cell_type": "markdown",
   "metadata": {},
   "source": [
    "# Read images from Train/digit_X; convert to gray-scale values; attach label"
   ]
  },
  {
   "cell_type": "code",
   "execution_count": 1,
   "metadata": {},
   "outputs": [],
   "source": [
    "# Your code here ...\n",
    "# train about 100 images per digit\n",
    "# afterwards, you can increase it"
   ]
  },
  {
   "cell_type": "code",
   "execution_count": 2,
   "metadata": {},
   "outputs": [],
   "source": [
    "# install tensorflow through anaconda navigator\n",
    "# installing cv2\n",
    "# pip install opencv-python\n",
    "# this had to be done from the anaconda prompt\n",
    "# use tutorial for cats and dogs https://www.youtube.com/watch?v=j-3vuBynnOE"
   ]
  },
  {
   "cell_type": "code",
   "execution_count": 4,
   "metadata": {},
   "outputs": [
    {
     "data": {
      "image/png": "[encoded data removed]",
      "text/plain": [
       "<Figure size 432x288 with 1 Axes>"
      ]
     },
     "metadata": {
      "needs_background": "light"
     },
     "output_type": "display_data"
    }
   ],
   "source": [
    "# Read images from Train/digit_X\n",
    "import numpy as np\n",
    "import matplotlib.pyplot as plt\n",
    "import os\n",
    "import cv2\n",
    "from tqdm import tqdm\n",
    "\n",
    "DATADIR = \"C:/Users/bulatao/Documents/GitHub/Data-Science-Classes/DevanagariHandwrittenCharacterDataset/Train\"\n",
    "\n",
    "CATEGORIES = [\"digit_0\", \"digit_1\",\"digit_2\",\"digit_3\",\"digit_4\",\"digit_5\",\"digit_6\",\"digit_7\",\"digit_8\",\"digit_9\"]\n",
    "\n",
    "for category in CATEGORIES:  # 0 through 9\n",
    "    path = os.path.join(DATADIR,category)  # create path to folders with samples\n",
    "    for img in os.listdir(path):  # iterate over each image \n",
    "        img_array = cv2.imread(os.path.join(path,img) ,cv2.IMREAD_GRAYSCALE)  # convert to array\n",
    "        plt.imshow(img_array, cmap='gray')  # graph it\n",
    "        plt.show()  # display!\n",
    "\n",
    "        break  # we just want one for now so break\n",
    "    break  #...and one more!\n"
   ]
  },
  {
   "cell_type": "code",
   "execution_count": 5,
   "metadata": {},
   "outputs": [
    {
     "name": "stdout",
     "output_type": "stream",
     "text": [
      "[[0 0 0 ... 0 0 0]\n",
      " [0 0 0 ... 0 0 0]\n",
      " [0 0 0 ... 0 0 0]\n",
      " ...\n",
      " [0 0 0 ... 0 0 0]\n",
      " [0 0 0 ... 0 0 0]\n",
      " [0 0 0 ... 0 0 0]]\n"
     ]
    }
   ],
   "source": [
    "print(img_array) # let's see what this looks like"
   ]
  },
  {
   "cell_type": "code",
   "execution_count": 6,
   "metadata": {},
   "outputs": [
    {
     "name": "stdout",
     "output_type": "stream",
     "text": [
      "(32, 32)\n"
     ]
    }
   ],
   "source": [
    "print(img_array.shape)"
   ]
  },
  {
   "cell_type": "code",
   "execution_count": 7,
   "metadata": {},
   "outputs": [
    {
     "name": "stderr",
     "output_type": "stream",
     "text": [
      "100%|█████████████████████████████████████████████████████████████████████████████| 1700/1700 [00:03<00:00, 480.44it/s]\n",
      "100%|█████████████████████████████████████████████████████████████████████████████| 1700/1700 [00:03<00:00, 508.83it/s]\n",
      "100%|█████████████████████████████████████████████████████████████████████████████| 1700/1700 [00:03<00:00, 527.04it/s]\n",
      "100%|█████████████████████████████████████████████████████████████████████████████| 1700/1700 [00:03<00:00, 505.36it/s]\n",
      "100%|█████████████████████████████████████████████████████████████████████████████| 1700/1700 [00:03<00:00, 490.87it/s]\n",
      "100%|█████████████████████████████████████████████████████████████████████████████| 1700/1700 [00:03<00:00, 494.16it/s]\n",
      "100%|█████████████████████████████████████████████████████████████████████████████| 1700/1700 [00:03<00:00, 507.02it/s]\n",
      "100%|█████████████████████████████████████████████████████████████████████████████| 1700/1700 [00:03<00:00, 519.13it/s]\n",
      "100%|█████████████████████████████████████████████████████████████████████████████| 1700/1700 [00:03<00:00, 507.32it/s]\n",
      "100%|█████████████████████████████████████████████████████████████████████████████| 1700/1700 [00:03<00:00, 520.95it/s]\n"
     ]
    },
    {
     "name": "stdout",
     "output_type": "stream",
     "text": [
      "17000\n"
     ]
    }
   ],
   "source": [
    "# read images and add labels and create complete dataset\n",
    "\n",
    "training_data = []\n",
    "\n",
    "IMG_SIZE = 32\n",
    "\n",
    "def create_training_data():\n",
    "    for category in CATEGORIES:  # for digits 0 to 9\n",
    "\n",
    "        path = os.path.join(DATADIR,category)  # create path to dogs and cats\n",
    "        class_num = CATEGORIES.index(category)  # get the classification  (0 or a 1). 0 = digit_0, 1 = digit_1\n",
    "\n",
    "        for img in tqdm(os.listdir(path)):  # iterate over each image per dogs and cats\n",
    "            try:\n",
    "                img_array = cv2.imread(os.path.join(path,img), cv2.IMREAD_GRAYSCALE)  # convert to array\n",
    "                new_array = cv2.resize(img_array, (IMG_SIZE, IMG_SIZE))  # resize to normalize data size\n",
    "                training_data.append([new_array, class_num])  # add this to our training_data\n",
    "            except Exception as e:  # in the interest in keeping the output clean...\n",
    "                pass\n",
    "            #except OSError as e:\n",
    "            #    print(\"OSErrroBad img most likely\", e, os.path.join(path,img))\n",
    "            #except Exception as e:\n",
    "            #    print(\"general exception\", e, os.path.join(path,img))\n",
    "\n",
    "create_training_data()\n",
    "\n",
    "print(len(training_data))"
   ]
  },
  {
   "cell_type": "code",
   "execution_count": 8,
   "metadata": {},
   "outputs": [
    {
     "name": "stdout",
     "output_type": "stream",
     "text": [
      "8\n",
      "5\n",
      "1\n",
      "4\n",
      "3\n",
      "4\n",
      "9\n",
      "8\n",
      "4\n",
      "7\n"
     ]
    }
   ],
   "source": [
    "import random # this didn't seem to affect accuracy too much, but was recommended\n",
    "\n",
    "random.shuffle(training_data)\n",
    "for sample in training_data[:10]:\n",
    "    print(sample[1])"
   ]
  },
  {
   "cell_type": "code",
   "execution_count": 9,
   "metadata": {},
   "outputs": [
    {
     "data": {
      "text/plain": [
       "array([[0, 0, 0, ..., 0, 0, 0],\n",
       "       [0, 0, 0, ..., 0, 0, 0],\n",
       "       [0, 0, 0, ..., 0, 0, 0],\n",
       "       ...,\n",
       "       [0, 0, 0, ..., 0, 0, 0],\n",
       "       [0, 0, 0, ..., 0, 0, 0],\n",
       "       [0, 0, 0, ..., 0, 0, 0]], dtype=uint8)"
      ]
     },
     "execution_count": 9,
     "metadata": {},
     "output_type": "execute_result"
    }
   ],
   "source": [
    "# Create Training Data and Labels\n",
    "X = []\n",
    "y = []\n",
    "\n",
    "for features,label in training_data:\n",
    "    X.append(features)\n",
    "    y.append(label)\n",
    "\n",
    "#print(X[0].reshape(-1, IMG_SIZE, IMG_SIZE, 1)) \n",
    "\n",
    "X = np.array(X)\n",
    "y = np.array(y)\n",
    "X[1] # check what it looks like"
   ]
  },
  {
   "cell_type": "code",
   "execution_count": 10,
   "metadata": {},
   "outputs": [
    {
     "data": {
      "text/plain": [
       "(17000, 32, 32)"
      ]
     },
     "execution_count": 10,
     "metadata": {},
     "output_type": "execute_result"
    }
   ],
   "source": [
    "X.shape"
   ]
  },
  {
   "cell_type": "markdown",
   "metadata": {},
   "source": [
    "# Read images from Test/digit_X; convert to gray-scale values; attach label"
   ]
  },
  {
   "cell_type": "code",
   "execution_count": 11,
   "metadata": {},
   "outputs": [
    {
     "name": "stderr",
     "output_type": "stream",
     "text": [
      "100%|███████████████████████████████████████████████████████████████████████████████| 300/300 [00:00<00:00, 483.95it/s]\n",
      "100%|███████████████████████████████████████████████████████████████████████████████| 300/300 [00:00<00:00, 517.56it/s]\n",
      "100%|███████████████████████████████████████████████████████████████████████████████| 300/300 [00:00<00:00, 535.47it/s]\n",
      "100%|███████████████████████████████████████████████████████████████████████████████| 300/300 [00:00<00:00, 521.26it/s]\n",
      "100%|███████████████████████████████████████████████████████████████████████████████| 300/300 [00:00<00:00, 518.69it/s]\n",
      "100%|███████████████████████████████████████████████████████████████████████████████| 300/300 [00:00<00:00, 506.28it/s]\n",
      "100%|███████████████████████████████████████████████████████████████████████████████| 300/300 [00:00<00:00, 519.45it/s]\n",
      "100%|███████████████████████████████████████████████████████████████████████████████| 300/300 [00:00<00:00, 508.85it/s]\n",
      "100%|███████████████████████████████████████████████████████████████████████████████| 300/300 [00:00<00:00, 514.98it/s]\n",
      "100%|███████████████████████████████████████████████████████████████████████████████| 300/300 [00:00<00:00, 536.32it/s]\n"
     ]
    },
    {
     "name": "stdout",
     "output_type": "stream",
     "text": [
      "3000\n"
     ]
    }
   ],
   "source": [
    "# Your code here ...\n",
    "# read test images same way we did training images\n",
    "\n",
    "test_data = []\n",
    "\n",
    "def create_test_data():\n",
    "    for category in CATEGORIES:  # for digits 0 to 9\n",
    "\n",
    "        path = os.path.join(\"C:/Users/bulatao/Documents/GitHub/Data-Science-Classes/DevanagariHandwrittenCharacterDataset/Test\",category)  # create path to dogs and cats\n",
    "        class_num = CATEGORIES.index(category)  # get the classification  (0 or a 1). 0 = digit_0, 1 = digit_1\n",
    "\n",
    "        for img in tqdm(os.listdir(path)):  # iterate over each image per dogs and cats\n",
    "            try:\n",
    "                img_array = cv2.imread(os.path.join(path,img) ,cv2.IMREAD_GRAYSCALE)  # convert to array\n",
    "                #new_array = cv2.resize(img_array, (IMG_SIZE, IMG_SIZE))  # resize to normalize data size\n",
    "                test_data.append([img_array, class_num])  # add this to our test_data\n",
    "            except Exception as e:  # in the interest in keeping the output clean...\n",
    "                pass\n",
    "            #except OSError as e:\n",
    "            #    print(\"OSErrroBad img most likely\", e, os.path.join(path,img))\n",
    "            #except Exception as e:\n",
    "            #    print(\"general exception\", e, os.path.join(path,img))\n",
    "\n",
    "create_test_data()\n",
    "\n",
    "print(len(test_data))"
   ]
  },
  {
   "cell_type": "code",
   "execution_count": 12,
   "metadata": {},
   "outputs": [
    {
     "name": "stdout",
     "output_type": "stream",
     "text": [
      "8\n",
      "0\n",
      "4\n",
      "1\n",
      "1\n",
      "2\n",
      "9\n",
      "9\n",
      "7\n",
      "4\n"
     ]
    }
   ],
   "source": [
    "# shuffle test data\n",
    "random.shuffle(test_data)\n",
    "for sample in test_data[:10]:\n",
    "    print(sample[1])"
   ]
  },
  {
   "cell_type": "code",
   "execution_count": 13,
   "metadata": {},
   "outputs": [],
   "source": [
    "# Create Test Data and Labels\n",
    "X_test = []\n",
    "y_test = []\n",
    "\n",
    "for features,label in test_data:\n",
    "    X_test.append(features)\n",
    "    y_test.append(label)\n",
    "\n",
    "#print(X_test[0].reshape(-1, IMG_SIZE, IMG_SIZE, 1)) \n",
    "\n",
    "X_test = np.array(X_test) # change from list to np array\n",
    "y_test = np.array(y_test)"
   ]
  },
  {
   "cell_type": "markdown",
   "metadata": {},
   "source": [
    "# Build the classifiers using steps from MNIST classifiers"
   ]
  },
  {
   "cell_type": "code",
   "execution_count": 14,
   "metadata": {},
   "outputs": [],
   "source": [
    "# Your code here ...\n",
    "# Here's a TensorFlow image classifier with Keras\n",
    "# https://pythonprogramming.net/convolutional-neural-network-deep-learning-python-tensorflow-keras/\n",
    "\n",
    "import tensorflow as tf\n",
    "from tensorflow.keras.datasets import cifar10\n",
    "from tensorflow.keras.preprocessing.image import ImageDataGenerator\n",
    "from tensorflow.keras.models import Sequential\n",
    "from tensorflow.keras.layers import Dense, Dropout, Activation, Flatten\n",
    "from tensorflow.keras.layers import Conv2D, MaxPooling2D\n",
    "tf.enable_eager_execution() # this is necessary later when trying to pickle this model\n",
    "import sklearn.metrics as metrics"
   ]
  },
  {
   "cell_type": "code",
   "execution_count": 16,
   "metadata": {},
   "outputs": [],
   "source": [
    "# let's normalize the data\n",
    "# this portion here made a huge difference in accuracy\n",
    "X = tf.keras.utils.normalize(X, axis=1)\n",
    "X_test = tf.keras.utils.normalize(X_test, axis=1)"
   ]
  },
  {
   "cell_type": "code",
   "execution_count": 24,
   "metadata": {},
   "outputs": [],
   "source": [
    "import pickle # we'll need this later to save models"
   ]
  },
  {
   "cell_type": "code",
   "execution_count": 43,
   "metadata": {},
   "outputs": [
    {
     "name": "stdout",
     "output_type": "stream",
     "text": [
      "Epoch 1/5\n",
      "17000/17000 [==============================] - ETA: 4:25 - loss: 2.3229 - acc: 0.0000e+0 - ETA: 26s - loss: 2.0867 - acc: 0.3580    - ETA: 16s - loss: 1.8538 - acc: 0.48 - ETA: 11s - loss: 1.6016 - acc: 0.57 - ETA: 9s - loss: 1.3681 - acc: 0.6343 - ETA: 8s - loss: 1.2637 - acc: 0.658 - ETA: 8s - loss: 1.1770 - acc: 0.679 - ETA: 7s - loss: 1.0689 - acc: 0.703 - ETA: 6s - loss: 0.9909 - acc: 0.723 - ETA: 6s - loss: 0.9452 - acc: 0.733 - ETA: 5s - loss: 0.8804 - acc: 0.751 - ETA: 5s - loss: 0.8372 - acc: 0.762 - ETA: 5s - loss: 0.8011 - acc: 0.771 - ETA: 4s - loss: 0.7568 - acc: 0.784 - ETA: 4s - loss: 0.7207 - acc: 0.794 - ETA: 4s - loss: 0.6930 - acc: 0.800 - ETA: 4s - loss: 0.6598 - acc: 0.809 - ETA: 3s - loss: 0.6359 - acc: 0.816 - ETA: 3s - loss: 0.6150 - acc: 0.822 - ETA: 3s - loss: 0.5949 - acc: 0.827 - ETA: 3s - loss: 0.5731 - acc: 0.833 - ETA: 3s - loss: 0.5623 - acc: 0.835 - ETA: 3s - loss: 0.5501 - acc: 0.839 - ETA: 3s - loss: 0.5327 - acc: 0.844 - ETA: 2s - loss: 0.5176 - acc: 0.848 - ETA: 2s - loss: 0.5093 - acc: 0.850 - ETA: 2s - loss: 0.4973 - acc: 0.853 - ETA: 2s - loss: 0.4881 - acc: 0.855 - ETA: 2s - loss: 0.4796 - acc: 0.857 - ETA: 2s - loss: 0.4707 - acc: 0.860 - ETA: 2s - loss: 0.4657 - acc: 0.861 - ETA: 2s - loss: 0.4614 - acc: 0.862 - ETA: 2s - loss: 0.4550 - acc: 0.864 - ETA: 2s - loss: 0.4467 - acc: 0.866 - ETA: 2s - loss: 0.4395 - acc: 0.868 - ETA: 2s - loss: 0.4351 - acc: 0.869 - ETA: 1s - loss: 0.4319 - acc: 0.871 - ETA: 1s - loss: 0.4250 - acc: 0.872 - ETA: 1s - loss: 0.4191 - acc: 0.874 - ETA: 1s - loss: 0.4136 - acc: 0.876 - ETA: 1s - loss: 0.4091 - acc: 0.877 - ETA: 1s - loss: 0.4050 - acc: 0.878 - ETA: 1s - loss: 0.4010 - acc: 0.879 - ETA: 1s - loss: 0.3944 - acc: 0.881 - ETA: 1s - loss: 0.3892 - acc: 0.883 - ETA: 1s - loss: 0.3849 - acc: 0.884 - ETA: 1s - loss: 0.3778 - acc: 0.886 - ETA: 1s - loss: 0.3744 - acc: 0.888 - ETA: 1s - loss: 0.3706 - acc: 0.889 - ETA: 1s - loss: 0.3654 - acc: 0.890 - ETA: 0s - loss: 0.3626 - acc: 0.891 - ETA: 0s - loss: 0.3579 - acc: 0.892 - ETA: 0s - loss: 0.3539 - acc: 0.893 - ETA: 0s - loss: 0.3500 - acc: 0.894 - ETA: 0s - loss: 0.3472 - acc: 0.895 - ETA: 0s - loss: 0.3437 - acc: 0.896 - ETA: 0s - loss: 0.3399 - acc: 0.897 - ETA: 0s - loss: 0.3367 - acc: 0.898 - ETA: 0s - loss: 0.3346 - acc: 0.898 - ETA: 0s - loss: 0.3325 - acc: 0.899 - ETA: 0s - loss: 0.3311 - acc: 0.899 - ETA: 0s - loss: 0.3294 - acc: 0.900 - ETA: 0s - loss: 0.3277 - acc: 0.900 - ETA: 0s - loss: 0.3254 - acc: 0.901 - ETA: 0s - loss: 0.3240 - acc: 0.901 - ETA: 0s - loss: 0.3221 - acc: 0.902 - ETA: 0s - loss: 0.3205 - acc: 0.902 - ETA: 0s - loss: 0.3186 - acc: 0.903 - 4s 241us/sample - loss: 0.3167 - acc: 0.9038\n",
      "Epoch 2/5\n",
      "17000/17000 [==============================] - ETA: 4s - loss: 0.1663 - acc: 0.968 - ETA: 3s - loss: 0.1830 - acc: 0.944 - ETA: 3s - loss: 0.1734 - acc: 0.942 - ETA: 3s - loss: 0.1762 - acc: 0.943 - ETA: 3s - loss: 0.1659 - acc: 0.947 - ETA: 3s - loss: 0.1565 - acc: 0.951 - ETA: 3s - loss: 0.1516 - acc: 0.952 - ETA: 3s - loss: 0.1476 - acc: 0.954 - ETA: 3s - loss: 0.1428 - acc: 0.955 - ETA: 3s - loss: 0.1395 - acc: 0.957 - ETA: 3s - loss: 0.1379 - acc: 0.958 - ETA: 3s - loss: 0.1321 - acc: 0.960 - ETA: 3s - loss: 0.1324 - acc: 0.961 - ETA: 2s - loss: 0.1293 - acc: 0.962 - ETA: 2s - loss: 0.1297 - acc: 0.961 - ETA: 2s - loss: 0.1247 - acc: 0.963 - ETA: 2s - loss: 0.1245 - acc: 0.962 - ETA: 2s - loss: 0.1241 - acc: 0.962 - ETA: 2s - loss: 0.1223 - acc: 0.963 - ETA: 2s - loss: 0.1209 - acc: 0.963 - ETA: 2s - loss: 0.1187 - acc: 0.963 - ETA: 2s - loss: 0.1176 - acc: 0.963 - ETA: 2s - loss: 0.1171 - acc: 0.963 - ETA: 2s - loss: 0.1192 - acc: 0.963 - ETA: 2s - loss: 0.1222 - acc: 0.962 - ETA: 1s - loss: 0.1202 - acc: 0.962 - ETA: 1s - loss: 0.1186 - acc: 0.963 - ETA: 1s - loss: 0.1184 - acc: 0.963 - ETA: 1s - loss: 0.1196 - acc: 0.963 - ETA: 1s - loss: 0.1201 - acc: 0.963 - ETA: 1s - loss: 0.1206 - acc: 0.963 - ETA: 1s - loss: 0.1193 - acc: 0.963 - ETA: 1s - loss: 0.1180 - acc: 0.964 - ETA: 1s - loss: 0.1168 - acc: 0.964 - ETA: 1s - loss: 0.1163 - acc: 0.964 - ETA: 1s - loss: 0.1147 - acc: 0.965 - ETA: 1s - loss: 0.1143 - acc: 0.965 - ETA: 1s - loss: 0.1147 - acc: 0.964 - ETA: 1s - loss: 0.1144 - acc: 0.964 - ETA: 1s - loss: 0.1146 - acc: 0.964 - ETA: 1s - loss: 0.1150 - acc: 0.964 - ETA: 1s - loss: 0.1158 - acc: 0.964 - ETA: 1s - loss: 0.1153 - acc: 0.964 - ETA: 0s - loss: 0.1147 - acc: 0.964 - ETA: 0s - loss: 0.1134 - acc: 0.965 - ETA: 0s - loss: 0.1133 - acc: 0.965 - ETA: 0s - loss: 0.1124 - acc: 0.965 - ETA: 0s - loss: 0.1117 - acc: 0.965 - ETA: 0s - loss: 0.1118 - acc: 0.966 - ETA: 0s - loss: 0.1109 - acc: 0.966 - ETA: 0s - loss: 0.1103 - acc: 0.966 - ETA: 0s - loss: 0.1101 - acc: 0.966 - ETA: 0s - loss: 0.1102 - acc: 0.966 - ETA: 0s - loss: 0.1097 - acc: 0.966 - ETA: 0s - loss: 0.1096 - acc: 0.966 - ETA: 0s - loss: 0.1096 - acc: 0.966 - ETA: 0s - loss: 0.1097 - acc: 0.966 - ETA: 0s - loss: 0.1093 - acc: 0.966 - ETA: 0s - loss: 0.1089 - acc: 0.966 - ETA: 0s - loss: 0.1088 - acc: 0.966 - ETA: 0s - loss: 0.1087 - acc: 0.966 - 3s 185us/sample - loss: 0.1086 - acc: 0.9665\n",
      "Epoch 3/5\n",
      "17000/17000 [==============================] - ETA: 5s - loss: 0.0641 - acc: 1.000 - ETA: 3s - loss: 0.0917 - acc: 0.972 - ETA: 3s - loss: 0.0857 - acc: 0.972 - ETA: 2s - loss: 0.0753 - acc: 0.977 - ETA: 3s - loss: 0.0757 - acc: 0.975 - ETA: 2s - loss: 0.0669 - acc: 0.980 - ETA: 2s - loss: 0.0667 - acc: 0.981 - ETA: 2s - loss: 0.0663 - acc: 0.982 - ETA: 2s - loss: 0.0627 - acc: 0.982 - ETA: 2s - loss: 0.0605 - acc: 0.982 - ETA: 2s - loss: 0.0585 - acc: 0.982 - ETA: 2s - loss: 0.0617 - acc: 0.981 - ETA: 2s - loss: 0.0602 - acc: 0.982 - ETA: 2s - loss: 0.0610 - acc: 0.981 - ETA: 2s - loss: 0.0612 - acc: 0.981 - ETA: 2s - loss: 0.0594 - acc: 0.981 - ETA: 2s - loss: 0.0602 - acc: 0.981 - ETA: 2s - loss: 0.0634 - acc: 0.981 - ETA: 2s - loss: 0.0640 - acc: 0.981 - ETA: 2s - loss: 0.0657 - acc: 0.980 - ETA: 1s - loss: 0.0655 - acc: 0.980 - ETA: 1s - loss: 0.0649 - acc: 0.980 - ETA: 1s - loss: 0.0643 - acc: 0.981 - ETA: 1s - loss: 0.0641 - acc: 0.981 - ETA: 1s - loss: 0.0668 - acc: 0.981 - ETA: 1s - loss: 0.0658 - acc: 0.981 - ETA: 1s - loss: 0.0659 - acc: 0.981 - ETA: 1s - loss: 0.0657 - acc: 0.981 - ETA: 1s - loss: 0.0651 - acc: 0.981 - ETA: 1s - loss: 0.0651 - acc: 0.981 - ETA: 1s - loss: 0.0645 - acc: 0.981 - ETA: 1s - loss: 0.0645 - acc: 0.981 - ETA: 1s - loss: 0.0638 - acc: 0.981 - ETA: 1s - loss: 0.0633 - acc: 0.982 - ETA: 1s - loss: 0.0634 - acc: 0.982 - ETA: 1s - loss: 0.0633 - acc: 0.982 - ETA: 1s - loss: 0.0629 - acc: 0.982 - ETA: 1s - loss: 0.0628 - acc: 0.982 - ETA: 1s - loss: 0.0624 - acc: 0.982 - ETA: 1s - loss: 0.0621 - acc: 0.982 - ETA: 1s - loss: 0.0620 - acc: 0.982 - ETA: 1s - loss: 0.0617 - acc: 0.982 - ETA: 1s - loss: 0.0616 - acc: 0.982 - ETA: 1s - loss: 0.0619 - acc: 0.982 - ETA: 1s - loss: 0.0622 - acc: 0.982 - ETA: 0s - loss: 0.0634 - acc: 0.981 - ETA: 0s - loss: 0.0635 - acc: 0.981 - ETA: 0s - loss: 0.0628 - acc: 0.981 - ETA: 0s - loss: 0.0626 - acc: 0.982 - ETA: 0s - loss: 0.0627 - acc: 0.981 - ETA: 0s - loss: 0.0626 - acc: 0.981 - ETA: 0s - loss: 0.0626 - acc: 0.981 - ETA: 0s - loss: 0.0624 - acc: 0.982 - ETA: 0s - loss: 0.0622 - acc: 0.981 - ETA: 0s - loss: 0.0624 - acc: 0.981 - ETA: 0s - loss: 0.0634 - acc: 0.981 - ETA: 0s - loss: 0.0633 - acc: 0.981 - ETA: 0s - loss: 0.0638 - acc: 0.980 - ETA: 0s - loss: 0.0634 - acc: 0.980 - ETA: 0s - loss: 0.0634 - acc: 0.981 - ETA: 0s - loss: 0.0635 - acc: 0.980 - ETA: 0s - loss: 0.0634 - acc: 0.981 - ETA: 0s - loss: 0.0639 - acc: 0.981 - ETA: 0s - loss: 0.0640 - acc: 0.980 - ETA: 0s - loss: 0.0639 - acc: 0.980 - 3s 200us/sample - loss: 0.0642 - acc: 0.9808\n",
      "Epoch 4/5\n"
     ]
    },
    {
     "name": "stdout",
     "output_type": "stream",
     "text": [
      "17000/17000 [==============================] - ETA: 4s - loss: 0.0195 - acc: 1.000 - ETA: 2s - loss: 0.0770 - acc: 0.974 - ETA: 2s - loss: 0.0635 - acc: 0.981 - ETA: 3s - loss: 0.0621 - acc: 0.980 - ETA: 2s - loss: 0.0570 - acc: 0.982 - ETA: 2s - loss: 0.0528 - acc: 0.985 - ETA: 2s - loss: 0.0506 - acc: 0.984 - ETA: 2s - loss: 0.0527 - acc: 0.983 - ETA: 2s - loss: 0.0529 - acc: 0.983 - ETA: 2s - loss: 0.0518 - acc: 0.983 - ETA: 2s - loss: 0.0527 - acc: 0.983 - ETA: 2s - loss: 0.0523 - acc: 0.983 - ETA: 2s - loss: 0.0534 - acc: 0.982 - ETA: 2s - loss: 0.0506 - acc: 0.984 - ETA: 2s - loss: 0.0524 - acc: 0.984 - ETA: 2s - loss: 0.0510 - acc: 0.984 - ETA: 2s - loss: 0.0499 - acc: 0.984 - ETA: 2s - loss: 0.0506 - acc: 0.984 - ETA: 2s - loss: 0.0514 - acc: 0.983 - ETA: 2s - loss: 0.0538 - acc: 0.983 - ETA: 2s - loss: 0.0548 - acc: 0.983 - ETA: 2s - loss: 0.0540 - acc: 0.983 - ETA: 1s - loss: 0.0525 - acc: 0.984 - ETA: 1s - loss: 0.0509 - acc: 0.984 - ETA: 1s - loss: 0.0500 - acc: 0.985 - ETA: 1s - loss: 0.0497 - acc: 0.985 - ETA: 1s - loss: 0.0493 - acc: 0.985 - ETA: 1s - loss: 0.0493 - acc: 0.985 - ETA: 1s - loss: 0.0489 - acc: 0.985 - ETA: 1s - loss: 0.0483 - acc: 0.985 - ETA: 1s - loss: 0.0483 - acc: 0.985 - ETA: 1s - loss: 0.0481 - acc: 0.985 - ETA: 1s - loss: 0.0477 - acc: 0.985 - ETA: 1s - loss: 0.0467 - acc: 0.986 - ETA: 1s - loss: 0.0467 - acc: 0.986 - ETA: 1s - loss: 0.0461 - acc: 0.986 - ETA: 1s - loss: 0.0457 - acc: 0.986 - ETA: 1s - loss: 0.0456 - acc: 0.986 - ETA: 1s - loss: 0.0452 - acc: 0.986 - ETA: 1s - loss: 0.0459 - acc: 0.986 - ETA: 1s - loss: 0.0461 - acc: 0.985 - ETA: 1s - loss: 0.0465 - acc: 0.985 - ETA: 1s - loss: 0.0461 - acc: 0.986 - ETA: 0s - loss: 0.0458 - acc: 0.986 - ETA: 0s - loss: 0.0452 - acc: 0.986 - ETA: 0s - loss: 0.0451 - acc: 0.986 - ETA: 0s - loss: 0.0449 - acc: 0.986 - ETA: 0s - loss: 0.0448 - acc: 0.986 - ETA: 0s - loss: 0.0446 - acc: 0.986 - ETA: 0s - loss: 0.0447 - acc: 0.986 - ETA: 0s - loss: 0.0447 - acc: 0.986 - ETA: 0s - loss: 0.0446 - acc: 0.986 - ETA: 0s - loss: 0.0442 - acc: 0.986 - ETA: 0s - loss: 0.0443 - acc: 0.986 - ETA: 0s - loss: 0.0440 - acc: 0.986 - ETA: 0s - loss: 0.0446 - acc: 0.986 - ETA: 0s - loss: 0.0445 - acc: 0.986 - ETA: 0s - loss: 0.0445 - acc: 0.986 - ETA: 0s - loss: 0.0443 - acc: 0.986 - ETA: 0s - loss: 0.0447 - acc: 0.986 - ETA: 0s - loss: 0.0449 - acc: 0.986 - ETA: 0s - loss: 0.0447 - acc: 0.986 - ETA: 0s - loss: 0.0447 - acc: 0.986 - 3s 195us/sample - loss: 0.0446 - acc: 0.9861\n",
      "Epoch 5/5\n",
      "17000/17000 [==============================] - ETA: 5s - loss: 0.0053 - acc: 1.000 - ETA: 3s - loss: 0.0373 - acc: 0.989 - ETA: 3s - loss: 0.0321 - acc: 0.990 - ETA: 3s - loss: 0.0426 - acc: 0.988 - ETA: 3s - loss: 0.0389 - acc: 0.989 - ETA: 3s - loss: 0.0401 - acc: 0.988 - ETA: 3s - loss: 0.0395 - acc: 0.989 - ETA: 2s - loss: 0.0368 - acc: 0.989 - ETA: 3s - loss: 0.0346 - acc: 0.990 - ETA: 3s - loss: 0.0343 - acc: 0.990 - ETA: 3s - loss: 0.0330 - acc: 0.990 - ETA: 3s - loss: 0.0327 - acc: 0.990 - ETA: 3s - loss: 0.0355 - acc: 0.990 - ETA: 3s - loss: 0.0341 - acc: 0.990 - ETA: 3s - loss: 0.0329 - acc: 0.991 - ETA: 3s - loss: 0.0315 - acc: 0.991 - ETA: 3s - loss: 0.0301 - acc: 0.991 - ETA: 3s - loss: 0.0288 - acc: 0.992 - ETA: 3s - loss: 0.0280 - acc: 0.992 - ETA: 2s - loss: 0.0271 - acc: 0.993 - ETA: 2s - loss: 0.0262 - acc: 0.993 - ETA: 2s - loss: 0.0259 - acc: 0.993 - ETA: 2s - loss: 0.0286 - acc: 0.992 - ETA: 2s - loss: 0.0276 - acc: 0.993 - ETA: 2s - loss: 0.0284 - acc: 0.993 - ETA: 2s - loss: 0.0288 - acc: 0.992 - ETA: 2s - loss: 0.0284 - acc: 0.992 - ETA: 2s - loss: 0.0284 - acc: 0.992 - ETA: 2s - loss: 0.0296 - acc: 0.992 - ETA: 2s - loss: 0.0298 - acc: 0.992 - ETA: 2s - loss: 0.0293 - acc: 0.992 - ETA: 2s - loss: 0.0291 - acc: 0.992 - ETA: 2s - loss: 0.0287 - acc: 0.992 - ETA: 2s - loss: 0.0285 - acc: 0.992 - ETA: 2s - loss: 0.0284 - acc: 0.992 - ETA: 1s - loss: 0.0281 - acc: 0.992 - ETA: 1s - loss: 0.0278 - acc: 0.993 - ETA: 1s - loss: 0.0278 - acc: 0.992 - ETA: 1s - loss: 0.0277 - acc: 0.992 - ETA: 1s - loss: 0.0277 - acc: 0.992 - ETA: 1s - loss: 0.0278 - acc: 0.992 - ETA: 1s - loss: 0.0279 - acc: 0.992 - ETA: 1s - loss: 0.0283 - acc: 0.992 - ETA: 1s - loss: 0.0282 - acc: 0.992 - ETA: 1s - loss: 0.0283 - acc: 0.992 - ETA: 1s - loss: 0.0284 - acc: 0.992 - ETA: 1s - loss: 0.0281 - acc: 0.992 - ETA: 1s - loss: 0.0275 - acc: 0.992 - ETA: 1s - loss: 0.0276 - acc: 0.992 - ETA: 0s - loss: 0.0282 - acc: 0.992 - ETA: 0s - loss: 0.0285 - acc: 0.992 - ETA: 0s - loss: 0.0286 - acc: 0.992 - ETA: 0s - loss: 0.0293 - acc: 0.992 - ETA: 0s - loss: 0.0289 - acc: 0.992 - ETA: 0s - loss: 0.0288 - acc: 0.992 - ETA: 0s - loss: 0.0286 - acc: 0.992 - ETA: 0s - loss: 0.0283 - acc: 0.992 - ETA: 0s - loss: 0.0283 - acc: 0.992 - ETA: 0s - loss: 0.0285 - acc: 0.992 - ETA: 0s - loss: 0.0283 - acc: 0.992 - ETA: 0s - loss: 0.0285 - acc: 0.992 - ETA: 0s - loss: 0.0286 - acc: 0.992 - ETA: 0s - loss: 0.0287 - acc: 0.992 - ETA: 0s - loss: 0.0290 - acc: 0.992 - ETA: 0s - loss: 0.0289 - acc: 0.992 - 3s 204us/sample - loss: 0.0291 - acc: 0.9919\n"
     ]
    },
    {
     "data": {
      "text/plain": [
       "<tensorflow.python.keras.callbacks.History at 0x20aa9147e10>"
      ]
     },
     "execution_count": 43,
     "metadata": {},
     "output_type": "execute_result"
    }
   ],
   "source": [
    "# build the model\n",
    "# reference here: https://pythonprogramming.net/introduction-deep-learning-python-tensorflow-keras/\n",
    "\n",
    "model = tf.keras.models.Sequential()\n",
    "model.add(tf.keras.layers.Flatten())\n",
    "model.add(tf.keras.layers.Dense(128, activation=tf.nn.relu))\n",
    "model.add(tf.keras.layers.Dense(128, activation=tf.nn.relu))\n",
    "model.add(tf.keras.layers.Dense(10, activation=tf.nn.softmax))\n",
    "\n",
    "model.compile(optimizer='adam',\n",
    "              loss='sparse_categorical_crossentropy',\n",
    "              metrics=['accuracy'])\n",
    "\n",
    "model.fit(X, y, epochs=5)"
   ]
  },
  {
   "cell_type": "code",
   "execution_count": 51,
   "metadata": {},
   "outputs": [
    {
     "ename": "RuntimeError",
     "evalue": "Unable to create link (name already exists)",
     "output_type": "error",
     "traceback": [
      "\u001b[1;31m---------------------------------------------------------------------------\u001b[0m",
      "\u001b[1;31mRuntimeError\u001b[0m                              Traceback (most recent call last)",
      "\u001b[1;32m<ipython-input-51-f2adaa740cea>\u001b[0m in \u001b[0;36m<module>\u001b[1;34m\u001b[0m\n\u001b[0;32m      1\u001b[0m \u001b[1;31m# use model.save() they say not to use pickle\u001b[0m\u001b[1;33m\u001b[0m\u001b[1;33m\u001b[0m\u001b[1;33m\u001b[0m\u001b[0m\n\u001b[0;32m      2\u001b[0m \u001b[1;31m# use this instead for keras, but it breaks???\u001b[0m\u001b[1;33m\u001b[0m\u001b[1;33m\u001b[0m\u001b[1;33m\u001b[0m\u001b[0m\n\u001b[1;32m----> 3\u001b[1;33m \u001b[0mmodel\u001b[0m\u001b[1;33m.\u001b[0m\u001b[0msave\u001b[0m\u001b[1;33m(\u001b[0m\u001b[1;34m'my_model_98.h5'\u001b[0m\u001b[1;33m)\u001b[0m\u001b[1;33m\u001b[0m\u001b[1;33m\u001b[0m\u001b[0m\n\u001b[0m",
      "\u001b[1;32mC:\\ProgramData\\Anaconda3\\lib\\site-packages\\tensorflow\\python\\keras\\engine\\sequential.py\u001b[0m in \u001b[0;36msave\u001b[1;34m(self, filepath, overwrite, include_optimizer)\u001b[0m\n\u001b[0;32m    317\u001b[0m   \u001b[1;32mdef\u001b[0m \u001b[0msave\u001b[0m\u001b[1;33m(\u001b[0m\u001b[0mself\u001b[0m\u001b[1;33m,\u001b[0m \u001b[0mfilepath\u001b[0m\u001b[1;33m,\u001b[0m \u001b[0moverwrite\u001b[0m\u001b[1;33m=\u001b[0m\u001b[1;32mTrue\u001b[0m\u001b[1;33m,\u001b[0m \u001b[0minclude_optimizer\u001b[0m\u001b[1;33m=\u001b[0m\u001b[1;32mTrue\u001b[0m\u001b[1;33m)\u001b[0m\u001b[1;33m:\u001b[0m\u001b[1;33m\u001b[0m\u001b[1;33m\u001b[0m\u001b[0m\n\u001b[0;32m    318\u001b[0m     \u001b[1;32mfrom\u001b[0m \u001b[0mtensorflow\u001b[0m\u001b[1;33m.\u001b[0m\u001b[0mpython\u001b[0m\u001b[1;33m.\u001b[0m\u001b[0mkeras\u001b[0m\u001b[1;33m.\u001b[0m\u001b[0mmodels\u001b[0m \u001b[1;32mimport\u001b[0m \u001b[0msave_model\u001b[0m  \u001b[1;31m# pylint: disable=g-import-not-at-top\u001b[0m\u001b[1;33m\u001b[0m\u001b[1;33m\u001b[0m\u001b[0m\n\u001b[1;32m--> 319\u001b[1;33m     \u001b[0msave_model\u001b[0m\u001b[1;33m(\u001b[0m\u001b[0mself\u001b[0m\u001b[1;33m,\u001b[0m \u001b[0mfilepath\u001b[0m\u001b[1;33m,\u001b[0m \u001b[0moverwrite\u001b[0m\u001b[1;33m,\u001b[0m \u001b[0minclude_optimizer\u001b[0m\u001b[1;33m)\u001b[0m\u001b[1;33m\u001b[0m\u001b[1;33m\u001b[0m\u001b[0m\n\u001b[0m\u001b[0;32m    320\u001b[0m \u001b[1;33m\u001b[0m\u001b[0m\n\u001b[0;32m    321\u001b[0m   \u001b[1;32mdef\u001b[0m \u001b[0mget_config\u001b[0m\u001b[1;33m(\u001b[0m\u001b[0mself\u001b[0m\u001b[1;33m)\u001b[0m\u001b[1;33m:\u001b[0m\u001b[1;33m\u001b[0m\u001b[1;33m\u001b[0m\u001b[0m\n",
      "\u001b[1;32mC:\\ProgramData\\Anaconda3\\lib\\site-packages\\tensorflow\\python\\keras\\engine\\saving.py\u001b[0m in \u001b[0;36msave_model\u001b[1;34m(model, filepath, overwrite, include_optimizer)\u001b[0m\n\u001b[0;32m    150\u001b[0m           \u001b[1;32mfor\u001b[0m \u001b[0mname\u001b[0m\u001b[1;33m,\u001b[0m \u001b[0mval\u001b[0m \u001b[1;32min\u001b[0m \u001b[0mzip\u001b[0m\u001b[1;33m(\u001b[0m\u001b[0mweight_names\u001b[0m\u001b[1;33m,\u001b[0m \u001b[0mweight_values\u001b[0m\u001b[1;33m)\u001b[0m\u001b[1;33m:\u001b[0m\u001b[1;33m\u001b[0m\u001b[1;33m\u001b[0m\u001b[0m\n\u001b[0;32m    151\u001b[0m             param_dset = optimizer_weights_group.create_dataset(\n\u001b[1;32m--> 152\u001b[1;33m                 name, val.shape, dtype=val.dtype)\n\u001b[0m\u001b[0;32m    153\u001b[0m             \u001b[1;32mif\u001b[0m \u001b[1;32mnot\u001b[0m \u001b[0mval\u001b[0m\u001b[1;33m.\u001b[0m\u001b[0mshape\u001b[0m\u001b[1;33m:\u001b[0m\u001b[1;33m\u001b[0m\u001b[1;33m\u001b[0m\u001b[0m\n\u001b[0;32m    154\u001b[0m               \u001b[1;31m# scalar\u001b[0m\u001b[1;33m\u001b[0m\u001b[1;33m\u001b[0m\u001b[1;33m\u001b[0m\u001b[0m\n",
      "\u001b[1;32mC:\\ProgramData\\Anaconda3\\lib\\site-packages\\h5py\\_hl\\group.py\u001b[0m in \u001b[0;36mcreate_dataset\u001b[1;34m(self, name, shape, dtype, data, **kwds)\u001b[0m\n\u001b[0;32m    117\u001b[0m             \u001b[0mdset\u001b[0m \u001b[1;33m=\u001b[0m \u001b[0mdataset\u001b[0m\u001b[1;33m.\u001b[0m\u001b[0mDataset\u001b[0m\u001b[1;33m(\u001b[0m\u001b[0mdsid\u001b[0m\u001b[1;33m)\u001b[0m\u001b[1;33m\u001b[0m\u001b[1;33m\u001b[0m\u001b[0m\n\u001b[0;32m    118\u001b[0m             \u001b[1;32mif\u001b[0m \u001b[0mname\u001b[0m \u001b[1;32mis\u001b[0m \u001b[1;32mnot\u001b[0m \u001b[1;32mNone\u001b[0m\u001b[1;33m:\u001b[0m\u001b[1;33m\u001b[0m\u001b[1;33m\u001b[0m\u001b[0m\n\u001b[1;32m--> 119\u001b[1;33m                 \u001b[0mself\u001b[0m\u001b[1;33m[\u001b[0m\u001b[0mname\u001b[0m\u001b[1;33m]\u001b[0m \u001b[1;33m=\u001b[0m \u001b[0mdset\u001b[0m\u001b[1;33m\u001b[0m\u001b[1;33m\u001b[0m\u001b[0m\n\u001b[0m\u001b[0;32m    120\u001b[0m             \u001b[1;32mreturn\u001b[0m \u001b[0mdset\u001b[0m\u001b[1;33m\u001b[0m\u001b[1;33m\u001b[0m\u001b[0m\n\u001b[0;32m    121\u001b[0m \u001b[1;33m\u001b[0m\u001b[0m\n",
      "\u001b[1;32mC:\\ProgramData\\Anaconda3\\lib\\site-packages\\h5py\\_hl\\group.py\u001b[0m in \u001b[0;36m__setitem__\u001b[1;34m(self, name, obj)\u001b[0m\n\u001b[0;32m    285\u001b[0m \u001b[1;33m\u001b[0m\u001b[0m\n\u001b[0;32m    286\u001b[0m             \u001b[1;32mif\u001b[0m \u001b[0misinstance\u001b[0m\u001b[1;33m(\u001b[0m\u001b[0mobj\u001b[0m\u001b[1;33m,\u001b[0m \u001b[0mHLObject\u001b[0m\u001b[1;33m)\u001b[0m\u001b[1;33m:\u001b[0m\u001b[1;33m\u001b[0m\u001b[1;33m\u001b[0m\u001b[0m\n\u001b[1;32m--> 287\u001b[1;33m                 \u001b[0mh5o\u001b[0m\u001b[1;33m.\u001b[0m\u001b[0mlink\u001b[0m\u001b[1;33m(\u001b[0m\u001b[0mobj\u001b[0m\u001b[1;33m.\u001b[0m\u001b[0mid\u001b[0m\u001b[1;33m,\u001b[0m \u001b[0mself\u001b[0m\u001b[1;33m.\u001b[0m\u001b[0mid\u001b[0m\u001b[1;33m,\u001b[0m \u001b[0mname\u001b[0m\u001b[1;33m,\u001b[0m \u001b[0mlcpl\u001b[0m\u001b[1;33m=\u001b[0m\u001b[0mlcpl\u001b[0m\u001b[1;33m,\u001b[0m \u001b[0mlapl\u001b[0m\u001b[1;33m=\u001b[0m\u001b[0mself\u001b[0m\u001b[1;33m.\u001b[0m\u001b[0m_lapl\u001b[0m\u001b[1;33m)\u001b[0m\u001b[1;33m\u001b[0m\u001b[1;33m\u001b[0m\u001b[0m\n\u001b[0m\u001b[0;32m    288\u001b[0m \u001b[1;33m\u001b[0m\u001b[0m\n\u001b[0;32m    289\u001b[0m             \u001b[1;32melif\u001b[0m \u001b[0misinstance\u001b[0m\u001b[1;33m(\u001b[0m\u001b[0mobj\u001b[0m\u001b[1;33m,\u001b[0m \u001b[0mSoftLink\u001b[0m\u001b[1;33m)\u001b[0m\u001b[1;33m:\u001b[0m\u001b[1;33m\u001b[0m\u001b[1;33m\u001b[0m\u001b[0m\n",
      "\u001b[1;32mh5py\\_objects.pyx\u001b[0m in \u001b[0;36mh5py._objects.with_phil.wrapper\u001b[1;34m()\u001b[0m\n",
      "\u001b[1;32mh5py\\_objects.pyx\u001b[0m in \u001b[0;36mh5py._objects.with_phil.wrapper\u001b[1;34m()\u001b[0m\n",
      "\u001b[1;32mh5py\\h5o.pyx\u001b[0m in \u001b[0;36mh5py.h5o.link\u001b[1;34m()\u001b[0m\n",
      "\u001b[1;31mRuntimeError\u001b[0m: Unable to create link (name already exists)"
     ]
    }
   ],
   "source": [
    "# use model.save() they say not to use pickle\n",
    "# use this instead for keras, but it breaks???\n",
    "model.save('my_model_98.h5')"
   ]
  },
  {
   "cell_type": "code",
   "execution_count": 27,
   "metadata": {},
   "outputs": [
    {
     "data": {
      "image/png": "[encoded data removed]",
      "text/plain": [
       "<Figure size 1440x288 with 5 Axes>"
      ]
     },
     "metadata": {
      "needs_background": "light"
     },
     "output_type": "display_data"
    }
   ],
   "source": [
    "plt.figure(figsize=(20,4)) # let's see what the images look like. quick sanity check\n",
    "for index, (image, label) in enumerate(zip(X_test[0:5], y_test[0:5])):\n",
    "    plt.subplot(1, 5, index + 1)\n",
    "    plt.imshow(np.reshape(image, (IMG_SIZE,IMG_SIZE)), cmap=plt.cm.gray)\n",
    "    plt.title('Test Img: %i\\n' % label, fontsize = 20)"
   ]
  },
  {
   "cell_type": "code",
   "execution_count": 28,
   "metadata": {},
   "outputs": [
    {
     "data": {
      "text/plain": [
       "(17000, 1024)"
      ]
     },
     "execution_count": 28,
     "metadata": {},
     "output_type": "execute_result"
    }
   ],
   "source": [
    "X.shape"
   ]
  },
  {
   "cell_type": "code",
   "execution_count": 29,
   "metadata": {},
   "outputs": [],
   "source": [
    "#reshape X and X_test  or we get errors\n",
    "X = X.reshape(X.shape[0],-1)\n",
    "X_test = X_test.reshape(X_test.shape[0],-1)"
   ]
  },
  {
   "cell_type": "code",
   "execution_count": 30,
   "metadata": {},
   "outputs": [
    {
     "data": {
      "text/plain": [
       "(17000, 1024)"
      ]
     },
     "execution_count": 30,
     "metadata": {},
     "output_type": "execute_result"
    }
   ],
   "source": [
    "X.shape"
   ]
  },
  {
   "cell_type": "code",
   "execution_count": 41,
   "metadata": {},
   "outputs": [
    {
     "name": "stdout",
     "output_type": "stream",
     "text": [
      "GaussianNB(priors=None, var_smoothing=1e-09)\n",
      "              precision    recall  f1-score   support\n",
      "\n",
      "           0       0.94      0.93      0.93       300\n",
      "           1       0.92      0.93      0.92       300\n",
      "           2       0.67      0.85      0.75       300\n",
      "           3       0.79      0.61      0.69       300\n",
      "           4       0.93      0.90      0.92       300\n",
      "           5       0.86      0.81      0.83       300\n",
      "           6       0.84      0.84      0.84       300\n",
      "           7       0.85      0.82      0.83       300\n",
      "           8       0.95      0.95      0.95       300\n",
      "           9       0.86      0.93      0.90       300\n",
      "\n",
      "   micro avg       0.86      0.86      0.86      3000\n",
      "   macro avg       0.86      0.86      0.86      3000\n",
      "weighted avg       0.86      0.86      0.86      3000\n",
      "\n",
      "[[279   0   0   0   0   0   2   9   0  10]\n",
      " [  0 278   6   1   5   1   1   2   0   6]\n",
      " [  0   4 256  21   0   4   7   5   2   1]\n",
      " [  0   2  80 183   2  12   7   4   1   9]\n",
      " [  0   5   1   2 271   3   3   8   5   2]\n",
      " [  0   0  28  22   2 242   1   1   2   2]\n",
      " [  0   5  11   2   2  10 253  10   4   3]\n",
      " [ 17   0   0   0   2   5  20 245   1  10]\n",
      " [  1   0   1   1   3   6   2   0 285   1]\n",
      " [  0   9   0   1   3   0   5   3   0 279]]\n"
     ]
    }
   ],
   "source": [
    "## Naive Bayes Classification\n",
    "from sklearn.naive_bayes import GaussianNB\n",
    "model = GaussianNB()\n",
    "model.fit(X,y)\n",
    "print(model)\n",
    "# make predictions\n",
    "expected = y_test\n",
    "predicted = model.predict(X_test)\n",
    "# summarize the fit of the model\n",
    "print(metrics.classification_report(expected, predicted))\n",
    "print(metrics.confusion_matrix(expected, predicted))"
   ]
  },
  {
   "cell_type": "code",
   "execution_count": 42,
   "metadata": {},
   "outputs": [],
   "source": [
    "# save this\n",
    "filename = 'devnagari_naive_bayes_86.pkl'\n",
    "pickle.dump(model, open(filename, 'wb'))"
   ]
  },
  {
   "cell_type": "code",
   "execution_count": 33,
   "metadata": {},
   "outputs": [
    {
     "name": "stdout",
     "output_type": "stream",
     "text": [
      "KNeighborsClassifier(algorithm='auto', leaf_size=30, metric='minkowski',\n",
      "           metric_params=None, n_jobs=None, n_neighbors=5, p=2,\n",
      "           weights='uniform')\n",
      "              precision    recall  f1-score   support\n",
      "\n",
      "           0       1.00      0.99      0.99       300\n",
      "           1       0.98      0.99      0.98       300\n",
      "           2       0.92      0.97      0.95       300\n",
      "           3       0.97      0.93      0.95       300\n",
      "           4       0.99      1.00      0.99       300\n",
      "           5       0.97      0.96      0.97       300\n",
      "           6       0.99      0.97      0.98       300\n",
      "           7       0.99      0.99      0.99       300\n",
      "           8       0.99      1.00      0.99       300\n",
      "           9       0.99      0.98      0.98       300\n",
      "\n",
      "   micro avg       0.98      0.98      0.98      3000\n",
      "   macro avg       0.98      0.98      0.98      3000\n",
      "weighted avg       0.98      0.98      0.98      3000\n",
      "\n",
      "[[298   0   0   0   0   0   0   0   2   0]\n",
      " [  0 297   0   0   2   0   0   0   1   0]\n",
      " [  0   2 291   4   0   2   1   0   0   0]\n",
      " [  0   1  15 278   0   4   0   0   0   2]\n",
      " [  0   0   0   0 299   0   0   0   0   1]\n",
      " [  0   0   5   5   1 289   0   0   0   0]\n",
      " [  0   2   3   0   1   1 290   2   0   1]\n",
      " [  1   0   0   0   0   1   0 297   1   0]\n",
      " [  0   0   0   0   0   0   0   0 300   0]\n",
      " [  0   2   1   0   0   0   1   2   0 294]]\n"
     ]
    }
   ],
   "source": [
    "# Knn- classification\n",
    "# k-Nearest Neighbor Classification\n",
    "from sklearn.neighbors import KNeighborsClassifier\n",
    "model = KNeighborsClassifier()\n",
    "model.fit(X,y)\n",
    "print(model)\n",
    "# make predictions\n",
    "expected = y_test\n",
    "predicted = model.predict(X_test)\n",
    "# summarize the fit of the model\n",
    "print(metrics.classification_report(expected, predicted))\n",
    "print(metrics.confusion_matrix(expected, predicted))"
   ]
  },
  {
   "cell_type": "code",
   "execution_count": 37,
   "metadata": {},
   "outputs": [],
   "source": [
    "# save this. this one takes a long time\n",
    "filename = 'devnagari_knn_98.pkl'\n",
    "pickle.dump(model, open(filename, 'wb'))"
   ]
  },
  {
   "cell_type": "code",
   "execution_count": 35,
   "metadata": {},
   "outputs": [
    {
     "name": "stdout",
     "output_type": "stream",
     "text": [
      "DecisionTreeClassifier(class_weight=None, criterion='gini', max_depth=None,\n",
      "            max_features=None, max_leaf_nodes=None,\n",
      "            min_impurity_decrease=0.0, min_impurity_split=None,\n",
      "            min_samples_leaf=1, min_samples_split=2,\n",
      "            min_weight_fraction_leaf=0.0, presort=False, random_state=None,\n",
      "            splitter='best')\n",
      "              precision    recall  f1-score   support\n",
      "\n",
      "           0       0.93      0.94      0.94       300\n",
      "           1       0.93      0.90      0.92       300\n",
      "           2       0.76      0.81      0.79       300\n",
      "           3       0.81      0.76      0.78       300\n",
      "           4       0.94      0.90      0.92       300\n",
      "           5       0.87      0.80      0.83       300\n",
      "           6       0.78      0.82      0.80       300\n",
      "           7       0.88      0.91      0.90       300\n",
      "           8       0.89      0.90      0.89       300\n",
      "           9       0.88      0.91      0.90       300\n",
      "\n",
      "   micro avg       0.87      0.87      0.87      3000\n",
      "   macro avg       0.87      0.87      0.87      3000\n",
      "weighted avg       0.87      0.87      0.87      3000\n",
      "\n",
      "[[281   0   0   1   0   0   3   9   2   4]\n",
      " [  3 270   4   0   1   0  12   0   4   6]\n",
      " [  1   1 244  18   1  13  14   1   4   3]\n",
      " [  0   4  32 229   2  12   6   6   3   6]\n",
      " [  2   0   1   4 269   4   6   2   6   6]\n",
      " [  0   2  14  15   7 239   5   8   7   3]\n",
      " [  2   5  13   8   3   6 247   7   6   3]\n",
      " [  7   2   0   3   3   0   9 273   1   2]\n",
      " [  4   0   8   2   1   0   8   3 270   4]\n",
      " [  1   6   4   4   0   2   6   1   2 274]]\n"
     ]
    }
   ],
   "source": [
    "# Decision Tree Classifier\n",
    "from sklearn.tree import DecisionTreeClassifier\n",
    "model = DecisionTreeClassifier()\n",
    "model.fit(X,y)\n",
    "print(model)\n",
    "# make predictions\n",
    "expected = y_test\n",
    "predicted = model.predict(X_test)\n",
    "# summarize the fit of the model\n",
    "print(metrics.classification_report(expected, predicted))\n",
    "cm = metrics.confusion_matrix(expected, predicted)\n",
    "print(cm)"
   ]
  },
  {
   "cell_type": "code",
   "execution_count": 36,
   "metadata": {},
   "outputs": [],
   "source": [
    "# save this\n",
    "filename = 'devnagari_decisiontree_87.pkl'\n",
    "pickle.dump(model, open(filename, 'wb'))"
   ]
  },
  {
   "cell_type": "code",
   "execution_count": 38,
   "metadata": {},
   "outputs": [
    {
     "name": "stderr",
     "output_type": "stream",
     "text": [
      "C:\\ProgramData\\Anaconda3\\lib\\site-packages\\sklearn\\linear_model\\logistic.py:460: FutureWarning: Default multi_class will be changed to 'auto' in 0.22. Specify the multi_class option to silence this warning.\n",
      "  \"this warning.\", FutureWarning)\n",
      "C:\\ProgramData\\Anaconda3\\lib\\site-packages\\sklearn\\linear_model\\logistic.py:758: ConvergenceWarning: lbfgs failed to converge. Increase the number of iterations.\n",
      "  \"of iterations.\", ConvergenceWarning)\n",
      "C:\\ProgramData\\Anaconda3\\lib\\site-packages\\sklearn\\linear_model\\logistic.py:758: ConvergenceWarning: lbfgs failed to converge. Increase the number of iterations.\n",
      "  \"of iterations.\", ConvergenceWarning)\n",
      "C:\\ProgramData\\Anaconda3\\lib\\site-packages\\sklearn\\linear_model\\logistic.py:758: ConvergenceWarning: lbfgs failed to converge. Increase the number of iterations.\n",
      "  \"of iterations.\", ConvergenceWarning)\n",
      "C:\\ProgramData\\Anaconda3\\lib\\site-packages\\sklearn\\linear_model\\logistic.py:758: ConvergenceWarning: lbfgs failed to converge. Increase the number of iterations.\n",
      "  \"of iterations.\", ConvergenceWarning)\n",
      "C:\\ProgramData\\Anaconda3\\lib\\site-packages\\sklearn\\linear_model\\logistic.py:758: ConvergenceWarning: lbfgs failed to converge. Increase the number of iterations.\n",
      "  \"of iterations.\", ConvergenceWarning)\n",
      "C:\\ProgramData\\Anaconda3\\lib\\site-packages\\sklearn\\linear_model\\logistic.py:758: ConvergenceWarning: lbfgs failed to converge. Increase the number of iterations.\n",
      "  \"of iterations.\", ConvergenceWarning)\n"
     ]
    },
    {
     "name": "stdout",
     "output_type": "stream",
     "text": [
      "LogisticRegression(C=1.0, class_weight=None, dual=False, fit_intercept=True,\n",
      "          intercept_scaling=1, max_iter=100, multi_class='warn',\n",
      "          n_jobs=None, penalty='l2', random_state=10, solver='lbfgs',\n",
      "          tol=0.0001, verbose=0, warm_start=False)\n"
     ]
    }
   ],
   "source": [
    "# Logistic Regression\n",
    "from sklearn.linear_model import LogisticRegression\n",
    "model = LogisticRegression(solver = 'lbfgs',random_state=10)\n",
    "model.fit(X,y)\n",
    "print(model)"
   ]
  },
  {
   "cell_type": "code",
   "execution_count": 39,
   "metadata": {},
   "outputs": [
    {
     "name": "stdout",
     "output_type": "stream",
     "text": [
      "              precision    recall  f1-score   support\n",
      "\n",
      "           0       0.98      1.00      0.99       300\n",
      "           1       0.98      0.99      0.99       300\n",
      "           2       0.85      0.88      0.86       300\n",
      "           3       0.91      0.84      0.88       300\n",
      "           4       0.97      0.97      0.97       300\n",
      "           5       0.96      0.95      0.95       300\n",
      "           6       0.93      0.94      0.93       300\n",
      "           7       0.96      0.96      0.96       300\n",
      "           8       0.98      0.99      0.98       300\n",
      "           9       0.97      0.96      0.96       300\n",
      "\n",
      "   micro avg       0.95      0.95      0.95      3000\n",
      "   macro avg       0.95      0.95      0.95      3000\n",
      "weighted avg       0.95      0.95      0.95      3000\n",
      "\n",
      "[[299   0   0   0   0   0   0   1   0   0]\n",
      " [  0 297   0   0   0   0   0   0   1   2]\n",
      " [  1   3 265  17   3   2   7   2   0   0]\n",
      " [  0   2  33 253   1   4   5   2   0   0]\n",
      " [  0   1   1   2 290   0   1   0   2   3]\n",
      " [  0   0   5   2   3 285   3   0   1   1]\n",
      " [  1   0   5   1   0   2 281   7   0   3]\n",
      " [  5   0   3   0   0   2   1 288   1   0]\n",
      " [  0   0   0   1   0   2   0   0 297   0]\n",
      " [  0   0   1   1   3   0   5   1   2 287]]\n"
     ]
    }
   ],
   "source": [
    "# make predictions\n",
    "expected = y_test\n",
    "predicted = model.predict(X_test)\n",
    "# summarize the fit of the model\n",
    "print(metrics.classification_report(expected, predicted))\n",
    "cm = metrics.confusion_matrix(expected, predicted)\n",
    "print(cm)"
   ]
  },
  {
   "cell_type": "code",
   "execution_count": 40,
   "metadata": {},
   "outputs": [],
   "source": [
    "# save this\n",
    "filename = 'devnagari_logisticRegression_95.pkl'\n",
    "pickle.dump(model, open(filename, 'wb'))"
   ]
  },
  {
   "cell_type": "markdown",
   "metadata": {},
   "source": [
    "# Do all steps ... misclassifications ... saving the best classifier model ..."
   ]
  },
  {
   "cell_type": "code",
   "execution_count": null,
   "metadata": {},
   "outputs": [],
   "source": [
    "import seaborn as sns\n",
    "plt.figure(figsize=(9,9))\n",
    "sns.heatmap(cm, annot=True, fmt=\".0f\", linewidths=.5, square = True, cmap = 'Blues_r');\n",
    "plt.ylabel('Actual label');\n",
    "plt.xlabel('Predicted label')"
   ]
  },
  {
   "cell_type": "code",
   "execution_count": null,
   "metadata": {},
   "outputs": [],
   "source": [
    "# Returns a NumPy Array\n",
    "# Predict for One Observation (image)\n",
    "model.predict(X_test[0].reshape(1,-1))\n",
    "yy = model.predict(X_test[0].reshape(1,-1))\n",
    "print(yy[0])"
   ]
  },
  {
   "cell_type": "code",
   "execution_count": null,
   "metadata": {},
   "outputs": [],
   "source": [
    "# Predict for Multiple Observations (images) at Once\n",
    "model.predict(X_test[0:10])"
   ]
  },
  {
   "cell_type": "code",
   "execution_count": null,
   "metadata": {},
   "outputs": [],
   "source": [
    "# Make predictions on entire test data\n",
    "predictions = model.predict(X_test)"
   ]
  },
  {
   "cell_type": "code",
   "execution_count": null,
   "metadata": {},
   "outputs": [],
   "source": [
    "score = model.score(X_test,y_test)\n",
    "print(score)"
   ]
  },
  {
   "cell_type": "code",
   "execution_count": null,
   "metadata": {},
   "outputs": [],
   "source": [
    "index = 0\n",
    "misclassifiedIndexes = []\n",
    "for label, predict in zip(y_test, predictions):\n",
    "    if label != predict: \n",
    "        misclassifiedIndexes.append(index)\n",
    "    index +=1\n",
    "print(\"Number of images misclassified: \",len(misclassifiedIndexes))\n",
    "print(misclassifiedIndexes[0:5])"
   ]
  },
  {
   "cell_type": "code",
   "execution_count": null,
   "metadata": {},
   "outputs": [],
   "source": [
    "def print_rounded_probabilities(list1):\n",
    "    class_digit = 0\n",
    "    for x in list1:\n",
    "        y = round(x,2)\n",
    "        print(class_digit,\"==>\",y)\n",
    "        class_digit += 1"
   ]
  },
  {
   "cell_type": "code",
   "execution_count": null,
   "metadata": {},
   "outputs": [],
   "source": [
    "# Make probabilities on entire test data\n",
    "probabilities = model.predict_proba(X_test)\n",
    "print(len(probabilities))\n",
    "print(probabilities[0])"
   ]
  },
  {
   "cell_type": "code",
   "execution_count": null,
   "metadata": {},
   "outputs": [],
   "source": [
    "print_rounded_probabilities(probabilities[0])"
   ]
  },
  {
   "cell_type": "code",
   "execution_count": null,
   "metadata": {},
   "outputs": [],
   "source": [
    "print_rounded_probabilities(probabilities[8])\n",
    "print(y_test[8])"
   ]
  },
  {
   "cell_type": "code",
   "execution_count": null,
   "metadata": {},
   "outputs": [],
   "source": [
    "print_rounded_probabilities(probabilities[33])\n",
    "print(y_test[33])"
   ]
  },
  {
   "cell_type": "code",
   "execution_count": null,
   "metadata": {},
   "outputs": [],
   "source": [
    "plt.figure(figsize=(20,4))\n",
    "for plotIndex, badIndex in enumerate(misclassifiedIndexes[0:5]):\n",
    "    plt.subplot(1, 5, plotIndex + 1)\n",
    "    plt.imshow(np.reshape(X_test[badIndex], (IMG_SIZE,IMG_SIZE)), cmap=plt.cm.gray)\n",
    "    plt.title('Predicted: {}, Actual: {}'.format(predictions[badIndex], y_test[badIndex]), fontsize = 15)"
   ]
  },
  {
   "cell_type": "code",
   "execution_count": null,
   "metadata": {},
   "outputs": [],
   "source": [
    "plt.figure(figsize=(20,4))\n",
    "for plotIndex, badIndex in enumerate(misclassifiedIndexes[5:10]):\n",
    "    plt.subplot(1, 5, plotIndex + 1)\n",
    "    plt.imshow(np.reshape(X_test[badIndex], (IMG_SIZE,IMG_SIZE)), cmap=plt.cm.gray)\n",
    "    plt.title('Predicted: {}, Actual: {}'.format(predictions[badIndex], y_test[badIndex]), fontsize = 15)"
   ]
  },
  {
   "cell_type": "code",
   "execution_count": null,
   "metadata": {},
   "outputs": [],
   "source": [
    "# best classifier is tensorflow\n",
    "# rerun and save to disk\n",
    "\n",
    "model = tf.keras.models.Sequential()\n",
    "model.add(tf.keras.layers.Flatten())\n",
    "model.add(tf.keras.layers.Dense(128, activation=tf.nn.relu))\n",
    "model.add(tf.keras.layers.Dense(128, activation=tf.nn.relu))\n",
    "model.add(tf.keras.layers.Dense(10, activation=tf.nn.softmax))\n",
    "\n",
    "model.compile(optimizer='adam',\n",
    "              loss='sparse_categorical_crossentropy',\n",
    "              metrics=['accuracy'])\n",
    "\n",
    "model.fit(X, y, epochs=5)\n",
    "\n"
   ]
  },
  {
   "cell_type": "code",
   "execution_count": null,
   "metadata": {},
   "outputs": [],
   "source": [
    "plt.imshow(X_test[2].reshape(32,32))"
   ]
  },
  {
   "cell_type": "code",
   "execution_count": null,
   "metadata": {},
   "outputs": [],
   "source": [
    "y_test[2]"
   ]
  },
  {
   "cell_type": "code",
   "execution_count": null,
   "metadata": {},
   "outputs": [],
   "source": [
    "# save the model to disk\n",
    "import pickle\n",
    "\n",
    "filename = 'devnagari_tesnsorflow.pkl'\n",
    "pickle.dump(model, open(filename, 'wb'))"
   ]
  },
  {
   "cell_type": "code",
   "execution_count": null,
   "metadata": {},
   "outputs": [],
   "source": []
  }
 ],
 "metadata": {
  "kernelspec": {
   "display_name": "Python 3",
   "language": "python",
   "name": "python3"
  },
  "language_info": {
   "codemirror_mode": {
    "name": "ipython",
    "version": 3
   },
   "file_extension": ".py",
   "mimetype": "text/x-python",
   "name": "python",
   "nbconvert_exporter": "python",
   "pygments_lexer": "ipython3",
   "version": "3.7.1"
  }
 },
 "nbformat": 4,
 "nbformat_minor": 2
}
