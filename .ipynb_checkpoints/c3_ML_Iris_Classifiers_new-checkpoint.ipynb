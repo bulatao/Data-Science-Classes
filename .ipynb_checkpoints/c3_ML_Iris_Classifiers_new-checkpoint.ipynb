{
 "cells": [
  {
   "cell_type": "code",
   "execution_count": null,
   "metadata": {},
   "outputs": [],
   "source": [
    "import numpy as np\n",
    "import pandas as pd\n",
    "import seaborn as sns\n",
    "import matplotlib.pyplot as plt\n",
    "%matplotlib inline"
   ]
  },
  {
   "cell_type": "code",
   "execution_count": null,
   "metadata": {},
   "outputs": [],
   "source": [
    "\"\"\" Classification videos\n",
    "https://www.youtube.com/watch?v=Lf2bCQIktTo\n",
    "https://www.youtube.com/watch?v=ppXFoltcX7A\n",
    "https://www.youtube.com/watch?v=44jq6ano5n0\n",
    "\"\"\""
   ]
  },
  {
   "cell_type": "code",
   "execution_count": 3,
   "metadata": {},
   "outputs": [],
   "source": [
    "# Function to read csv file\n",
    "def read_file(filename):\n",
    "    line_count = 0\n",
    "    file_open = open(filename,\"r\")\n",
    "    data_array = []\n",
    "    for line in iter(file_open):\n",
    "        line1 = line.rstrip()\n",
    "        line2 = line1.replace(\"Iris-setosa\",\"0\")\n",
    "        line3 = line2.replace(\"Iris-versicolor\",\"1\")\n",
    "        line4 = line3.replace(\"Iris-virginica\",\"2\")\n",
    "        line_split=line4.split(\",\")\n",
    "        data_array.append(line_split)\n",
    "    return data_array"
   ]
  },
  {
   "cell_type": "code",
   "execution_count": 4,
   "metadata": {},
   "outputs": [],
   "source": [
    "# URL Iris dataset from (UCI Machine Learning Repository)\n",
    "# url = \"https://archive.ics.uci.edu/ml/machine-learning-databases/iris/iris.data\"\n",
    "# Read Iris csv file\n",
    "iris_data = read_file(\"iris_dataset.csv\")"
   ]
  },
  {
   "cell_type": "code",
   "execution_count": 5,
   "metadata": {},
   "outputs": [
    {
     "name": "stdout",
     "output_type": "stream",
     "text": [
      "[['5.1', '3.5', '1.4', '0.2', '0'], ['4.9', '3', '1.4', '0.2', '0'], ['4.7', '3.2', '1.3', '0.2', '0'], ['4.6', '3.1', '1.5', '0.2', '0'], ['5', '3.6', '1.4', '0.2', '0'], ['5.4', '3.9', '1.7', '0.4', '0'], ['4.6', '3.4', '1.4', '0.3', '0'], ['5', '3.4', '1.5', '0.2', '0'], ['4.4', '2.9', '1.4', '0.2', '0'], ['4.9', '3.1', '1.5', '0.1', '0'], ['5.4', '3.7', '1.5', '0.2', '0'], ['4.8', '3.4', '1.6', '0.2', '0'], ['4.8', '3', '1.4', '0.1', '0'], ['4.3', '3', '1.1', '0.1', '0'], ['5.8', '4', '1.2', '0.2', '0'], ['5.7', '4.4', '1.5', '0.4', '0'], ['5.4', '3.9', '1.3', '0.4', '0'], ['5.1', '3.5', '1.4', '0.3', '0'], ['5.7', '3.8', '1.7', '0.3', '0'], ['5.1', '3.8', '1.5', '0.3', '0'], ['5.4', '3.4', '1.7', '0.2', '0'], ['5.1', '3.7', '1.5', '0.4', '0'], ['4.6', '3.6', '1', '0.2', '0'], ['5.1', '3.3', '1.7', '0.5', '0'], ['4.8', '3.4', '1.9', '0.2', '0'], ['5', '3', '1.6', '0.2', '0'], ['5', '3.4', '1.6', '0.4', '0'], ['5.2', '3.5', '1.5', '0.2', '0'], ['5.2', '3.4', '1.4', '0.2', '0'], ['4.7', '3.2', '1.6', '0.2', '0'], ['4.8', '3.1', '1.6', '0.2', '0'], ['5.4', '3.4', '1.5', '0.4', '0'], ['5.2', '4.1', '1.5', '0.1', '0'], ['5.5', '4.2', '1.4', '0.2', '0'], ['4.9', '3.1', '1.5', '0.1', '0'], ['5', '3.2', '1.2', '0.2', '0'], ['5.5', '3.5', '1.3', '0.2', '0'], ['4.9', '3.1', '1.5', '0.1', '0'], ['4.4', '3', '1.3', '0.2', '0'], ['5.1', '3.4', '1.5', '0.2', '0'], ['5', '3.5', '1.3', '0.3', '0'], ['4.5', '2.3', '1.3', '0.3', '0'], ['4.4', '3.2', '1.3', '0.2', '0'], ['5', '3.5', '1.6', '0.6', '0'], ['5.1', '3.8', '1.9', '0.4', '0'], ['4.8', '3', '1.4', '0.3', '0'], ['5.1', '3.8', '1.6', '0.2', '0'], ['4.6', '3.2', '1.4', '0.2', '0'], ['5.3', '3.7', '1.5', '0.2', '0'], ['5', '3.3', '1.4', '0.2', '0'], ['7', '3.2', '4.7', '1.4', '1'], ['6.4', '3.2', '4.5', '1.5', '1'], ['6.9', '3.1', '4.9', '1.5', '1'], ['5.5', '2.3', '4', '1.3', '1'], ['6.5', '2.8', '4.6', '1.5', '1'], ['5.7', '2.8', '4.5', '1.3', '1'], ['6.3', '3.3', '4.7', '1.6', '1'], ['4.9', '2.4', '3.3', '1', '1'], ['6.6', '2.9', '4.6', '1.3', '1'], ['5.2', '2.7', '3.9', '1.4', '1'], ['5', '2', '3.5', '1', '1'], ['5.9', '3', '4.2', '1.5', '1'], ['6', '2.2', '4', '1', '1'], ['6.1', '2.9', '4.7', '1.4', '1'], ['5.6', '2.9', '3.6', '1.3', '1'], ['6.7', '3.1', '4.4', '1.4', '1'], ['5.6', '3', '4.5', '1.5', '1'], ['5.8', '2.7', '4.1', '1', '1'], ['6.2', '2.2', '4.5', '1.5', '1'], ['5.6', '2.5', '3.9', '1.1', '1'], ['5.9', '3.2', '4.8', '1.8', '1'], ['6.1', '2.8', '4', '1.3', '1'], ['6.3', '2.5', '4.9', '1.5', '1'], ['6.1', '2.8', '4.7', '1.2', '1'], ['6.4', '2.9', '4.3', '1.3', '1'], ['6.6', '3', '4.4', '1.4', '1'], ['6.8', '2.8', '4.8', '1.4', '1'], ['6.7', '3', '5', '1.7', '1'], ['6', '2.9', '4.5', '1.5', '1'], ['5.7', '2.6', '3.5', '1', '1'], ['5.5', '2.4', '3.8', '1.1', '1'], ['5.5', '2.4', '3.7', '1', '1'], ['5.8', '2.7', '3.9', '1.2', '1'], ['6', '2.7', '5.1', '1.6', '1'], ['5.4', '3', '4.5', '1.5', '1'], ['6', '3.4', '4.5', '1.6', '1'], ['6.7', '3.1', '4.7', '1.5', '1'], ['6.3', '2.3', '4.4', '1.3', '1'], ['5.6', '3', '4.1', '1.3', '1'], ['5.5', '2.5', '4', '1.3', '1'], ['5.5', '2.6', '4.4', '1.2', '1'], ['6.1', '3', '4.6', '1.4', '1'], ['5.8', '2.6', '4', '1.2', '1'], ['5', '2.3', '3.3', '1', '1'], ['5.6', '2.7', '4.2', '1.3', '1'], ['5.7', '3', '4.2', '1.2', '1'], ['5.7', '2.9', '4.2', '1.3', '1'], ['6.2', '2.9', '4.3', '1.3', '1'], ['5.1', '2.5', '3', '1.1', '1'], ['5.7', '2.8', '4.1', '1.3', '1'], ['6.3', '3.3', '6', '2.5', '2'], ['5.8', '2.7', '5.1', '1.9', '2'], ['7.1', '3', '5.9', '2.1', '2'], ['6.3', '2.9', '5.6', '1.8', '2'], ['6.5', '3', '5.8', '2.2', '2'], ['7.6', '3', '6.6', '2.1', '2'], ['4.9', '2.5', '4.5', '1.7', '2'], ['7.3', '2.9', '6.3', '1.8', '2'], ['6.7', '2.5', '5.8', '1.8', '2'], ['7.2', '3.6', '6.1', '2.5', '2'], ['6.5', '3.2', '5.1', '2', '2'], ['6.4', '2.7', '5.3', '1.9', '2'], ['6.8', '3', '5.5', '2.1', '2'], ['5.7', '2.5', '5', '2', '2'], ['5.8', '2.8', '5.1', '2.4', '2'], ['6.4', '3.2', '5.3', '2.3', '2'], ['6.5', '3', '5.5', '1.8', '2'], ['7.7', '3.8', '6.7', '2.2', '2'], ['7.7', '2.6', '6.9', '2.3', '2'], ['6', '2.2', '5', '1.5', '2'], ['6.9', '3.2', '5.7', '2.3', '2'], ['5.6', '2.8', '4.9', '2', '2'], ['7.7', '2.8', '6.7', '2', '2'], ['6.3', '2.7', '4.9', '1.8', '2'], ['6.7', '3.3', '5.7', '2.1', '2'], ['7.2', '3.2', '6', '1.8', '2'], ['6.2', '2.8', '4.8', '1.8', '2'], ['6.1', '3', '4.9', '1.8', '2'], ['6.4', '2.8', '5.6', '2.1', '2'], ['7.2', '3', '5.8', '1.6', '2'], ['7.4', '2.8', '6.1', '1.9', '2'], ['7.9', '3.8', '6.4', '2', '2'], ['6.4', '2.8', '5.6', '2.2', '2'], ['6.3', '2.8', '5.1', '1.5', '2'], ['6.1', '2.6', '5.6', '1.4', '2'], ['7.7', '3', '6.1', '2.3', '2'], ['6.3', '3.4', '5.6', '2.4', '2'], ['6.4', '3.1', '5.5', '1.8', '2'], ['6', '3', '4.8', '1.8', '2'], ['6.9', '3.1', '5.4', '2.1', '2'], ['6.7', '3.1', '5.6', '2.4', '2'], ['6.9', '3.1', '5.1', '2.3', '2'], ['5.8', '2.7', '5.1', '1.9', '2'], ['6.8', '3.2', '5.9', '2.3', '2'], ['6.7', '3.3', '5.7', '2.5', '2'], ['6.7', '3', '5.2', '2.3', '2'], ['6.3', '2.5', '5', '1.9', '2'], ['6.5', '3', '5.2', '2', '2'], ['6.2', '3.4', '5.4', '2.3', '2'], ['5.9', '3', '5.1', '1.8', '2']]\n"
     ]
    }
   ],
   "source": [
    "print(iris_data)"
   ]
  },
  {
   "cell_type": "code",
   "execution_count": 6,
   "metadata": {},
   "outputs": [],
   "source": [
    "iris_header=[\"Sepal_Length\",\"Sepal_Width\",\"Petal_Length\",\"Petal_Width\",\"species\"]\n",
    "df = pd.DataFrame(iris_data,columns=iris_header)"
   ]
  },
  {
   "cell_type": "code",
   "execution_count": 7,
   "metadata": {},
   "outputs": [
    {
     "name": "stdout",
     "output_type": "stream",
     "text": [
      "    Sepal_Length Sepal_Width Petal_Length Petal_Width species\n",
      "0            5.1         3.5          1.4         0.2       0\n",
      "1            4.9           3          1.4         0.2       0\n",
      "2            4.7         3.2          1.3         0.2       0\n",
      "3            4.6         3.1          1.5         0.2       0\n",
      "4              5         3.6          1.4         0.2       0\n",
      "5            5.4         3.9          1.7         0.4       0\n",
      "6            4.6         3.4          1.4         0.3       0\n",
      "7              5         3.4          1.5         0.2       0\n",
      "8            4.4         2.9          1.4         0.2       0\n",
      "9            4.9         3.1          1.5         0.1       0\n",
      "10           5.4         3.7          1.5         0.2       0\n",
      "11           4.8         3.4          1.6         0.2       0\n",
      "12           4.8           3          1.4         0.1       0\n",
      "13           4.3           3          1.1         0.1       0\n",
      "14           5.8           4          1.2         0.2       0\n",
      "15           5.7         4.4          1.5         0.4       0\n",
      "16           5.4         3.9          1.3         0.4       0\n",
      "17           5.1         3.5          1.4         0.3       0\n",
      "18           5.7         3.8          1.7         0.3       0\n",
      "19           5.1         3.8          1.5         0.3       0\n",
      "20           5.4         3.4          1.7         0.2       0\n",
      "21           5.1         3.7          1.5         0.4       0\n",
      "22           4.6         3.6            1         0.2       0\n",
      "23           5.1         3.3          1.7         0.5       0\n",
      "24           4.8         3.4          1.9         0.2       0\n",
      "25             5           3          1.6         0.2       0\n",
      "26             5         3.4          1.6         0.4       0\n",
      "27           5.2         3.5          1.5         0.2       0\n",
      "28           5.2         3.4          1.4         0.2       0\n",
      "29           4.7         3.2          1.6         0.2       0\n",
      "..           ...         ...          ...         ...     ...\n",
      "120          6.9         3.2          5.7         2.3       2\n",
      "121          5.6         2.8          4.9           2       2\n",
      "122          7.7         2.8          6.7           2       2\n",
      "123          6.3         2.7          4.9         1.8       2\n",
      "124          6.7         3.3          5.7         2.1       2\n",
      "125          7.2         3.2            6         1.8       2\n",
      "126          6.2         2.8          4.8         1.8       2\n",
      "127          6.1           3          4.9         1.8       2\n",
      "128          6.4         2.8          5.6         2.1       2\n",
      "129          7.2           3          5.8         1.6       2\n",
      "130          7.4         2.8          6.1         1.9       2\n",
      "131          7.9         3.8          6.4           2       2\n",
      "132          6.4         2.8          5.6         2.2       2\n",
      "133          6.3         2.8          5.1         1.5       2\n",
      "134          6.1         2.6          5.6         1.4       2\n",
      "135          7.7           3          6.1         2.3       2\n",
      "136          6.3         3.4          5.6         2.4       2\n",
      "137          6.4         3.1          5.5         1.8       2\n",
      "138            6           3          4.8         1.8       2\n",
      "139          6.9         3.1          5.4         2.1       2\n",
      "140          6.7         3.1          5.6         2.4       2\n",
      "141          6.9         3.1          5.1         2.3       2\n",
      "142          5.8         2.7          5.1         1.9       2\n",
      "143          6.8         3.2          5.9         2.3       2\n",
      "144          6.7         3.3          5.7         2.5       2\n",
      "145          6.7           3          5.2         2.3       2\n",
      "146          6.3         2.5            5         1.9       2\n",
      "147          6.5           3          5.2           2       2\n",
      "148          6.2         3.4          5.4         2.3       2\n",
      "149          5.9           3          5.1         1.8       2\n",
      "\n",
      "[150 rows x 5 columns]\n"
     ]
    }
   ],
   "source": [
    "print(df)"
   ]
  },
  {
   "cell_type": "code",
   "execution_count": 8,
   "metadata": {},
   "outputs": [
    {
     "data": {
      "text/html": [
       "<div>\n",
       "<style scoped>\n",
       "    .dataframe tbody tr th:only-of-type {\n",
       "        vertical-align: middle;\n",
       "    }\n",
       "\n",
       "    .dataframe tbody tr th {\n",
       "        vertical-align: top;\n",
       "    }\n",
       "\n",
       "    .dataframe thead th {\n",
       "        text-align: right;\n",
       "    }\n",
       "</style>\n",
       "<table border=\"1\" class=\"dataframe\">\n",
       "  <thead>\n",
       "    <tr style=\"text-align: right;\">\n",
       "      <th></th>\n",
       "      <th>Sepal_Length</th>\n",
       "      <th>Sepal_Width</th>\n",
       "      <th>Petal_Length</th>\n",
       "      <th>Petal_Width</th>\n",
       "      <th>species</th>\n",
       "    </tr>\n",
       "  </thead>\n",
       "  <tbody>\n",
       "    <tr>\n",
       "      <th>count</th>\n",
       "      <td>150</td>\n",
       "      <td>150</td>\n",
       "      <td>150</td>\n",
       "      <td>150</td>\n",
       "      <td>150</td>\n",
       "    </tr>\n",
       "    <tr>\n",
       "      <th>unique</th>\n",
       "      <td>35</td>\n",
       "      <td>23</td>\n",
       "      <td>43</td>\n",
       "      <td>22</td>\n",
       "      <td>3</td>\n",
       "    </tr>\n",
       "    <tr>\n",
       "      <th>top</th>\n",
       "      <td>5</td>\n",
       "      <td>3</td>\n",
       "      <td>1.5</td>\n",
       "      <td>0.2</td>\n",
       "      <td>1</td>\n",
       "    </tr>\n",
       "    <tr>\n",
       "      <th>freq</th>\n",
       "      <td>10</td>\n",
       "      <td>26</td>\n",
       "      <td>14</td>\n",
       "      <td>28</td>\n",
       "      <td>50</td>\n",
       "    </tr>\n",
       "  </tbody>\n",
       "</table>\n",
       "</div>"
      ],
      "text/plain": [
       "       Sepal_Length Sepal_Width Petal_Length Petal_Width species\n",
       "count           150         150          150         150     150\n",
       "unique           35          23           43          22       3\n",
       "top               5           3          1.5         0.2       1\n",
       "freq             10          26           14          28      50"
      ]
     },
     "execution_count": 8,
     "metadata": {},
     "output_type": "execute_result"
    }
   ],
   "source": [
    "df.describe()"
   ]
  },
  {
   "cell_type": "code",
   "execution_count": 9,
   "metadata": {},
   "outputs": [],
   "source": [
    "# Convert Iris data to numpy array\n",
    "dataset = np.array(iris_data)\n",
    "X2 = dataset[:,0:4]\n",
    "y2 = dataset[:,4]"
   ]
  },
  {
   "cell_type": "code",
   "execution_count": 10,
   "metadata": {},
   "outputs": [],
   "source": [
    "# Change string values to float numbers\n",
    "X = X2.astype(np.float)"
   ]
  },
  {
   "cell_type": "code",
   "execution_count": 11,
   "metadata": {},
   "outputs": [],
   "source": [
    "# Change target values to integers\n",
    "y = y2.astype(np.int)"
   ]
  },
  {
   "cell_type": "code",
   "execution_count": 12,
   "metadata": {},
   "outputs": [],
   "source": [
    "X_header=[\"Sepal_Length\",\"Sepal_Width\",\"Petal_Length\",\"Petal_Width\"]\n",
    "df_Xy = pd.DataFrame(X,columns=X_header) # Get all X data\n",
    "df_Xy[\"Species\"] = y # Add species column"
   ]
  },
  {
   "cell_type": "code",
   "execution_count": 13,
   "metadata": {},
   "outputs": [
    {
     "data": {
      "text/html": [
       "<div>\n",
       "<style scoped>\n",
       "    .dataframe tbody tr th:only-of-type {\n",
       "        vertical-align: middle;\n",
       "    }\n",
       "\n",
       "    .dataframe tbody tr th {\n",
       "        vertical-align: top;\n",
       "    }\n",
       "\n",
       "    .dataframe thead th {\n",
       "        text-align: right;\n",
       "    }\n",
       "</style>\n",
       "<table border=\"1\" class=\"dataframe\">\n",
       "  <thead>\n",
       "    <tr style=\"text-align: right;\">\n",
       "      <th></th>\n",
       "      <th>Sepal_Length</th>\n",
       "      <th>Sepal_Width</th>\n",
       "      <th>Petal_Length</th>\n",
       "      <th>Petal_Width</th>\n",
       "      <th>Species</th>\n",
       "    </tr>\n",
       "  </thead>\n",
       "  <tbody>\n",
       "    <tr>\n",
       "      <th>count</th>\n",
       "      <td>150.000000</td>\n",
       "      <td>150.000000</td>\n",
       "      <td>150.000000</td>\n",
       "      <td>150.000000</td>\n",
       "      <td>150.000000</td>\n",
       "    </tr>\n",
       "    <tr>\n",
       "      <th>mean</th>\n",
       "      <td>5.843333</td>\n",
       "      <td>3.054000</td>\n",
       "      <td>3.758667</td>\n",
       "      <td>1.198667</td>\n",
       "      <td>1.000000</td>\n",
       "    </tr>\n",
       "    <tr>\n",
       "      <th>std</th>\n",
       "      <td>0.828066</td>\n",
       "      <td>0.433594</td>\n",
       "      <td>1.764420</td>\n",
       "      <td>0.763161</td>\n",
       "      <td>0.819232</td>\n",
       "    </tr>\n",
       "    <tr>\n",
       "      <th>min</th>\n",
       "      <td>4.300000</td>\n",
       "      <td>2.000000</td>\n",
       "      <td>1.000000</td>\n",
       "      <td>0.100000</td>\n",
       "      <td>0.000000</td>\n",
       "    </tr>\n",
       "    <tr>\n",
       "      <th>25%</th>\n",
       "      <td>5.100000</td>\n",
       "      <td>2.800000</td>\n",
       "      <td>1.600000</td>\n",
       "      <td>0.300000</td>\n",
       "      <td>0.000000</td>\n",
       "    </tr>\n",
       "    <tr>\n",
       "      <th>50%</th>\n",
       "      <td>5.800000</td>\n",
       "      <td>3.000000</td>\n",
       "      <td>4.350000</td>\n",
       "      <td>1.300000</td>\n",
       "      <td>1.000000</td>\n",
       "    </tr>\n",
       "    <tr>\n",
       "      <th>75%</th>\n",
       "      <td>6.400000</td>\n",
       "      <td>3.300000</td>\n",
       "      <td>5.100000</td>\n",
       "      <td>1.800000</td>\n",
       "      <td>2.000000</td>\n",
       "    </tr>\n",
       "    <tr>\n",
       "      <th>max</th>\n",
       "      <td>7.900000</td>\n",
       "      <td>4.400000</td>\n",
       "      <td>6.900000</td>\n",
       "      <td>2.500000</td>\n",
       "      <td>2.000000</td>\n",
       "    </tr>\n",
       "  </tbody>\n",
       "</table>\n",
       "</div>"
      ],
      "text/plain": [
       "       Sepal_Length  Sepal_Width  Petal_Length  Petal_Width     Species\n",
       "count    150.000000   150.000000    150.000000   150.000000  150.000000\n",
       "mean       5.843333     3.054000      3.758667     1.198667    1.000000\n",
       "std        0.828066     0.433594      1.764420     0.763161    0.819232\n",
       "min        4.300000     2.000000      1.000000     0.100000    0.000000\n",
       "25%        5.100000     2.800000      1.600000     0.300000    0.000000\n",
       "50%        5.800000     3.000000      4.350000     1.300000    1.000000\n",
       "75%        6.400000     3.300000      5.100000     1.800000    2.000000\n",
       "max        7.900000     4.400000      6.900000     2.500000    2.000000"
      ]
     },
     "execution_count": 13,
     "metadata": {},
     "output_type": "execute_result"
    }
   ],
   "source": [
    "df_Xy.describe()"
   ]
  },
  {
   "cell_type": "code",
   "execution_count": 14,
   "metadata": {},
   "outputs": [
    {
     "data": {
      "text/plain": [
       "<matplotlib.axes._subplots.AxesSubplot at 0x29d091aecf8>"
      ]
     },
     "execution_count": 14,
     "metadata": {},
     "output_type": "execute_result"
    },
    {
     "data": {
      "image/png": "[encoded data removed]",
      "text/plain": [
       "<Figure size 504x504 with 1 Axes>"
      ]
     },
     "metadata": {
      "needs_background": "light"
     },
     "output_type": "display_data"
    }
   ],
   "source": [
    "# More details on boxplot\n",
    "# https://towardsdatascience.com/understanding-boxplots-5e2df7bcbd51\n",
    "fig = plt.figure(figsize = (7,7))\n",
    "df_Xy.boxplot()"
   ]
  },
  {
   "cell_type": "code",
   "execution_count": 15,
   "metadata": {},
   "outputs": [
    {
     "data": {
      "text/html": [
       "<div>\n",
       "<style scoped>\n",
       "    .dataframe tbody tr th:only-of-type {\n",
       "        vertical-align: middle;\n",
       "    }\n",
       "\n",
       "    .dataframe tbody tr th {\n",
       "        vertical-align: top;\n",
       "    }\n",
       "\n",
       "    .dataframe thead th {\n",
       "        text-align: right;\n",
       "    }\n",
       "</style>\n",
       "<table border=\"1\" class=\"dataframe\">\n",
       "  <thead>\n",
       "    <tr style=\"text-align: right;\">\n",
       "      <th></th>\n",
       "      <th>Sepal_Length</th>\n",
       "      <th>Sepal_Width</th>\n",
       "      <th>Petal_Length</th>\n",
       "      <th>Petal_Width</th>\n",
       "      <th>Species</th>\n",
       "    </tr>\n",
       "  </thead>\n",
       "  <tbody>\n",
       "    <tr>\n",
       "      <th>Sepal_Length</th>\n",
       "      <td>1.000000</td>\n",
       "      <td>-0.109369</td>\n",
       "      <td>0.871754</td>\n",
       "      <td>0.817954</td>\n",
       "      <td>0.782561</td>\n",
       "    </tr>\n",
       "    <tr>\n",
       "      <th>Sepal_Width</th>\n",
       "      <td>-0.109369</td>\n",
       "      <td>1.000000</td>\n",
       "      <td>-0.420516</td>\n",
       "      <td>-0.356544</td>\n",
       "      <td>-0.419446</td>\n",
       "    </tr>\n",
       "    <tr>\n",
       "      <th>Petal_Length</th>\n",
       "      <td>0.871754</td>\n",
       "      <td>-0.420516</td>\n",
       "      <td>1.000000</td>\n",
       "      <td>0.962757</td>\n",
       "      <td>0.949043</td>\n",
       "    </tr>\n",
       "    <tr>\n",
       "      <th>Petal_Width</th>\n",
       "      <td>0.817954</td>\n",
       "      <td>-0.356544</td>\n",
       "      <td>0.962757</td>\n",
       "      <td>1.000000</td>\n",
       "      <td>0.956464</td>\n",
       "    </tr>\n",
       "    <tr>\n",
       "      <th>Species</th>\n",
       "      <td>0.782561</td>\n",
       "      <td>-0.419446</td>\n",
       "      <td>0.949043</td>\n",
       "      <td>0.956464</td>\n",
       "      <td>1.000000</td>\n",
       "    </tr>\n",
       "  </tbody>\n",
       "</table>\n",
       "</div>"
      ],
      "text/plain": [
       "              Sepal_Length  Sepal_Width  Petal_Length  Petal_Width   Species\n",
       "Sepal_Length      1.000000    -0.109369      0.871754     0.817954  0.782561\n",
       "Sepal_Width      -0.109369     1.000000     -0.420516    -0.356544 -0.419446\n",
       "Petal_Length      0.871754    -0.420516      1.000000     0.962757  0.949043\n",
       "Petal_Width       0.817954    -0.356544      0.962757     1.000000  0.956464\n",
       "Species           0.782561    -0.419446      0.949043     0.956464  1.000000"
      ]
     },
     "execution_count": 15,
     "metadata": {},
     "output_type": "execute_result"
    }
   ],
   "source": [
    "df_Xy.corr()"
   ]
  },
  {
   "cell_type": "code",
   "execution_count": 16,
   "metadata": {},
   "outputs": [
    {
     "name": "stdout",
     "output_type": "stream",
     "text": [
      "[5.1 4.9 4.7 4.6 5.  5.4 4.6 5.  4.4 4.9 5.4 4.8 4.8 4.3 5.8 5.7 5.4 5.1\n",
      " 5.7 5.1 5.4 5.1 4.6 5.1 4.8 5.  5.  5.2 5.2 4.7 4.8 5.4 5.2 5.5 4.9 5.\n",
      " 5.5 4.9 4.4 5.1 5.  4.5 4.4 5.  5.1 4.8 5.1 4.6 5.3 5. ]\n",
      "[7.  6.4 6.9 5.5 6.5 5.7 6.3 4.9 6.6 5.2 5.  5.9 6.  6.1 5.6 6.7 5.6 5.8\n",
      " 6.2 5.6 5.9 6.1 6.3 6.1 6.4 6.6 6.8 6.7 6.  5.7 5.5 5.5 5.8 6.  5.4 6.\n",
      " 6.7 6.3 5.6 5.5 5.5 6.1 5.8 5.  5.6 5.7 5.7 6.2 5.1 5.7]\n",
      "[6.3 5.8 7.1 6.3 6.5 7.6 4.9 7.3 6.7 7.2 6.5 6.4 6.8 5.7 5.8 6.4 6.5 7.7\n",
      " 7.7 6.  6.9 5.6 7.7 6.3 6.7 7.2 6.2 6.1 6.4 7.2 7.4 7.9 6.4 6.3 6.1 7.7\n",
      " 6.3 6.4 6.  6.9 6.7 6.9 5.8 6.8 6.7 6.7 6.3 6.5 6.2 5.9]\n"
     ]
    },
    {
     "data": {
      "image/png": "[encoded data removed]",
      "text/plain": [
       "<Figure size 432x288 with 1 Axes>"
      ]
     },
     "metadata": {
      "needs_background": "light"
     },
     "output_type": "display_data"
    }
   ],
   "source": [
    "# Iris-setosa -- 0\n",
    "# Iris-versicolor -- 1\n",
    "# Iris-virginica -- 2\n",
    "features = X\n",
    "target = y\n",
    "\n",
    "f, ax = plt.subplots(1)\n",
    "for i in np.unique(target):\n",
    "    mask = (target == i)\n",
    "    print(features[mask,0])\n",
    "    plt.scatter(features[mask, 0], features[mask, 1], label=i)\n",
    "ax.legend()\n",
    "plt.xlabel('Sepal_Length')\n",
    "plt.ylabel('Sepal_Width')\n",
    "plt.show()"
   ]
  },
  {
   "cell_type": "code",
   "execution_count": 17,
   "metadata": {},
   "outputs": [
    {
     "name": "stdout",
     "output_type": "stream",
     "text": [
      "LogisticRegression(C=1.0, class_weight=None, dual=False, fit_intercept=True,\n",
      "          intercept_scaling=1, max_iter=100, multi_class='warn',\n",
      "          n_jobs=None, penalty='l2', random_state=None, solver='warn',\n",
      "          tol=0.0001, verbose=0, warm_start=False)\n",
      "              precision    recall  f1-score   support\n",
      "\n",
      "           0       1.00      1.00      1.00        50\n",
      "           1       0.98      0.90      0.94        50\n",
      "           2       0.91      0.98      0.94        50\n",
      "\n",
      "   micro avg       0.96      0.96      0.96       150\n",
      "   macro avg       0.96      0.96      0.96       150\n",
      "weighted avg       0.96      0.96      0.96       150\n",
      "\n",
      "[[50  0  0]\n",
      " [ 0 45  5]\n",
      " [ 0  1 49]]\n"
     ]
    },
    {
     "name": "stderr",
     "output_type": "stream",
     "text": [
      "C:\\Users\\sagarwal\\Anaconda3\\lib\\site-packages\\sklearn\\linear_model\\logistic.py:433: FutureWarning: Default solver will be changed to 'lbfgs' in 0.22. Specify a solver to silence this warning.\n",
      "  FutureWarning)\n",
      "C:\\Users\\sagarwal\\Anaconda3\\lib\\site-packages\\sklearn\\linear_model\\logistic.py:460: FutureWarning: Default multi_class will be changed to 'auto' in 0.22. Specify the multi_class option to silence this warning.\n",
      "  \"this warning.\", FutureWarning)\n"
     ]
    }
   ],
   "source": [
    "# Logistic Regression\n",
    "from sklearn import metrics\n",
    "from sklearn.linear_model import LogisticRegression\n",
    "model = LogisticRegression()\n",
    "model.fit(X,y)\n",
    "print(model)\n",
    "# make predictions\n",
    "expected = y\n",
    "predicted = model.predict(X)\n",
    "# summarize the fit of the model\n",
    "print(metrics.classification_report(expected, predicted))\n",
    "print(metrics.confusion_matrix(expected, predicted))\n",
    "cm = metrics.confusion_matrix(expected, predicted)\n",
    "# print(model.intercept_)\n",
    "# print(model.coef_)"
   ]
  },
  {
   "cell_type": "code",
   "execution_count": 18,
   "metadata": {},
   "outputs": [],
   "source": [
    "def plot_cm(cm):   \n",
    "    species = [\"setosa\",\"virginica\",\"versicolor\"]\n",
    "    df_cm = pd.DataFrame(cm, index=species, columns=species)\n",
    "    fig = plt.figure(figsize=(5,5))\n",
    "    heatmap = sns.heatmap(df_cm, annot=True, fmt=\"d\",cmap=\"YlGnBu\",linecolor=\"blue\",linewidths=1.0)\n",
    "    heatmap.yaxis.set_ticklabels(heatmap.yaxis.get_ticklabels(), rotation=0, ha='right', fontsize=10)\n",
    "    heatmap.xaxis.set_ticklabels(heatmap.xaxis.get_ticklabels(), rotation=45, ha='right', fontsize=10)\n",
    "    plt.ylabel('True label')\n",
    "    plt.xlabel('Predicted label')\n",
    "    plt.show()"
   ]
  },
  {
   "cell_type": "code",
   "execution_count": 19,
   "metadata": {},
   "outputs": [
    {
     "data": {
      "image/png": "[encoded data removed]",
      "text/plain": [
       "<Figure size 360x360 with 2 Axes>"
      ]
     },
     "metadata": {
      "needs_background": "light"
     },
     "output_type": "display_data"
    }
   ],
   "source": [
    "plot_cm(cm)"
   ]
  },
  {
   "cell_type": "code",
   "execution_count": 20,
   "metadata": {},
   "outputs": [
    {
     "name": "stdout",
     "output_type": "stream",
     "text": [
      "GaussianNB(priors=None, var_smoothing=1e-09)\n",
      "              precision    recall  f1-score   support\n",
      "\n",
      "           0       1.00      1.00      1.00        50\n",
      "           1       0.94      0.94      0.94        50\n",
      "           2       0.94      0.94      0.94        50\n",
      "\n",
      "   micro avg       0.96      0.96      0.96       150\n",
      "   macro avg       0.96      0.96      0.96       150\n",
      "weighted avg       0.96      0.96      0.96       150\n",
      "\n",
      "[[50  0  0]\n",
      " [ 0 47  3]\n",
      " [ 0  3 47]]\n"
     ]
    }
   ],
   "source": [
    "## Naive Bayes Classification\n",
    "from sklearn.naive_bayes import GaussianNB\n",
    "model = GaussianNB()\n",
    "model.fit(X,y)\n",
    "print(model)\n",
    "# make predictions\n",
    "expected = y\n",
    "predicted = model.predict(X)\n",
    "# summarize the fit of the model\n",
    "print(metrics.classification_report(expected, predicted))\n",
    "print(metrics.confusion_matrix(expected, predicted))\n",
    "cm = metrics.confusion_matrix(expected, predicted)"
   ]
  },
  {
   "cell_type": "code",
   "execution_count": 21,
   "metadata": {},
   "outputs": [
    {
     "data": {
      "image/png": "[encoded data removed]",
      "text/plain": [
       "<Figure size 360x360 with 2 Axes>"
      ]
     },
     "metadata": {
      "needs_background": "light"
     },
     "output_type": "display_data"
    }
   ],
   "source": [
    "plot_cm(cm)"
   ]
  },
  {
   "cell_type": "code",
   "execution_count": 22,
   "metadata": {},
   "outputs": [
    {
     "name": "stdout",
     "output_type": "stream",
     "text": [
      "GaussianNB(priors=None, var_smoothing=1e-09)\n",
      "              precision    recall  f1-score   support\n",
      "\n",
      "           0       1.00      1.00      1.00        50\n",
      "           1       0.94      0.94      0.94        50\n",
      "           2       0.94      0.94      0.94        50\n",
      "\n",
      "   micro avg       0.96      0.96      0.96       150\n",
      "   macro avg       0.96      0.96      0.96       150\n",
      "weighted avg       0.96      0.96      0.96       150\n",
      "\n",
      "[[50  0  0]\n",
      " [ 0 47  3]\n",
      " [ 0  3 47]]\n"
     ]
    }
   ],
   "source": [
    "# Knn- classification\n",
    "# k-Nearest Neighbor Classification\n",
    "from sklearn.neighbors import KNeighborsClassifier\n",
    "model.fit(X,y)\n",
    "print(model)\n",
    "# make predictions\n",
    "expected = y\n",
    "predicted = model.predict(X)\n",
    "# summarize the fit of the model\n",
    "print(metrics.classification_report(expected, predicted))\n",
    "print(metrics.confusion_matrix(expected, predicted))\n",
    "cm = metrics.confusion_matrix(expected, predicted)"
   ]
  },
  {
   "cell_type": "code",
   "execution_count": 23,
   "metadata": {},
   "outputs": [
    {
     "data": {
      "image/png": "[encoded data removed]",
      "text/plain": [
       "<Figure size 360x360 with 2 Axes>"
      ]
     },
     "metadata": {
      "needs_background": "light"
     },
     "output_type": "display_data"
    }
   ],
   "source": [
    "plot_cm(cm)"
   ]
  },
  {
   "cell_type": "code",
   "execution_count": 24,
   "metadata": {},
   "outputs": [
    {
     "name": "stdout",
     "output_type": "stream",
     "text": [
      "DecisionTreeClassifier(class_weight=None, criterion='gini', max_depth=None,\n",
      "            max_features=None, max_leaf_nodes=None,\n",
      "            min_impurity_decrease=0.0, min_impurity_split=None,\n",
      "            min_samples_leaf=1, min_samples_split=2,\n",
      "            min_weight_fraction_leaf=0.0, presort=False, random_state=None,\n",
      "            splitter='best')\n",
      "              precision    recall  f1-score   support\n",
      "\n",
      "           0       1.00      1.00      1.00        50\n",
      "           1       1.00      1.00      1.00        50\n",
      "           2       1.00      1.00      1.00        50\n",
      "\n",
      "   micro avg       1.00      1.00      1.00       150\n",
      "   macro avg       1.00      1.00      1.00       150\n",
      "weighted avg       1.00      1.00      1.00       150\n",
      "\n",
      "[[50  0  0]\n",
      " [ 0 50  0]\n",
      " [ 0  0 50]]\n"
     ]
    }
   ],
   "source": [
    "# Decision Tree Classifier\n",
    "from sklearn.tree import DecisionTreeClassifier\n",
    "model = DecisionTreeClassifier()\n",
    "model.fit(X,y)\n",
    "print(model)\n",
    "# make predictions\n",
    "expected = y\n",
    "predicted = model.predict(X)\n",
    "# summarize the fit of the model\n",
    "print(metrics.classification_report(expected, predicted))\n",
    "print(metrics.confusion_matrix(expected, predicted))\n",
    "cm = metrics.confusion_matrix(expected, predicted)"
   ]
  },
  {
   "cell_type": "code",
   "execution_count": 25,
   "metadata": {},
   "outputs": [
    {
     "data": {
      "image/png": "[encoded data removed]",
      "text/plain": [
       "<Figure size 360x360 with 2 Axes>"
      ]
     },
     "metadata": {
      "needs_background": "light"
     },
     "output_type": "display_data"
    }
   ],
   "source": [
    "plot_cm(cm)"
   ]
  },
  {
   "cell_type": "code",
   "execution_count": 26,
   "metadata": {},
   "outputs": [
    {
     "name": "stdout",
     "output_type": "stream",
     "text": [
      "[0]\n"
     ]
    }
   ],
   "source": [
    "row1 = [5.1,3.5,1.4,0.2]\n",
    "tests = [row1]\n",
    "yy = model.predict(tests)\n",
    "print(yy)"
   ]
  },
  {
   "cell_type": "code",
   "execution_count": 27,
   "metadata": {},
   "outputs": [
    {
     "data": {
      "text/plain": [
       "array([1])"
      ]
     },
     "execution_count": 27,
     "metadata": {},
     "output_type": "execute_result"
    }
   ],
   "source": [
    "row51 = [7.0,3.2,4.7,1.4]\n",
    "tests = [row51]\n",
    "model.predict(tests)"
   ]
  },
  {
   "cell_type": "code",
   "execution_count": 28,
   "metadata": {},
   "outputs": [
    {
     "data": {
      "text/plain": [
       "array([2])"
      ]
     },
     "execution_count": 28,
     "metadata": {},
     "output_type": "execute_result"
    }
   ],
   "source": [
    "row101 = [6.3,3.3,6.0,2.5]\n",
    "tests = [row101]\n",
    "model.predict(tests)"
   ]
  },
  {
   "cell_type": "code",
   "execution_count": 29,
   "metadata": {},
   "outputs": [
    {
     "name": "stdout",
     "output_type": "stream",
     "text": [
      "[1 2 0]\n"
     ]
    }
   ],
   "source": [
    "multiple_tests=[row51,row101,row1]\n",
    "yy = model.predict(multiple_tests)\n",
    "print(yy)"
   ]
  },
  {
   "cell_type": "code",
   "execution_count": 30,
   "metadata": {},
   "outputs": [],
   "source": [
    "from sklearn.tree import DecisionTreeClassifier, export_graphviz"
   ]
  },
  {
   "cell_type": "code",
   "execution_count": 31,
   "metadata": {},
   "outputs": [],
   "source": [
    "def visualize_tree(tree, feature_names):\n",
    "    \"\"\"Create tree png using graphviz.\n",
    "\n",
    "    Args\n",
    "    ----\n",
    "    tree -- scikit-learn DecsisionTree.\n",
    "    feature_names -- list of feature names.\n",
    "    \"\"\"\n",
    "    with open(\"dt.dot\", 'w') as f:\n",
    "        export_graphviz(tree, out_file=f,\n",
    "                        feature_names=feature_names)\n",
    "\n",
    "    command = [\"dot\", \"-Tpng\", \"dt.dot\", \"-o\", \"dt.png\"]\n",
    "    # which dot\n",
    "    # dot -Tpng dt.dot -o dt.png\n",
    "    try:\n",
    "        subprocess.check_call(command)\n",
    "    except:\n",
    "        exit(\"Could not run dot, ie graphviz, to \"\n",
    "             \"produce visualization\")"
   ]
  },
  {
   "cell_type": "code",
   "execution_count": 32,
   "metadata": {},
   "outputs": [],
   "source": [
    "feature_names = X_header\n",
    "visualize_tree(model,feature_names)"
   ]
  },
  {
   "cell_type": "code",
   "execution_count": 34,
   "metadata": {},
   "outputs": [],
   "source": [
    "# Generate decision tree in web browser\n",
    "# http://webgraphviz.com/"
   ]
  },
  {
   "cell_type": "code",
   "execution_count": 35,
   "metadata": {},
   "outputs": [],
   "source": [
    "# https://en.wikipedia.org/wiki/Decision_tree_learning"
   ]
  },
  {
   "cell_type": "code",
   "execution_count": 36,
   "metadata": {},
   "outputs": [
    {
     "data": {
      "text/plain": [
       "'\\nGini impurity is a measure of how often a randomly chosen element from the set would be incorrectly \\nlabeled if it was randomly labeled according to the distribution of labels in the subset.\\n'"
      ]
     },
     "execution_count": 36,
     "metadata": {},
     "output_type": "execute_result"
    }
   ],
   "source": [
    "\"\"\"\n",
    "Gini impurity is a measure of how often a randomly chosen element from the set would be incorrectly \n",
    "labeled if it was randomly labeled according to the distribution of labels in the subset.\n",
    "\"\"\""
   ]
  },
  {
   "cell_type": "code",
   "execution_count": null,
   "metadata": {},
   "outputs": [],
   "source": []
  }
 ],
 "metadata": {
  "kernelspec": {
   "display_name": "Python 3",
   "language": "python",
   "name": "python3"
  },
  "language_info": {
   "codemirror_mode": {
    "name": "ipython",
    "version": 3
   },
   "file_extension": ".py",
   "mimetype": "text/x-python",
   "name": "python",
   "nbconvert_exporter": "python",
   "pygments_lexer": "ipython3",
   "version": "3.7.1"
  }
 },
 "nbformat": 4,
 "nbformat_minor": 2
}
