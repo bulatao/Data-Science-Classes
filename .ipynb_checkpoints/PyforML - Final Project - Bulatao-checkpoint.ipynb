{
 "cells": [
  {
   "cell_type": "code",
   "execution_count": 1,
   "metadata": {},
   "outputs": [],
   "source": [
    "# Final Project\n",
    "# Create a model that pridicts the winner between two Mixed Martial Arts Fighters\n",
    "# dataset: https://www.reddit.com/r/datasets/comments/47a7wh/ufc_fights_and_fighter_data/"
   ]
  },
  {
   "cell_type": "code",
   "execution_count": 2,
   "metadata": {},
   "outputs": [],
   "source": [
    "# use pandas to import excel spreadsheet\n",
    "import pandas as pd\n",
    "df = pd.read_excel('All_UFC_FIGHTS.xlsx')"
   ]
  },
  {
   "cell_type": "code",
   "execution_count": 3,
   "metadata": {},
   "outputs": [
    {
     "data": {
      "text/html": [
       "<div>\n",
       "<style scoped>\n",
       "    .dataframe tbody tr th:only-of-type {\n",
       "        vertical-align: middle;\n",
       "    }\n",
       "\n",
       "    .dataframe tbody tr th {\n",
       "        vertical-align: top;\n",
       "    }\n",
       "\n",
       "    .dataframe thead th {\n",
       "        text-align: right;\n",
       "    }\n",
       "</style>\n",
       "<table border=\"1\" class=\"dataframe\">\n",
       "  <thead>\n",
       "    <tr style=\"text-align: right;\">\n",
       "      <th></th>\n",
       "      <th>pageurl</th>\n",
       "      <th>eid</th>\n",
       "      <th>mid</th>\n",
       "      <th>event_name</th>\n",
       "      <th>event_org</th>\n",
       "      <th>event_date</th>\n",
       "      <th>event_place</th>\n",
       "      <th>f1pageurl</th>\n",
       "      <th>f2pageurl</th>\n",
       "      <th>f1name</th>\n",
       "      <th>f2name</th>\n",
       "      <th>f1result</th>\n",
       "      <th>f2result</th>\n",
       "      <th>f1fid</th>\n",
       "      <th>f2fid</th>\n",
       "      <th>method</th>\n",
       "      <th>method_d</th>\n",
       "      <th>ref</th>\n",
       "      <th>round</th>\n",
       "      <th>time</th>\n",
       "    </tr>\n",
       "  </thead>\n",
       "  <tbody>\n",
       "    <tr>\n",
       "      <th>0</th>\n",
       "      <td>/events/UFC-1-The-Beginning-7</td>\n",
       "      <td>7</td>\n",
       "      <td>8</td>\n",
       "      <td>UFC 1 - The Beginning</td>\n",
       "      <td>Ultimate Fighting Championship</td>\n",
       "      <td>1993-11-12</td>\n",
       "      <td>McNichols Arena, Denver, Colorado, United States</td>\n",
       "      <td>/fighter/Royce-Gracie-19</td>\n",
       "      <td>/fighter/Gerard-Gordeau-15</td>\n",
       "      <td>Royce Gracie</td>\n",
       "      <td>Gerard Gordeau</td>\n",
       "      <td>win</td>\n",
       "      <td>loss</td>\n",
       "      <td>19</td>\n",
       "      <td>15</td>\n",
       "      <td>Submission</td>\n",
       "      <td>Rear-Naked Choke</td>\n",
       "      <td>Helio Vigio</td>\n",
       "      <td>1</td>\n",
       "      <td>01:44:00</td>\n",
       "    </tr>\n",
       "    <tr>\n",
       "      <th>1</th>\n",
       "      <td>/events/UFC-1-The-Beginning-7</td>\n",
       "      <td>7</td>\n",
       "      <td>7</td>\n",
       "      <td>UFC 1 - The Beginning</td>\n",
       "      <td>Ultimate Fighting Championship</td>\n",
       "      <td>1993-11-12</td>\n",
       "      <td>McNichols Arena, Denver, Colorado, United States</td>\n",
       "      <td>/fighter/Jason-DeLucia-22</td>\n",
       "      <td>/fighter/Trent-Jenkins-23</td>\n",
       "      <td>Jason DeLucia</td>\n",
       "      <td>Trent Jenkins</td>\n",
       "      <td>win</td>\n",
       "      <td>loss</td>\n",
       "      <td>22</td>\n",
       "      <td>23</td>\n",
       "      <td>Submission</td>\n",
       "      <td>Rear-Naked Choke</td>\n",
       "      <td>Joao Alberto Barreto</td>\n",
       "      <td>1</td>\n",
       "      <td>00:52:00</td>\n",
       "    </tr>\n",
       "    <tr>\n",
       "      <th>2</th>\n",
       "      <td>/events/UFC-1-The-Beginning-7</td>\n",
       "      <td>7</td>\n",
       "      <td>6</td>\n",
       "      <td>UFC 1 - The Beginning</td>\n",
       "      <td>Ultimate Fighting Championship</td>\n",
       "      <td>1993-11-12</td>\n",
       "      <td>McNichols Arena, Denver, Colorado, United States</td>\n",
       "      <td>/fighter/Royce-Gracie-19</td>\n",
       "      <td>/fighter/Ken-Shamrock-4</td>\n",
       "      <td>Royce Gracie</td>\n",
       "      <td>Ken Shamrock</td>\n",
       "      <td>win</td>\n",
       "      <td>loss</td>\n",
       "      <td>19</td>\n",
       "      <td>4</td>\n",
       "      <td>Submission</td>\n",
       "      <td>Rear-Naked Choke</td>\n",
       "      <td>Helio Vigio</td>\n",
       "      <td>1</td>\n",
       "      <td>00:57:00</td>\n",
       "    </tr>\n",
       "    <tr>\n",
       "      <th>3</th>\n",
       "      <td>/events/UFC-1-The-Beginning-7</td>\n",
       "      <td>7</td>\n",
       "      <td>5</td>\n",
       "      <td>UFC 1 - The Beginning</td>\n",
       "      <td>Ultimate Fighting Championship</td>\n",
       "      <td>1993-11-12</td>\n",
       "      <td>McNichols Arena, Denver, Colorado, United States</td>\n",
       "      <td>/fighter/Gerard-Gordeau-15</td>\n",
       "      <td>/fighter/Kevin-Rosier-17</td>\n",
       "      <td>Gerard Gordeau</td>\n",
       "      <td>Kevin Rosier</td>\n",
       "      <td>win</td>\n",
       "      <td>loss</td>\n",
       "      <td>15</td>\n",
       "      <td>17</td>\n",
       "      <td>TKO</td>\n",
       "      <td>Corner Stoppage</td>\n",
       "      <td>Joao Alberto Barreto</td>\n",
       "      <td>1</td>\n",
       "      <td>00:59:00</td>\n",
       "    </tr>\n",
       "    <tr>\n",
       "      <th>4</th>\n",
       "      <td>/events/UFC-1-The-Beginning-7</td>\n",
       "      <td>7</td>\n",
       "      <td>4</td>\n",
       "      <td>UFC 1 - The Beginning</td>\n",
       "      <td>Ultimate Fighting Championship</td>\n",
       "      <td>1993-11-12</td>\n",
       "      <td>McNichols Arena, Denver, Colorado, United States</td>\n",
       "      <td>/fighter/Ken-Shamrock-4</td>\n",
       "      <td>/fighter/Patrick-Smith-21</td>\n",
       "      <td>Ken Shamrock</td>\n",
       "      <td>Patrick Smith</td>\n",
       "      <td>win</td>\n",
       "      <td>loss</td>\n",
       "      <td>4</td>\n",
       "      <td>21</td>\n",
       "      <td>Submission</td>\n",
       "      <td>Heel Hook</td>\n",
       "      <td>Helio Vigio</td>\n",
       "      <td>1</td>\n",
       "      <td>01:49:00</td>\n",
       "    </tr>\n",
       "  </tbody>\n",
       "</table>\n",
       "</div>"
      ],
      "text/plain": [
       "                         pageurl  eid  mid             event_name  \\\n",
       "0  /events/UFC-1-The-Beginning-7    7    8  UFC 1 - The Beginning   \n",
       "1  /events/UFC-1-The-Beginning-7    7    7  UFC 1 - The Beginning   \n",
       "2  /events/UFC-1-The-Beginning-7    7    6  UFC 1 - The Beginning   \n",
       "3  /events/UFC-1-The-Beginning-7    7    5  UFC 1 - The Beginning   \n",
       "4  /events/UFC-1-The-Beginning-7    7    4  UFC 1 - The Beginning   \n",
       "\n",
       "                        event_org event_date  \\\n",
       "0  Ultimate Fighting Championship 1993-11-12   \n",
       "1  Ultimate Fighting Championship 1993-11-12   \n",
       "2  Ultimate Fighting Championship 1993-11-12   \n",
       "3  Ultimate Fighting Championship 1993-11-12   \n",
       "4  Ultimate Fighting Championship 1993-11-12   \n",
       "\n",
       "                                        event_place  \\\n",
       "0  McNichols Arena, Denver, Colorado, United States   \n",
       "1  McNichols Arena, Denver, Colorado, United States   \n",
       "2  McNichols Arena, Denver, Colorado, United States   \n",
       "3  McNichols Arena, Denver, Colorado, United States   \n",
       "4  McNichols Arena, Denver, Colorado, United States   \n",
       "\n",
       "                    f1pageurl                   f2pageurl          f1name  \\\n",
       "0    /fighter/Royce-Gracie-19  /fighter/Gerard-Gordeau-15    Royce Gracie   \n",
       "1   /fighter/Jason-DeLucia-22   /fighter/Trent-Jenkins-23   Jason DeLucia   \n",
       "2    /fighter/Royce-Gracie-19     /fighter/Ken-Shamrock-4    Royce Gracie   \n",
       "3  /fighter/Gerard-Gordeau-15    /fighter/Kevin-Rosier-17  Gerard Gordeau   \n",
       "4     /fighter/Ken-Shamrock-4   /fighter/Patrick-Smith-21    Ken Shamrock   \n",
       "\n",
       "           f2name f1result f2result  f1fid  f2fid      method  \\\n",
       "0  Gerard Gordeau      win     loss     19     15  Submission   \n",
       "1   Trent Jenkins      win     loss     22     23  Submission   \n",
       "2    Ken Shamrock      win     loss     19      4  Submission   \n",
       "3    Kevin Rosier      win     loss     15     17         TKO   \n",
       "4   Patrick Smith      win     loss      4     21  Submission   \n",
       "\n",
       "           method_d                   ref  round      time  \n",
       "0  Rear-Naked Choke           Helio Vigio      1  01:44:00  \n",
       "1  Rear-Naked Choke  Joao Alberto Barreto      1  00:52:00  \n",
       "2  Rear-Naked Choke           Helio Vigio      1  00:57:00  \n",
       "3   Corner Stoppage  Joao Alberto Barreto      1  00:59:00  \n",
       "4         Heel Hook           Helio Vigio      1  01:49:00  "
      ]
     },
     "execution_count": 3,
     "metadata": {},
     "output_type": "execute_result"
    }
   ],
   "source": [
    "df.head() # figure out what to keep, drop and dummy"
   ]
  },
  {
   "cell_type": "code",
   "execution_count": 4,
   "metadata": {},
   "outputs": [],
   "source": [
    "# keep: event_name, event_org, event_date, event_place, f1name, f2name, f1result, f2result, method, method_d, ref, round, time\n",
    "# drop: f1pageurl, f2pageurl, \n",
    "# not sure about: f1fid, f2fid, f2result \n",
    "dropList = ['pageurl', 'eid', 'mid','f1pageurl', 'f2pageurl', 'f1fid', 'f2fid', 'f2result']"
   ]
  },
  {
   "cell_type": "code",
   "execution_count": 5,
   "metadata": {},
   "outputs": [
    {
     "data": {
      "text/plain": [
       "Index(['event_name', 'event_org', 'event_date', 'event_place', 'f1name',\n",
       "       'f2name', 'f1result', 'method', 'method_d', 'ref', 'round', 'time'],\n",
       "      dtype='object')"
      ]
     },
     "execution_count": 5,
     "metadata": {},
     "output_type": "execute_result"
    }
   ],
   "source": [
    "df = df.drop(dropList, axis=1)\n",
    "df.columns"
   ]
  },
  {
   "cell_type": "code",
   "execution_count": 6,
   "metadata": {},
   "outputs": [],
   "source": [
    "dummyList = ['event_name', 'event_org', 'event_place', 'f1name','f2name', 'f1result', 'method', 'method_d', 'ref', 'round']"
   ]
  },
  {
   "cell_type": "code",
   "execution_count": 7,
   "metadata": {},
   "outputs": [],
   "source": [
    "#dummify categorical columns\n",
    "# reference info https://www.youtube.com/watch?v=0s_1IsROgDc\n",
    "df = pd.get_dummies(df, columns=dummyList)"
   ]
  },
  {
   "cell_type": "code",
   "execution_count": 8,
   "metadata": {},
   "outputs": [],
   "source": [
    "columnList = df.columns"
   ]
  },
  {
   "cell_type": "code",
   "execution_count": 9,
   "metadata": {},
   "outputs": [
    {
     "name": "stdout",
     "output_type": "stream",
     "text": [
      "Index(['event_date', 'time', 'event_name_UFC - The Ultimate Fighter 1 Finale',\n",
      "       'event_name_UFC - The Ultimate Fighter 10 Finale',\n",
      "       'event_name_UFC - The Ultimate Fighter 11 Finale',\n",
      "       'event_name_UFC - The Ultimate Fighter 12 Finale',\n",
      "       'event_name_UFC - The Ultimate Fighter 13 Finale',\n",
      "       'event_name_UFC - The Ultimate Fighter 14 Finale',\n",
      "       'event_name_UFC - The Ultimate Fighter 15 Finale',\n",
      "       'event_name_UFC - The Ultimate Fighter 16 Finale',\n",
      "       ...\n",
      "       'ref_Vitor Ribeiro', 'ref_Wernei Cardoso', 'ref_Will Fisher',\n",
      "       'ref_Wolf Menninger', 'ref_Yves Lavigne', 'round_1', 'round_2',\n",
      "       'round_3', 'round_4', 'round_5'],\n",
      "      dtype='object', length=3264)\n"
     ]
    }
   ],
   "source": [
    "print(columnList)"
   ]
  },
  {
   "cell_type": "code",
   "execution_count": 10,
   "metadata": {},
   "outputs": [
    {
     "name": "stdout",
     "output_type": "stream",
     "text": [
      "f1result_NC\n",
      "f1result_draw\n",
      "f1result_win\n"
     ]
    }
   ],
   "source": [
    "# find column to use for labels/answers\n",
    "for name in columnList:\n",
    "    if name[2] == 'r':\n",
    "        print(name)"
   ]
  },
  {
   "cell_type": "code",
   "execution_count": 11,
   "metadata": {},
   "outputs": [
    {
     "data": {
      "text/plain": [
       "(3569, 3264)"
      ]
     },
     "execution_count": 11,
     "metadata": {},
     "output_type": "execute_result"
    }
   ],
   "source": [
    "df.shape # so big, that showing correlation doesn't seem to help much\n",
    "# good candidate for tensorflow since it is now a huge dataset\n",
    "# should i normalize?"
   ]
  },
  {
   "cell_type": "code",
   "execution_count": 12,
   "metadata": {},
   "outputs": [
    {
     "data": {
      "text/plain": [
       "3261"
      ]
     },
     "execution_count": 12,
     "metadata": {},
     "output_type": "execute_result"
    }
   ],
   "source": [
    "# Create X\n",
    "X = df\n",
    "X = X.drop(['f1result_win','time','event_date'], axis=1) # drop timestamp also since it blows up when creating a model\n",
    "len(X.columns)"
   ]
  },
  {
   "cell_type": "code",
   "execution_count": 13,
   "metadata": {},
   "outputs": [],
   "source": [
    "# Create y\n",
    "y = df.f1result_win"
   ]
  },
  {
   "cell_type": "code",
   "execution_count": 14,
   "metadata": {},
   "outputs": [],
   "source": [
    "import numpy as np"
   ]
  },
  {
   "cell_type": "code",
   "execution_count": 15,
   "metadata": {},
   "outputs": [],
   "source": [
    "# TensorFlow uses numpy arrays, so convert your pandas dataframe to a numpy array, or you'll get errors when fitting\n",
    "X = np.array(X)\n",
    "y = np.array(y)"
   ]
  },
  {
   "cell_type": "code",
   "execution_count": 16,
   "metadata": {},
   "outputs": [],
   "source": [
    "# Your code here ...\n",
    "# Here's a TensorFlow image classifier with Keras\n",
    "# https://pythonprogramming.net/convolutional-neural-network-deep-learning-python-tensorflow-keras/\n",
    "\n",
    "import tensorflow as tf\n",
    "from tensorflow.keras.datasets import cifar10\n",
    "from tensorflow.keras.preprocessing.image import ImageDataGenerator\n",
    "from tensorflow.keras.models import Sequential\n",
    "from tensorflow.keras.layers import Dense, Dropout, Activation, Flatten\n",
    "from tensorflow.keras.layers import Conv2D, MaxPooling2D\n",
    "#tf.enable_eager_execution() # this is necessary later when trying to pickle this model\n",
    "import sklearn.metrics as metrics"
   ]
  },
  {
   "cell_type": "code",
   "execution_count": 17,
   "metadata": {},
   "outputs": [
    {
     "name": "stdout",
     "output_type": "stream",
     "text": [
      "WARNING:tensorflow:From C:\\ProgramData\\Anaconda3\\lib\\site-packages\\tensorflow\\python\\ops\\resource_variable_ops.py:435: colocate_with (from tensorflow.python.framework.ops) is deprecated and will be removed in a future version.\n",
      "Instructions for updating:\n",
      "Colocations handled automatically by placer.\n",
      "Epoch 1/5\n",
      "3569/3569 [==============================] - 2s 645us/sample - loss: 0.3690 - acc: 0.9695\n",
      "Epoch 2/5\n",
      "3569/3569 [==============================] - 2s 547us/sample - loss: 0.0212 - acc: 0.9899\n",
      "Epoch 3/5\n",
      "3569/3569 [==============================] - 2s 431us/sample - loss: 0.0015 - acc: 1.0000\n",
      "Epoch 4/5\n",
      "3569/3569 [==============================] - 2s 439us/sample - loss: 3.5509e-04 - acc: 1.0000\n",
      "Epoch 5/5\n",
      "3569/3569 [==============================] - 2s 442us/sample - loss: 1.7373e-04 - acc: 1.0000s - lo\n"
     ]
    },
    {
     "data": {
      "text/plain": [
       "<tensorflow.python.keras.callbacks.History at 0x206e1bb0588>"
      ]
     },
     "execution_count": 17,
     "metadata": {},
     "output_type": "execute_result"
    }
   ],
   "source": [
    "# build the model\n",
    "# reference here: https://pythonprogramming.net/introduction-deep-learning-python-tensorflow-keras/\n",
    "\n",
    "model = tf.keras.models.Sequential()\n",
    "model.add(tf.keras.layers.Flatten())\n",
    "model.add(tf.keras.layers.Dense(128, activation=tf.nn.relu))\n",
    "model.add(tf.keras.layers.Dense(128, activation=tf.nn.relu))\n",
    "model.add(tf.keras.layers.Dense(10, activation=tf.nn.softmax))\n",
    "\n",
    "model.compile(optimizer='adam',\n",
    "              loss='sparse_categorical_crossentropy',\n",
    "              metrics=['accuracy'])\n",
    "\n",
    "model.fit(X, y, epochs=5)"
   ]
  },
  {
   "cell_type": "code",
   "execution_count": 18,
   "metadata": {},
   "outputs": [],
   "source": [
    "# this worked out pretty well. It almost seems overfitted, but needs to be checked"
   ]
  },
  {
   "cell_type": "code",
   "execution_count": null,
   "metadata": {},
   "outputs": [],
   "source": []
  }
 ],
 "metadata": {
  "kernelspec": {
   "display_name": "Python 3",
   "language": "python",
   "name": "python3"
  },
  "language_info": {
   "codemirror_mode": {
    "name": "ipython",
    "version": 3
   },
   "file_extension": ".py",
   "mimetype": "text/x-python",
   "name": "python",
   "nbconvert_exporter": "python",
   "pygments_lexer": "ipython3",
   "version": "3.7.1"
  }
 },
 "nbformat": 4,
 "nbformat_minor": 2
}
